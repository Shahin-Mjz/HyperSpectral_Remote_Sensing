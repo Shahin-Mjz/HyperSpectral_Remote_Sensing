{
 "cells": [
  {
   "cell_type": "markdown",
   "id": "da237ad0",
   "metadata": {},
   "source": [
    "### $${\\bf{\\color{blue}{\\text{EX. 2}}}}$$"
   ]
  },
  {
   "cell_type": "markdown",
   "id": "c8ef0056",
   "metadata": {},
   "source": [
    "#### $\\color{blue}{\\bf{\\text{Table of Contents:}}}$\n",
    "$\\newline$\n",
    "- [${\\bf{\\text{Data Loading}}}$](#1)\n",
    "$\\newline$\n",
    "- [${\\bf{\\text{Data Reshaping}}}$](#2)\n",
    "$\\newline$\n",
    "- [${\\bf{\\text{Data Splitting}}}$](#3)\n",
    "$\\newline$\n",
    "- [${\\bf{\\text{Asigning to Input Data}}}$](#4)\n",
    "$\\newline$\n",
    "- [${\\bf{\\text{Data Scaling}}}$](#5)\n",
    "$\\newline$\n",
    "- [${\\bf{\\text{Asigning the Final Preprocessed Data to Input Data}}}$](#6)\n",
    "$\\newline$\n",
    "- [${\\bf{\\text{KPCA}}}$](#8)\n",
    "$\\newline$\n",
    "- [${\\bf{\\text{Hyperparameter Tuning for SVC}}}$](#7)\n",
    "$\\newline$\n",
    "- [${\\bf{\\text{Test}}}$](#9)\n",
    "$\\newline$\n",
    "$\\newline$\n",
    "$\\newline$\n",
    "$\\newline$\n",
    "$\\newline$\n",
    "$\\newline$"
   ]
  },
  {
   "cell_type": "code",
   "execution_count": 1,
   "id": "e46dfeda",
   "metadata": {},
   "outputs": [],
   "source": [
    "import os\n",
    "import numpy as np\n",
    "import pandas as pd\n",
    "import pymatreader as pymat\n",
    "from termcolor import colored\n",
    "import matplotlib.pyplot as plt"
   ]
  },
  {
   "cell_type": "markdown",
   "id": "e6cefe32",
   "metadata": {},
   "source": [
    "- [ ] **Task 1**"
   ]
  },
  {
   "cell_type": "markdown",
   "id": "a1a90786",
   "metadata": {},
   "source": [
    "- <a name='1'>${\\bf{\\text{Data Loading}}}$</a>"
   ]
  },
  {
   "cell_type": "code",
   "execution_count": 2,
   "id": "41f4046b",
   "metadata": {},
   "outputs": [],
   "source": [
    "path_str = os.getcwd() + '/'\n",
    "file_name_indian_gt_str = 'Indian_pines_gt.mat'\n",
    "file_name_indian_str = 'Indian_pines_corrected.mat'\n",
    "file_name_pavia_gt_str = 'Pavia_gt.mat'\n",
    "file_name_pavia_str = 'Pavia.mat'\n",
    "file_name_paviaU_gt_str = 'PaviaU_gt.mat'\n",
    "file_name_paviaU_str = 'PaviaU.mat'"
   ]
  },
  {
   "cell_type": "code",
   "execution_count": 3,
   "id": "a20ad21f",
   "metadata": {},
   "outputs": [],
   "source": [
    "data_indian_gt_ndarray = pymat.read_mat(path_str + file_name_indian_gt_str)['indian_pines_gt']\n",
    "data_indian_ndarray = pymat.read_mat(path_str + file_name_indian_str)['indian_pines_corrected']\n",
    "\n",
    "data_pavia_gt_ndarray = pymat.read_mat(path_str + file_name_pavia_gt_str)['pavia_gt']\n",
    "data_pavia_ndarray = pymat.read_mat(path_str + file_name_pavia_str)['pavia']\n",
    "\n",
    "data_paviaU_gt_ndarray = pymat.read_mat(path_str + file_name_paviaU_gt_str)['paviaU_gt']\n",
    "data_paviaU_ndarray = pymat.read_mat(path_str + file_name_paviaU_str)['paviaU']"
   ]
  },
  {
   "cell_type": "code",
   "execution_count": 4,
   "id": "7b757b5e",
   "metadata": {},
   "outputs": [
    {
     "name": "stdout",
     "output_type": "stream",
     "text": [
      "\n",
      "Shape of the \u001b[32mIndian pines\u001b[0m data set: (145, 145, 200)\n",
      "\n",
      " ... and its data type: \u001b[32muint16\u001b[0m\n",
      "\n",
      "Shape of the \u001b[32mlabels\u001b[0m: (145, 145)\n",
      "\n",
      "... and its data type: \u001b[32muint8\u001b[0m\n",
      "\n",
      " ... and its \u001b[32mClasses\u001b[0m: [ 0  1  2  3  4  5  6  7  8  9 10 11 12 13 14 15 16]\n",
      "\n",
      "\n",
      "\n",
      "\n",
      "\n",
      "Shape of the \u001b[32mPavia\u001b[0m data set: (1096, 715, 102)\n",
      "\n",
      " ... and its data type: \u001b[32muint16\u001b[0m\n",
      "\n",
      "Shape of the \u001b[32mlabels\u001b[0m: (1096, 715)\n",
      "\n",
      " ... and its data type: \u001b[32muint8\u001b[0m\n",
      "\n",
      " ... and its \u001b[32mClasses\u001b[0m: [0 1 2 3 4 5 6 7 8 9]\n",
      "\n",
      "\n",
      "\n",
      "\n",
      "\n",
      "Shape of the \u001b[32mPaviaU\u001b[0m data set: (610, 340, 103)\n",
      "\n",
      " ... and its data type: \u001b[32muint16\u001b[0m\n",
      "\n",
      "Shape of the \u001b[32mlabels\u001b[0m: (610, 340)\n",
      "\n",
      " ... and its data type: \u001b[32muint8\u001b[0m\n",
      "\n",
      " ... and its \u001b[32mClasses\u001b[0m: [0 1 2 3 4 5 6 7 8 9]\n",
      "\n"
     ]
    }
   ],
   "source": [
    "print(f'\\nShape of the {colored(\"Indian pines\", \"green\")} data set: {data_indian_ndarray.shape}\\n\\n\\\n",
    " ... and its data type: {colored(data_indian_ndarray.dtype, \"green\")}\\n')\n",
    "print(f'Shape of the {colored(\"labels\", \"green\")}: {data_indian_gt_ndarray.shape}\\\n",
    "\\n\\n... and its data type: {colored(data_indian_gt_ndarray.dtype, \"green\")}\\n')\n",
    "print(f' ... and its {colored(\"Classes\", \"green\")}: {np.unique(data_indian_gt_ndarray)}\\n\\n\\n\\n')\n",
    "\n",
    "print(f'\\nShape of the {colored(\"Pavia\", \"green\")} data set: {data_pavia_ndarray.shape}\\n\\n\\\n",
    " ... and its data type: {colored(data_pavia_ndarray.dtype, \"green\")}\\n')\n",
    "print(f'Shape of the {colored(\"labels\", \"green\")}: {data_pavia_gt_ndarray.shape}\\\n",
    "\\n\\n ... and its data type: {colored(data_pavia_gt_ndarray.dtype, \"green\")}\\n')\n",
    "print(f' ... and its {colored(\"Classes\", \"green\")}: {np.unique(data_pavia_gt_ndarray)}\\n\\n\\n\\n')\n",
    "\n",
    "print(f'\\nShape of the {colored(\"PaviaU\", \"green\")} data set: {data_paviaU_ndarray.shape}\\n\\n\\\n",
    " ... and its data type: {colored(data_paviaU_ndarray.dtype, \"green\")}\\n')\n",
    "print(f'Shape of the {colored(\"labels\", \"green\")}: {data_paviaU_gt_ndarray.shape}\\\n",
    "\\n\\n ... and its data type: {colored(data_paviaU_gt_ndarray.dtype, \"green\")}\\n')\n",
    "print(f' ... and its {colored(\"Classes\", \"green\")}: {np.unique(data_paviaU_gt_ndarray)}\\n')"
   ]
  },
  {
   "cell_type": "markdown",
   "id": "19e0aed5",
   "metadata": {},
   "source": [
    "- <a name='2'>${\\bf{\\text{Data Reshaping}}}$</a>"
   ]
  },
  {
   "cell_type": "code",
   "execution_count": 5,
   "id": "c9b699c1",
   "metadata": {},
   "outputs": [],
   "source": [
    "data_indian_reshaped_ndarray = \\\n",
    "data_indian_ndarray.reshape((data_indian_ndarray.shape[0]*data_indian_ndarray.shape[1], \\\n",
    "                             data_indian_ndarray.shape[2]))\n",
    "data_indian_gt_reshaped_ndarray = data_indian_gt_ndarray.flatten()\n",
    "\n",
    "\n",
    "data_pavia_reshaped_ndarray = \\\n",
    "data_pavia_ndarray.reshape((data_pavia_ndarray.shape[0]*data_pavia_ndarray.shape[1], \\\n",
    "                            data_pavia_ndarray.shape[2]))\n",
    "data_pavia_gt_reshaped_ndarray = data_pavia_gt_ndarray.flatten()\n",
    "\n",
    "\n",
    "data_paviaU_reshaped_ndarray = \\\n",
    "data_paviaU_ndarray.reshape((data_paviaU_ndarray.shape[0]*data_paviaU_ndarray.shape[1], \\\n",
    "                             data_paviaU_ndarray.shape[2]))\n",
    "data_paviaU_gt_reshaped_ndarray = data_paviaU_gt_ndarray.flatten()"
   ]
  },
  {
   "cell_type": "code",
   "execution_count": 6,
   "id": "235b369a",
   "metadata": {},
   "outputs": [
    {
     "name": "stdout",
     "output_type": "stream",
     "text": [
      "\n",
      "Shape of the \u001b[32mreshaped Indian pines\u001b[0m data set: (21025, 200) = (No. samples, No. features)\n",
      "Shape of the \u001b[32mreshaped labels\u001b[0m: (21025,) = (No. targets,)\n",
      "\n",
      "\n",
      "\n",
      "Shape of the \u001b[32mreshaped Pavia\u001b[0m data set: (783640, 102) = (No. samples, No. features)\n",
      "Shape of the \u001b[32mreshaped labels\u001b[0m: (783640,) = (No. targets,)\n",
      "\n",
      "\n",
      "\n",
      "Shape of the \u001b[32mreshaped PaviaU\u001b[0m data set: (207400, 103) = (No. samples, No. features)\n",
      "Shape of the \u001b[32mreshaped labels\u001b[0m: (207400,) = (No. targets,)\n",
      "\n"
     ]
    }
   ],
   "source": [
    "print(f'\\nShape of the {colored(\"reshaped Indian pines\", \"green\")} data set: \\\n",
    "{data_indian_reshaped_ndarray.shape} = (No. samples, No. features)')\n",
    "print(f'Shape of the {colored(\"reshaped labels\", \"green\")}: \\\n",
    "{data_indian_gt_reshaped_ndarray.shape} = (No. targets,)\\n\\n\\n')\n",
    "\n",
    "\n",
    "print(f'Shape of the {colored(\"reshaped Pavia\", \"green\")} data set: \\\n",
    "{data_pavia_reshaped_ndarray.shape} = (No. samples, No. features)')\n",
    "print(f'Shape of the {colored(\"reshaped labels\", \"green\")}: \\\n",
    "{data_pavia_gt_reshaped_ndarray.shape} = (No. targets,)\\n\\n\\n')\n",
    "\n",
    "\n",
    "print(f'Shape of the {colored(\"reshaped PaviaU\", \"green\")} data set: \\\n",
    "{data_paviaU_reshaped_ndarray.shape} = (No. samples, No. features)')\n",
    "print(f'Shape of the {colored(\"reshaped labels\", \"green\")}: \\\n",
    "{data_paviaU_gt_reshaped_ndarray.shape} = (No. targets,)\\n')"
   ]
  },
  {
   "cell_type": "markdown",
   "id": "f26ba691",
   "metadata": {},
   "source": [
    "- [x] **Task 1**"
   ]
  },
  {
   "cell_type": "markdown",
   "id": "f66fe28f",
   "metadata": {},
   "source": [
    "- [ ] **Task 2**"
   ]
  },
  {
   "cell_type": "code",
   "execution_count": 7,
   "id": "58fb8f2f",
   "metadata": {},
   "outputs": [],
   "source": [
    "from sklearn.svm import SVC\n",
    "from sklearn.decomposition import KernelPCA\n",
    "from sklearn.preprocessing import StandardScaler\n",
    "from sklearn.pipeline import Pipeline, make_pipeline\n",
    "from sklearn.metrics import accuracy_score, confusion_matrix, cohen_kappa_score\n",
    "from sklearn.model_selection import GridSearchCV, cross_val_score, train_test_split"
   ]
  },
  {
   "cell_type": "markdown",
   "id": "2ba225e8",
   "metadata": {},
   "source": [
    "- <a name='3'>${\\bf{\\text{Data Splitting}}}$</a>"
   ]
  },
  {
   "cell_type": "code",
   "execution_count": 8,
   "id": "c295b579",
   "metadata": {},
   "outputs": [],
   "source": [
    "train_size_list = [0.02, 0.05, 0.1]"
   ]
  },
  {
   "cell_type": "code",
   "execution_count": 9,
   "id": "a9a3bb94",
   "metadata": {},
   "outputs": [],
   "source": [
    "data_indian = {}\n",
    "for train_size_float in train_size_list:\n",
    "    data_indian['X_train_' + str(train_size_float)], data_indian['X_test_' + str(train_size_float)], \\\n",
    "    data_indian['y_train_' + str(train_size_float)], data_indian['y_test_' + str(train_size_float)] =\\\n",
    "    train_test_split(data_indian_reshaped_ndarray, data_indian_gt_reshaped_ndarray, train_size=\\\n",
    "    train_size_float, random_state=0)"
   ]
  },
  {
   "cell_type": "code",
   "execution_count": 10,
   "id": "74e32c78",
   "metadata": {},
   "outputs": [],
   "source": [
    "data_pavia = {}\n",
    "for train_size_float in train_size_list:\n",
    "    data_pavia['X_train_' + str(train_size_float)], data_pavia['X_test_' + str(train_size_float)], \\\n",
    "    data_pavia['y_train_' + str(train_size_float)], data_pavia['y_test_' + str(train_size_float)] =\\\n",
    "    train_test_split(data_pavia_reshaped_ndarray, data_pavia_gt_reshaped_ndarray, train_size=\\\n",
    "    train_size_float, random_state=0)"
   ]
  },
  {
   "cell_type": "code",
   "execution_count": 11,
   "id": "fe90b295",
   "metadata": {},
   "outputs": [],
   "source": [
    "data_paviaU = {}\n",
    "for train_size_float in train_size_list:\n",
    "    data_paviaU['X_train_' + str(train_size_float)], data_paviaU['X_test_' + str(train_size_float)], \\\n",
    "    data_paviaU['y_train_' + str(train_size_float)], data_paviaU['y_test_' + str(train_size_float)] =\\\n",
    "    train_test_split(data_paviaU_reshaped_ndarray, data_paviaU_gt_reshaped_ndarray, train_size=\\\n",
    "    train_size_float, random_state=0)"
   ]
  },
  {
   "cell_type": "markdown",
   "id": "14ded845",
   "metadata": {},
   "source": [
    "- <a name='4'>${\\bf{\\text{Asigning to Input Data}}}$</a>"
   ]
  },
  {
   "cell_type": "code",
   "execution_count": 12,
   "id": "6da73d79",
   "metadata": {},
   "outputs": [
    {
     "name": "stdout",
     "output_type": "stream",
     "text": [
      "\n",
      "   Train Size: \u001b[32m0.02\u001b[0m\n",
      "\n",
      "\u001b[32mX_train\u001b[0m size: (420, 200)\n",
      "\u001b[32my_train\u001b[0m size: (420,)\n",
      "\u001b[32mX_test\u001b[0m size: (20605, 200)\n",
      "\u001b[32my_test\u001b[0m size: (20605,)\n",
      "\n",
      "\n",
      "   Train Size: \u001b[32m0.05\u001b[0m\n",
      "\n",
      "\u001b[32mX_train\u001b[0m size: (1051, 200)\n",
      "\u001b[32my_train\u001b[0m size: (1051,)\n",
      "\u001b[32mX_test\u001b[0m size: (19974, 200)\n",
      "\u001b[32my_test\u001b[0m size: (19974,)\n",
      "\n",
      "\n",
      "   Train Size: \u001b[32m0.1\u001b[0m\n",
      "\n",
      "\u001b[32mX_train\u001b[0m size: (2102, 200)\n",
      "\u001b[32my_train\u001b[0m size: (2102,)\n",
      "\u001b[32mX_test\u001b[0m size: (18923, 200)\n",
      "\u001b[32my_test\u001b[0m size: (18923,)\n",
      "\n"
     ]
    }
   ],
   "source": [
    "input_data = data_indian\n",
    "for train_size_float in train_size_list:\n",
    "    print(f'\\n   Train Size: {colored(train_size_float, \"green\")}\\n')\n",
    "    print(f'{colored(\"X_train\", \"green\")} size: {input_data[\"X_train_\" + str(train_size_float)].shape}')\n",
    "    print(f'{colored(\"y_train\", \"green\")} size: {input_data[\"y_train_\" + str(train_size_float)].shape}')\n",
    "    print(f'{colored(\"X_test\", \"green\")} size: {input_data[\"X_test_\" + str(train_size_float)].shape}')\n",
    "    print(f'{colored(\"y_test\", \"green\")} size: {input_data[\"y_test_\" + str(train_size_float)].shape}\\n')"
   ]
  },
  {
   "cell_type": "markdown",
   "id": "8dc7e6d6",
   "metadata": {},
   "source": [
    "- [x] **Task 2**"
   ]
  },
  {
   "cell_type": "markdown",
   "id": "8ab8cae8",
   "metadata": {},
   "source": [
    "- <a name='5'>${\\bf{\\text{Data Scaling}}}$</a>"
   ]
  },
  {
   "cell_type": "code",
   "execution_count": 13,
   "id": "9ef1e868",
   "metadata": {},
   "outputs": [],
   "source": [
    "scaler = StandardScaler()"
   ]
  },
  {
   "cell_type": "code",
   "execution_count": 14,
   "id": "13121c94",
   "metadata": {},
   "outputs": [],
   "source": [
    "train_size_list = [0.02, 0.05, 0.1]\n",
    "\n",
    "scaled_data = {}\n",
    "for train_size in train_size_list:\n",
    "    scaled_data['X_train_' + str(train_size)] = scaler.fit_transform(input_data['X_train_' + str(train_size)])\n",
    "    scaled_data['y_train_' + str(train_size)] = input_data['y_train_' + str(train_size)]\n",
    "    \n",
    "    scaled_data['X_test_' + str(train_size)] = scaler.fit_transform(input_data['X_test_' + str(train_size)])\n",
    "    scaled_data['y_test_' + str(train_size)] = input_data['y_test_' + str(train_size)]"
   ]
  },
  {
   "cell_type": "code",
   "execution_count": 38,
   "id": "f864118b",
   "metadata": {},
   "outputs": [
    {
     "name": "stdout",
     "output_type": "stream",
     "text": [
      "\n",
      "     Train Size = \u001b[31m0.02\u001b[0m\n",
      "\n",
      "σ^2 of X_train: \u001b[32m1.0000000000000002\u001b[0m\n",
      "μ of X_train: \u001b[32m2.1654635756498292e-17\u001b[0m\n",
      "\n",
      "\n",
      "\n",
      "     Train Size = \u001b[31m0.05\u001b[0m\n",
      "\n",
      "σ^2 of X_train: \u001b[32m0.9999999999999999\u001b[0m\n",
      "μ of X_train: \u001b[32m-1.0276165160374428e-17\u001b[0m\n",
      "\n",
      "\n",
      "\n",
      "     Train Size = \u001b[31m0.1\u001b[0m\n",
      "\n",
      "σ^2 of X_train: \u001b[32m0.9999999999999999\u001b[0m\n",
      "μ of X_train: \u001b[32m-5.083997500395769e-17\u001b[0m\n",
      "\n",
      "\n"
     ]
    }
   ],
   "source": [
    "for train_size in train_size_list:\n",
    "    print(f'\\n     Train Size = {colored(train_size, )}\\n')\n",
    "    print(f'\\u03C3^2 of X_train: {colored((scaled_data[\"X_train_\" + str(train_size)]).var(), \"green\")}')\n",
    "    print(f'\\u03BC of X_train: {colored((scaled_data[\"X_train_\" + str(train_size)]).mean(), \"green\")}\\n\\n')"
   ]
  },
  {
   "cell_type": "markdown",
   "id": "0a072ef7",
   "metadata": {},
   "source": [
    "- <a name='6'>${\\bf{\\text{Asigning the Final Preprocessed Data to Input Data}}}$</a>"
   ]
  },
  {
   "cell_type": "code",
   "execution_count": 16,
   "id": "ae88b210",
   "metadata": {},
   "outputs": [],
   "source": [
    "final_preprocessed_data = scaled_data"
   ]
  },
  {
   "cell_type": "code",
   "execution_count": 17,
   "id": "59e80e85",
   "metadata": {},
   "outputs": [],
   "source": [
    "input_data = {}\n",
    "train_size = 0.02\n",
    "\n",
    "input_data['X_train_' + str(train_size)] = final_preprocessed_data['X_train_' + str(train_size)]\n",
    "input_data['y_train_' + str(train_size)] = final_preprocessed_data['y_train_' + str(train_size)]\n",
    "\n",
    "input_data['X_test_' + str(train_size)] = final_preprocessed_data['X_test_' + str(train_size)]\n",
    "input_data['y_test_' + str(train_size)] = final_preprocessed_data['y_test_' + str(train_size)]"
   ]
  },
  {
   "cell_type": "markdown",
   "id": "b194e72f",
   "metadata": {},
   "source": [
    "- <a name='8'>${\\bf{\\text{KPCA}}}$</a>"
   ]
  },
  {
   "cell_type": "code",
   "execution_count": 18,
   "id": "eb73f871",
   "metadata": {},
   "outputs": [],
   "source": [
    "kpca = KernelPCA(n_components=10, random_state=0)"
   ]
  },
  {
   "cell_type": "code",
   "execution_count": 19,
   "id": "a479cf84",
   "metadata": {},
   "outputs": [],
   "source": [
    "svc = SVC(random_state=0)"
   ]
  },
  {
   "cell_type": "code",
   "execution_count": 20,
   "id": "642db964",
   "metadata": {},
   "outputs": [],
   "source": [
    "k_fold_dict = {0.02: 7, 0.05: 12, 0.1: 15}\n",
    "\n",
    "X_train, y_train = input_data['X_train_' + str(train_size)], input_data['y_train_' + str(train_size)]\n",
    "X_test, y_test = (input_data['X_test_' + str(train_size)])[: len(X_train)], \\\n",
    "(input_data['y_test_' + str(train_size)])[: len(y_train)]"
   ]
  },
  {
   "cell_type": "code",
   "execution_count": 22,
   "id": "66168d15",
   "metadata": {},
   "outputs": [],
   "source": [
    "X_train_reduced = kpca.fit_transform(X_train)\n",
    "y_train_reduced = y_train\n",
    "X_test_reduced = kpca.fit_transform(X_test)\n",
    "y_test_reduced = y_test"
   ]
  },
  {
   "cell_type": "markdown",
   "id": "0d52d3b8",
   "metadata": {},
   "source": [
    "- <a name='7'>${\\bf{\\text{Hyperparameter Tuning for SVC}}}$</a>"
   ]
  },
  {
   "cell_type": "code",
   "execution_count": 23,
   "id": "e3202a45",
   "metadata": {},
   "outputs": [],
   "source": [
    "pipe = Pipeline(steps=[(\"svc\", svc)])\n",
    "param_grid = {\"svc__C\": np.logspace(-4, 4, 9), 'svc__kernel': ['linear', 'poly', 'rbf'], \\\n",
    "              'svc__gamma': np.linspace(0, 1, 11), 'svc__degree': [2, 3, 4]}"
   ]
  },
  {
   "cell_type": "code",
   "execution_count": 24,
   "id": "66a5cd6a",
   "metadata": {},
   "outputs": [
    {
     "name": "stderr",
     "output_type": "stream",
     "text": [
      "/home/shahin/.local/lib/python3.10/site-packages/sklearn/model_selection/_split.py:684: UserWarning: The least populated class in y has only 1 members, which is less than n_splits=7.\n",
      "  warnings.warn(\n",
      "/home/shahin/.local/lib/python3.10/site-packages/sklearn/model_selection/_validation.py:378: FitFailedWarning: \n",
      "567 fits failed out of a total of 6237.\n",
      "The score on these train-test partitions for these parameters will be set to nan.\n",
      "If these failures are not expected, you can try to debug them by setting error_score='raise'.\n",
      "\n",
      "Below are more details about the failures:\n",
      "--------------------------------------------------------------------------------\n",
      "567 fits failed with the following error:\n",
      "Traceback (most recent call last):\n",
      "  File \"/home/shahin/.local/lib/python3.10/site-packages/sklearn/model_selection/_validation.py\", line 686, in _fit_and_score\n",
      "    estimator.fit(X_train, y_train, **fit_params)\n",
      "  File \"/home/shahin/.local/lib/python3.10/site-packages/sklearn/pipeline.py\", line 382, in fit\n",
      "    self._final_estimator.fit(Xt, y, **fit_params_last_step)\n",
      "  File \"/home/shahin/.local/lib/python3.10/site-packages/sklearn/svm/_base.py\", line 237, in fit\n",
      "    raise ValueError(msg)\n",
      "ValueError: gamma value must be > 0; 0.0 is invalid. Use a positive number or use 'auto' to set gamma to a value of 1 / n_features.\n",
      "\n",
      "  warnings.warn(some_fits_failed_message, FitFailedWarning)\n",
      "/home/shahin/.local/lib/python3.10/site-packages/sklearn/model_selection/_search.py:953: UserWarning: One or more of the test scores are non-finite: [       nan        nan        nan 0.5452381  0.5452381  0.5452381\n",
      " 0.5452381  0.55238095 0.5452381  0.5452381  0.55952381 0.5452381\n",
      " 0.5452381  0.57857143 0.5452381  0.5452381  0.60238095 0.5452381\n",
      " 0.5452381  0.61666667 0.5452381  0.5452381  0.62380952 0.5452381\n",
      " 0.5452381  0.62380952 0.5452381  0.5452381  0.63333333 0.5452381\n",
      " 0.5452381  0.64047619 0.5452381         nan        nan        nan\n",
      " 0.5452381  0.61904762 0.5452381  0.5452381  0.63571429 0.5452381\n",
      " 0.5452381  0.62857143 0.5452381  0.5452381  0.6047619  0.5452381\n",
      " 0.5452381  0.61428571 0.5452381  0.5452381  0.62380952 0.5452381\n",
      " 0.5452381  0.62142857 0.5452381  0.5452381  0.62380952 0.5452381\n",
      " 0.5452381  0.62142857 0.5452381  0.5452381  0.61904762 0.5452381\n",
      "        nan        nan        nan 0.5452381  0.62380952 0.5452381\n",
      " 0.5452381  0.59285714 0.5452381  0.5452381  0.59285714 0.5452381\n",
      " 0.5452381  0.58571429 0.5452381  0.5452381  0.58333333 0.5452381\n",
      " 0.5452381  0.58333333 0.5452381  0.5452381  0.58333333 0.5452381\n",
      " 0.5452381  0.58333333 0.5452381  0.5452381  0.58333333 0.5452381\n",
      " 0.5452381  0.58333333 0.5452381         nan        nan        nan\n",
      " 0.59285714 0.56190476 0.5452381  0.59285714 0.61904762 0.5452381\n",
      " 0.59285714 0.63571429 0.5452381  0.59285714 0.64047619 0.5452381\n",
      " 0.59285714 0.6452381  0.5452381  0.59285714 0.64761905 0.5452381\n",
      " 0.59285714 0.63571429 0.5452381  0.59285714 0.63571429 0.5452381\n",
      " 0.59285714 0.64285714 0.5452381  0.59285714 0.64047619 0.5452381\n",
      "        nan        nan        nan 0.59285714 0.63095238 0.5452381\n",
      " 0.59285714 0.60714286 0.5452381  0.59285714 0.62142857 0.5452381\n",
      " 0.59285714 0.62142857 0.5452381  0.59285714 0.61904762 0.5452381\n",
      " 0.59285714 0.61428571 0.5452381  0.59285714 0.61428571 0.5452381\n",
      " 0.59285714 0.61428571 0.5452381  0.59285714 0.61428571 0.5452381\n",
      " 0.59285714 0.61428571 0.5452381         nan        nan        nan\n",
      " 0.59285714 0.59047619 0.5452381  0.59285714 0.59285714 0.5452381\n",
      " 0.59285714 0.58333333 0.5452381  0.59285714 0.58333333 0.5452381\n",
      " 0.59285714 0.58333333 0.5452381  0.59285714 0.58333333 0.5452381\n",
      " 0.59285714 0.58333333 0.5452381  0.59285714 0.58333333 0.5452381\n",
      " 0.59285714 0.58333333 0.5452381  0.59285714 0.58333333 0.5452381\n",
      "        nan        nan        nan 0.60714286 0.64047619 0.5452381\n",
      " 0.60714286 0.63809524 0.5452381  0.60714286 0.6452381  0.5452381\n",
      " 0.60714286 0.61190476 0.5452381  0.60714286 0.60238095 0.5452381\n",
      " 0.60714286 0.60714286 0.5452381  0.60714286 0.60714286 0.5452381\n",
      " 0.60714286 0.6        0.5452381  0.60714286 0.6        0.5452381\n",
      " 0.60714286 0.6        0.5452381         nan        nan        nan\n",
      " 0.60714286 0.61428571 0.5452381  0.60714286 0.61904762 0.5452381\n",
      " 0.60714286 0.61428571 0.5452381  0.60714286 0.61428571 0.5452381\n",
      " 0.60714286 0.61428571 0.5452381  0.60714286 0.61428571 0.5452381\n",
      " 0.60714286 0.61428571 0.5452381  0.60714286 0.61428571 0.5452381\n",
      " 0.60714286 0.61428571 0.5452381  0.60714286 0.61428571 0.5452381\n",
      "        nan        nan        nan 0.60714286 0.59285714 0.5452381\n",
      " 0.60714286 0.58333333 0.5452381  0.60714286 0.58333333 0.5452381\n",
      " 0.60714286 0.58333333 0.5452381  0.60714286 0.58333333 0.5452381\n",
      " 0.60714286 0.58333333 0.5452381  0.60714286 0.58333333 0.5452381\n",
      " 0.60714286 0.58333333 0.5452381  0.60714286 0.58333333 0.5452381\n",
      " 0.60714286 0.58333333 0.5452381         nan        nan        nan\n",
      " 0.65       0.64047619 0.5452381  0.65       0.60714286 0.5452381\n",
      " 0.65       0.6        0.5452381  0.65       0.6        0.5452381\n",
      " 0.65       0.6        0.5452381  0.65       0.6        0.5452381\n",
      " 0.65       0.6        0.5452381  0.65       0.6        0.5452381\n",
      " 0.65       0.6        0.5452381  0.65       0.6        0.5452381\n",
      "        nan        nan        nan 0.65       0.61904762 0.5452381\n",
      " 0.65       0.61428571 0.5452381  0.65       0.61428571 0.5452381\n",
      " 0.65       0.61428571 0.5452381  0.65       0.61428571 0.5452381\n",
      " 0.65       0.61428571 0.5452381  0.65       0.61428571 0.5452381\n",
      " 0.65       0.61428571 0.5452381  0.65       0.61428571 0.5452381\n",
      " 0.65       0.61428571 0.5452381         nan        nan        nan\n",
      " 0.65       0.58333333 0.5452381  0.65       0.58333333 0.5452381\n",
      " 0.65       0.58333333 0.5452381  0.65       0.58333333 0.5452381\n",
      " 0.65       0.58333333 0.5452381  0.65       0.58333333 0.5452381\n",
      " 0.65       0.58333333 0.5452381  0.65       0.58333333 0.5452381\n",
      " 0.65       0.58333333 0.5452381  0.65       0.58333333 0.5452381\n",
      "        nan        nan        nan 0.63333333 0.6        0.57857143\n",
      " 0.63333333 0.6        0.55       0.63333333 0.6        0.5452381\n",
      " 0.63333333 0.6        0.5452381  0.63333333 0.6        0.5452381\n",
      " 0.63333333 0.6        0.5452381  0.63333333 0.6        0.5452381\n",
      " 0.63333333 0.6        0.5452381  0.63333333 0.6        0.5452381\n",
      " 0.63333333 0.6        0.5452381         nan        nan        nan\n",
      " 0.63333333 0.61428571 0.57857143 0.63333333 0.61428571 0.55\n",
      " 0.63333333 0.61428571 0.5452381  0.63333333 0.61428571 0.5452381\n",
      " 0.63333333 0.61428571 0.5452381  0.63333333 0.61428571 0.5452381\n",
      " 0.63333333 0.61428571 0.5452381  0.63333333 0.61428571 0.5452381\n",
      " 0.63333333 0.61428571 0.5452381  0.63333333 0.61428571 0.5452381\n",
      "        nan        nan        nan 0.63333333 0.58333333 0.57857143\n",
      " 0.63333333 0.58333333 0.55       0.63333333 0.58333333 0.5452381\n",
      " 0.63333333 0.58333333 0.5452381  0.63333333 0.58333333 0.5452381\n",
      " 0.63333333 0.58333333 0.5452381  0.63333333 0.58333333 0.5452381\n",
      " 0.63333333 0.58333333 0.5452381  0.63333333 0.58333333 0.5452381\n",
      " 0.63333333 0.58333333 0.5452381         nan        nan        nan\n",
      " 0.60952381 0.6        0.6047619  0.60952381 0.6        0.55714286\n",
      " 0.60952381 0.6        0.5452381  0.60952381 0.6        0.5452381\n",
      " 0.60952381 0.6        0.5452381  0.60952381 0.6        0.5452381\n",
      " 0.60952381 0.6        0.5452381  0.60952381 0.6        0.5452381\n",
      " 0.60952381 0.6        0.5452381  0.60952381 0.6        0.5452381\n",
      "        nan        nan        nan 0.60952381 0.61428571 0.6047619\n",
      " 0.60952381 0.61428571 0.55714286 0.60952381 0.61428571 0.5452381\n",
      " 0.60952381 0.61428571 0.5452381  0.60952381 0.61428571 0.5452381\n",
      " 0.60952381 0.61428571 0.5452381  0.60952381 0.61428571 0.5452381\n",
      " 0.60952381 0.61428571 0.5452381  0.60952381 0.61428571 0.5452381\n",
      " 0.60952381 0.61428571 0.5452381         nan        nan        nan\n",
      " 0.60952381 0.58333333 0.6047619  0.60952381 0.58333333 0.55714286\n",
      " 0.60952381 0.58333333 0.5452381  0.60952381 0.58333333 0.5452381\n",
      " 0.60952381 0.58333333 0.5452381  0.60952381 0.58333333 0.5452381\n",
      " 0.60952381 0.58333333 0.5452381  0.60952381 0.58333333 0.5452381\n",
      " 0.60952381 0.58333333 0.5452381  0.60952381 0.58333333 0.5452381\n",
      "        nan        nan        nan 0.60952381 0.6        0.6047619\n",
      " 0.60952381 0.6        0.55714286 0.60952381 0.6        0.5452381\n",
      " 0.60952381 0.6        0.5452381  0.60952381 0.6        0.5452381\n",
      " 0.60952381 0.6        0.5452381  0.60952381 0.6        0.5452381\n",
      " 0.60952381 0.6        0.5452381  0.60952381 0.6        0.5452381\n",
      " 0.60952381 0.6        0.5452381         nan        nan        nan\n",
      " 0.60952381 0.61428571 0.6047619  0.60952381 0.61428571 0.55714286\n",
      " 0.60952381 0.61428571 0.5452381  0.60952381 0.61428571 0.5452381\n",
      " 0.60952381 0.61428571 0.5452381  0.60952381 0.61428571 0.5452381\n",
      " 0.60952381 0.61428571 0.5452381  0.60952381 0.61428571 0.5452381\n",
      " 0.60952381 0.61428571 0.5452381  0.60952381 0.61428571 0.5452381\n",
      "        nan        nan        nan 0.60952381 0.58333333 0.6047619\n",
      " 0.60952381 0.58333333 0.55714286 0.60952381 0.58333333 0.5452381\n",
      " 0.60952381 0.58333333 0.5452381  0.60952381 0.58333333 0.5452381\n",
      " 0.60952381 0.58333333 0.5452381  0.60952381 0.58333333 0.5452381\n",
      " 0.60952381 0.58333333 0.5452381  0.60952381 0.58333333 0.5452381\n",
      " 0.60952381 0.58333333 0.5452381         nan        nan        nan\n",
      " 0.60952381 0.6        0.6047619  0.60952381 0.6        0.55714286\n",
      " 0.60952381 0.6        0.5452381  0.60952381 0.6        0.5452381\n",
      " 0.60952381 0.6        0.5452381  0.60952381 0.6        0.5452381\n",
      " 0.60952381 0.6        0.5452381  0.60952381 0.6        0.5452381\n",
      " 0.60952381 0.6        0.5452381  0.60952381 0.6        0.5452381\n",
      "        nan        nan        nan 0.60952381 0.61428571 0.6047619\n",
      " 0.60952381 0.61428571 0.55714286 0.60952381 0.61428571 0.5452381\n",
      " 0.60952381 0.61428571 0.5452381  0.60952381 0.61428571 0.5452381\n",
      " 0.60952381 0.61428571 0.5452381  0.60952381 0.61428571 0.5452381\n",
      " 0.60952381 0.61428571 0.5452381  0.60952381 0.61428571 0.5452381\n",
      " 0.60952381 0.61428571 0.5452381         nan        nan        nan\n",
      " 0.60952381 0.58333333 0.6047619  0.60952381 0.58333333 0.55714286\n",
      " 0.60952381 0.58333333 0.5452381  0.60952381 0.58333333 0.5452381\n",
      " 0.60952381 0.58333333 0.5452381  0.60952381 0.58333333 0.5452381\n",
      " 0.60952381 0.58333333 0.5452381  0.60952381 0.58333333 0.5452381\n",
      " 0.60952381 0.58333333 0.5452381  0.60952381 0.58333333 0.5452381\n",
      "        nan        nan        nan 0.60952381 0.6        0.6047619\n",
      " 0.60952381 0.6        0.55714286 0.60952381 0.6        0.5452381\n",
      " 0.60952381 0.6        0.5452381  0.60952381 0.6        0.5452381\n",
      " 0.60952381 0.6        0.5452381  0.60952381 0.6        0.5452381\n",
      " 0.60952381 0.6        0.5452381  0.60952381 0.6        0.5452381\n",
      " 0.60952381 0.6        0.5452381         nan        nan        nan\n",
      " 0.60952381 0.61428571 0.6047619  0.60952381 0.61428571 0.55714286\n",
      " 0.60952381 0.61428571 0.5452381  0.60952381 0.61428571 0.5452381\n",
      " 0.60952381 0.61428571 0.5452381  0.60952381 0.61428571 0.5452381\n",
      " 0.60952381 0.61428571 0.5452381  0.60952381 0.61428571 0.5452381\n",
      " 0.60952381 0.61428571 0.5452381  0.60952381 0.61428571 0.5452381\n",
      "        nan        nan        nan 0.60952381 0.58333333 0.6047619\n",
      " 0.60952381 0.58333333 0.55714286 0.60952381 0.58333333 0.5452381\n",
      " 0.60952381 0.58333333 0.5452381  0.60952381 0.58333333 0.5452381\n",
      " 0.60952381 0.58333333 0.5452381  0.60952381 0.58333333 0.5452381\n",
      " 0.60952381 0.58333333 0.5452381  0.60952381 0.58333333 0.5452381\n",
      " 0.60952381 0.58333333 0.5452381 ]\n",
      "  warnings.warn(\n"
     ]
    },
    {
     "data": {
      "text/html": [
       "<style>#sk-container-id-1 {color: black;background-color: white;}#sk-container-id-1 pre{padding: 0;}#sk-container-id-1 div.sk-toggleable {background-color: white;}#sk-container-id-1 label.sk-toggleable__label {cursor: pointer;display: block;width: 100%;margin-bottom: 0;padding: 0.3em;box-sizing: border-box;text-align: center;}#sk-container-id-1 label.sk-toggleable__label-arrow:before {content: \"▸\";float: left;margin-right: 0.25em;color: #696969;}#sk-container-id-1 label.sk-toggleable__label-arrow:hover:before {color: black;}#sk-container-id-1 div.sk-estimator:hover label.sk-toggleable__label-arrow:before {color: black;}#sk-container-id-1 div.sk-toggleable__content {max-height: 0;max-width: 0;overflow: hidden;text-align: left;background-color: #f0f8ff;}#sk-container-id-1 div.sk-toggleable__content pre {margin: 0.2em;color: black;border-radius: 0.25em;background-color: #f0f8ff;}#sk-container-id-1 input.sk-toggleable__control:checked~div.sk-toggleable__content {max-height: 200px;max-width: 100%;overflow: auto;}#sk-container-id-1 input.sk-toggleable__control:checked~label.sk-toggleable__label-arrow:before {content: \"▾\";}#sk-container-id-1 div.sk-estimator input.sk-toggleable__control:checked~label.sk-toggleable__label {background-color: #d4ebff;}#sk-container-id-1 div.sk-label input.sk-toggleable__control:checked~label.sk-toggleable__label {background-color: #d4ebff;}#sk-container-id-1 input.sk-hidden--visually {border: 0;clip: rect(1px 1px 1px 1px);clip: rect(1px, 1px, 1px, 1px);height: 1px;margin: -1px;overflow: hidden;padding: 0;position: absolute;width: 1px;}#sk-container-id-1 div.sk-estimator {font-family: monospace;background-color: #f0f8ff;border: 1px dotted black;border-radius: 0.25em;box-sizing: border-box;margin-bottom: 0.5em;}#sk-container-id-1 div.sk-estimator:hover {background-color: #d4ebff;}#sk-container-id-1 div.sk-parallel-item::after {content: \"\";width: 100%;border-bottom: 1px solid gray;flex-grow: 1;}#sk-container-id-1 div.sk-label:hover label.sk-toggleable__label {background-color: #d4ebff;}#sk-container-id-1 div.sk-serial::before {content: \"\";position: absolute;border-left: 1px solid gray;box-sizing: border-box;top: 0;bottom: 0;left: 50%;z-index: 0;}#sk-container-id-1 div.sk-serial {display: flex;flex-direction: column;align-items: center;background-color: white;padding-right: 0.2em;padding-left: 0.2em;position: relative;}#sk-container-id-1 div.sk-item {position: relative;z-index: 1;}#sk-container-id-1 div.sk-parallel {display: flex;align-items: stretch;justify-content: center;background-color: white;position: relative;}#sk-container-id-1 div.sk-item::before, #sk-container-id-1 div.sk-parallel-item::before {content: \"\";position: absolute;border-left: 1px solid gray;box-sizing: border-box;top: 0;bottom: 0;left: 50%;z-index: -1;}#sk-container-id-1 div.sk-parallel-item {display: flex;flex-direction: column;z-index: 1;position: relative;background-color: white;}#sk-container-id-1 div.sk-parallel-item:first-child::after {align-self: flex-end;width: 50%;}#sk-container-id-1 div.sk-parallel-item:last-child::after {align-self: flex-start;width: 50%;}#sk-container-id-1 div.sk-parallel-item:only-child::after {width: 0;}#sk-container-id-1 div.sk-dashed-wrapped {border: 1px dashed gray;margin: 0 0.4em 0.5em 0.4em;box-sizing: border-box;padding-bottom: 0.4em;background-color: white;}#sk-container-id-1 div.sk-label label {font-family: monospace;font-weight: bold;display: inline-block;line-height: 1.2em;}#sk-container-id-1 div.sk-label-container {text-align: center;}#sk-container-id-1 div.sk-container {/* jupyter's `normalize.less` sets `[hidden] { display: none; }` but bootstrap.min.css set `[hidden] { display: none !important; }` so we also need the `!important` here to be able to override the default hidden behavior on the sphinx rendered scikit-learn.org. See: https://github.com/scikit-learn/scikit-learn/issues/21755 */display: inline-block !important;position: relative;}#sk-container-id-1 div.sk-text-repr-fallback {display: none;}</style><div id=\"sk-container-id-1\" class=\"sk-top-container\"><div class=\"sk-text-repr-fallback\"><pre>GridSearchCV(cv=7, estimator=Pipeline(steps=[(&#x27;svc&#x27;, SVC(random_state=0))]),\n",
       "             param_grid={&#x27;svc__C&#x27;: array([1.e-04, 1.e-03, 1.e-02, 1.e-01, 1.e+00, 1.e+01, 1.e+02, 1.e+03,\n",
       "       1.e+04]),\n",
       "                         &#x27;svc__degree&#x27;: [2, 3, 4],\n",
       "                         &#x27;svc__gamma&#x27;: array([0. , 0.1, 0.2, 0.3, 0.4, 0.5, 0.6, 0.7, 0.8, 0.9, 1. ]),\n",
       "                         &#x27;svc__kernel&#x27;: [&#x27;linear&#x27;, &#x27;poly&#x27;, &#x27;rbf&#x27;]})</pre><b>In a Jupyter environment, please rerun this cell to show the HTML representation or trust the notebook. <br />On GitHub, the HTML representation is unable to render, please try loading this page with nbviewer.org.</b></div><div class=\"sk-container\" hidden><div class=\"sk-item sk-dashed-wrapped\"><div class=\"sk-label-container\"><div class=\"sk-label sk-toggleable\"><input class=\"sk-toggleable__control sk-hidden--visually\" id=\"sk-estimator-id-1\" type=\"checkbox\" ><label for=\"sk-estimator-id-1\" class=\"sk-toggleable__label sk-toggleable__label-arrow\">GridSearchCV</label><div class=\"sk-toggleable__content\"><pre>GridSearchCV(cv=7, estimator=Pipeline(steps=[(&#x27;svc&#x27;, SVC(random_state=0))]),\n",
       "             param_grid={&#x27;svc__C&#x27;: array([1.e-04, 1.e-03, 1.e-02, 1.e-01, 1.e+00, 1.e+01, 1.e+02, 1.e+03,\n",
       "       1.e+04]),\n",
       "                         &#x27;svc__degree&#x27;: [2, 3, 4],\n",
       "                         &#x27;svc__gamma&#x27;: array([0. , 0.1, 0.2, 0.3, 0.4, 0.5, 0.6, 0.7, 0.8, 0.9, 1. ]),\n",
       "                         &#x27;svc__kernel&#x27;: [&#x27;linear&#x27;, &#x27;poly&#x27;, &#x27;rbf&#x27;]})</pre></div></div></div><div class=\"sk-parallel\"><div class=\"sk-parallel-item\"><div class=\"sk-item\"><div class=\"sk-label-container\"><div class=\"sk-label sk-toggleable\"><input class=\"sk-toggleable__control sk-hidden--visually\" id=\"sk-estimator-id-2\" type=\"checkbox\" ><label for=\"sk-estimator-id-2\" class=\"sk-toggleable__label sk-toggleable__label-arrow\">estimator: Pipeline</label><div class=\"sk-toggleable__content\"><pre>Pipeline(steps=[(&#x27;svc&#x27;, SVC(random_state=0))])</pre></div></div></div><div class=\"sk-serial\"><div class=\"sk-item\"><div class=\"sk-serial\"><div class=\"sk-item\"><div class=\"sk-estimator sk-toggleable\"><input class=\"sk-toggleable__control sk-hidden--visually\" id=\"sk-estimator-id-3\" type=\"checkbox\" ><label for=\"sk-estimator-id-3\" class=\"sk-toggleable__label sk-toggleable__label-arrow\">SVC</label><div class=\"sk-toggleable__content\"><pre>SVC(random_state=0)</pre></div></div></div></div></div></div></div></div></div></div></div></div>"
      ],
      "text/plain": [
       "GridSearchCV(cv=7, estimator=Pipeline(steps=[('svc', SVC(random_state=0))]),\n",
       "             param_grid={'svc__C': array([1.e-04, 1.e-03, 1.e-02, 1.e-01, 1.e+00, 1.e+01, 1.e+02, 1.e+03,\n",
       "       1.e+04]),\n",
       "                         'svc__degree': [2, 3, 4],\n",
       "                         'svc__gamma': array([0. , 0.1, 0.2, 0.3, 0.4, 0.5, 0.6, 0.7, 0.8, 0.9, 1. ]),\n",
       "                         'svc__kernel': ['linear', 'poly', 'rbf']})"
      ]
     },
     "execution_count": 24,
     "metadata": {},
     "output_type": "execute_result"
    }
   ],
   "source": [
    "search = GridSearchCV(pipe, param_grid, cv=k_fold_dict[train_size])\n",
    "search.fit(X_train, y_train)"
   ]
  },
  {
   "cell_type": "code",
   "execution_count": 26,
   "id": "9848cdb5",
   "metadata": {},
   "outputs": [
    {
     "name": "stdout",
     "output_type": "stream",
     "text": [
      "\n",
      "λ = 0.1\n",
      "\n",
      "kernel = linear\n",
      "\n",
      "Degree = 2\n",
      "\n",
      "γ = 0.1\n",
      "\n"
     ]
    }
   ],
   "source": [
    "best_params = search.best_params_\n",
    "\n",
    "print(f\"\\n\\u03BB = {best_params['svc__C']}\\n\\nkernel = {best_params['svc__kernel']}\\n\\nDegree = \\\n",
    "{best_params['svc__degree']}\\n\\n\\u03B3 = {best_params['svc__gamma']}\\n\")"
   ]
  },
  {
   "cell_type": "code",
   "execution_count": 27,
   "id": "1cd069e3",
   "metadata": {},
   "outputs": [
    {
     "name": "stdout",
     "output_type": "stream",
     "text": [
      "\n",
      "Best Accuracy is: 0.65\n",
      "\n"
     ]
    }
   ],
   "source": [
    "best_score = search.best_score_\n",
    "print(f'\\nBest Accuracy is: {best_score}\\n')"
   ]
  },
  {
   "cell_type": "markdown",
   "id": "36ea36f1",
   "metadata": {},
   "source": [
    "- <a name='9'>${\\bf{\\text{Test}}}$</a>"
   ]
  },
  {
   "cell_type": "code",
   "execution_count": 28,
   "id": "917aa670",
   "metadata": {},
   "outputs": [],
   "source": [
    "clf = SVC(C=0.1, kernel='linear', degree=2, gamma=0.1)"
   ]
  },
  {
   "cell_type": "code",
   "execution_count": 29,
   "id": "8d37ce81",
   "metadata": {},
   "outputs": [
    {
     "data": {
      "text/html": [
       "<style>#sk-container-id-2 {color: black;background-color: white;}#sk-container-id-2 pre{padding: 0;}#sk-container-id-2 div.sk-toggleable {background-color: white;}#sk-container-id-2 label.sk-toggleable__label {cursor: pointer;display: block;width: 100%;margin-bottom: 0;padding: 0.3em;box-sizing: border-box;text-align: center;}#sk-container-id-2 label.sk-toggleable__label-arrow:before {content: \"▸\";float: left;margin-right: 0.25em;color: #696969;}#sk-container-id-2 label.sk-toggleable__label-arrow:hover:before {color: black;}#sk-container-id-2 div.sk-estimator:hover label.sk-toggleable__label-arrow:before {color: black;}#sk-container-id-2 div.sk-toggleable__content {max-height: 0;max-width: 0;overflow: hidden;text-align: left;background-color: #f0f8ff;}#sk-container-id-2 div.sk-toggleable__content pre {margin: 0.2em;color: black;border-radius: 0.25em;background-color: #f0f8ff;}#sk-container-id-2 input.sk-toggleable__control:checked~div.sk-toggleable__content {max-height: 200px;max-width: 100%;overflow: auto;}#sk-container-id-2 input.sk-toggleable__control:checked~label.sk-toggleable__label-arrow:before {content: \"▾\";}#sk-container-id-2 div.sk-estimator input.sk-toggleable__control:checked~label.sk-toggleable__label {background-color: #d4ebff;}#sk-container-id-2 div.sk-label input.sk-toggleable__control:checked~label.sk-toggleable__label {background-color: #d4ebff;}#sk-container-id-2 input.sk-hidden--visually {border: 0;clip: rect(1px 1px 1px 1px);clip: rect(1px, 1px, 1px, 1px);height: 1px;margin: -1px;overflow: hidden;padding: 0;position: absolute;width: 1px;}#sk-container-id-2 div.sk-estimator {font-family: monospace;background-color: #f0f8ff;border: 1px dotted black;border-radius: 0.25em;box-sizing: border-box;margin-bottom: 0.5em;}#sk-container-id-2 div.sk-estimator:hover {background-color: #d4ebff;}#sk-container-id-2 div.sk-parallel-item::after {content: \"\";width: 100%;border-bottom: 1px solid gray;flex-grow: 1;}#sk-container-id-2 div.sk-label:hover label.sk-toggleable__label {background-color: #d4ebff;}#sk-container-id-2 div.sk-serial::before {content: \"\";position: absolute;border-left: 1px solid gray;box-sizing: border-box;top: 0;bottom: 0;left: 50%;z-index: 0;}#sk-container-id-2 div.sk-serial {display: flex;flex-direction: column;align-items: center;background-color: white;padding-right: 0.2em;padding-left: 0.2em;position: relative;}#sk-container-id-2 div.sk-item {position: relative;z-index: 1;}#sk-container-id-2 div.sk-parallel {display: flex;align-items: stretch;justify-content: center;background-color: white;position: relative;}#sk-container-id-2 div.sk-item::before, #sk-container-id-2 div.sk-parallel-item::before {content: \"\";position: absolute;border-left: 1px solid gray;box-sizing: border-box;top: 0;bottom: 0;left: 50%;z-index: -1;}#sk-container-id-2 div.sk-parallel-item {display: flex;flex-direction: column;z-index: 1;position: relative;background-color: white;}#sk-container-id-2 div.sk-parallel-item:first-child::after {align-self: flex-end;width: 50%;}#sk-container-id-2 div.sk-parallel-item:last-child::after {align-self: flex-start;width: 50%;}#sk-container-id-2 div.sk-parallel-item:only-child::after {width: 0;}#sk-container-id-2 div.sk-dashed-wrapped {border: 1px dashed gray;margin: 0 0.4em 0.5em 0.4em;box-sizing: border-box;padding-bottom: 0.4em;background-color: white;}#sk-container-id-2 div.sk-label label {font-family: monospace;font-weight: bold;display: inline-block;line-height: 1.2em;}#sk-container-id-2 div.sk-label-container {text-align: center;}#sk-container-id-2 div.sk-container {/* jupyter's `normalize.less` sets `[hidden] { display: none; }` but bootstrap.min.css set `[hidden] { display: none !important; }` so we also need the `!important` here to be able to override the default hidden behavior on the sphinx rendered scikit-learn.org. See: https://github.com/scikit-learn/scikit-learn/issues/21755 */display: inline-block !important;position: relative;}#sk-container-id-2 div.sk-text-repr-fallback {display: none;}</style><div id=\"sk-container-id-2\" class=\"sk-top-container\"><div class=\"sk-text-repr-fallback\"><pre>SVC(C=0.1, degree=2, gamma=0.1, kernel=&#x27;linear&#x27;)</pre><b>In a Jupyter environment, please rerun this cell to show the HTML representation or trust the notebook. <br />On GitHub, the HTML representation is unable to render, please try loading this page with nbviewer.org.</b></div><div class=\"sk-container\" hidden><div class=\"sk-item\"><div class=\"sk-estimator sk-toggleable\"><input class=\"sk-toggleable__control sk-hidden--visually\" id=\"sk-estimator-id-4\" type=\"checkbox\" checked><label for=\"sk-estimator-id-4\" class=\"sk-toggleable__label sk-toggleable__label-arrow\">SVC</label><div class=\"sk-toggleable__content\"><pre>SVC(C=0.1, degree=2, gamma=0.1, kernel=&#x27;linear&#x27;)</pre></div></div></div></div></div>"
      ],
      "text/plain": [
       "SVC(C=0.1, degree=2, gamma=0.1, kernel='linear')"
      ]
     },
     "execution_count": 29,
     "metadata": {},
     "output_type": "execute_result"
    }
   ],
   "source": [
    "clf.fit(X_train_reduced, y_train_reduced)"
   ]
  },
  {
   "cell_type": "code",
   "execution_count": 32,
   "id": "e80e606b",
   "metadata": {},
   "outputs": [],
   "source": [
    "y_pred = clf.predict(X_test_reduced)\n",
    "ov_acc = accuracy_score(y_test_reduced, y_pred)\n",
    "conf_mat = confusion_matrix(y_test_reduced, y_pred)\n",
    "kappa = cohen_kappa_score(y_test_reduced, y_pred)"
   ]
  },
  {
   "cell_type": "code",
   "execution_count": 35,
   "id": "100d62ee",
   "metadata": {},
   "outputs": [
    {
     "data": {
      "text/html": [
       "<div>\n",
       "<style scoped>\n",
       "    .dataframe tbody tr th:only-of-type {\n",
       "        vertical-align: middle;\n",
       "    }\n",
       "\n",
       "    .dataframe tbody tr th {\n",
       "        vertical-align: top;\n",
       "    }\n",
       "\n",
       "    .dataframe thead th {\n",
       "        text-align: right;\n",
       "    }\n",
       "</style>\n",
       "<table border=\"1\" class=\"dataframe\">\n",
       "  <thead>\n",
       "    <tr style=\"text-align: right;\">\n",
       "      <th></th>\n",
       "      <th>Class</th>\n",
       "      <th>Accuracy</th>\n",
       "    </tr>\n",
       "  </thead>\n",
       "  <tbody>\n",
       "    <tr>\n",
       "      <th>0</th>\n",
       "      <td>1</td>\n",
       "      <td>0.935185</td>\n",
       "    </tr>\n",
       "    <tr>\n",
       "      <th>1</th>\n",
       "      <td>2</td>\n",
       "      <td>0.000000</td>\n",
       "    </tr>\n",
       "    <tr>\n",
       "      <th>2</th>\n",
       "      <td>3</td>\n",
       "      <td>0.083333</td>\n",
       "    </tr>\n",
       "    <tr>\n",
       "      <th>3</th>\n",
       "      <td>4</td>\n",
       "      <td>0.000000</td>\n",
       "    </tr>\n",
       "    <tr>\n",
       "      <th>4</th>\n",
       "      <td>5</td>\n",
       "      <td>0.000000</td>\n",
       "    </tr>\n",
       "    <tr>\n",
       "      <th>5</th>\n",
       "      <td>6</td>\n",
       "      <td>0.000000</td>\n",
       "    </tr>\n",
       "    <tr>\n",
       "      <th>6</th>\n",
       "      <td>7</td>\n",
       "      <td>0.000000</td>\n",
       "    </tr>\n",
       "    <tr>\n",
       "      <th>7</th>\n",
       "      <td>8</td>\n",
       "      <td>0.000000</td>\n",
       "    </tr>\n",
       "    <tr>\n",
       "      <th>8</th>\n",
       "      <td>9</td>\n",
       "      <td>0.222222</td>\n",
       "    </tr>\n",
       "    <tr>\n",
       "      <th>9</th>\n",
       "      <td>10</td>\n",
       "      <td>0.133333</td>\n",
       "    </tr>\n",
       "    <tr>\n",
       "      <th>10</th>\n",
       "      <td>11</td>\n",
       "      <td>0.551020</td>\n",
       "    </tr>\n",
       "    <tr>\n",
       "      <th>11</th>\n",
       "      <td>12</td>\n",
       "      <td>0.000000</td>\n",
       "    </tr>\n",
       "    <tr>\n",
       "      <th>12</th>\n",
       "      <td>13</td>\n",
       "      <td>0.000000</td>\n",
       "    </tr>\n",
       "    <tr>\n",
       "      <th>13</th>\n",
       "      <td>14</td>\n",
       "      <td>0.000000</td>\n",
       "    </tr>\n",
       "    <tr>\n",
       "      <th>14</th>\n",
       "      <td>15</td>\n",
       "      <td>0.000000</td>\n",
       "    </tr>\n",
       "    <tr>\n",
       "      <th>15</th>\n",
       "      <td>16</td>\n",
       "      <td>0.000000</td>\n",
       "    </tr>\n",
       "  </tbody>\n",
       "</table>\n",
       "</div>"
      ],
      "text/plain": [
       "    Class  Accuracy\n",
       "0       1  0.935185\n",
       "1       2  0.000000\n",
       "2       3  0.083333\n",
       "3       4  0.000000\n",
       "4       5  0.000000\n",
       "5       6  0.000000\n",
       "6       7  0.000000\n",
       "7       8  0.000000\n",
       "8       9  0.222222\n",
       "9      10  0.133333\n",
       "10     11  0.551020\n",
       "11     12  0.000000\n",
       "12     13  0.000000\n",
       "13     14  0.000000\n",
       "14     15  0.000000\n",
       "15     16  0.000000"
      ]
     },
     "execution_count": 35,
     "metadata": {},
     "output_type": "execute_result"
    }
   ],
   "source": [
    "acc_for_each_class = conf_mat.diagonal()/conf_mat.sum(axis=1)\n",
    "\n",
    "df_result1 = pd.DataFrame({'Class': range(1, 17), 'Accuracy': acc_for_each_class})\n",
    "df_result1"
   ]
  },
  {
   "cell_type": "code",
   "execution_count": 37,
   "id": "a79d70d3",
   "metadata": {},
   "outputs": [
    {
     "name": "stdout",
     "output_type": "stream",
     "text": [
      "\n",
      "Pipeline: \u001b[34mInput Data\u001b[0m  --->  \u001b[35mStandard Scaler\u001b[0m  --->  \u001b[35mKPCA\u001b[0m  --->  \u001b[35mSVC\u001b[0m\n"
     ]
    },
    {
     "data": {
      "text/html": [
       "<div>\n",
       "<style scoped>\n",
       "    .dataframe tbody tr th:only-of-type {\n",
       "        vertical-align: middle;\n",
       "    }\n",
       "\n",
       "    .dataframe tbody tr th {\n",
       "        vertical-align: top;\n",
       "    }\n",
       "\n",
       "    .dataframe thead th {\n",
       "        text-align: right;\n",
       "    }\n",
       "</style>\n",
       "<table border=\"1\" class=\"dataframe\">\n",
       "  <thead>\n",
       "    <tr style=\"text-align: right;\">\n",
       "      <th></th>\n",
       "      <th>Overall Accuracy</th>\n",
       "      <th>κ</th>\n",
       "    </tr>\n",
       "  </thead>\n",
       "  <tbody>\n",
       "    <tr>\n",
       "      <th>0</th>\n",
       "      <td>0.561905</td>\n",
       "      <td>0.232648</td>\n",
       "    </tr>\n",
       "  </tbody>\n",
       "</table>\n",
       "</div>"
      ],
      "text/plain": [
       "   Overall Accuracy         κ\n",
       "0          0.561905  0.232648"
      ]
     },
     "execution_count": 37,
     "metadata": {},
     "output_type": "execute_result"
    }
   ],
   "source": [
    "df_result2 = pd.DataFrame({'Overall Accuracy': ov_acc, '\\u03BA': kappa}, index=[0])\n",
    "print(f'\\nPipeline: {colored(\"Input Data\", \"blue\")}  --->  {colored(\"Standard Scaler\", \"magenta\")}  \\\n",
    "--->  {colored(\"KPCA\", \"magenta\")}  --->  {colored(\"SVC\", \"magenta\")}')\n",
    "df_result2"
   ]
  },
  {
   "cell_type": "markdown",
   "id": "b8e5690f",
   "metadata": {},
   "source": [
    "- <a name='11'>${\\bf{\\text{Conclusion:}}}$</a>\n",
    "$\\newline$\n",
    "$\\newline$\n",
    "- - ${{\\text{Cross-validation(CV) Accuracy = 65}\\%}}$\n",
    "$\\newline$\n",
    "- - ${\\text{Test Accuracy = 56}\\%}$\n",
    "$\\newline$\n",
    "[//]:#\n",
    "${\\rightarrow}{\\color{red}{\\bf{\\text{ Overfitting}}}}$\n",
    "$\\newline$"
   ]
  }
 ],
 "metadata": {
  "kernelspec": {
   "display_name": "Python 3 (ipykernel)",
   "language": "python",
   "name": "python3"
  },
  "language_info": {
   "codemirror_mode": {
    "name": "ipython",
    "version": 3
   },
   "file_extension": ".py",
   "mimetype": "text/x-python",
   "name": "python",
   "nbconvert_exporter": "python",
   "pygments_lexer": "ipython3",
   "version": "3.10.8"
  }
 },
 "nbformat": 4,
 "nbformat_minor": 5
}
