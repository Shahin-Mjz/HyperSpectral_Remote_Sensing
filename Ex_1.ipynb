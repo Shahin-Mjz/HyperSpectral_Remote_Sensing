{
 "cells": [
  {
   "cell_type": "markdown",
   "id": "e579abc8",
   "metadata": {},
   "source": [
    "#### **Importing the Desired Packages:**"
   ]
  },
  {
   "cell_type": "code",
   "execution_count": 44,
   "id": "690a209f",
   "metadata": {},
   "outputs": [],
   "source": [
    "import numpy as np\n",
    "import pandas as pd\n",
    "import pymatreader as pymat\n",
    "import matplotlib.pyplot as plt"
   ]
  },
  {
   "cell_type": "markdown",
   "id": "0502e586",
   "metadata": {},
   "source": [
    "**__________________________________________________________________________________________________________________________**\n",
    "- [ ] **Task 1: Dataset loading**"
   ]
  },
  {
   "cell_type": "code",
   "execution_count": null,
   "id": "d96727d7",
   "metadata": {},
   "outputs": [],
   "source": [
    "file_name_gt_str = 'Indian_pines_gt.mat'\n",
    "file_name_all_str = 'Indian_pines.mat'\n",
    "file_name_corr_str = 'Indian_pines_corrected.mat'\n",
    "path_str = '/home/shahin/Desktop/Msc.5/مباحث ويژه در مخابرات 1/Ex/ex1/'"
   ]
  },
  {
   "cell_type": "code",
   "execution_count": null,
   "id": "32e05098",
   "metadata": {},
   "outputs": [],
   "source": [
    "data_gt_ndarray = pymat.read_mat(path_str + file_name_gt_str)['indian_pines_gt']\n",
    "data_main_ndarray = pymat.read_mat(path_str + file_name_all_str)['indian_pines']\n",
    "data_corr_ndarray = pymat.read_mat(path_str + file_name_corr_str)['indian_pines_corrected']"
   ]
  },
  {
   "cell_type": "markdown",
   "id": "f6c2daf4",
   "metadata": {},
   "source": [
    "- [x] **End of Task 1**\n",
    "**__________________________________________________________________________________________________________________________**"
   ]
  },
  {
   "cell_type": "markdown",
   "id": "7bab0c29",
   "metadata": {},
   "source": [
    "**__________________________________________________________________________________________________________________________**\n",
    "**Overview of the Dataset:**"
   ]
  },
  {
   "cell_type": "code",
   "execution_count": null,
   "id": "0852bebc",
   "metadata": {},
   "outputs": [
    {
     "name": "stdout",
     "output_type": "stream",
     "text": [
      "Type of the main data: <class 'numpy.ndarray'>\n",
      "Shape of the main data: (145, 145, 220)\n"
     ]
    }
   ],
   "source": [
    "print(f'Type of the main data: {type(data_main_ndarray)}')\n",
    "print(f'Shape of the main data: {data_main_ndarray.shape}')"
   ]
  },
  {
   "cell_type": "code",
   "execution_count": null,
   "id": "1dd74121",
   "metadata": {},
   "outputs": [
    {
     "name": "stdout",
     "output_type": "stream",
     "text": [
      "Shape of the corrected data: (145, 145, 200)\n"
     ]
    }
   ],
   "source": [
    "print(f'Shape of the corrected data: {data_corr_ndarray.shape}')"
   ]
  },
  {
   "cell_type": "code",
   "execution_count": null,
   "id": "ef940f7a",
   "metadata": {},
   "outputs": [
    {
     "name": "stdout",
     "output_type": "stream",
     "text": [
      "Groundtruth(label) data:\n",
      "\n",
      "[[3 3 3 ... 0 0 0]\n",
      " [3 3 3 ... 0 0 0]\n",
      " [3 3 3 ... 0 0 0]\n",
      " ...\n",
      " [0 0 0 ... 0 0 0]\n",
      " [0 0 0 ... 0 0 0]\n",
      " [0 0 0 ... 0 0 0]]\n",
      "\n",
      "... its data type: uint8\n",
      "and its shape: (145, 145)\n"
     ]
    }
   ],
   "source": [
    "print(f'Groundtruth(label) data:\\n\\n{data_gt_ndarray}\\n\\n... its data type: \\\n",
    "{data_gt_ndarray.dtype}\\nand its shape: {data_gt_ndarray.shape}')"
   ]
  },
  {
   "cell_type": "markdown",
   "id": "2ec5c03e",
   "metadata": {},
   "source": [
    "* **Classes:**"
   ]
  },
  {
   "cell_type": "code",
   "execution_count": null,
   "id": "18c7f346",
   "metadata": {},
   "outputs": [
    {
     "name": "stdout",
     "output_type": "stream",
     "text": [
      "Classes: [ 0  1  2  3  4  5  6  7  8  9 10 11 12 13 14 15 16]\n"
     ]
    }
   ],
   "source": [
    "print(f'Classes: {np.unique(data_gt_ndarray)}')"
   ]
  },
  {
   "cell_type": "markdown",
   "id": "72c8cb6a",
   "metadata": {},
   "source": [
    "**End of Overview**\n",
    "**__________________________________________________________________________________________________________________________**"
   ]
  },
  {
   "cell_type": "markdown",
   "id": "6ab1a13c",
   "metadata": {},
   "source": [
    "**__________________________________________________________________________________________________________________________**"
   ]
  },
  {
   "cell_type": "markdown",
   "id": "30f53633",
   "metadata": {},
   "source": [
    "#### **Data Reshaping**:"
   ]
  },
  {
   "cell_type": "code",
   "execution_count": null,
   "id": "3e7ced5e",
   "metadata": {},
   "outputs": [],
   "source": [
    "data_corr_reshaped_ndarray = data_corr_ndarray.reshape((data_corr_ndarray.shape[0]*data_corr_ndarray.shape[1], \\\n",
    "                                                        data_corr_ndarray.shape[2]))\n",
    "data_gt_reshaped_ndarray = data_gt_ndarray.flatten()"
   ]
  },
  {
   "cell_type": "code",
   "execution_count": null,
   "id": "0bf63c28",
   "metadata": {},
   "outputs": [
    {
     "name": "stdout",
     "output_type": "stream",
     "text": [
      "Shape of reshaped corrected data: (21025, 200) = (No. samples, No. features)\n",
      "Shape of reshaped label data: (21025,) = (No. targets,)\n"
     ]
    }
   ],
   "source": [
    "print(f'Shape of reshaped corrected data: {data_corr_reshaped_ndarray.shape} = (No. samples, No. features)')\n",
    "print(f'Shape of reshaped label data: {data_gt_reshaped_ndarray.shape} = (No. targets,)')"
   ]
  },
  {
   "cell_type": "code",
   "execution_count": null,
   "id": "9448a9af",
   "metadata": {},
   "outputs": [
    {
     "name": "stdout",
     "output_type": "stream",
     "text": [
      "5 features of first sample of corrected data: [2576 4388 4334 4279 4543]\n",
      "5 features of first sample of reshaped corrected data: [2576 4388 4334 4279 4543]\n"
     ]
    }
   ],
   "source": [
    "print(f'5 features of first sample of corrected data: {data_corr_ndarray[1, 0, 0: 5]}')\n",
    "print(f'5 features of first sample of reshaped corrected data: {data_corr_reshaped_ndarray[145, 0: 5]}')"
   ]
  },
  {
   "cell_type": "markdown",
   "id": "5b83d7d3",
   "metadata": {},
   "source": [
    "**End of Data Reshaping**\n",
    "**__________________________________________________________________________________________________________________________**"
   ]
  },
  {
   "cell_type": "markdown",
   "id": "8ea5f0ea",
   "metadata": {},
   "source": [
    "**__________________________________________________________________________________________________________________________**\n",
    "- [ ] **Task 2: Dataset Showing**"
   ]
  },
  {
   "cell_type": "code",
   "execution_count": null,
   "id": "fc1e15ef",
   "metadata": {},
   "outputs": [
    {
     "data": {
      "image/png": "[encoded data removed]",
      "text/plain": [
       "<Figure size 640x480 with 2 Axes>"
      ]
     },
     "metadata": {},
     "output_type": "display_data"
    }
   ],
   "source": [
    "data_plot_ndarray = data_main_ndarray[:, :, [110, 200, 180]].astype(np.uint8)\n",
    "plt.subplot(1, 2, 1), plt.imshow(data_plot_ndarray), plt.title('Pesudo RGB Image'), plt.axis('off')\n",
    "plt.subplot(1, 2, 2), plt.imshow(data_gt_ndarray), plt.title('Groundtruth'), plt.axis('off')\n",
    "plt.show()"
   ]
  },
  {
   "cell_type": "markdown",
   "id": "492a7260",
   "metadata": {},
   "source": [
    "- [x] **End of Task 2**\n",
    "**__________________________________________________________________________________________________________________________**"
   ]
  },
  {
   "cell_type": "markdown",
   "id": "e0426b7e",
   "metadata": {},
   "source": [
    "#### Importing the Desired Packages"
   ]
  },
  {
   "cell_type": "code",
   "execution_count": null,
   "id": "7da4b565",
   "metadata": {},
   "outputs": [],
   "source": [
    "from sklearn.svm import SVC\n",
    "from sklearn.decomposition import PCA\n",
    "from sklearn.preprocessing import StandardScaler\n",
    "from sklearn.pipeline import make_pipeline, Pipeline\n",
    "from sklearn.metrics import confusion_matrix, cohen_kappa_score, accuracy_score \n",
    "from sklearn.model_selection import cross_val_score, train_test_split, GridSearchCV"
   ]
  },
  {
   "cell_type": "markdown",
   "id": "3a5e2264",
   "metadata": {},
   "source": [
    "**__________________________________________________________________________________________________________________________**\n",
    "- [ ] **Task 3: Data Splitting**"
   ]
  },
  {
   "cell_type": "code",
   "execution_count": null,
   "id": "f2d14551",
   "metadata": {},
   "outputs": [],
   "source": [
    "test_size_list = [0.02, 0.05, 0.1]\n",
    "data = {}\n",
    "for test_size_float in test_size_list:\n",
    "    data['X_train_' + str(test_size_float)], data['X_test_' + str(test_size_float)], \\\n",
    "    data['y_train_' + str(test_size_float)], data['y_test_' + str(test_size_float)] =\\\n",
    "    train_test_split(data_corr_reshaped_ndarray, data_gt_reshaped_ndarray, test_size=\\\n",
    "                     test_size_float, random_state=0)"
   ]
  },
  {
   "cell_type": "code",
   "execution_count": null,
   "id": "b35c8104",
   "metadata": {},
   "outputs": [
    {
     "name": "stdout",
     "output_type": "stream",
     "text": [
      "Test size: 0.02\n",
      "X_train size: (20604, 200)\n",
      "X_test size: (421, 200)\n",
      "y_train size: (20604,)\n",
      "y_test size: (421,)\n",
      "\n",
      "\n",
      "\n",
      "Test size: 0.05\n",
      "X_train size: (19973, 200)\n",
      "X_test size: (1052, 200)\n",
      "y_train size: (19973,)\n",
      "y_test size: (1052,)\n",
      "\n",
      "\n",
      "\n",
      "Test size: 0.1\n",
      "X_train size: (18922, 200)\n",
      "X_test size: (2103, 200)\n",
      "y_train size: (18922,)\n",
      "y_test size: (2103,)\n"
     ]
    }
   ],
   "source": [
    "for i, test_size_float in enumerate(test_size_list):\n",
    "    print(f'Test size: {test_size_float}')\n",
    "    print(f'X_train size: {data[\"X_train_\" + str(test_size_float)].shape}')\n",
    "    print(f'X_test size: {data[\"X_test_\" + str(test_size_float)].shape}')\n",
    "    print(f'y_train size: {data[\"y_train_\" + str(test_size_float)].shape}')\n",
    "    text = f'y_test size: {data[\"y_test_\" + str(test_size_float)].shape}'\n",
    "    if i != len(test_size_list) - 1: text += '\\n\\n\\n'\n",
    "    print(text)"
   ]
  },
  {
   "cell_type": "markdown",
   "id": "f7fc5c4e",
   "metadata": {},
   "source": [
    "- [x] **End of Task 3**\n",
    "**__________________________________________________________________________________________________________________________**"
   ]
  },
  {
   "cell_type": "markdown",
   "id": "06874fd6",
   "metadata": {},
   "source": [
    "**__________________________________________________________________________________________________________________________**\n",
    "- [ ] **Task 4: Finding the Best value for the k-fold Parameter**\n",
    "- - **Note:** The k-fold (CV) hyperparameter must be: **1 < k-fold < 16**"
   ]
  },
  {
   "cell_type": "code",
   "execution_count": null,
   "id": "191c5186",
   "metadata": {},
   "outputs": [
    {
     "data": {
      "text/plain": [
       "\"\\ntest_size_tuple = (0.02, 0.05, 0.1)\\nk_fold_tuple = range(2, 16)\\nparameters_for_k_fold_dict = {'test_size': test_size_tuple, 'k_fold': k_fold_tuple}\\n\\ntotal_length = 1\\nfor key_name_str in parameters_for_k_fold_dict.keys():\\n    total_length *= len(parameters_for_k_fold_dict[key_name_str])\\n\\ntest_size_stored_values = np.zeros(total_length)\\nacc_mean_stored_values = np.zeros(total_length)\\nk_fold_stored_values = np.zeros(total_length)\\n\\n\\nclf_without_pca = make_pipeline(StandardScaler(), SVC())\\ncount = 0\\nfor test_size in parameters_for_k_fold_dict['test_size']:\\n    X_train, y_train, X_test, y_test = data['X_train_' + str(test_size)], data['y_train_' + str(test_size)],     data['X_test_' + str(test_size)], data['y_test_' + str(test_size)]\\n    \\n    \\n    clf_without_pca.fit(X_train, y_train)\\n    for k_fold in parameters_for_k_fold_dict['k_fold']:\\n        count += 1\\n        scores = cross_val_score(clf_without_pca, X_train, y_train, cv=k_fold, )\\n        acc_mean = scores.mean()\\n        test_size_stored_values[count - 1] = test_size\\n\\n        acc_mean_stored_values[count - 1] = acc_mean\\n        k_fold_stored_values[count - 1] = k_fold\\n\\n                \\n\\ndf_for_k_fold = pd.DataFrame({'Test Size': test_size_stored_values, 'K-fold(CV)': k_fold_stored_values,                              'Mean of Accuracy': acc_mean_stored_values})\\n\""
      ]
     },
     "execution_count": 20,
     "metadata": {},
     "output_type": "execute_result"
    }
   ],
   "source": [
    "\n",
    "test_size_tuple = (0.02, 0.05, 0.1)\n",
    "k_fold_tuple = range(2, 16)\n",
    "parameters_for_k_fold_dict = {'test_size': test_size_tuple, 'k_fold': k_fold_tuple}\n",
    "\n",
    "total_length = 1\n",
    "for key_name_str in parameters_for_k_fold_dict.keys():\n",
    "    total_length *= len(parameters_for_k_fold_dict[key_name_str])\n",
    "\n",
    "test_size_stored_values = np.zeros(total_length)\n",
    "acc_mean_stored_values = np.zeros(total_length)\n",
    "k_fold_stored_values = np.zeros(total_length)\n",
    "\n",
    "\n",
    "clf_without_pca = make_pipeline(StandardScaler(), SVC())\n",
    "count = 0\n",
    "for test_size in parameters_for_k_fold_dict['test_size']:\n",
    "    X_train, y_train, X_test, y_test = data['X_train_' + str(test_size)], data['y_train_' + str(test_size)], \\\n",
    "    data['X_test_' + str(test_size)], data['y_test_' + str(test_size)]\n",
    "    \n",
    "    \n",
    "    clf_without_pca.fit(X_train, y_train)\n",
    "    for k_fold in parameters_for_k_fold_dict['k_fold']:\n",
    "        count += 1\n",
    "        scores = cross_val_score(clf_without_pca, X_train, y_train, cv=k_fold, )\n",
    "        acc_mean = scores.mean()\n",
    "        test_size_stored_values[count - 1] = test_size\n",
    "\n",
    "        acc_mean_stored_values[count - 1] = acc_mean\n",
    "        k_fold_stored_values[count - 1] = k_fold\n",
    "\n",
    "                \n",
    "\n",
    "df_for_k_fold = pd.DataFrame({'Test Size': test_size_stored_values, 'K-fold(CV)': k_fold_stored_values,\\\n",
    "                              'Mean of Accuracy': acc_mean_stored_values})\n"
   ]
  },
  {
   "cell_type": "markdown",
   "id": "da2ac7ae",
   "metadata": {},
   "source": [
    "**Loading the Rusults of the Previous Block:**"
   ]
  },
  {
   "cell_type": "code",
   "execution_count": null,
   "id": "e16cfcfd",
   "metadata": {},
   "outputs": [],
   "source": [
    "df1 = pd.read_csv(path_str + 'k_fold.csv')\n",
    "df1 = df1[['Test Size', 'K-fold(CV)', 'Mean of Accuracy']]"
   ]
  },
  {
   "cell_type": "code",
   "execution_count": null,
   "id": "3501b772",
   "metadata": {},
   "outputs": [
    {
     "data": {
      "text/html": [
       "<div>\n",
       "<style scoped>\n",
       "    .dataframe tbody tr th:only-of-type {\n",
       "        vertical-align: middle;\n",
       "    }\n",
       "\n",
       "    .dataframe tbody tr th {\n",
       "        vertical-align: top;\n",
       "    }\n",
       "\n",
       "    .dataframe thead th {\n",
       "        text-align: right;\n",
       "    }\n",
       "</style>\n",
       "<table border=\"1\" class=\"dataframe\">\n",
       "  <thead>\n",
       "    <tr style=\"text-align: right;\">\n",
       "      <th></th>\n",
       "      <th>Test Size</th>\n",
       "      <th>K-fold(CV)</th>\n",
       "      <th>Mean of Accuracy</th>\n",
       "    </tr>\n",
       "  </thead>\n",
       "  <tbody>\n",
       "    <tr>\n",
       "      <th>13</th>\n",
       "      <td>0.02</td>\n",
       "      <td>15.0</td>\n",
       "      <td>0.75893</td>\n",
       "    </tr>\n",
       "  </tbody>\n",
       "</table>\n",
       "</div>"
      ],
      "text/plain": [
       "    Test Size  K-fold(CV)  Mean of Accuracy\n",
       "13       0.02        15.0           0.75893"
      ]
     },
     "execution_count": 22,
     "metadata": {},
     "output_type": "execute_result"
    }
   ],
   "source": [
    "df2 = df1[df1['Test Size'] == 0.02]\n",
    "df2[df2['Mean of Accuracy'] == df2['Mean of Accuracy'].max()]"
   ]
  },
  {
   "cell_type": "code",
   "execution_count": null,
   "id": "9ba4f782",
   "metadata": {},
   "outputs": [
    {
     "data": {
      "text/html": [
       "<div>\n",
       "<style scoped>\n",
       "    .dataframe tbody tr th:only-of-type {\n",
       "        vertical-align: middle;\n",
       "    }\n",
       "\n",
       "    .dataframe tbody tr th {\n",
       "        vertical-align: top;\n",
       "    }\n",
       "\n",
       "    .dataframe thead th {\n",
       "        text-align: right;\n",
       "    }\n",
       "</style>\n",
       "<table border=\"1\" class=\"dataframe\">\n",
       "  <thead>\n",
       "    <tr style=\"text-align: right;\">\n",
       "      <th></th>\n",
       "      <th>Test Size</th>\n",
       "      <th>K-fold(CV)</th>\n",
       "      <th>Mean of Accuracy</th>\n",
       "    </tr>\n",
       "  </thead>\n",
       "  <tbody>\n",
       "    <tr>\n",
       "      <th>24</th>\n",
       "      <td>0.05</td>\n",
       "      <td>12.0</td>\n",
       "      <td>0.758022</td>\n",
       "    </tr>\n",
       "  </tbody>\n",
       "</table>\n",
       "</div>"
      ],
      "text/plain": [
       "    Test Size  K-fold(CV)  Mean of Accuracy\n",
       "24       0.05        12.0          0.758022"
      ]
     },
     "execution_count": 23,
     "metadata": {},
     "output_type": "execute_result"
    }
   ],
   "source": [
    "df3 = df1[df1['Test Size'] == 0.05]\n",
    "df3[df3['Mean of Accuracy'] == df3['Mean of Accuracy'].max()]"
   ]
  },
  {
   "cell_type": "code",
   "execution_count": null,
   "id": "de492b7f",
   "metadata": {},
   "outputs": [
    {
     "data": {
      "text/html": [
       "<div>\n",
       "<style scoped>\n",
       "    .dataframe tbody tr th:only-of-type {\n",
       "        vertical-align: middle;\n",
       "    }\n",
       "\n",
       "    .dataframe tbody tr th {\n",
       "        vertical-align: top;\n",
       "    }\n",
       "\n",
       "    .dataframe thead th {\n",
       "        text-align: right;\n",
       "    }\n",
       "</style>\n",
       "<table border=\"1\" class=\"dataframe\">\n",
       "  <thead>\n",
       "    <tr style=\"text-align: right;\">\n",
       "      <th></th>\n",
       "      <th>Test Size</th>\n",
       "      <th>K-fold(CV)</th>\n",
       "      <th>Mean of Accuracy</th>\n",
       "    </tr>\n",
       "  </thead>\n",
       "  <tbody>\n",
       "    <tr>\n",
       "      <th>41</th>\n",
       "      <td>0.1</td>\n",
       "      <td>15.0</td>\n",
       "      <td>0.755258</td>\n",
       "    </tr>\n",
       "  </tbody>\n",
       "</table>\n",
       "</div>"
      ],
      "text/plain": [
       "    Test Size  K-fold(CV)  Mean of Accuracy\n",
       "41        0.1        15.0          0.755258"
      ]
     },
     "execution_count": 24,
     "metadata": {},
     "output_type": "execute_result"
    }
   ],
   "source": [
    "df4 = df1[df1['Test Size'] == 0.1]\n",
    "df4[df4['Mean of Accuracy'] == df4['Mean of Accuracy'].max()]"
   ]
  },
  {
   "cell_type": "markdown",
   "id": "bd67854a",
   "metadata": {},
   "source": [
    "- **Results:**\n",
    "- - The best k-fold for **test_size_0.02** is **15**\n",
    "- - The best k-fold for **test_size_0.05** is **12**\n",
    "- - The best k-fold for **test_size_0.1** is **15**\n",
    "\n",
    "\n",
    "\n",
    "\n",
    "\n",
    "- [x] **End of Task 4**\n",
    "**__________________________________________________________________________________________________________________________**"
   ]
  },
  {
   "cell_type": "markdown",
   "id": "22986057",
   "metadata": {},
   "source": [
    "**__________________________________________________________________________________________________________________________**\n",
    "- [ ] **Task 5:**"
   ]
  },
  {
   "cell_type": "markdown",
   "id": "161cb310",
   "metadata": {},
   "source": [
    "- - **Determining the No. Components Patameter for the PCA Function:**"
   ]
  },
  {
   "cell_type": "code",
   "execution_count": null,
   "id": "948ce0fb",
   "metadata": {},
   "outputs": [],
   "source": [
    "X_train = data['X_train_' + str(0.1)]\n",
    "svd = np.linalg.svd(X_train)\n",
    "eigen_values = svd[1]"
   ]
  },
  {
   "cell_type": "code",
   "execution_count": null,
   "id": "0c154ef2",
   "metadata": {},
   "outputs": [
    {
     "data": {
      "text/plain": [
       "0.9900484201630164"
      ]
     },
     "execution_count": 26,
     "metadata": {},
     "output_type": "execute_result"
    }
   ],
   "source": [
    "np.sum(eigen_values[0: 99])/np.sum(eigen_values)"
   ]
  },
  {
   "cell_type": "markdown",
   "id": "6b7bb083",
   "metadata": {},
   "source": [
    "- - - n_components for **X_train_0.02** is **99**\n",
    "- - - n_components for **X_train_0.05** is **99**\n",
    "- - - n_components for **X_train_0.1** is **99**"
   ]
  },
  {
   "cell_type": "markdown",
   "id": "3e151f52",
   "metadata": {},
   "source": [
    "- [x] **End of Task 5**\n",
    "**__________________________________________________________________________________________________________________________**"
   ]
  },
  {
   "cell_type": "markdown",
   "id": "5b1d4c08",
   "metadata": {},
   "source": [
    "**_______________________________________________________________________________________________________________________**\n",
    "- [ ] **Task 6:**\n",
    "- - **Determining the best hyperparameters for the \"Scaler -> PCA -> SVM\" pipeline by using Gridsearch algorithm:**"
   ]
  },
  {
   "cell_type": "code",
   "execution_count": null,
   "id": "c7ac3fe3",
   "metadata": {},
   "outputs": [],
   "source": [
    "scaler = StandardScaler()\n",
    "pca = PCA(n_components=99)\n",
    "svc = SVC(kernel='rbf',)"
   ]
  },
  {
   "cell_type": "code",
   "execution_count": null,
   "id": "7941166f",
   "metadata": {},
   "outputs": [],
   "source": [
    "pipe = Pipeline(steps=[(\"scaler\", scaler), (\"pca\", pca), (\"svc\", svc)])"
   ]
  },
  {
   "cell_type": "code",
   "execution_count": null,
   "id": "b9895263",
   "metadata": {},
   "outputs": [],
   "source": [
    "param_grid = {\"svc__C\": [1e-3]}"
   ]
  },
  {
   "cell_type": "code",
   "execution_count": null,
   "id": "93d7214b",
   "metadata": {},
   "outputs": [],
   "source": [
    "best_k_fold_dict = {0.02: 15, 0.05: 12, 0.1: 15}"
   ]
  },
  {
   "cell_type": "code",
   "execution_count": 31,
   "id": "750fe569",
   "metadata": {},
   "outputs": [
    {
     "data": {
      "text/html": [
       "<style>#sk-container-id-1 {color: black;background-color: white;}#sk-container-id-1 pre{padding: 0;}#sk-container-id-1 div.sk-toggleable {background-color: white;}#sk-container-id-1 label.sk-toggleable__label {cursor: pointer;display: block;width: 100%;margin-bottom: 0;padding: 0.3em;box-sizing: border-box;text-align: center;}#sk-container-id-1 label.sk-toggleable__label-arrow:before {content: \"▸\";float: left;margin-right: 0.25em;color: #696969;}#sk-container-id-1 label.sk-toggleable__label-arrow:hover:before {color: black;}#sk-container-id-1 div.sk-estimator:hover label.sk-toggleable__label-arrow:before {color: black;}#sk-container-id-1 div.sk-toggleable__content {max-height: 0;max-width: 0;overflow: hidden;text-align: left;background-color: #f0f8ff;}#sk-container-id-1 div.sk-toggleable__content pre {margin: 0.2em;color: black;border-radius: 0.25em;background-color: #f0f8ff;}#sk-container-id-1 input.sk-toggleable__control:checked~div.sk-toggleable__content {max-height: 200px;max-width: 100%;overflow: auto;}#sk-container-id-1 input.sk-toggleable__control:checked~label.sk-toggleable__label-arrow:before {content: \"▾\";}#sk-container-id-1 div.sk-estimator input.sk-toggleable__control:checked~label.sk-toggleable__label {background-color: #d4ebff;}#sk-container-id-1 div.sk-label input.sk-toggleable__control:checked~label.sk-toggleable__label {background-color: #d4ebff;}#sk-container-id-1 input.sk-hidden--visually {border: 0;clip: rect(1px 1px 1px 1px);clip: rect(1px, 1px, 1px, 1px);height: 1px;margin: -1px;overflow: hidden;padding: 0;position: absolute;width: 1px;}#sk-container-id-1 div.sk-estimator {font-family: monospace;background-color: #f0f8ff;border: 1px dotted black;border-radius: 0.25em;box-sizing: border-box;margin-bottom: 0.5em;}#sk-container-id-1 div.sk-estimator:hover {background-color: #d4ebff;}#sk-container-id-1 div.sk-parallel-item::after {content: \"\";width: 100%;border-bottom: 1px solid gray;flex-grow: 1;}#sk-container-id-1 div.sk-label:hover label.sk-toggleable__label {background-color: #d4ebff;}#sk-container-id-1 div.sk-serial::before {content: \"\";position: absolute;border-left: 1px solid gray;box-sizing: border-box;top: 0;bottom: 0;left: 50%;z-index: 0;}#sk-container-id-1 div.sk-serial {display: flex;flex-direction: column;align-items: center;background-color: white;padding-right: 0.2em;padding-left: 0.2em;position: relative;}#sk-container-id-1 div.sk-item {position: relative;z-index: 1;}#sk-container-id-1 div.sk-parallel {display: flex;align-items: stretch;justify-content: center;background-color: white;position: relative;}#sk-container-id-1 div.sk-item::before, #sk-container-id-1 div.sk-parallel-item::before {content: \"\";position: absolute;border-left: 1px solid gray;box-sizing: border-box;top: 0;bottom: 0;left: 50%;z-index: -1;}#sk-container-id-1 div.sk-parallel-item {display: flex;flex-direction: column;z-index: 1;position: relative;background-color: white;}#sk-container-id-1 div.sk-parallel-item:first-child::after {align-self: flex-end;width: 50%;}#sk-container-id-1 div.sk-parallel-item:last-child::after {align-self: flex-start;width: 50%;}#sk-container-id-1 div.sk-parallel-item:only-child::after {width: 0;}#sk-container-id-1 div.sk-dashed-wrapped {border: 1px dashed gray;margin: 0 0.4em 0.5em 0.4em;box-sizing: border-box;padding-bottom: 0.4em;background-color: white;}#sk-container-id-1 div.sk-label label {font-family: monospace;font-weight: bold;display: inline-block;line-height: 1.2em;}#sk-container-id-1 div.sk-label-container {text-align: center;}#sk-container-id-1 div.sk-container {/* jupyter's `normalize.less` sets `[hidden] { display: none; }` but bootstrap.min.css set `[hidden] { display: none !important; }` so we also need the `!important` here to be able to override the default hidden behavior on the sphinx rendered scikit-learn.org. See: https://github.com/scikit-learn/scikit-learn/issues/21755 */display: inline-block !important;position: relative;}#sk-container-id-1 div.sk-text-repr-fallback {display: none;}</style><div id=\"sk-container-id-1\" class=\"sk-top-container\"><div class=\"sk-text-repr-fallback\"><pre>GridSearchCV(cv=15,\n",
       "             estimator=Pipeline(steps=[(&#x27;scaler&#x27;, StandardScaler()),\n",
       "                                       (&#x27;pca&#x27;, PCA(n_components=99)),\n",
       "                                       (&#x27;svc&#x27;, SVC())]),\n",
       "             param_grid={&#x27;svc__C&#x27;: [0.001]})</pre><b>In a Jupyter environment, please rerun this cell to show the HTML representation or trust the notebook. <br />On GitHub, the HTML representation is unable to render, please try loading this page with nbviewer.org.</b></div><div class=\"sk-container\" hidden><div class=\"sk-item sk-dashed-wrapped\"><div class=\"sk-label-container\"><div class=\"sk-label sk-toggleable\"><input class=\"sk-toggleable__control sk-hidden--visually\" id=\"sk-estimator-id-1\" type=\"checkbox\" ><label for=\"sk-estimator-id-1\" class=\"sk-toggleable__label sk-toggleable__label-arrow\">GridSearchCV</label><div class=\"sk-toggleable__content\"><pre>GridSearchCV(cv=15,\n",
       "             estimator=Pipeline(steps=[(&#x27;scaler&#x27;, StandardScaler()),\n",
       "                                       (&#x27;pca&#x27;, PCA(n_components=99)),\n",
       "                                       (&#x27;svc&#x27;, SVC())]),\n",
       "             param_grid={&#x27;svc__C&#x27;: [0.001]})</pre></div></div></div><div class=\"sk-parallel\"><div class=\"sk-parallel-item\"><div class=\"sk-item\"><div class=\"sk-label-container\"><div class=\"sk-label sk-toggleable\"><input class=\"sk-toggleable__control sk-hidden--visually\" id=\"sk-estimator-id-2\" type=\"checkbox\" ><label for=\"sk-estimator-id-2\" class=\"sk-toggleable__label sk-toggleable__label-arrow\">estimator: Pipeline</label><div class=\"sk-toggleable__content\"><pre>Pipeline(steps=[(&#x27;scaler&#x27;, StandardScaler()), (&#x27;pca&#x27;, PCA(n_components=99)),\n",
       "                (&#x27;svc&#x27;, SVC())])</pre></div></div></div><div class=\"sk-serial\"><div class=\"sk-item\"><div class=\"sk-serial\"><div class=\"sk-item\"><div class=\"sk-estimator sk-toggleable\"><input class=\"sk-toggleable__control sk-hidden--visually\" id=\"sk-estimator-id-3\" type=\"checkbox\" ><label for=\"sk-estimator-id-3\" class=\"sk-toggleable__label sk-toggleable__label-arrow\">StandardScaler</label><div class=\"sk-toggleable__content\"><pre>StandardScaler()</pre></div></div></div><div class=\"sk-item\"><div class=\"sk-estimator sk-toggleable\"><input class=\"sk-toggleable__control sk-hidden--visually\" id=\"sk-estimator-id-4\" type=\"checkbox\" ><label for=\"sk-estimator-id-4\" class=\"sk-toggleable__label sk-toggleable__label-arrow\">PCA</label><div class=\"sk-toggleable__content\"><pre>PCA(n_components=99)</pre></div></div></div><div class=\"sk-item\"><div class=\"sk-estimator sk-toggleable\"><input class=\"sk-toggleable__control sk-hidden--visually\" id=\"sk-estimator-id-5\" type=\"checkbox\" ><label for=\"sk-estimator-id-5\" class=\"sk-toggleable__label sk-toggleable__label-arrow\">SVC</label><div class=\"sk-toggleable__content\"><pre>SVC()</pre></div></div></div></div></div></div></div></div></div></div></div></div>"
      ],
      "text/plain": [
       "GridSearchCV(cv=15,\n",
       "             estimator=Pipeline(steps=[('scaler', StandardScaler()),\n",
       "                                       ('pca', PCA(n_components=99)),\n",
       "                                       ('svc', SVC())]),\n",
       "             param_grid={'svc__C': [0.001]})"
      ]
     },
     "execution_count": 31,
     "metadata": {},
     "output_type": "execute_result"
    }
   ],
   "source": [
    "test_size = 0.02\n",
    "X_train, y_train = data['X_train_' + str(test_size)], data['y_train_' + str(test_size)]\n",
    "search = GridSearchCV(pipe, param_grid, cv=best_k_fold_dict[test_size])\n",
    "search.fit(X_train, y_train)"
   ]
  },
  {
   "cell_type": "code",
   "execution_count": 32,
   "id": "9f87db66",
   "metadata": {},
   "outputs": [
    {
     "data": {
      "text/plain": [
       "{'svc__C': 0.001}"
      ]
     },
     "execution_count": 32,
     "metadata": {},
     "output_type": "execute_result"
    }
   ],
   "source": [
    "best_params = search.best_params_\n",
    "best_params"
   ]
  },
  {
   "cell_type": "code",
   "execution_count": 33,
   "id": "aa02dfc0",
   "metadata": {},
   "outputs": [
    {
     "data": {
      "text/plain": [
       "0.5124733501475217"
      ]
     },
     "execution_count": 33,
     "metadata": {},
     "output_type": "execute_result"
    }
   ],
   "source": [
    "best_score = search.best_score_\n",
    "best_score"
   ]
  },
  {
   "cell_type": "markdown",
   "id": "ad49c313",
   "metadata": {},
   "source": [
    "- - - **Gridsearch Results for Test_size=0.02:**\n",
    "- - - - The Best Type of **Kernel** is **RBF**\n",
    "- - - - The Best Value for $\\gamma$ is **0.05**\n",
    "- - - - The Best Value for Regularization Parameter (C or $\\lambda$) is **1e6**\n",
    "\n",
    "\n",
    "- [x] **End of Task 6**\n",
    "**_______________________________________________________________________________________________________________________**"
   ]
  },
  {
   "cell_type": "markdown",
   "id": "78448aff",
   "metadata": {},
   "source": [
    "**_______________________________________________________________________________________________________________________**\n",
    "- [ ] **Task 7:**\n",
    "- **Comparison between two Pipelines:**"
   ]
  },
  {
   "cell_type": "markdown",
   "id": "5fb8a374",
   "metadata": {},
   "source": [
    "- - **Result of the determined hyperparameters for the \"Scaler -> PCA -> SVM\" pipeline:**"
   ]
  },
  {
   "cell_type": "code",
   "execution_count": 34,
   "id": "775d4231",
   "metadata": {},
   "outputs": [],
   "source": [
    "test_size = 0.02\n",
    "X_train, y_train, X_test, y_test = data['X_train_' + str(test_size)], data['y_train_' + str(test_size)], \\\n",
    "data['X_test_' + str(test_size)], data['y_test_' + str(test_size)]"
   ]
  },
  {
   "cell_type": "code",
   "execution_count": 35,
   "id": "488ad16c",
   "metadata": {},
   "outputs": [],
   "source": [
    "scaler = StandardScaler()\n",
    "pca = PCA(n_components=99)\n",
    "svc = SVC(kernel='rbf', gamma=0.05, C=1e6)\n",
    "\n",
    "clf = make_pipeline(scaler, pca, svc)\n",
    "clf.fit(X_train, y_train)\n",
    "y_pred = clf.predict(X_test)\n",
    "ov_acc = accuracy_score(y_test, y_pred)\n",
    "matrix = confusion_matrix(y_test, y_pred)\n",
    "kappa = cohen_kappa_score(y_test, y_pred)"
   ]
  },
  {
   "cell_type": "code",
   "execution_count": 36,
   "id": "7305e62b",
   "metadata": {},
   "outputs": [
    {
     "data": {
      "text/html": [
       "<div>\n",
       "<style scoped>\n",
       "    .dataframe tbody tr th:only-of-type {\n",
       "        vertical-align: middle;\n",
       "    }\n",
       "\n",
       "    .dataframe tbody tr th {\n",
       "        vertical-align: top;\n",
       "    }\n",
       "\n",
       "    .dataframe thead th {\n",
       "        text-align: right;\n",
       "    }\n",
       "</style>\n",
       "<table border=\"1\" class=\"dataframe\">\n",
       "  <thead>\n",
       "    <tr style=\"text-align: right;\">\n",
       "      <th></th>\n",
       "      <th>Class</th>\n",
       "      <th>Accuracy</th>\n",
       "    </tr>\n",
       "  </thead>\n",
       "  <tbody>\n",
       "    <tr>\n",
       "      <th>0</th>\n",
       "      <td>1</td>\n",
       "      <td>0.907834</td>\n",
       "    </tr>\n",
       "    <tr>\n",
       "      <th>1</th>\n",
       "      <td>2</td>\n",
       "      <td>0.000000</td>\n",
       "    </tr>\n",
       "    <tr>\n",
       "      <th>2</th>\n",
       "      <td>3</td>\n",
       "      <td>0.750000</td>\n",
       "    </tr>\n",
       "    <tr>\n",
       "      <th>3</th>\n",
       "      <td>4</td>\n",
       "      <td>0.857143</td>\n",
       "    </tr>\n",
       "    <tr>\n",
       "      <th>4</th>\n",
       "      <td>5</td>\n",
       "      <td>0.500000</td>\n",
       "    </tr>\n",
       "    <tr>\n",
       "      <th>5</th>\n",
       "      <td>6</td>\n",
       "      <td>0.777778</td>\n",
       "    </tr>\n",
       "    <tr>\n",
       "      <th>6</th>\n",
       "      <td>7</td>\n",
       "      <td>0.812500</td>\n",
       "    </tr>\n",
       "    <tr>\n",
       "      <th>7</th>\n",
       "      <td>8</td>\n",
       "      <td>1.000000</td>\n",
       "    </tr>\n",
       "    <tr>\n",
       "      <th>8</th>\n",
       "      <td>9</td>\n",
       "      <td>1.000000</td>\n",
       "    </tr>\n",
       "    <tr>\n",
       "      <th>9</th>\n",
       "      <td>10</td>\n",
       "      <td>0.833333</td>\n",
       "    </tr>\n",
       "    <tr>\n",
       "      <th>10</th>\n",
       "      <td>11</td>\n",
       "      <td>0.795918</td>\n",
       "    </tr>\n",
       "    <tr>\n",
       "      <th>11</th>\n",
       "      <td>12</td>\n",
       "      <td>0.625000</td>\n",
       "    </tr>\n",
       "    <tr>\n",
       "      <th>12</th>\n",
       "      <td>13</td>\n",
       "      <td>1.000000</td>\n",
       "    </tr>\n",
       "    <tr>\n",
       "      <th>13</th>\n",
       "      <td>14</td>\n",
       "      <td>0.612903</td>\n",
       "    </tr>\n",
       "    <tr>\n",
       "      <th>14</th>\n",
       "      <td>15</td>\n",
       "      <td>0.111111</td>\n",
       "    </tr>\n",
       "    <tr>\n",
       "      <th>15</th>\n",
       "      <td>16</td>\n",
       "      <td>0.666667</td>\n",
       "    </tr>\n",
       "  </tbody>\n",
       "</table>\n",
       "</div>"
      ],
      "text/plain": [
       "    Class  Accuracy\n",
       "0       1  0.907834\n",
       "1       2  0.000000\n",
       "2       3  0.750000\n",
       "3       4  0.857143\n",
       "4       5  0.500000\n",
       "5       6  0.777778\n",
       "6       7  0.812500\n",
       "7       8  1.000000\n",
       "8       9  1.000000\n",
       "9      10  0.833333\n",
       "10     11  0.795918\n",
       "11     12  0.625000\n",
       "12     13  1.000000\n",
       "13     14  0.612903\n",
       "14     15  0.111111\n",
       "15     16  0.666667"
      ]
     },
     "execution_count": 36,
     "metadata": {},
     "output_type": "execute_result"
    }
   ],
   "source": [
    "acc_for_each_class = matrix.diagonal()/matrix.sum(axis=1)\n",
    "df_result1 = pd.DataFrame({'Class': range(1, 17), 'Accuracy': acc_for_each_class})\n",
    "df_result1"
   ]
  },
  {
   "cell_type": "code",
   "execution_count": 37,
   "id": "29c17d73",
   "metadata": {},
   "outputs": [
    {
     "data": {
      "text/html": [
       "<div>\n",
       "<style scoped>\n",
       "    .dataframe tbody tr th:only-of-type {\n",
       "        vertical-align: middle;\n",
       "    }\n",
       "\n",
       "    .dataframe tbody tr th {\n",
       "        vertical-align: top;\n",
       "    }\n",
       "\n",
       "    .dataframe thead th {\n",
       "        text-align: right;\n",
       "    }\n",
       "</style>\n",
       "<table border=\"1\" class=\"dataframe\">\n",
       "  <thead>\n",
       "    <tr style=\"text-align: right;\">\n",
       "      <th></th>\n",
       "      <th>Overall Accuracy</th>\n",
       "      <th>κ</th>\n",
       "    </tr>\n",
       "  </thead>\n",
       "  <tbody>\n",
       "    <tr>\n",
       "      <th>0</th>\n",
       "      <td>0.828979</td>\n",
       "      <td>0.747827</td>\n",
       "    </tr>\n",
       "  </tbody>\n",
       "</table>\n",
       "</div>"
      ],
      "text/plain": [
       "   Overall Accuracy         κ\n",
       "0          0.828979  0.747827"
      ]
     },
     "execution_count": 37,
     "metadata": {},
     "output_type": "execute_result"
    }
   ],
   "source": [
    "df_result2 = pd.DataFrame({'Overall Accuracy': ov_acc, '\\u03BA': kappa}, index=[0])\n",
    "df_result2"
   ]
  },
  {
   "cell_type": "code",
   "execution_count": 38,
   "id": "5dda0cca",
   "metadata": {},
   "outputs": [
    {
     "data": {
      "text/html": [
       "<div>\n",
       "<style scoped>\n",
       "    .dataframe tbody tr th:only-of-type {\n",
       "        vertical-align: middle;\n",
       "    }\n",
       "\n",
       "    .dataframe tbody tr th {\n",
       "        vertical-align: top;\n",
       "    }\n",
       "\n",
       "    .dataframe thead th {\n",
       "        text-align: right;\n",
       "    }\n",
       "</style>\n",
       "<table border=\"1\" class=\"dataframe\">\n",
       "  <thead>\n",
       "    <tr style=\"text-align: right;\">\n",
       "      <th></th>\n",
       "      <th>Test Size</th>\n",
       "      <th>Accuracy</th>\n",
       "    </tr>\n",
       "  </thead>\n",
       "  <tbody>\n",
       "    <tr>\n",
       "      <th>0</th>\n",
       "      <td>0.02</td>\n",
       "      <td>0.8289</td>\n",
       "    </tr>\n",
       "    <tr>\n",
       "      <th>1</th>\n",
       "      <td>0.05</td>\n",
       "      <td>0.8212</td>\n",
       "    </tr>\n",
       "    <tr>\n",
       "      <th>2</th>\n",
       "      <td>0.10</td>\n",
       "      <td>0.8207</td>\n",
       "    </tr>\n",
       "  </tbody>\n",
       "</table>\n",
       "</div>"
      ],
      "text/plain": [
       "   Test Size  Accuracy\n",
       "0       0.02    0.8289\n",
       "1       0.05    0.8212\n",
       "2       0.10    0.8207"
      ]
     },
     "execution_count": 38,
     "metadata": {},
     "output_type": "execute_result"
    }
   ],
   "source": [
    "pd.DataFrame({'Test Size': [0.02, 0.05, 0.1], 'Accuracy': [0.8289, 0.8212, 0.8207]})"
   ]
  },
  {
   "cell_type": "markdown",
   "id": "aaa4adf1",
   "metadata": {},
   "source": [
    "- - **Result of the determined hyperparameters for the \"Scaler -> SVM\" pipeline:**"
   ]
  },
  {
   "cell_type": "code",
   "execution_count": 39,
   "id": "105a08d2",
   "metadata": {},
   "outputs": [],
   "source": [
    "test_size = 0.02\n",
    "X_train, y_train, X_test, y_test = data['X_train_' + str(test_size)], data['y_train_' + str(test_size)], \\\n",
    "data['X_test_' + str(test_size)], data['y_test_' + str(test_size)]"
   ]
  },
  {
   "cell_type": "code",
   "execution_count": 40,
   "id": "ca7d7895",
   "metadata": {},
   "outputs": [],
   "source": [
    "scaler = StandardScaler()\n",
    "svc = SVC(kernel='rbf', gamma=0.05, C=1e6)\n",
    "\n",
    "clf = make_pipeline(scaler, svc)\n",
    "clf.fit(X_train, y_train)\n",
    "y_pred = clf.predict(X_test)\n",
    "ov_acc = accuracy_score(y_test, y_pred)\n",
    "matrix = confusion_matrix(y_test, y_pred)\n",
    "kappa = cohen_kappa_score(y_test, y_pred)"
   ]
  },
  {
   "cell_type": "code",
   "execution_count": 41,
   "id": "27b1dae0",
   "metadata": {},
   "outputs": [
    {
     "data": {
      "text/html": [
       "<div>\n",
       "<style scoped>\n",
       "    .dataframe tbody tr th:only-of-type {\n",
       "        vertical-align: middle;\n",
       "    }\n",
       "\n",
       "    .dataframe tbody tr th {\n",
       "        vertical-align: top;\n",
       "    }\n",
       "\n",
       "    .dataframe thead th {\n",
       "        text-align: right;\n",
       "    }\n",
       "</style>\n",
       "<table border=\"1\" class=\"dataframe\">\n",
       "  <thead>\n",
       "    <tr style=\"text-align: right;\">\n",
       "      <th></th>\n",
       "      <th>Class</th>\n",
       "      <th>Accuracy</th>\n",
       "    </tr>\n",
       "  </thead>\n",
       "  <tbody>\n",
       "    <tr>\n",
       "      <th>0</th>\n",
       "      <td>1</td>\n",
       "      <td>0.903226</td>\n",
       "    </tr>\n",
       "    <tr>\n",
       "      <th>1</th>\n",
       "      <td>2</td>\n",
       "      <td>0.000000</td>\n",
       "    </tr>\n",
       "    <tr>\n",
       "      <th>2</th>\n",
       "      <td>3</td>\n",
       "      <td>0.833333</td>\n",
       "    </tr>\n",
       "    <tr>\n",
       "      <th>3</th>\n",
       "      <td>4</td>\n",
       "      <td>0.928571</td>\n",
       "    </tr>\n",
       "    <tr>\n",
       "      <th>4</th>\n",
       "      <td>5</td>\n",
       "      <td>0.500000</td>\n",
       "    </tr>\n",
       "    <tr>\n",
       "      <th>5</th>\n",
       "      <td>6</td>\n",
       "      <td>0.777778</td>\n",
       "    </tr>\n",
       "    <tr>\n",
       "      <th>6</th>\n",
       "      <td>7</td>\n",
       "      <td>0.812500</td>\n",
       "    </tr>\n",
       "    <tr>\n",
       "      <th>7</th>\n",
       "      <td>8</td>\n",
       "      <td>1.000000</td>\n",
       "    </tr>\n",
       "    <tr>\n",
       "      <th>8</th>\n",
       "      <td>9</td>\n",
       "      <td>1.000000</td>\n",
       "    </tr>\n",
       "    <tr>\n",
       "      <th>9</th>\n",
       "      <td>10</td>\n",
       "      <td>0.800000</td>\n",
       "    </tr>\n",
       "    <tr>\n",
       "      <th>10</th>\n",
       "      <td>11</td>\n",
       "      <td>0.816327</td>\n",
       "    </tr>\n",
       "    <tr>\n",
       "      <th>11</th>\n",
       "      <td>12</td>\n",
       "      <td>0.625000</td>\n",
       "    </tr>\n",
       "    <tr>\n",
       "      <th>12</th>\n",
       "      <td>13</td>\n",
       "      <td>1.000000</td>\n",
       "    </tr>\n",
       "    <tr>\n",
       "      <th>13</th>\n",
       "      <td>14</td>\n",
       "      <td>0.612903</td>\n",
       "    </tr>\n",
       "    <tr>\n",
       "      <th>14</th>\n",
       "      <td>15</td>\n",
       "      <td>0.111111</td>\n",
       "    </tr>\n",
       "    <tr>\n",
       "      <th>15</th>\n",
       "      <td>16</td>\n",
       "      <td>0.666667</td>\n",
       "    </tr>\n",
       "  </tbody>\n",
       "</table>\n",
       "</div>"
      ],
      "text/plain": [
       "    Class  Accuracy\n",
       "0       1  0.903226\n",
       "1       2  0.000000\n",
       "2       3  0.833333\n",
       "3       4  0.928571\n",
       "4       5  0.500000\n",
       "5       6  0.777778\n",
       "6       7  0.812500\n",
       "7       8  1.000000\n",
       "8       9  1.000000\n",
       "9      10  0.800000\n",
       "10     11  0.816327\n",
       "11     12  0.625000\n",
       "12     13  1.000000\n",
       "13     14  0.612903\n",
       "14     15  0.111111\n",
       "15     16  0.666667"
      ]
     },
     "execution_count": 41,
     "metadata": {},
     "output_type": "execute_result"
    }
   ],
   "source": [
    "acc_for_each_class = matrix.diagonal()/matrix.sum(axis=1)\n",
    "df_result1 = pd.DataFrame({'Class': range(1, 17), 'Accuracy': acc_for_each_class})\n",
    "df_result1"
   ]
  },
  {
   "cell_type": "code",
   "execution_count": 42,
   "id": "ec99962d",
   "metadata": {},
   "outputs": [
    {
     "data": {
      "text/html": [
       "<div>\n",
       "<style scoped>\n",
       "    .dataframe tbody tr th:only-of-type {\n",
       "        vertical-align: middle;\n",
       "    }\n",
       "\n",
       "    .dataframe tbody tr th {\n",
       "        vertical-align: top;\n",
       "    }\n",
       "\n",
       "    .dataframe thead th {\n",
       "        text-align: right;\n",
       "    }\n",
       "</style>\n",
       "<table border=\"1\" class=\"dataframe\">\n",
       "  <thead>\n",
       "    <tr style=\"text-align: right;\">\n",
       "      <th></th>\n",
       "      <th>Overall Accuracy</th>\n",
       "      <th>κ</th>\n",
       "    </tr>\n",
       "  </thead>\n",
       "  <tbody>\n",
       "    <tr>\n",
       "      <th>0</th>\n",
       "      <td>0.831354</td>\n",
       "      <td>0.751385</td>\n",
       "    </tr>\n",
       "  </tbody>\n",
       "</table>\n",
       "</div>"
      ],
      "text/plain": [
       "   Overall Accuracy         κ\n",
       "0          0.831354  0.751385"
      ]
     },
     "execution_count": 42,
     "metadata": {},
     "output_type": "execute_result"
    }
   ],
   "source": [
    "df_result2 = pd.DataFrame({'Overall Accuracy': ov_acc, '\\u03BA': kappa}, index=[0])\n",
    "df_result2"
   ]
  },
  {
   "cell_type": "code",
   "execution_count": 43,
   "id": "9bde4f3a",
   "metadata": {},
   "outputs": [
    {
     "data": {
      "text/html": [
       "<div>\n",
       "<style scoped>\n",
       "    .dataframe tbody tr th:only-of-type {\n",
       "        vertical-align: middle;\n",
       "    }\n",
       "\n",
       "    .dataframe tbody tr th {\n",
       "        vertical-align: top;\n",
       "    }\n",
       "\n",
       "    .dataframe thead th {\n",
       "        text-align: right;\n",
       "    }\n",
       "</style>\n",
       "<table border=\"1\" class=\"dataframe\">\n",
       "  <thead>\n",
       "    <tr style=\"text-align: right;\">\n",
       "      <th></th>\n",
       "      <th>Test Size</th>\n",
       "      <th>Accuracy</th>\n",
       "    </tr>\n",
       "  </thead>\n",
       "  <tbody>\n",
       "    <tr>\n",
       "      <th>0</th>\n",
       "      <td>0.02</td>\n",
       "      <td>0.8313</td>\n",
       "    </tr>\n",
       "    <tr>\n",
       "      <th>1</th>\n",
       "      <td>0.05</td>\n",
       "      <td>0.8241</td>\n",
       "    </tr>\n",
       "    <tr>\n",
       "      <th>2</th>\n",
       "      <td>0.10</td>\n",
       "      <td>0.8264</td>\n",
       "    </tr>\n",
       "  </tbody>\n",
       "</table>\n",
       "</div>"
      ],
      "text/plain": [
       "   Test Size  Accuracy\n",
       "0       0.02    0.8313\n",
       "1       0.05    0.8241\n",
       "2       0.10    0.8264"
      ]
     },
     "execution_count": 43,
     "metadata": {},
     "output_type": "execute_result"
    }
   ],
   "source": [
    "pd.DataFrame({'Test Size': [0.02, 0.05, 0.1], 'Accuracy': [0.8313, 0.8241, 0.8264]})"
   ]
  },
  {
   "cell_type": "markdown",
   "id": "b1a8ee09",
   "metadata": {},
   "source": [
    "- [x] **End of Task 7**\n",
    "**_______________________________________________________________________________________________________________________**"
   ]
  },
  {
   "cell_type": "markdown",
   "id": "58ae0739",
   "metadata": {},
   "source": [
    "- - **Conclusion:**\n",
    "- - - By using the PCA block the Accuracy decreases a few but Learning is done faster."
   ]
  },
  {
   "cell_type": "markdown",
   "id": "238700e4",
   "metadata": {},
   "source": [
    "**_____________________________________________________________________________________________________________________**"
   ]
  },
  {
   "cell_type": "markdown",
   "id": "4b8b2ad2",
   "metadata": {},
   "source": [
    "- **Resources:**\n",
    "**_____________________________________________________________________________________________________________________**\n",
    "- -  [**Indian Pines Hyperspectral Dataset from \"Hyperspectral Remote Sensing Scenes\"**](https://www.ehu.eus/ccwintco/index.php/Hyperspectral_Remote_Sensing_Scenes#Indian_Pines)\n",
    "- - [**Dataset Splitting to Train and Test Data from \"sklearn\"**](https://scikit-learn.org/stable/modules/generated/sklearn.model_selection.train_test_split.html?highlight=sklearn+model_selection+train_test#sklearn.model_selection.train_test_split)\n",
    "- - [**Determine the best k-fold for each splitted data:**](https://scikit-learn.org/stable/modules/cross_validation.html?highlight=k+fold)\n",
    "- - [**Applying the \"PCA -> SVM\" Pipeline**](https://scikit-learn.org/stable/modules/svm.html#svm-classification)\n",
    "- - [**Calculation of Accuracy:**](https://scikit-learn.org/stable/modules/model_evaluation.html?highlight=accuracy)\n",
    "- - - [**Kappa score**](https://scikit-learn.org/stable/modules/model_evaluation.html#cohen-kappa)\n",
    "- - - [**k-fold CV**](https://scikit-learn.org/stable/modules/cross_validation.html?highlight=k+fold)\n",
    "- - - [**Accuracy for each class from StackOverflow**](https://stackoverflow.com/questions/39770376/scikit-learn-get-accuracy-scores-for-each-class)\n",
    "- - - [**Hyperparameters:**](https://scikit-learn.org/stable/modules/cross_validation.html?highlight=k+fold)\n",
    "- - - - **Finding _C, k-fold(CV), kernel and degree_ by using [Gridsearch_1](https://scikit-learn.org/stable/tutorial/statistical_inference/putting_together.html), [Gridsearch_2](https://scikit-learn.org/stable/modules/generated/sklearn.model_selection.GridSearchCV.html)**\n",
    "**_____________________________________________________________________________________________________________________**"
   ]
  }
 ],
 "metadata": {
  "kernelspec": {
   "display_name": "base",
   "language": "python",
   "name": "python3"
  },
  "language_info": {
   "codemirror_mode": {
    "name": "ipython",
    "version": 3
   },
   "file_extension": ".py",
   "mimetype": "text/x-python",
   "name": "python",
   "nbconvert_exporter": "python",
   "pygments_lexer": "ipython3",
   "version": "3.10.8"
  },
  "vscode": {
   "interpreter": {
    "hash": "2414fea8eb194b83b63228421ec1cffc39430e84b3bc3add6d9a78bbaf3362b9"
   }
  }
 },
 "nbformat": 4,
 "nbformat_minor": 5
}
