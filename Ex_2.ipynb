{
 "cells": [
  {
   "cell_type": "markdown",
   "id": "e579abc8",
   "metadata": {},
   "source": [
    "#### **Importing the Desired Packages:**"
   ]
  },
  {
   "cell_type": "code",
   "execution_count": 2,
   "id": "690a209f",
   "metadata": {},
   "outputs": [],
   "source": [
    "import numpy as np\n",
    "import pandas as pd\n",
    "import pymatreader as pymat\n",
    "import matplotlib.pyplot as plt"
   ]
  },
  {
   "cell_type": "markdown",
   "id": "0502e586",
   "metadata": {},
   "source": [
    "**__________________________________________________________________________________________________________________________**\n",
    "- [ ] **Task 1: Dataset loading**"
   ]
  },
  {
   "cell_type": "code",
   "execution_count": 3,
   "id": "d96727d7",
   "metadata": {},
   "outputs": [],
   "source": [
    "file_name_indian_gt_str = 'Indian_pines_gt.mat'\n",
    "file_name_indian_str = 'Indian_pines_corrected.mat'\n",
    "\n",
    "file_name_pavia_gt_str = 'Pavia_gt.mat'\n",
    "file_name_pavia_str = 'Pavia.mat'\n",
    "\n",
    "file_name_paviaU_gt_str = 'PaviaU_gt.mat'\n",
    "file_name_paviaU_str = 'PaviaU.mat'\n",
    "\n",
    "path_str = '/home/shahin/Desktop/Msc.5/مباحث ويژه در مخابرات 1/Ex/ex2/'"
   ]
  },
  {
   "cell_type": "code",
   "execution_count": 4,
   "id": "32e05098",
   "metadata": {},
   "outputs": [],
   "source": [
    "data_indian_gt_ndarray = pymat.read_mat(path_str + file_name_indian_gt_str)['indian_pines_gt']\n",
    "data_indian_ndarray = pymat.read_mat(path_str + file_name_indian_str)['indian_pines_corrected']\n",
    "\n",
    "data_pavia_gt_ndarray = pymat.read_mat(path_str + file_name_pavia_gt_str)['pavia_gt']\n",
    "data_pavia_ndarray = pymat.read_mat(path_str + file_name_pavia_str)['pavia']\n",
    "\n",
    "data_paviaU_gt_ndarray = pymat.read_mat(path_str + file_name_paviaU_gt_str)['paviaU_gt']\n",
    "data_paviaU_ndarray = pymat.read_mat(path_str + file_name_paviaU_str)['paviaU']"
   ]
  },
  {
   "cell_type": "markdown",
   "id": "f6c2daf4",
   "metadata": {},
   "source": [
    "- [x] **End of Task 1**\n",
    "**__________________________________________________________________________________________________________________________**"
   ]
  },
  {
   "cell_type": "markdown",
   "id": "7bab0c29",
   "metadata": {},
   "source": [
    "**__________________________________________________________________________________________________________________________**\n",
    "**Overview of the Datasets:**"
   ]
  },
  {
   "cell_type": "code",
   "execution_count": 5,
   "id": "1dd74121",
   "metadata": {},
   "outputs": [
    {
     "name": "stdout",
     "output_type": "stream",
     "text": [
      "Shape of the Indian pines dataset: (145, 145, 200)\n",
      "Shape of the Pavia dataset: (1096, 715, 102)\n",
      "Shape of the PaviaU dataset: (610, 340, 103)\n"
     ]
    }
   ],
   "source": [
    "print(f'Shape of the Indian pines dataset: {data_indian_ndarray.shape}')\n",
    "print(f'Shape of the Pavia dataset: {data_pavia_ndarray.shape}')\n",
    "print(f'Shape of the PaviaU dataset: {data_paviaU_ndarray.shape}')"
   ]
  },
  {
   "cell_type": "code",
   "execution_count": 6,
   "id": "ef940f7a",
   "metadata": {},
   "outputs": [
    {
     "name": "stdout",
     "output_type": "stream",
     "text": [
      "Shape of the label array of the Indian pines dataset:\n",
      "\n",
      "(145, 145)\n",
      "\n",
      "... its data type: uint8\n",
      "\n",
      "\n",
      "\n",
      "\n",
      "Shape of the label array of the Pavia dataset:\n",
      "\n",
      "(1096, 715)\n",
      "\n",
      "... its data type: uint8\n",
      "\n",
      "\n",
      "\n",
      "\n",
      "Shape of the label array of the  PaviaU dataset:\n",
      "\n",
      "(610, 340)\n",
      "\n",
      "... its data type: uint8\n"
     ]
    }
   ],
   "source": [
    "print(f'Shape of the label array of the Indian pines dataset:\\n\\n{data_indian_gt_ndarray.shape}\\\n",
    "\\n\\n... its data type: \\\n",
    "{data_indian_gt_ndarray.dtype}\\n\\n\\n\\n')\n",
    "\n",
    "print(f'Shape of the label array of the Pavia dataset:\\n\\n{data_pavia_gt_ndarray.shape}\\\n",
    "\\n\\n... its data type: \\\n",
    "{data_pavia_gt_ndarray.dtype}\\n\\n\\n\\n')\n",
    "\n",
    "print(f'Shape of the label array of the  PaviaU dataset:\\n\\n{data_paviaU_gt_ndarray.shape}\\\n",
    "\\n\\n... its data type: \\\n",
    "{data_paviaU_gt_ndarray.dtype}')"
   ]
  },
  {
   "cell_type": "markdown",
   "id": "2ec5c03e",
   "metadata": {},
   "source": [
    "* **Classes:**"
   ]
  },
  {
   "cell_type": "code",
   "execution_count": 7,
   "id": "18c7f346",
   "metadata": {},
   "outputs": [
    {
     "name": "stdout",
     "output_type": "stream",
     "text": [
      "Classes of the Indian pines dataset: [ 0  1  2  3  4  5  6  7  8  9 10 11 12 13 14 15 16]\n",
      "Classes of the Pavia dataset: [0 1 2 3 4 5 6 7 8 9]\n",
      "Classes of the PaviaU dataset: [0 1 2 3 4 5 6 7 8 9]\n"
     ]
    }
   ],
   "source": [
    "print(f'Classes of the Indian pines dataset: {np.unique(data_indian_gt_ndarray)}')\n",
    "\n",
    "print(f'Classes of the Pavia dataset: {np.unique(data_pavia_gt_ndarray)}')\n",
    "\n",
    "print(f'Classes of the PaviaU dataset: {np.unique(data_paviaU_gt_ndarray)}')"
   ]
  },
  {
   "cell_type": "markdown",
   "id": "72c8cb6a",
   "metadata": {},
   "source": [
    "**End of Overview**\n",
    "**__________________________________________________________________________________________________________________________**"
   ]
  },
  {
   "cell_type": "markdown",
   "id": "6ab1a13c",
   "metadata": {},
   "source": [
    "**__________________________________________________________________________________________________________________________**"
   ]
  },
  {
   "cell_type": "markdown",
   "id": "30f53633",
   "metadata": {},
   "source": [
    "#### **Data Reshaping**:"
   ]
  },
  {
   "cell_type": "code",
   "execution_count": 8,
   "id": "3e7ced5e",
   "metadata": {},
   "outputs": [],
   "source": [
    "data_indian_reshaped_ndarray = data_indian_ndarray.reshape((\\\n",
    "                                                    data_indian_ndarray.shape[0]*data_indian_ndarray.shape[1], \\\n",
    "                                                    data_indian_ndarray.shape[2]))\n",
    "data_indian_gt_reshaped_ndarray = data_indian_gt_ndarray.flatten()\n",
    "\n",
    "\n",
    "data_pavia_reshaped_ndarray = data_pavia_ndarray.reshape((\\\n",
    "                                                    data_pavia_ndarray.shape[0]*data_pavia_ndarray.shape[1], \\\n",
    "                                                    data_pavia_ndarray.shape[2]))\n",
    "data_pavia_gt_reshaped_ndarray = data_pavia_gt_ndarray.flatten()\n",
    "\n",
    "\n",
    "data_paviaU_reshaped_ndarray = data_paviaU_ndarray.reshape((\\\n",
    "                                                    data_paviaU_ndarray.shape[0]*data_paviaU_ndarray.shape[1], \\\n",
    "                                                    data_paviaU_ndarray.shape[2]))\n",
    "data_paviaU_gt_reshaped_ndarray = data_paviaU_gt_ndarray.flatten()"
   ]
  },
  {
   "cell_type": "code",
   "execution_count": 9,
   "id": "0bf63c28",
   "metadata": {},
   "outputs": [
    {
     "name": "stdout",
     "output_type": "stream",
     "text": [
      "Shape of the reshaped Indian pines dataset: (21025, 200) = (No. samples, No. features)\n",
      "Shape of the reshaped label array of the Indian pines dataset: (21025,) = (No. targets,)\n",
      "\n",
      "\n",
      "\n",
      "Shape of the reshaped Pavia dataset: (783640, 102) = (No. samples, No. features)\n",
      "Shape of the reshaped label array of the Pavia dataset: (783640,) = (No. targets,)\n",
      "\n",
      "\n",
      "\n",
      "Shape of the reshaped PaviaU dataset: (207400, 103) = (No. samples, No. features)\n",
      "Shape of the reshaped label array of the PaviaU dataset: (207400,) = (No. targets,)\n"
     ]
    }
   ],
   "source": [
    "print(f'Shape of the reshaped Indian pines dataset: {data_indian_reshaped_ndarray.shape} = \\\n",
    "(No. samples, No. features)')\n",
    "print(f'Shape of the reshaped label array of the Indian pines dataset: \\\n",
    "{data_indian_gt_reshaped_ndarray.shape} = (No. targets,)\\n\\n\\n')\n",
    "\n",
    "\n",
    "print(f'Shape of the reshaped Pavia dataset: {data_pavia_reshaped_ndarray.shape} = \\\n",
    "(No. samples, No. features)')\n",
    "print(f'Shape of the reshaped label array of the Pavia dataset: \\\n",
    "{data_pavia_gt_reshaped_ndarray.shape} = (No. targets,)\\n\\n\\n')\n",
    "\n",
    "\n",
    "print(f'Shape of the reshaped PaviaU dataset: {data_paviaU_reshaped_ndarray.shape} = \\\n",
    "(No. samples, No. features)')\n",
    "print(f'Shape of the reshaped label array of the PaviaU dataset: \\\n",
    "{data_paviaU_gt_reshaped_ndarray.shape} = (No. targets,)')"
   ]
  },
  {
   "cell_type": "markdown",
   "id": "5b83d7d3",
   "metadata": {},
   "source": [
    "**End of Data Reshaping**\n",
    "**__________________________________________________________________________________________________________________________**"
   ]
  },
  {
   "cell_type": "markdown",
   "id": "e0426b7e",
   "metadata": {},
   "source": [
    "#### Importing the Desired Packages"
   ]
  },
  {
   "cell_type": "code",
   "execution_count": 10,
   "id": "7da4b565",
   "metadata": {},
   "outputs": [],
   "source": [
    "from sklearn.svm import SVC\n",
    "from sklearn.pipeline import Pipeline\n",
    "from sklearn.metrics import accuracy_score\n",
    "from sklearn.pipeline import make_pipeline\n",
    "from sklearn.metrics import confusion_matrix\n",
    "from sklearn.metrics import cohen_kappa_score\n",
    "from sklearn.model_selection import GridSearchCV\n",
    "from sklearn.preprocessing import StandardScaler\n",
    "from sklearn.model_selection import cross_val_score\n",
    "from sklearn.decomposition import KernelPCA\n",
    "from sklearn.model_selection import train_test_split"
   ]
  },
  {
   "cell_type": "markdown",
   "id": "3a5e2264",
   "metadata": {},
   "source": [
    "**__________________________________________________________________________________________________________________________**\n",
    "- [ ] **Task 3: Data Splitting**"
   ]
  },
  {
   "cell_type": "code",
   "execution_count": 11,
   "id": "ac86b57f",
   "metadata": {},
   "outputs": [],
   "source": [
    "test_size_list = [0.02, 0.05, 0.1]"
   ]
  },
  {
   "cell_type": "code",
   "execution_count": 12,
   "id": "f2d14551",
   "metadata": {},
   "outputs": [],
   "source": [
    "data_indian = {}\n",
    "for test_size_float in test_size_list:\n",
    "    data_indian['X_train_' + str(test_size_float)], data_indian['X_test_' + str(test_size_float)], \\\n",
    "    data_indian['y_train_' + str(test_size_float)], data_indian['y_test_' + str(test_size_float)] =\\\n",
    "    train_test_split(data_indian_reshaped_ndarray, data_indian_gt_reshaped_ndarray, test_size=\\\n",
    "                     test_size_float, random_state=0)"
   ]
  },
  {
   "cell_type": "code",
   "execution_count": 13,
   "id": "7b4c42bf",
   "metadata": {},
   "outputs": [],
   "source": [
    "data_pavia = {}\n",
    "for test_size_float in test_size_list:\n",
    "    data_pavia['X_train_' + str(test_size_float)], data_pavia['X_test_' + str(test_size_float)], \\\n",
    "    data_pavia['y_train_' + str(test_size_float)], data_pavia['y_test_' + str(test_size_float)] =\\\n",
    "    train_test_split(data_pavia_reshaped_ndarray, data_pavia_gt_reshaped_ndarray, test_size=\\\n",
    "                     test_size_float, random_state=0)"
   ]
  },
  {
   "cell_type": "code",
   "execution_count": 14,
   "id": "7c81b47c",
   "metadata": {},
   "outputs": [],
   "source": [
    "data_paviaU = {}\n",
    "for test_size_float in test_size_list:\n",
    "    data_paviaU['X_train_' + str(test_size_float)], data_paviaU['X_test_' + str(test_size_float)], \\\n",
    "    data_paviaU['y_train_' + str(test_size_float)], data_paviaU['y_test_' + str(test_size_float)] =\\\n",
    "    train_test_split(data_paviaU_reshaped_ndarray, data_paviaU_gt_reshaped_ndarray, test_size=\\\n",
    "                     test_size_float, random_state=0)"
   ]
  },
  {
   "cell_type": "markdown",
   "id": "4159a4f2",
   "metadata": {},
   "source": [
    "- - **Showing the selected splited dataset:**"
   ]
  },
  {
   "cell_type": "code",
   "execution_count": 15,
   "id": "b35c8104",
   "metadata": {},
   "outputs": [
    {
     "name": "stdout",
     "output_type": "stream",
     "text": [
      "Test size: 0.02\n",
      "X_train size: (20604, 200)\n",
      "y_train size: (20604,)\n",
      "X_test size: (421, 200)\n",
      "y_test size: (421,)\n",
      "\n",
      "\n",
      "\n",
      "Test size: 0.05\n",
      "X_train size: (19973, 200)\n",
      "y_train size: (19973,)\n",
      "X_test size: (1052, 200)\n",
      "y_test size: (1052,)\n",
      "\n",
      "\n",
      "\n",
      "Test size: 0.1\n",
      "X_train size: (18922, 200)\n",
      "y_train size: (18922,)\n",
      "X_test size: (2103, 200)\n",
      "y_test size: (2103,)\n",
      "\n",
      "\n",
      "\n"
     ]
    }
   ],
   "source": [
    "data = data_indian\n",
    "for test_size_float in test_size_list:\n",
    "    print(f'Test size: {test_size_float}')\n",
    "    print(f'X_train size: {data[\"X_train_\" + str(test_size_float)].shape}')\n",
    "    print(f'y_train size: {data[\"y_train_\" + str(test_size_float)].shape}')\n",
    "    print(f'X_test size: {data[\"X_test_\" + str(test_size_float)].shape}')\n",
    "    print(f'y_test size: {data[\"y_test_\" + str(test_size_float)].shape}\\n\\n\\n')"
   ]
  },
  {
   "cell_type": "markdown",
   "id": "f7fc5c4e",
   "metadata": {},
   "source": [
    "- [x] **End of Task 3**\n",
    "**__________________________________________________________________________________________________________________________**"
   ]
  },
  {
   "cell_type": "markdown",
   "id": "06874fd6",
   "metadata": {},
   "source": [
    "**__________________________________________________________________________________________________________________________**\n",
    "- [ ] **Task 4: Finding the Best value for the k-fold Parameter for the Indian Pines dataset**\n",
    "- - **Note:** The k-fold (CV) hyperparameter must be: **1 < k-fold < 16**"
   ]
  },
  {
   "cell_type": "markdown",
   "id": "bd67854a",
   "metadata": {},
   "source": [
    "- - **According to the Ex_1:**\n",
    "- - - **Results:**\n",
    "- - - The best k-fold for **test_size_0.02** is **15**\n",
    "- - - The best k-fold for **test_size_0.05** is **12**\n",
    "- - - The best k-fold for **test_size_0.1** is **15**\n",
    "\n",
    "\n",
    "\n",
    "\n",
    "\n",
    "- [x] **End of Task 4**\n",
    "**__________________________________________________________________________________________________________________________**"
   ]
  },
  {
   "cell_type": "markdown",
   "id": "22986057",
   "metadata": {},
   "source": [
    "**__________________________________________________________________________________________________________________________**\n",
    "- [ ] **Task 5:**"
   ]
  },
  {
   "cell_type": "markdown",
   "id": "161cb310",
   "metadata": {},
   "source": [
    "- - **Determining the No. Components Patameter for the KPCA Function in the Indian Pines dataset:**"
   ]
  },
  {
   "cell_type": "markdown",
   "id": "376c6e3e",
   "metadata": {},
   "source": [
    "- - - **According to the Ex_1:**"
   ]
  },
  {
   "cell_type": "markdown",
   "id": "6b7bb083",
   "metadata": {},
   "source": [
    "- - - - n_components for **X_train_0.02** is **99**\n",
    "- - - - n_components for **X_train_0.05** is **99**\n",
    "- - - - n_components for **X_train_0.1** is **99**"
   ]
  },
  {
   "cell_type": "markdown",
   "id": "3e151f52",
   "metadata": {},
   "source": [
    "- [x] **End of Task 5**\n",
    "**__________________________________________________________________________________________________________________________**"
   ]
  },
  {
   "cell_type": "markdown",
   "id": "5b1d4c08",
   "metadata": {},
   "source": [
    "**__________________________________________________________________________________________________________________________**\n",
    "- [ ] **Task 6:**\n",
    "- - **Determining the best hyperparameters for the \"Scaler -> KPCA -> SVM\" pipeline by using Gridsearch algorithm:**"
   ]
  },
  {
   "cell_type": "code",
   "execution_count": 16,
   "id": "c7ac3fe3",
   "metadata": {},
   "outputs": [],
   "source": [
    "scaler = StandardScaler()\n",
    "kpca = KernelPCA(n_components=99, kernel='rbf', gamma=0.05)\n",
    "svc = SVC(kernel='rbf', gamma=0.05, C=1e6)"
   ]
  },
  {
   "cell_type": "code",
   "execution_count": 17,
   "id": "7941166f",
   "metadata": {},
   "outputs": [],
   "source": [
    "clf = make_pipeline(scaler, kpca, svc)"
   ]
  },
  {
   "cell_type": "code",
   "execution_count": 18,
   "id": "750fe569",
   "metadata": {},
   "outputs": [
    {
     "data": {
      "text/plain": [
       "0.7553444180522565"
      ]
     },
     "execution_count": 18,
     "metadata": {},
     "output_type": "execute_result"
    }
   ],
   "source": [
    "test_size = 0.02\n",
    "X_train, y_train = data['X_train_' + str(test_size)], data['y_train_' + str(test_size)]\n",
    "X_test, y_test = data['X_test_' + str(test_size)], data['y_test_' + str(test_size)]\n",
    "clf.fit(X_train, y_train)\n",
    "y_pred = clf.predict(X_test)\n",
    "ov_acc = accuracy_score(y_test, y_pred)\n",
    "ov_acc"
   ]
  },
  {
   "cell_type": "code",
   "execution_count": 19,
   "id": "6e1a44ad",
   "metadata": {},
   "outputs": [],
   "source": [
    "matrix2 = confusion_matrix(y_test, y_pred)\n",
    "kappa2 = cohen_kappa_score(y_test, y_pred)"
   ]
  },
  {
   "cell_type": "code",
   "execution_count": 20,
   "id": "ffc7d7a7",
   "metadata": {},
   "outputs": [
    {
     "data": {
      "text/html": [
       "<div>\n",
       "<style scoped>\n",
       "    .dataframe tbody tr th:only-of-type {\n",
       "        vertical-align: middle;\n",
       "    }\n",
       "\n",
       "    .dataframe tbody tr th {\n",
       "        vertical-align: top;\n",
       "    }\n",
       "\n",
       "    .dataframe thead th {\n",
       "        text-align: right;\n",
       "    }\n",
       "</style>\n",
       "<table border=\"1\" class=\"dataframe\">\n",
       "  <thead>\n",
       "    <tr style=\"text-align: right;\">\n",
       "      <th></th>\n",
       "      <th>Class</th>\n",
       "      <th>Accuracy</th>\n",
       "    </tr>\n",
       "  </thead>\n",
       "  <tbody>\n",
       "    <tr>\n",
       "      <th>0</th>\n",
       "      <td>1</td>\n",
       "      <td>0.834101</td>\n",
       "    </tr>\n",
       "    <tr>\n",
       "      <th>1</th>\n",
       "      <td>2</td>\n",
       "      <td>0.000000</td>\n",
       "    </tr>\n",
       "    <tr>\n",
       "      <th>2</th>\n",
       "      <td>3</td>\n",
       "      <td>0.500000</td>\n",
       "    </tr>\n",
       "    <tr>\n",
       "      <th>3</th>\n",
       "      <td>4</td>\n",
       "      <td>0.714286</td>\n",
       "    </tr>\n",
       "    <tr>\n",
       "      <th>4</th>\n",
       "      <td>5</td>\n",
       "      <td>0.250000</td>\n",
       "    </tr>\n",
       "    <tr>\n",
       "      <th>5</th>\n",
       "      <td>6</td>\n",
       "      <td>0.777778</td>\n",
       "    </tr>\n",
       "    <tr>\n",
       "      <th>6</th>\n",
       "      <td>7</td>\n",
       "      <td>0.812500</td>\n",
       "    </tr>\n",
       "    <tr>\n",
       "      <th>7</th>\n",
       "      <td>8</td>\n",
       "      <td>1.000000</td>\n",
       "    </tr>\n",
       "    <tr>\n",
       "      <th>8</th>\n",
       "      <td>9</td>\n",
       "      <td>0.777778</td>\n",
       "    </tr>\n",
       "    <tr>\n",
       "      <th>9</th>\n",
       "      <td>10</td>\n",
       "      <td>0.700000</td>\n",
       "    </tr>\n",
       "    <tr>\n",
       "      <th>10</th>\n",
       "      <td>11</td>\n",
       "      <td>0.673469</td>\n",
       "    </tr>\n",
       "    <tr>\n",
       "      <th>11</th>\n",
       "      <td>12</td>\n",
       "      <td>0.250000</td>\n",
       "    </tr>\n",
       "    <tr>\n",
       "      <th>12</th>\n",
       "      <td>13</td>\n",
       "      <td>0.857143</td>\n",
       "    </tr>\n",
       "    <tr>\n",
       "      <th>13</th>\n",
       "      <td>14</td>\n",
       "      <td>0.774194</td>\n",
       "    </tr>\n",
       "    <tr>\n",
       "      <th>14</th>\n",
       "      <td>15</td>\n",
       "      <td>0.222222</td>\n",
       "    </tr>\n",
       "    <tr>\n",
       "      <th>15</th>\n",
       "      <td>16</td>\n",
       "      <td>1.000000</td>\n",
       "    </tr>\n",
       "  </tbody>\n",
       "</table>\n",
       "</div>"
      ],
      "text/plain": [
       "    Class  Accuracy\n",
       "0       1  0.834101\n",
       "1       2  0.000000\n",
       "2       3  0.500000\n",
       "3       4  0.714286\n",
       "4       5  0.250000\n",
       "5       6  0.777778\n",
       "6       7  0.812500\n",
       "7       8  1.000000\n",
       "8       9  0.777778\n",
       "9      10  0.700000\n",
       "10     11  0.673469\n",
       "11     12  0.250000\n",
       "12     13  0.857143\n",
       "13     14  0.774194\n",
       "14     15  0.222222\n",
       "15     16  1.000000"
      ]
     },
     "execution_count": 20,
     "metadata": {},
     "output_type": "execute_result"
    }
   ],
   "source": [
    "acc_for_each_class2 = matrix2.diagonal()/matrix2.sum(axis=1)\n",
    "df_result2 = pd.DataFrame({'Class': range(1, 17), 'Accuracy': acc_for_each_class2})\n",
    "df_result2"
   ]
  },
  {
   "cell_type": "code",
   "execution_count": 21,
   "id": "857eb4df",
   "metadata": {},
   "outputs": [
    {
     "data": {
      "text/html": [
       "<div>\n",
       "<style scoped>\n",
       "    .dataframe tbody tr th:only-of-type {\n",
       "        vertical-align: middle;\n",
       "    }\n",
       "\n",
       "    .dataframe tbody tr th {\n",
       "        vertical-align: top;\n",
       "    }\n",
       "\n",
       "    .dataframe thead th {\n",
       "        text-align: right;\n",
       "    }\n",
       "</style>\n",
       "<table border=\"1\" class=\"dataframe\">\n",
       "  <thead>\n",
       "    <tr style=\"text-align: right;\">\n",
       "      <th></th>\n",
       "      <th>Overall Accuracy</th>\n",
       "      <th>κ</th>\n",
       "    </tr>\n",
       "  </thead>\n",
       "  <tbody>\n",
       "    <tr>\n",
       "      <th>0</th>\n",
       "      <td>0.755344</td>\n",
       "      <td>0.64625</td>\n",
       "    </tr>\n",
       "  </tbody>\n",
       "</table>\n",
       "</div>"
      ],
      "text/plain": [
       "   Overall Accuracy        κ\n",
       "0          0.755344  0.64625"
      ]
     },
     "execution_count": 21,
     "metadata": {},
     "output_type": "execute_result"
    }
   ],
   "source": [
    "df_result2 = pd.DataFrame({'Overall Accuracy': ov_acc, '\\u03BA': kappa2}, index=[0])\n",
    "df_result2"
   ]
  },
  {
   "cell_type": "markdown",
   "id": "ad49c313",
   "metadata": {},
   "source": [
    "- - - **Gridsearch Results for Test_size=0.02 (According to the Ex_1):**\n",
    "- - - - The Best Type of **Kernel** is **RBF**\n",
    "- - - - The Best Value for $\\gamma$ is **0.05**\n",
    "- - - - The Best Value for Regularization Parameter (C or $\\lambda$) is $10^6$\n",
    "\n",
    "\n",
    "- [x] **End of Task 6**\n",
    "**_______________________________________________________________________________________________________________________**"
   ]
  },
  {
   "cell_type": "markdown",
   "id": "5fb8a374",
   "metadata": {},
   "source": [
    "- - **Result of the determined hyperparameters for the \"Scaler -> PCA -> SVM\" pipeline:**"
   ]
  },
  {
   "cell_type": "code",
   "execution_count": 58,
   "id": "775d4231",
   "metadata": {},
   "outputs": [],
   "source": [
    "test_size = 0.02\n",
    "X_train, y_train, X_test, y_test = data['X_train_' + str(test_size)], data['y_train_' + str(test_size)], \\\n",
    "data['X_test_' + str(test_size)], data['y_test_' + str(test_size)]"
   ]
  },
  {
   "cell_type": "code",
   "execution_count": 67,
   "id": "488ad16c",
   "metadata": {},
   "outputs": [],
   "source": [
    "scaler = StandardScaler()\n",
    "pca = PCA(n_components=99)\n",
    "svc = SVC(kernel='rbf', gamma=0.05, C=1e6)\n",
    "\n",
    "clf = make_pipeline(scaler, pca, svc)\n",
    "clf.fit(X_train, y_train)\n",
    "y_pred = clf.predict(X_test)\n",
    "ov_acc = accuracy_score(y_test, y_pred)\n",
    "matrix = confusion_matrix(y_test, y_pred)\n",
    "kappa = cohen_kappa_score(y_test, y_pred)"
   ]
  },
  {
   "cell_type": "code",
   "execution_count": 68,
   "id": "7305e62b",
   "metadata": {},
   "outputs": [
    {
     "data": {
      "text/html": [
       "<div>\n",
       "<style scoped>\n",
       "    .dataframe tbody tr th:only-of-type {\n",
       "        vertical-align: middle;\n",
       "    }\n",
       "\n",
       "    .dataframe tbody tr th {\n",
       "        vertical-align: top;\n",
       "    }\n",
       "\n",
       "    .dataframe thead th {\n",
       "        text-align: right;\n",
       "    }\n",
       "</style>\n",
       "<table border=\"1\" class=\"dataframe\">\n",
       "  <thead>\n",
       "    <tr style=\"text-align: right;\">\n",
       "      <th></th>\n",
       "      <th>Class</th>\n",
       "      <th>Accuracy</th>\n",
       "    </tr>\n",
       "  </thead>\n",
       "  <tbody>\n",
       "    <tr>\n",
       "      <th>0</th>\n",
       "      <td>1</td>\n",
       "      <td>0.907834</td>\n",
       "    </tr>\n",
       "    <tr>\n",
       "      <th>1</th>\n",
       "      <td>2</td>\n",
       "      <td>0.000000</td>\n",
       "    </tr>\n",
       "    <tr>\n",
       "      <th>2</th>\n",
       "      <td>3</td>\n",
       "      <td>0.750000</td>\n",
       "    </tr>\n",
       "    <tr>\n",
       "      <th>3</th>\n",
       "      <td>4</td>\n",
       "      <td>0.857143</td>\n",
       "    </tr>\n",
       "    <tr>\n",
       "      <th>4</th>\n",
       "      <td>5</td>\n",
       "      <td>0.500000</td>\n",
       "    </tr>\n",
       "    <tr>\n",
       "      <th>5</th>\n",
       "      <td>6</td>\n",
       "      <td>0.777778</td>\n",
       "    </tr>\n",
       "    <tr>\n",
       "      <th>6</th>\n",
       "      <td>7</td>\n",
       "      <td>0.812500</td>\n",
       "    </tr>\n",
       "    <tr>\n",
       "      <th>7</th>\n",
       "      <td>8</td>\n",
       "      <td>1.000000</td>\n",
       "    </tr>\n",
       "    <tr>\n",
       "      <th>8</th>\n",
       "      <td>9</td>\n",
       "      <td>1.000000</td>\n",
       "    </tr>\n",
       "    <tr>\n",
       "      <th>9</th>\n",
       "      <td>10</td>\n",
       "      <td>0.833333</td>\n",
       "    </tr>\n",
       "    <tr>\n",
       "      <th>10</th>\n",
       "      <td>11</td>\n",
       "      <td>0.795918</td>\n",
       "    </tr>\n",
       "    <tr>\n",
       "      <th>11</th>\n",
       "      <td>12</td>\n",
       "      <td>0.625000</td>\n",
       "    </tr>\n",
       "    <tr>\n",
       "      <th>12</th>\n",
       "      <td>13</td>\n",
       "      <td>1.000000</td>\n",
       "    </tr>\n",
       "    <tr>\n",
       "      <th>13</th>\n",
       "      <td>14</td>\n",
       "      <td>0.612903</td>\n",
       "    </tr>\n",
       "    <tr>\n",
       "      <th>14</th>\n",
       "      <td>15</td>\n",
       "      <td>0.111111</td>\n",
       "    </tr>\n",
       "    <tr>\n",
       "      <th>15</th>\n",
       "      <td>16</td>\n",
       "      <td>0.666667</td>\n",
       "    </tr>\n",
       "  </tbody>\n",
       "</table>\n",
       "</div>"
      ],
      "text/plain": [
       "    Class  Accuracy\n",
       "0       1  0.907834\n",
       "1       2  0.000000\n",
       "2       3  0.750000\n",
       "3       4  0.857143\n",
       "4       5  0.500000\n",
       "5       6  0.777778\n",
       "6       7  0.812500\n",
       "7       8  1.000000\n",
       "8       9  1.000000\n",
       "9      10  0.833333\n",
       "10     11  0.795918\n",
       "11     12  0.625000\n",
       "12     13  1.000000\n",
       "13     14  0.612903\n",
       "14     15  0.111111\n",
       "15     16  0.666667"
      ]
     },
     "execution_count": 68,
     "metadata": {},
     "output_type": "execute_result"
    }
   ],
   "source": [
    "acc_for_each_class = matrix.diagonal()/matrix.sum(axis=1)\n",
    "df_result1 = pd.DataFrame({'Class': range(1, 17), 'Accuracy': acc_for_each_class})\n",
    "df_result1"
   ]
  },
  {
   "cell_type": "code",
   "execution_count": 70,
   "id": "29c17d73",
   "metadata": {},
   "outputs": [
    {
     "data": {
      "text/html": [
       "<div>\n",
       "<style scoped>\n",
       "    .dataframe tbody tr th:only-of-type {\n",
       "        vertical-align: middle;\n",
       "    }\n",
       "\n",
       "    .dataframe tbody tr th {\n",
       "        vertical-align: top;\n",
       "    }\n",
       "\n",
       "    .dataframe thead th {\n",
       "        text-align: right;\n",
       "    }\n",
       "</style>\n",
       "<table border=\"1\" class=\"dataframe\">\n",
       "  <thead>\n",
       "    <tr style=\"text-align: right;\">\n",
       "      <th></th>\n",
       "      <th>Overall Accuracy</th>\n",
       "      <th>κ</th>\n",
       "    </tr>\n",
       "  </thead>\n",
       "  <tbody>\n",
       "    <tr>\n",
       "      <th>0</th>\n",
       "      <td>0.828979</td>\n",
       "      <td>0.747827</td>\n",
       "    </tr>\n",
       "  </tbody>\n",
       "</table>\n",
       "</div>"
      ],
      "text/plain": [
       "   Overall Accuracy         κ\n",
       "0          0.828979  0.747827"
      ]
     },
     "execution_count": 70,
     "metadata": {},
     "output_type": "execute_result"
    }
   ],
   "source": [
    "df_result2 = pd.DataFrame({'Overall Accuracy': ov_acc, '\\u03BA': kappa}, index=[0])\n",
    "df_result2"
   ]
  },
  {
   "cell_type": "markdown",
   "id": "fb610558",
   "metadata": {},
   "source": [
    "- - **Conclusion:**\n",
    "- - - By using KernelPCA the overall accuracy decreases afew."
   ]
  },
  {
   "cell_type": "markdown",
   "id": "238700e4",
   "metadata": {},
   "source": [
    "**_____________________________________________________________________________________________________________________**"
   ]
  },
  {
   "cell_type": "markdown",
   "id": "4b8b2ad2",
   "metadata": {},
   "source": [
    "- **Resources:**\n",
    "**_____________________________________________________________________________________________________________________**\n",
    "- -  [**Indian Pines Hyperspectral Dataset from \"Hyperspectral Remote Sensing Scenes\"**](https://www.ehu.eus/ccwintco/index.php/Hyperspectral_Remote_Sensing_Scenes#Indian_Pines)\n",
    "- - [**Dataset Splitting to Train and Test Data from \"sklearn\"**](https://scikit-learn.org/stable/modules/generated/sklearn.model_selection.train_test_split.html?highlight=sklearn+model_selection+train_test#sklearn.model_selection.train_test_split)\n",
    "- - [**Determine the best k-fold for each splitted data:**](https://scikit-learn.org/stable/modules/cross_validation.html?highlight=k+fold)\n",
    "- - [**Applying the \"PCA -> SVM\" Pipeline**](https://scikit-learn.org/stable/modules/svm.html#svm-classification)\n",
    "- - [**Calculation of Accuracy:**](https://scikit-learn.org/stable/modules/model_evaluation.html?highlight=accuracy)\n",
    "- - - [**Kappa score**](https://scikit-learn.org/stable/modules/model_evaluation.html#cohen-kappa)\n",
    "- - - [**k-fold CV**](https://scikit-learn.org/stable/modules/cross_validation.html?highlight=k+fold)\n",
    "- - - [**Accuracy for each class from StackOverflow**](https://stackoverflow.com/questions/39770376/scikit-learn-get-accuracy-scores-for-each-class)\n",
    "- - - [**Hyperparameters:**](https://scikit-learn.org/stable/modules/cross_validation.html?highlight=k+fold)\n",
    "- - - - **Finding _C, k-fold(CV), kernel and degree_ by using [Gridsearch_1](https://scikit-learn.org/stable/tutorial/statistical_inference/putting_together.html), [Gridsearch_2](https://scikit-learn.org/stable/modules/generated/sklearn.model_selection.GridSearchCV.html)**\n",
    "- - - [**KernelPCA**](https://scikit-learn.org/stable/modules/generated/sklearn.decomposition.KernelPCA.html)\n",
    "**_____________________________________________________________________________________________________________________**"
   ]
  }
 ],
 "metadata": {
  "kernelspec": {
   "display_name": "Python 3 (ipykernel)",
   "language": "python",
   "name": "python3"
  },
  "language_info": {
   "codemirror_mode": {
    "name": "ipython",
    "version": 3
   },
   "file_extension": ".py",
   "mimetype": "text/x-python",
   "name": "python",
   "nbconvert_exporter": "python",
   "pygments_lexer": "ipython3",
   "version": "3.10.4"
  }
 },
 "nbformat": 4,
 "nbformat_minor": 5
}
