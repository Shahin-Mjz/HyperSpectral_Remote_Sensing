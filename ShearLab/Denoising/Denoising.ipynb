{
 "cells": [
  {
   "cell_type": "code",
   "execution_count": 138,
   "id": "d875294b",
   "metadata": {},
   "outputs": [],
   "source": [
    "import os\n",
    "import pyshearlab\n",
    "import pyshearlab\n",
    "import numpy as np\n",
    "from time import time\n",
    "import pymatreader as pymat\n",
    "from termcolor import colored\n",
    "import matplotlib.pyplot as plt\n",
    "from sklearn.model_selection import train_test_split"
   ]
  },
  {
   "cell_type": "code",
   "execution_count": 2,
   "id": "7a09c79e",
   "metadata": {},
   "outputs": [],
   "source": [
    "path_str = os.getcwd()\n",
    "data_name_str, gt_name_str = 'Majazi1.mat', 'Majazi1_gt.mat'\n",
    "path_data_str, path_gt_str = os.path.join(path_str, data_name_str), os.path.join(path_str, gt_name_str)"
   ]
  },
  {
   "cell_type": "code",
   "execution_count": 3,
   "id": "9ccdd886",
   "metadata": {},
   "outputs": [],
   "source": [
    "data = pymat.read_mat(path_data_str)['Botswana']\n",
    "data_gt = pymat.read_mat(path_gt_str)['Botswana_gt']"
   ]
  },
  {
   "cell_type": "markdown",
   "id": "e664145a",
   "metadata": {},
   "source": [
    "$\\newline$\n",
    "$\\newline$\n",
    "- [ ] <a name=''>$\\bf{\\text{Task 1:}}$</a>\n",
    "$\\newline$\n",
    "$\\newline$"
   ]
  },
  {
   "cell_type": "markdown",
   "id": "5ca7cf45",
   "metadata": {},
   "source": [
    "$\\newline$\n",
    "$\\newline$\n",
    "- - <a name=''>$\\bf{\\text{Backgroun Removing}}$</a>\n",
    "$\\newline$\n",
    "$\\newline$"
   ]
  },
  {
   "cell_type": "code",
   "execution_count": 4,
   "id": "41436aa5",
   "metadata": {},
   "outputs": [],
   "source": [
    "def BG_removal(data_3D: np.ndarray, data_gt_2D: np.ndarray) -> (np.ndarray, np.ndarray):\n",
    "    data_copy = data_3D.copy()\n",
    "    gt_copy = data_gt_2D.copy()\n",
    "    \n",
    "    data_reshaped = data_copy.reshape((data_copy.shape[0] * data_copy.shape[1], data_copy.shape[2]))\n",
    "    gt_reshaped = gt_copy.ravel()\n",
    "    classes_unique = np.unique(gt_reshaped)\n",
    "    new_data = data_reshaped[gt_reshaped != 0]\n",
    "    new_gt = gt_reshaped[gt_reshaped != 0]\n",
    "    \n",
    "    return new_data, new_gt"
   ]
  },
  {
   "cell_type": "code",
   "execution_count": 5,
   "id": "7eed7166",
   "metadata": {},
   "outputs": [
    {
     "name": "stdout",
     "output_type": "stream",
     "text": [
      "\n",
      "Number of Bands: \u001b[34m145\u001b[0m\n",
      "\n"
     ]
    }
   ],
   "source": [
    "data_without_BG, gt_without_BG = BG_removal(data_3D=data, data_gt_2D=data_gt)\n",
    "D = data_without_BG.shape[1]\n",
    "print(f'\\nNumber of Bands: {colored(D, \"blue\")}\\n')"
   ]
  },
  {
   "cell_type": "code",
   "execution_count": 6,
   "id": "9d837b6c",
   "metadata": {},
   "outputs": [
    {
     "name": "stdout",
     "output_type": "stream",
     "text": [
      "\n",
      "Shape of the BG_removed Data: \u001b[34m(3248, 145)\u001b[0m\n",
      "\n",
      " ... and its \u001b[34mData Type\u001b[0m: \u001b[32muint16\u001b[0m\n",
      "\n",
      "\n",
      "\n",
      "Shape of the BG_removed GT: \u001b[34m(3248,)\u001b[0m\n",
      "\n",
      " ... and its \u001b[34mData Type\u001b[0m: \u001b[32muint8\u001b[0m\n",
      "\n"
     ]
    }
   ],
   "source": [
    "print(f'\\nShape of the BG_removed Data: {colored(data_without_BG.shape, \"blue\")}\\n')\n",
    "print(f' ... and its {colored(\"Data Type\", \"blue\")}: {colored(data_without_BG.dtype, \"green\")}\\n\\n')\n",
    "print(f'\\nShape of the BG_removed GT: {colored(gt_without_BG.shape, \"blue\")}\\n')\n",
    "print(f' ... and its {colored(\"Data Type\", \"blue\")}: {colored(gt_without_BG.dtype, \"green\")}\\n')"
   ]
  },
  {
   "cell_type": "markdown",
   "id": "9c8fb3cc",
   "metadata": {},
   "source": [
    "$\\newline$\n",
    "$\\newline$\n",
    "- [x] <a name=''>$\\bf{\\text{End of the Task 1}}$</a>\n",
    "$\\newline$\n",
    "$\\newline$"
   ]
  },
  {
   "cell_type": "markdown",
   "id": "8a46123f",
   "metadata": {},
   "source": [
    "$\\newline$\n",
    "$\\newline$\n",
    "- [ ] <a name=''>$\\bf{\\text{Task 2:}}$</a>\n",
    "$\\newline$\n",
    "$\\newline$"
   ]
  },
  {
   "cell_type": "markdown",
   "id": "54b74a16",
   "metadata": {},
   "source": [
    "$\\newline$\n",
    "$\\newline$\n",
    "- - <a name=''>$\\bf{\\text{Data Separatting}}$</a>\n",
    "$\\newline$\n",
    "$\\newline$"
   ]
  },
  {
   "cell_type": "code",
   "execution_count": 7,
   "id": "f3aadcef",
   "metadata": {},
   "outputs": [],
   "source": [
    "def class_separator(X: np.ndarray, y: np.ndarray) -> dict:\n",
    "    \n",
    "    unique_labels = np.unique(y)\n",
    "    total_data = {}\n",
    "    for class_name in unique_labels:\n",
    "        total_data[str(class_name)], total_data[str(class_name) + '_label'] = \\\n",
    "        X[y == class_name], y[y == class_name]\n",
    "        \n",
    "        \n",
    "    return total_data\n",
    "\n",
    "\n",
    "\n",
    "def train_test_for_each_class(X: np.ndarray, y: np.ndarray, train_size_float: float) -> (dict, dict):\n",
    "    \n",
    "    splitter = train_test_split\n",
    "    data = class_separator(X, y)\n",
    "    num_classes = int(len(data) / 2)\n",
    "    train_data, test_data = {}, {}\n",
    "    for class_name in range(1, num_classes + 1):\n",
    "        train_data[str(class_name)], test_data[str(class_name)], train_data[str(class_name) + '_label'], \\\n",
    "        test_data[str(class_name) + '_label'] = splitter(data[str(class_name)], \\\n",
    "                                            data[str(class_name) + '_label'], train_size=train_size_float, \\\n",
    "                                                        shuffle=True, random_state=0)\n",
    "        \n",
    "    return train_data, test_data\n",
    "\n",
    "\n",
    "def train_test_splitter(X: np.ndarray, y: np.ndarray, train_size_floatt: float) -> \\\n",
    "(np.ndarray, np.ndarray, np.ndarray, np.ndarray):\n",
    "    \n",
    "    data_train, data_test = train_test_for_each_class(X, y, train_size_floatt)\n",
    "    keys = list(data_train.keys())\n",
    "    X_train, X_test, y_train, y_test = data_train[keys[0]], \\\n",
    "    data_test[keys[0]], data_train[keys[1]], data_test[keys[1]]\n",
    "    \n",
    "    re_keys = keys[2:]\n",
    "    n = int(len(re_keys) / 2)\n",
    "    for i in range(n):\n",
    "        X_train, X_test, y_train, y_test = np.concatenate((X_train, data_train[re_keys[2*i]]), axis=0), \\\n",
    "        np.concatenate((X_test, data_test[re_keys[2*i]]), axis=0), \\\n",
    "        np.concatenate((y_train, data_train[re_keys[2*i + 1]])), \\\n",
    "        np.concatenate((y_test, data_test[re_keys[2*i + 1]]))\n",
    "        \n",
    "    \n",
    "    return X_train, X_test, y_train, y_test"
   ]
  },
  {
   "cell_type": "code",
   "execution_count": 8,
   "id": "371de206",
   "metadata": {},
   "outputs": [],
   "source": [
    "train_size_list = [0.1]\n",
    "data = {}\n",
    "for train_size_float in train_size_list: data['X_train_' + str(train_size_float)], \\\n",
    "    data['X_test_' + \\\n",
    "    str(train_size_float)], data['y_train_' + str(train_size_float)], \\\n",
    "    data['y_test_' + str(train_size_float)] = \\\n",
    "    train_test_splitter(data_without_BG, gt_without_BG, train_size_floatt=train_size_float)\n",
    "#     train_test_split(data_without_BG, gt_without_BG, train_size=train_size_float, \\\n",
    "#                     shuffle=True, random_state=0)"
   ]
  },
  {
   "cell_type": "code",
   "execution_count": 9,
   "id": "0577d80f",
   "metadata": {},
   "outputs": [],
   "source": [
    "train_size = 0.1\n",
    "X_train, X_test, y_train, y_test = data['X_train_' + str(train_size)], data['X_test_' + str(train_size)], \\\n",
    "data['y_train_' + str(train_size)], data['y_test_' + str(train_size)]"
   ]
  },
  {
   "cell_type": "code",
   "execution_count": 10,
   "id": "09a6025c",
   "metadata": {},
   "outputs": [
    {
     "name": "stdout",
     "output_type": "stream",
     "text": [
      "\n",
      "Shape of the \u001b[32mX_train\u001b[0m: \u001b[34m(318, 145)\u001b[0m\n",
      "\n",
      "Shape of the \u001b[32my_train\u001b[0m: \u001b[34m(318,)\u001b[0m\n",
      "\n",
      "\n",
      "\n",
      "Shape of the \u001b[32mX_test\u001b[0m: \u001b[34m(2930, 145)\u001b[0m\n",
      "\n",
      "Shape of the \u001b[32my_test\u001b[0m: \u001b[34m(2930,)\u001b[0m\n",
      "\n"
     ]
    }
   ],
   "source": [
    "print(f'\\nShape of the {colored(\"X_train\", \"green\")}: {colored(X_train.shape, \"blue\")}\\n')\n",
    "print(f'Shape of the {colored(\"y_train\", \"green\")}: {colored(y_train.shape, \"blue\")}\\n\\n')\n",
    "print(f'\\nShape of the {colored(\"X_test\", \"green\")}: {colored(X_test.shape, \"blue\")}\\n')\n",
    "print(f'Shape of the {colored(\"y_test\", \"green\")}: {colored(y_test.shape, \"blue\")}\\n')"
   ]
  },
  {
   "cell_type": "markdown",
   "id": "0cb623f9",
   "metadata": {},
   "source": [
    "$\\newline$\n",
    "$\\newline$\n",
    "- [x] <a name=''>$\\bf{\\text{End of the Task 2}}$</a>\n",
    "$\\newline$\n",
    "$\\newline$"
   ]
  },
  {
   "cell_type": "markdown",
   "id": "2ca414ae",
   "metadata": {},
   "source": [
    "$\\newline$\n",
    "$\\newline$\n",
    "- [ ] <a name=''>$\\bf{\\text{Task 3:}}$</a>\n",
    "$\\newline$\n",
    "$\\newline$"
   ]
  },
  {
   "cell_type": "markdown",
   "id": "81bf690b",
   "metadata": {},
   "source": [
    "$\\newline$\n",
    "$\\newline$\n",
    "- - <a name=''>$\\bf{\\text{Creating Noisy Data}}$</a>\n",
    "$\\newline$\n",
    "$\\newline$"
   ]
  },
  {
   "cell_type": "code",
   "execution_count": 11,
   "id": "40894ea5",
   "metadata": {},
   "outputs": [],
   "source": [
    "import matplotlib.pyplot as plt\n",
    "from skimage.util import random_noise\n",
    "from skimage.metrics import peak_signal_noise_ratio, mean_squared_error"
   ]
  },
  {
   "cell_type": "code",
   "execution_count": 12,
   "id": "c8131259",
   "metadata": {},
   "outputs": [],
   "source": [
    "def min_max_scaler(input_img: np.ndarray, data_range: tuple=(0, 1)) -> np.ndarray:\n",
    "    img = input_img.copy()\n",
    "    a, b = data_range[0], data_range[1]\n",
    "    img = (img - img.min()) / (img.max() - img.min())\n",
    "    img *= (b - a)\n",
    "    img += a\n",
    "    return img"
   ]
  },
  {
   "cell_type": "code",
   "execution_count": 13,
   "id": "6dc42806",
   "metadata": {},
   "outputs": [],
   "source": [
    "data = pymat.read_mat(path_data_str)['Botswana']\n",
    "data_gt = pymat.read_mat(path_gt_str)['Botswana_gt']"
   ]
  },
  {
   "cell_type": "code",
   "execution_count": 14,
   "id": "4f499d08",
   "metadata": {},
   "outputs": [],
   "source": [
    "data_without_BG, gt_without_BG = BG_removal(data_3D=data, data_gt_2D=data_gt)"
   ]
  },
  {
   "cell_type": "code",
   "execution_count": 15,
   "id": "92c944e2",
   "metadata": {},
   "outputs": [
    {
     "name": "stdout",
     "output_type": "stream",
     "text": [
      "\n",
      "Shape of BG_removed Data: \u001b[34m(3248, 145)\u001b[0m\n",
      "\n",
      " ... and its Data Type: \u001b[34muint16\u001b[0m\n",
      "\n",
      "\n",
      "Shape of BG_removed GT: \u001b[34m(3248,)\u001b[0m\n",
      "\n",
      " ... and its Data Type: \u001b[34muint8\u001b[0m\n",
      "\n"
     ]
    }
   ],
   "source": [
    "print(f'\\nShape of BG_removed Data: {colored(data_without_BG.shape, \"blue\")}\\n')\n",
    "print(f' ... and its Data Type: {colored(data_without_BG.dtype, \"blue\")}\\n')\n",
    "print(f'\\nShape of BG_removed GT: {colored(gt_without_BG.shape, \"blue\")}\\n')\n",
    "print(f' ... and its Data Type: {colored(gt_without_BG.dtype, \"blue\")}\\n')"
   ]
  },
  {
   "cell_type": "code",
   "execution_count": 16,
   "id": "6b448c59",
   "metadata": {},
   "outputs": [],
   "source": [
    "scaler = min_max_scaler\n",
    "data_scaled, gt_scaled = scaler(data_without_BG), gt_without_BG"
   ]
  },
  {
   "cell_type": "code",
   "execution_count": 17,
   "id": "8babfb6a",
   "metadata": {},
   "outputs": [
    {
     "name": "stdout",
     "output_type": "stream",
     "text": [
      "\n",
      "Shape of Scaled Data: \u001b[34m(3248, 145)\u001b[0m\n",
      "\n",
      " ... and its Data Type: \u001b[34mfloat64\u001b[0m\n",
      "\n",
      "\n",
      "Shape of Scaled GT: \u001b[34m(3248,)\u001b[0m\n",
      "\n",
      " ... and its Data Type: \u001b[34muint8\u001b[0m\n",
      "\n"
     ]
    }
   ],
   "source": [
    "print(f'\\nShape of Scaled Data: {colored(data_scaled.shape, \"blue\")}\\n')\n",
    "print(f' ... and its Data Type: {colored(data_scaled.dtype, \"blue\")}\\n')\n",
    "print(f'\\nShape of Scaled GT: {colored(gt_scaled.shape, \"blue\")}\\n')\n",
    "print(f' ... and its Data Type: {colored(gt_scaled.dtype, \"blue\")}\\n')"
   ]
  },
  {
   "cell_type": "markdown",
   "id": "3e6971c2",
   "metadata": {},
   "source": [
    "- - - <a name=''>${\\bf{\\text{Poisson Noise:}}}$</a>"
   ]
  },
  {
   "cell_type": "code",
   "execution_count": 18,
   "id": "184b3298",
   "metadata": {},
   "outputs": [],
   "source": [
    "# np.random.seed(0)\n",
    "# lamb = 0.0001\n",
    "# N = np.random.poisson(lam=lamb, size=(shape[0], shape[1]))\n",
    "# N = N.astype(np.float64)\n",
    "# print(f'\\nShape of the {colored(\"Poisson Noise\", \"blue\")}: {N.shape}')\n",
    "# print(f'\\n ... and its Data Type: {colored(N.dtype, \"blue\")}\\n\\n')\n",
    "\n",
    "# print(f'\\nMean(\\u03BB) of the {colored(\"Poisson Noise\", \"blue\")}: {N.mean(): 0.4f}\\n')\n",
    "# print(f'\\nVar(\\u03BB) of the {colored(\"Poisson Noise\", \"blue\")}: {N.var(): 0.4f}\\n')\n",
    "# print(f'\\nMin of the {colored(\"Poisson Noise\", \"blue\")}: {N.min(): 0.4f}\\n')\n",
    "# print(f'\\nMax of the {colored(\"Poisson Noise\", \"blue\")}: {N.max(): 0.4f}\\n')"
   ]
  },
  {
   "cell_type": "markdown",
   "id": "7255221a",
   "metadata": {},
   "source": [
    "- - - <a name=''>${\\bf{\\text{Spike Noise:}}}$</a>"
   ]
  },
  {
   "cell_type": "code",
   "execution_count": null,
   "id": "bae9ff36",
   "metadata": {},
   "outputs": [],
   "source": []
  },
  {
   "cell_type": "markdown",
   "id": "52cd1bb3",
   "metadata": {},
   "source": [
    "- - - <a name=''>${\\bf{\\text{Gaussian Noise:}}}$</a>"
   ]
  },
  {
   "cell_type": "code",
   "execution_count": 19,
   "id": "d40ed2e7",
   "metadata": {},
   "outputs": [],
   "source": [
    "# mu = 0\n",
    "# sigma_2 = 0.001\n",
    "# data_gaussian_noisy, gt_gaussian_noisy = random_noise(image=data_scaled, mode='gaussian', \\\n",
    "#                                                       seed=0, var=sigma_2, mean=mu), gt_scaled\n",
    "# print(f'\\nShape of the Gaussian Noisy Data: {colored(data_gaussian_noisy.shape, \"blue\")}')\n",
    "# print(f'\\n ... and its Data Type: {colored(data_gaussian_noisy.dtype, \"blue\")}\\n')"
   ]
  },
  {
   "cell_type": "code",
   "execution_count": 18,
   "id": "ecc25c2b",
   "metadata": {},
   "outputs": [],
   "source": [
    "mu, sigma = 0, 0.01\n",
    "shape = data_scaled.shape\n",
    "N = sigma * np.random.randn(shape[0], shape[1]) + mu"
   ]
  },
  {
   "cell_type": "code",
   "execution_count": 19,
   "id": "284ec122",
   "metadata": {},
   "outputs": [
    {
     "name": "stdout",
     "output_type": "stream",
     "text": [
      "\n",
      "Shape of the Gaussian Noisy Data: \u001b[34m(3248, 145)\u001b[0m\n",
      "\n",
      " ... and its Data Type: \u001b[34mfloat64\u001b[0m\n",
      "\n",
      "\n",
      "\n",
      "\n",
      "\u001b[34mMean\u001b[0m of the \u001b[34mGaussian Noisy Data\u001b[0m:  0.165\n",
      "\n",
      "\u001b[34mMean\u001b[0m of the \u001b[34mData\u001b[0m:  0.165\n",
      "\n",
      "\u001b[34mMean\u001b[0m of the \u001b[34mNoise\u001b[0m:  0.000\n",
      "\n",
      "\n",
      "\n",
      "\n",
      "\u001b[34mVar\u001b[0m of the \u001b[34mGaussian Noisy Data\u001b[0m:  0.0216\n",
      "\n",
      "\u001b[34mVar\u001b[0m of the \u001b[34mData\u001b[0m:  0.0215\n",
      "\n",
      "\u001b[34mVar\u001b[0m of the \u001b[34mNoise\u001b[0m:  0.0001\n",
      "\n"
     ]
    }
   ],
   "source": [
    "np.random.seed(0)\n",
    "data_gaussian_noisy, gt_gaussian_noisy = data_scaled + N, gt_scaled\n",
    "\n",
    "print(f'\\nShape of the Gaussian Noisy Data: {colored(data_gaussian_noisy.shape, \"blue\")}')\n",
    "print(f'\\n ... and its Data Type: {colored(data_gaussian_noisy.dtype, \"blue\")}\\n\\n\\n')\n",
    "\n",
    "print(f'\\n{colored(\"Mean\", \"blue\")} of the {colored(\"Gaussian Noisy Data\", \"blue\")}: \\\n",
    "{data_gaussian_noisy.mean(): 0.3f}')\n",
    "print(f'\\n{colored(\"Mean\", \"blue\")} of the {colored(\"Data\", \"blue\")}: {data_scaled.mean(): 0.3f}')\n",
    "print(f'\\n{colored(\"Mean\", \"blue\")} of the {colored(\"Noise\", \"blue\")}: {N.mean(): 0.3f}\\n\\n\\n')\n",
    "\n",
    "print(f'\\n{colored(\"Var\", \"blue\")} of the {colored(\"Gaussian Noisy Data\", \"blue\")}: \\\n",
    "{data_gaussian_noisy.var(): 0.4f}')\n",
    "print(f'\\n{colored(\"Var\", \"blue\")} of the {colored(\"Data\", \"blue\")}: {data_scaled.var(): 0.4f}')\n",
    "print(f'\\n{colored(\"Var\", \"blue\")} of the {colored(\"Noise\", \"blue\")}: {N.var(): 0.4f}\\n')"
   ]
  },
  {
   "cell_type": "code",
   "execution_count": 20,
   "id": "3091ada7",
   "metadata": {},
   "outputs": [
    {
     "data": {
      "image/png": "[encoded data removed]",
      "text/plain": [
       "<Figure size 640x480 with 2 Axes>"
      ]
     },
     "metadata": {},
     "output_type": "display_data"
    }
   ],
   "source": [
    "plt.figure(1, )\n",
    "plt.subplot(1, 2, 1), plt.imshow(data_scaled[:200]), plt.axis('off'), \\\n",
    "plt.title('Original Data', fontsize=10)\n",
    "plt.subplot(1, 2, 2, ), plt.imshow(data_gaussian_noisy[:200]), plt.axis('off'), \\\n",
    "plt.title(f'Data + N({mu}, {sigma**2})', fontsize=10)\n",
    "plt.show()"
   ]
  },
  {
   "cell_type": "markdown",
   "id": "5467f818",
   "metadata": {},
   "source": [
    "$\\newline$\n",
    "$\\newline$\n",
    "- [x] <a name=''>$\\bf{\\text{End of the Task 3}}$</a>\n",
    "$\\newline$\n",
    "$\\newline$"
   ]
  },
  {
   "cell_type": "markdown",
   "id": "50f2f8fe",
   "metadata": {},
   "source": [
    "$\\newline$\n",
    "$\\newline$\n",
    "- [ ] <a name=''>$\\bf{\\text{Task 4:}}$</a>\n",
    "$\\newline$\n",
    "$\\newline$"
   ]
  },
  {
   "cell_type": "markdown",
   "id": "8142b8c7",
   "metadata": {},
   "source": [
    "- - <a name=''>${\\bf{\\text{Denoising}}}$</a>"
   ]
  },
  {
   "cell_type": "markdown",
   "id": "f7d24bee",
   "metadata": {},
   "source": [
    "- - - <a name=''>${\\bf{\\text{Estimating the Variance of the Additive Noise:}}}$</a>"
   ]
  },
  {
   "cell_type": "markdown",
   "id": "62a68dd0",
   "metadata": {},
   "source": [
    "$\\newline$\n",
    "$\\newline$\n",
    "- - - <a name=''>$\\bf{\\color{green}{\\text{How Can I Estimating the }\\large{{\\sigma^{2}_{N}}}}}$</a>\n",
    "$\\newline$\n",
    "$\\newline$\n",
    "- > <a name=''>$\\bf{\\color{red}{Note:} \\color{black}{\\text{ if X(Data) and N(Additive Noise) be }\\underline{\\text{Independent }}\\text{then:}}}$</a>\n",
    "$\\newline$\n",
    "$\\newline$\n",
    "<a name=''>$\\bf{\\color{black}{Var({X_{noisy}})=Var(X) + Var(N)}}\\;\\;\\rightarrow\\;\\;Var(N) = Var(X_{noisy}) - Var(X)$</a>\n",
    "$\\newline$\n",
    "$\\newline$\n",
    "<a name=''>$\\bf{\\color{red}{\\underline{\\text{and that for each Type of Noise is True}}}}$</a>\n",
    "$\\newline$\n",
    "$\\newline$"
   ]
  },
  {
   "cell_type": "code",
   "execution_count": 21,
   "id": "0a6f804e",
   "metadata": {},
   "outputs": [],
   "source": [
    "X, Y = data_scaled, gt_scaled\n",
    "X_noisy = data_gaussian_noisy"
   ]
  },
  {
   "cell_type": "code",
   "execution_count": 22,
   "id": "2c1c0be7",
   "metadata": {},
   "outputs": [
    {
     "name": "stdout",
     "output_type": "stream",
     "text": [
      "\n",
      "\u001b[34mEstimated Var\u001b[0m for the Noise:  0.0001\n",
      "\n"
     ]
    }
   ],
   "source": [
    "estimated_var_noise = X_noisy.var() - X.var()\n",
    "print(f'\\n{colored(\"Estimated Var\", \"blue\")} for the Noise: {estimated_var_noise: 0.4f}\\n')"
   ]
  },
  {
   "cell_type": "markdown",
   "id": "477d01b3",
   "metadata": {},
   "source": [
    "$\\newline$\n",
    "- - - <a name=''>$\\bf{\\text{Hyperparameters}}$</a>\n",
    "$\\newline$"
   ]
  },
  {
   "cell_type": "code",
   "execution_count": 23,
   "id": "65ab860b",
   "metadata": {},
   "outputs": [
    {
     "name": "stdout",
     "output_type": "stream",
     "text": [
      "\n",
      "Shape of X: \u001b[34m(3190, 145)\u001b[0m\n",
      "\n",
      "\n",
      "Shape of Noisy X: \u001b[34m(3190, 145)\u001b[0m\n",
      "\n",
      "\n",
      "Shape of y: \u001b[34m(3190,)\u001b[0m\n",
      "\n"
     ]
    }
   ],
   "source": [
    "m, n = X.shape\n",
    "selected_length = int(m / n)\n",
    "x, y = X[: selected_length * n, :], Y[: selected_length * n]\n",
    "x_noisy = X_noisy[: selected_length * n, :]\n",
    "print(f'\\nShape of X: {colored(x.shape, \"blue\")}\\n')\n",
    "print(f'\\nShape of Noisy X: {colored(x_noisy.shape, \"blue\")}\\n')\n",
    "print(f'\\nShape of y: {colored(y.shape, \"blue\")}\\n')"
   ]
  },
  {
   "cell_type": "code",
   "execution_count": 24,
   "id": "1cb2d3b3",
   "metadata": {},
   "outputs": [],
   "source": [
    "# Best Scales is 1 or 2\n",
    "best_scales = 2\n",
    "# Best Thresholding Factor is 285\n",
    "best_thresholding_factor = 285"
   ]
  },
  {
   "cell_type": "code",
   "execution_count": 26,
   "id": "7a618cd7",
   "metadata": {},
   "outputs": [
    {
     "name": "stdout",
     "output_type": "stream",
     "text": [
      "\n",
      "\n",
      "\n",
      "\t\t\t Denoising\n",
      "\n",
      "\n",
      "\n",
      "\n",
      "\t\t  \u001b[34mElapsed Time\u001b[0m:  2.351(s)\n",
      "\n",
      "\n",
      "\t                                \u001b[32mPSNR\u001b[0m:  92.521\n"
     ]
    },
    {
     "data": {
      "image/png": "[encoded data removed]",
      "text/plain": [
       "<Figure size 640x480 with 2 Axes>"
      ]
     },
     "metadata": {},
     "output_type": "display_data"
    },
    {
     "name": "stdout",
     "output_type": "stream",
     "text": [
      "\n",
      "\n",
      "\n",
      "\n",
      "\n"
     ]
    }
   ],
   "source": [
    "print(f'\\n\\n\\n\\t\\t\\t Denoising\\n\\n\\n')\n",
    "\n",
    "sigma = estimated_var_noise\n",
    "scales = best_scales\n",
    "thresholdingFactor = best_thresholding_factor\n",
    "\n",
    "\n",
    "\n",
    "tic = time()\n",
    "\n",
    "m, n = x_noisy.shape\n",
    "X_rec_final = np.zeros((m, n), dtype=np.float64)\n",
    "iterations = int(m / n)\n",
    "PSNR_ndarray = np.zeros((iterations, ), dtype=np.float64)\n",
    "shearletSystem = pyshearlab.SLgetShearletSystem2D(0, n, n, scales)\n",
    "\n",
    "for i in range(iterations):\n",
    "    f, g = n*i, n*(i + 1)\n",
    "    X = x[f: g, :]\n",
    "    X = X.astype(float)\n",
    "\n",
    "    Xnoisy = x_noisy[f: g, :]\n",
    "\n",
    "    coeffs = pyshearlab.SLsheardec2D(Xnoisy, shearletSystem)\n",
    "\n",
    "    oldCoeffs = coeffs.copy()\n",
    "    weights = np.ones(coeffs.shape)\n",
    "\n",
    "    for j in range(len(shearletSystem[\"RMS\"])):\n",
    "        weights[:,:,j] = shearletSystem[\"RMS\"][j]*np.ones((X.shape[0], X.shape[1]))\n",
    "    \n",
    "    coeffs = np.real(coeffs)\n",
    "    zero_indices = np.abs(coeffs) / (thresholdingFactor * weights * sigma) < 1\n",
    "    coeffs[zero_indices] = 0\n",
    "\n",
    "    # reconstruction\n",
    "    Xrec = pyshearlab.SLshearrec2D(coeffs, shearletSystem)\n",
    "    X_rec_final[f: g, :] = Xrec\n",
    "    PSNR = pyshearlab.SLcomputePSNR(X,Xrec)\n",
    "    PSNR_ndarray[i] = PSNR\n",
    "\n",
    "\n",
    "PSNR_mean = PSNR_ndarray.mean()\n",
    "toc = time()\n",
    "print(f'\\n\\t\\t  {colored(\"Elapsed Time\", \"blue\")}: {toc - tic: 0.3f}(s)\\n')\n",
    "# _____________________________________________________________________________________________________________\n",
    "print(f'\\n\\t                                {colored(\"PSNR\", \"green\")}: {PSNR_mean: 0.3f}')\n",
    "plt.figure(1)\n",
    "plt.subplot(1, 2, 1), plt.imshow(x_noisy[: 200]), plt.axis('off'), \\\n",
    "plt.title('Noisy Data', fontsize=9)\n",
    "\n",
    "plt.subplot(1, 2, 2), plt.imshow(X_rec_final[: 200]), plt.axis('off'), \\\n",
    "plt.title('Denoised Data by Shearlab', fontsize=9)\n",
    "# plt.colorbar()\n",
    "plt.show()\n",
    "print(f'\\n\\n\\n\\n')"
   ]
  },
  {
   "cell_type": "code",
   "execution_count": 27,
   "id": "af695423",
   "metadata": {},
   "outputs": [
    {
     "name": "stdout",
     "output_type": "stream",
     "text": [
      "\n",
      "Shape of the Denoised Data: \u001b[34m(3190, 145)\u001b[0m\n",
      "\n",
      "Min of Denoised Data: -0.023\n",
      "\n",
      "Max of Denoised Data:  1.000\n",
      "\n",
      " ... and its Data Type: \u001b[34mfloat64\u001b[0m\n",
      "\n",
      "\n",
      "Shape of the y: \u001b[34m(3190,)\u001b[0m\n",
      "\n"
     ]
    }
   ],
   "source": [
    "data_denoised, y = X_rec_final, y\n",
    "print(f'\\nShape of the Denoised Data: {colored(data_denoised.shape, \"blue\")}\\n')\n",
    "print(f'Min of Denoised Data: {data_denoised.min(): 0.3f}\\n')\n",
    "print(f'Max of Denoised Data: {data_denoised.max(): 0.3f}\\n')\n",
    "print(f' ... and its Data Type: {colored(data_denoised.dtype, \"blue\")}\\n')\n",
    "print(f'\\nShape of the y: {colored(y.shape, \"blue\")}\\n')"
   ]
  },
  {
   "cell_type": "markdown",
   "id": "79d28079",
   "metadata": {},
   "source": [
    "$\\newline$\n",
    "$\\newline$\n",
    "- [x] <a name=''>$\\bf{\\text{End of the Task 4}}$</a>\n",
    "$\\newline$\n",
    "$\\newline$"
   ]
  },
  {
   "cell_type": "markdown",
   "id": "e0cccdcf",
   "metadata": {},
   "source": [
    "- - - <a name=''>${\\bf{\\text{Splitting the Noisy Data}}}$</a>"
   ]
  },
  {
   "cell_type": "code",
   "execution_count": 29,
   "id": "ecce5740",
   "metadata": {},
   "outputs": [],
   "source": [
    "train_size_list = [0.1]\n",
    "data = {}\n",
    "for train_size_float in train_size_list: data['X_train_' + str(train_size_float)], \\\n",
    "    data['X_test_' + \\\n",
    "    str(train_size_float)], data['y_train_' + str(train_size_float)], \\\n",
    "    data['y_test_' + str(train_size_float)] = \\\n",
    "    train_test_splitter(data_denoised, y, train_size_floatt=train_size_float)"
   ]
  },
  {
   "cell_type": "code",
   "execution_count": 30,
   "id": "c1f87428",
   "metadata": {},
   "outputs": [],
   "source": [
    "train_size = 0.1\n",
    "X_train, X_test, y_train, y_test = data['X_train_' + str(train_size)], data['X_test_' + str(train_size)], \\\n",
    "data['y_train_' + str(train_size)], data['y_test_' + str(train_size)]"
   ]
  },
  {
   "cell_type": "code",
   "execution_count": 31,
   "id": "72fb7295",
   "metadata": {},
   "outputs": [
    {
     "name": "stdout",
     "output_type": "stream",
     "text": [
      "\n",
      "Shape of the \u001b[32mX_train\u001b[0m: \u001b[34m(313, 145)\u001b[0m\n",
      "\n",
      "Min of the \u001b[32mX_train\u001b[0m: -0.023\n",
      "\n",
      "Max of the \u001b[32mX_train\u001b[0m:  0.786\n",
      "\n",
      "Shape of the \u001b[32my_train\u001b[0m: \u001b[34m(313,)\u001b[0m\n",
      "\n",
      "\n",
      "\n",
      "Shape of the \u001b[32mX_test\u001b[0m: \u001b[34m(2877, 145)\u001b[0m\n",
      "\n",
      "Min of the \u001b[32mX_test\u001b[0m: -0.022\n",
      "\n",
      "Max of the \u001b[32mX_test\u001b[0m:  1.000\n",
      "\n",
      "Shape of the \u001b[32my_test\u001b[0m: \u001b[34m(2877,)\u001b[0m\n",
      "\n"
     ]
    }
   ],
   "source": [
    "print(f'\\nShape of the {colored(\"X_train\", \"green\")}: {colored(X_train.shape, \"blue\")}\\n')\n",
    "print(f'Min of the {colored(\"X_train\", \"green\")}: {X_train.min(): 0.3f}\\n')\n",
    "print(f'Max of the {colored(\"X_train\", \"green\")}: {X_train.max(): 0.3f}\\n')\n",
    "print(f'Shape of the {colored(\"y_train\", \"green\")}: {colored(y_train.shape, \"blue\")}\\n\\n')\n",
    "print(f'\\nShape of the {colored(\"X_test\", \"green\")}: {colored(X_test.shape, \"blue\")}\\n')\n",
    "print(f'Min of the {colored(\"X_test\", \"green\")}: {X_test.min(): 0.3f}\\n')\n",
    "print(f'Max of the {colored(\"X_test\", \"green\")}: {X_test.max(): 0.3f}\\n')\n",
    "print(f'Shape of the {colored(\"y_test\", \"green\")}: {colored(y_test.shape, \"blue\")}\\n')"
   ]
  },
  {
   "cell_type": "markdown",
   "id": "42d7cbd9",
   "metadata": {},
   "source": [
    "$\\newline$\n",
    "$\\newline$\n",
    "<a name=''>$\\large{\\bf{\\text{Feature Extraction by Using SWT}}}$</a>\n",
    "$\\newline$\n",
    "$\\newline$"
   ]
  },
  {
   "cell_type": "code",
   "execution_count": 32,
   "id": "e0274e6d",
   "metadata": {},
   "outputs": [],
   "source": [
    "import pywt"
   ]
  },
  {
   "cell_type": "code",
   "execution_count": 33,
   "id": "92a9caa8",
   "metadata": {},
   "outputs": [],
   "source": [
    "input_data = data_scaled"
   ]
  },
  {
   "cell_type": "code",
   "execution_count": 34,
   "id": "46f94993",
   "metadata": {},
   "outputs": [
    {
     "name": "stdout",
     "output_type": "stream",
     "text": [
      "\n",
      "Shape of Input Data: \u001b[34m(3248, 145)\u001b[0m\n",
      "\n",
      " ... and Min of this: \u001b[34m0.0\u001b[0m\n",
      "\n",
      " ... and Max of this: \u001b[34m1.0\u001b[0m\n",
      "\n",
      " ... and its Data Type: \u001b[34mfloat64\u001b[0m\n",
      "\n"
     ]
    }
   ],
   "source": [
    "print(f'\\nShape of Input Data: {colored(input_data.shape, \"blue\")}\\n')\n",
    "print(f' ... and Min of this: {colored(input_data.min(), \"blue\")}\\n')\n",
    "print(f' ... and Max of this: {colored(input_data.max(), \"blue\")}\\n')\n",
    "print(f' ... and its Data Type: {colored(input_data.dtype, \"blue\")}\\n')"
   ]
  },
  {
   "cell_type": "code",
   "execution_count": 35,
   "id": "36174923",
   "metadata": {},
   "outputs": [],
   "source": [
    "M = int(input_data.shape[0] ** 0.5)\n",
    "d = D\n",
    "HSI_input_data = input_data.reshape((M, -1, d))"
   ]
  },
  {
   "cell_type": "code",
   "execution_count": 36,
   "id": "360dec04",
   "metadata": {},
   "outputs": [
    {
     "name": "stdout",
     "output_type": "stream",
     "text": [
      "\n",
      "Shape of HSI Input Data: \u001b[34m(56, 58, 145)\u001b[0m\n",
      "\n"
     ]
    }
   ],
   "source": [
    "print(f'\\nShape of HSI Input Data: {colored(HSI_input_data.shape, \"blue\")}\\n')"
   ]
  },
  {
   "cell_type": "code",
   "execution_count": 37,
   "id": "23d6c30f",
   "metadata": {},
   "outputs": [
    {
     "name": "stdout",
     "output_type": "stream",
     "text": [
      "\n",
      "Checking Result: \u001b[34m[ True]\u001b[0m\n",
      "\n"
     ]
    }
   ],
   "source": [
    "checking = np.unique(input_data[0, :] == HSI_input_data[0, 0, :])\n",
    "print(f'\\nChecking Result: {colored(checking, \"blue\")}\\n')"
   ]
  },
  {
   "cell_type": "code",
   "execution_count": 38,
   "id": "88cfef0b",
   "metadata": {
    "scrolled": false
   },
   "outputs": [
    {
     "name": "stdout",
     "output_type": "stream",
     "text": [
      "['bior1.1', 'bior1.3', 'bior1.5', 'bior2.2', 'bior2.4', 'bior2.6', 'bior2.8', 'bior3.1', 'bior3.3', 'bior3.5', 'bior3.7', 'bior3.9', 'bior4.4', 'bior5.5', 'bior6.8', 'cgau1', 'cgau2', 'cgau3', 'cgau4', 'cgau5', 'cgau6', 'cgau7', 'cgau8', 'cmor', 'coif1', 'coif2', 'coif3', 'coif4', 'coif5', 'coif6', 'coif7', 'coif8', 'coif9', 'coif10', 'coif11', 'coif12', 'coif13', 'coif14', 'coif15', 'coif16', 'coif17', 'db1', 'db2', 'db3', 'db4', 'db5', 'db6', 'db7', 'db8', 'db9', 'db10', 'db11', 'db12', 'db13', 'db14', 'db15', 'db16', 'db17', 'db18', 'db19', 'db20', 'db21', 'db22', 'db23', 'db24', 'db25', 'db26', 'db27', 'db28', 'db29', 'db30', 'db31', 'db32', 'db33', 'db34', 'db35', 'db36', 'db37', 'db38', 'dmey', 'fbsp', 'gaus1', 'gaus2', 'gaus3', 'gaus4', 'gaus5', 'gaus6', 'gaus7', 'gaus8', 'haar', 'mexh', 'morl', 'rbio1.1', 'rbio1.3', 'rbio1.5', 'rbio2.2', 'rbio2.4', 'rbio2.6', 'rbio2.8', 'rbio3.1', 'rbio3.3', 'rbio3.5', 'rbio3.7', 'rbio3.9', 'rbio4.4', 'rbio5.5', 'rbio6.8', 'shan', 'sym2', 'sym3', 'sym4', 'sym5', 'sym6', 'sym7', 'sym8', 'sym9', 'sym10', 'sym11', 'sym12', 'sym13', 'sym14', 'sym15', 'sym16', 'sym17', 'sym18', 'sym19', 'sym20']\n"
     ]
    }
   ],
   "source": [
    "wavelet_list = list(pywt.wavelist())\n",
    "print(wavelet_list)"
   ]
  },
  {
   "cell_type": "markdown",
   "id": "df7b4418",
   "metadata": {},
   "source": [
    "$\\newline$\n",
    "$\\newline$\n",
    "- <a name=''>$\\bf{\\text{Finding the Best Shape for SWT with Level=2}}$</a>\n",
    "$\\newline$\n",
    "$\\newline$"
   ]
  },
  {
   "cell_type": "code",
   "execution_count": 39,
   "id": "53e4d327",
   "metadata": {},
   "outputs": [
    {
     "data": {
      "text/plain": [
       "3"
      ]
     },
     "execution_count": 39,
     "metadata": {},
     "output_type": "execute_result"
    }
   ],
   "source": [
    "max_lev1 = pywt.swt_max_level(HSI_input_data.shape[0])\n",
    "max_lev1"
   ]
  },
  {
   "cell_type": "code",
   "execution_count": 40,
   "id": "dda76957",
   "metadata": {},
   "outputs": [
    {
     "data": {
      "text/plain": [
       "1"
      ]
     },
     "execution_count": 40,
     "metadata": {},
     "output_type": "execute_result"
    }
   ],
   "source": [
    "max_lev2 = pywt.swt_max_level(HSI_input_data.shape[1])\n",
    "max_lev2"
   ]
  },
  {
   "cell_type": "code",
   "execution_count": 41,
   "id": "c93e3b21",
   "metadata": {},
   "outputs": [
    {
     "data": {
      "text/plain": [
       "2"
      ]
     },
     "execution_count": 41,
     "metadata": {},
     "output_type": "execute_result"
    }
   ],
   "source": [
    "zero_padding_size = 1\n",
    "max_lev2 = pywt.swt_max_level(HSI_input_data.shape[1] + 2*zero_padding_size)\n",
    "max_lev2"
   ]
  },
  {
   "cell_type": "code",
   "execution_count": 42,
   "id": "3948096d",
   "metadata": {},
   "outputs": [],
   "source": [
    "padded_HSI_input_data = np.pad(HSI_input_data, ((0, 0), (zero_padding_size, zero_padding_size), (0, 0)), \\\n",
    "                               'constant', constant_values=(0., 0.))\n",
    "\n",
    "padded_HSI_input_data = padded_HSI_input_data.astype(np.float64)"
   ]
  },
  {
   "cell_type": "code",
   "execution_count": 43,
   "id": "a6268e0b",
   "metadata": {},
   "outputs": [
    {
     "data": {
      "text/plain": [
       "(56, 60, 145)"
      ]
     },
     "execution_count": 43,
     "metadata": {},
     "output_type": "execute_result"
    }
   ],
   "source": [
    "padded_HSI_input_data.shape"
   ]
  },
  {
   "cell_type": "code",
   "execution_count": 44,
   "id": "ae94d19e",
   "metadata": {},
   "outputs": [
    {
     "data": {
      "text/plain": [
       "2"
      ]
     },
     "execution_count": 44,
     "metadata": {},
     "output_type": "execute_result"
    }
   ],
   "source": [
    "pywt.swt_max_level(28)"
   ]
  },
  {
   "cell_type": "code",
   "execution_count": 96,
   "id": "9839154b",
   "metadata": {},
   "outputs": [
    {
     "data": {
      "text/plain": [
       "2"
      ]
     },
     "execution_count": 96,
     "metadata": {},
     "output_type": "execute_result"
    }
   ],
   "source": [
    "pywt.swt_max_level(116)"
   ]
  },
  {
   "cell_type": "markdown",
   "id": "24fa7c22",
   "metadata": {},
   "source": [
    "$\\newline$\n",
    "$\\newline$\n",
    "- <a name=''>$\\bf{\\text{Reshaping to Proper Shape for SWT and Level=2}}$</a>\n",
    "$\\newline$\n",
    "$\\newline$"
   ]
  },
  {
   "cell_type": "code",
   "execution_count": 45,
   "id": "ae480d4f",
   "metadata": {},
   "outputs": [],
   "source": [
    "d = input_data.shape[1]\n",
    "data_swt_input = input_data.reshape((116, 28, d))"
   ]
  },
  {
   "cell_type": "code",
   "execution_count": 46,
   "id": "61302bce",
   "metadata": {},
   "outputs": [
    {
     "name": "stdout",
     "output_type": "stream",
     "text": [
      "\n",
      "Shape of Input Data for SWT: \u001b[34m(116, 28, 145)\u001b[0m\n",
      "\n"
     ]
    }
   ],
   "source": [
    "print(f'\\nShape of Input Data for SWT: {colored(data_swt_input.shape, \"blue\")}\\n')"
   ]
  },
  {
   "cell_type": "code",
   "execution_count": 47,
   "id": "c6b2862e",
   "metadata": {},
   "outputs": [],
   "source": [
    "def swt_in_each_bands(HSI_input: np.ndarray, lev: int=2) -> np.ndarray:\n",
    "    \n",
    "    m, n, d = HSI_input.shape\n",
    "    \n",
    "    aa_init = np.zeros((m, n, 1), dtype=np.float64)\n",
    "    ad_init = np.zeros((m, n, 1), dtype=np.float64)\n",
    "    da_init = np.zeros((m, n, 1), dtype=np.float64)\n",
    "    dd_init = np.zeros((m, n, 1), dtype=np.float64)\n",
    "    \n",
    "    data_dict = {'aa': aa_init, 'ad': ad_init, 'da': da_init, 'dd': dd_init}\n",
    "    for band_index in range(d):\n",
    "        \n",
    "        data = HSI_input[:, :, band_index]\n",
    "        swt_list = pywt.swtn(data, wavelet='db2', level=lev, axes=(0, 1))\n",
    "        data_dict['aa'] = np.concatenate((data_dict['aa'], \\\n",
    "                                          swt_list[0]['aa'].reshape((m, n, 1)), \\\n",
    "                                          swt_list[1]['aa'].reshape((m, n, 1))), axis=2)\n",
    "        ad = data_dict['ad'] = np.concatenate((data_dict['ad'], \\\n",
    "                                               swt_list[0]['ad'].reshape((m, n, 1)), \\\n",
    "                                               swt_list[1]['ad'].reshape((m, n, 1))), axis=2)\n",
    "        da = data_dict['da'] = np.concatenate((data_dict['da'], \\\n",
    "                                               swt_list[0]['da'].reshape((m, n, 1)), \\\n",
    "                                               swt_list[1]['da'].reshape((m, n, 1))), axis=2)\n",
    "        dd = data_dict['dd'] = np.concatenate((data_dict['dd'], \\\n",
    "                                               swt_list[0]['dd'].reshape((m, n, 1)), \\\n",
    "                                               swt_list[1]['dd'].reshape((m, n, 1))), axis=2)\n",
    "\n",
    "    data_dict['aa'] = data_dict['aa'][:, :, 1: ]\n",
    "    data_dict['ad'] = data_dict['ad'][:, :, 1: ]\n",
    "    data_dict['da'] = data_dict['da'][:, :, 1: ]   \n",
    "    data_dict['dd'] = data_dict['dd'][:, :, 1: ]\n",
    "    return data_dict"
   ]
  },
  {
   "cell_type": "code",
   "execution_count": 48,
   "id": "ba8ea37b",
   "metadata": {},
   "outputs": [],
   "source": [
    "data_output_swt_dict = swt_in_each_bands(HSI_input=data_swt_input)"
   ]
  },
  {
   "cell_type": "markdown",
   "id": "4d0e79ca",
   "metadata": {},
   "source": [
    "$\\newline$\n",
    "$\\newline$\n",
    "- <a name=''>$\\bf{\\text{Reshaping to Initial Size}}$</a>\n",
    "$\\newline$\n",
    "$\\newline$"
   ]
  },
  {
   "cell_type": "code",
   "execution_count": 49,
   "id": "f5c0663d",
   "metadata": {},
   "outputs": [],
   "source": [
    "aa = data_output_swt_dict['aa']\n",
    "aa = aa.reshape((56, 58, -1))\n",
    "\n",
    "ad = data_output_swt_dict['ad']\n",
    "ad = ad.reshape((56, 58, -1))\n",
    "\n",
    "da = data_output_swt_dict['da']\n",
    "da = da.reshape((56, 58, -1))\n",
    "\n",
    "dd = data_output_swt_dict['dd']\n",
    "dd = dd.reshape((56, 58, -1))"
   ]
  },
  {
   "cell_type": "code",
   "execution_count": 50,
   "id": "b18f8842",
   "metadata": {},
   "outputs": [
    {
     "name": "stdout",
     "output_type": "stream",
     "text": [
      "\n",
      "Shape of \u001b[34maa\u001b[0m: (56, 58, 290)\n",
      "\n"
     ]
    }
   ],
   "source": [
    "print(f'\\nShape of {colored(\"aa\", \"blue\")}: {aa.shape}\\n')"
   ]
  },
  {
   "cell_type": "code",
   "execution_count": 51,
   "id": "0f66058e",
   "metadata": {},
   "outputs": [
    {
     "name": "stdout",
     "output_type": "stream",
     "text": [
      "\n",
      "Checking the Result of Reshaping: \u001b[34m[ True]\u001b[0m\n",
      "\n"
     ]
    }
   ],
   "source": [
    "check = np.unique(aa[0, 0, :] == data_output_swt_dict['aa'][0, 0, :])\n",
    "print(f'\\nChecking the Result of Reshaping: {colored(check, \"blue\")}\\n')"
   ]
  },
  {
   "cell_type": "markdown",
   "id": "5380971f",
   "metadata": {},
   "source": [
    "$\\newline$\n",
    "$\\newline$\n",
    "- <a name='7'>${\\bf{\\text{Reshaping}}}$</a>\n",
    "$\\newline$\n",
    "$\\newline$"
   ]
  },
  {
   "cell_type": "code",
   "execution_count": 107,
   "id": "2746d604",
   "metadata": {},
   "outputs": [],
   "source": [
    "aa_reshaped = aa.reshape((aa.shape[0]*aa.shape[1], aa.shape[2]))\n",
    "ad_reshaped = ad.reshape((ad.shape[0]*ad.shape[1], ad.shape[2]))\n",
    "da_reshaped = da.reshape((da.shape[0]*da.shape[1], da.shape[2]))\n",
    "dd_reshaped = dd.reshape((dd.shape[0]*dd.shape[1], dd.shape[2]))\n",
    "\n",
    "input_data_reshaped = input_data\n",
    "y_reshaped = gt_scaled"
   ]
  },
  {
   "cell_type": "code",
   "execution_count": 108,
   "id": "a3bc88e0",
   "metadata": {},
   "outputs": [
    {
     "name": "stdout",
     "output_type": "stream",
     "text": [
      "\n",
      "Shape of \u001b[34maa\u001b[0m: \u001b[34m(3248, 290)\u001b[0m\n",
      "\n",
      "\n",
      "Shape of \u001b[34mad\u001b[0m: \u001b[34m(3248, 290)\u001b[0m\n",
      "\n",
      "\n",
      "Shape of \u001b[34mda\u001b[0m: \u001b[34m(3248, 290)\u001b[0m\n",
      "\n",
      "\n",
      "Shape of \u001b[34mdd\u001b[0m: \u001b[34m(3248, 290)\u001b[0m\n",
      "\n",
      "\n",
      "Shape of \u001b[34mInput Data\u001b[0m: \u001b[34m(3248, 145)\u001b[0m\n",
      "\n",
      "\n",
      "Shape of \u001b[34mlabels\u001b[0m: \u001b[34m(3248,)\u001b[0m\n",
      "\n"
     ]
    }
   ],
   "source": [
    "print(f'\\nShape of {colored(\"aa\", \"blue\")}: {colored(aa_reshaped.shape, \"blue\")}\\n')\n",
    "print(f'\\nShape of {colored(\"ad\", \"blue\")}: {colored(ad_reshaped.shape, \"blue\")}\\n')\n",
    "print(f'\\nShape of {colored(\"da\", \"blue\")}: {colored(da_reshaped.shape, \"blue\")}\\n')\n",
    "print(f'\\nShape of {colored(\"dd\", \"blue\")}: {colored(dd_reshaped.shape, \"blue\")}\\n')\n",
    "print(f'\\nShape of {colored(\"Input Data\", \"blue\")}: {colored(input_data_reshaped.shape, \"blue\")}\\n')\n",
    "print(f'\\nShape of {colored(\"labels\", \"blue\")}: {colored(y_reshaped.shape, \"blue\")}\\n')"
   ]
  },
  {
   "cell_type": "markdown",
   "id": "c971678d",
   "metadata": {},
   "source": [
    "$\\newline$\n",
    "$\\newline$\n",
    "- <a name=''>${\\bf{\\text{KPCA}}}$</a>\n",
    "$\\newline$\n",
    "$\\newline$"
   ]
  },
  {
   "cell_type": "code",
   "execution_count": 110,
   "id": "63ee1175",
   "metadata": {},
   "outputs": [],
   "source": [
    "from sklearn.decomposition import KernelPCA as KPCA"
   ]
  },
  {
   "cell_type": "code",
   "execution_count": 114,
   "id": "bda34e80",
   "metadata": {},
   "outputs": [],
   "source": [
    "kpca = KPCA(n_components=1, random_state=0)"
   ]
  },
  {
   "cell_type": "markdown",
   "id": "21571923",
   "metadata": {},
   "source": [
    "$\\newline$\n",
    "$\\newline$\n",
    "- - <a name=''>${\\bf{\\text{Dimensionality Reduction}}}$</a>\n",
    "$\\newline$\n",
    "$\\newline$"
   ]
  },
  {
   "cell_type": "code",
   "execution_count": 115,
   "id": "e2562422",
   "metadata": {},
   "outputs": [],
   "source": [
    "aa_reduced = kpca.fit_transform(aa_reshaped)\n",
    "ad_reduced = kpca.fit_transform(ad_reshaped)\n",
    "da_reduced = kpca.fit_transform(da_reshaped)\n",
    "dd_reduced = kpca.fit_transform(dd_reshaped)\n",
    "input_data_reduced = kpca.fit_transform(input_data_reshaped)\n",
    "y_reduced = y_reshaped"
   ]
  },
  {
   "cell_type": "code",
   "execution_count": 119,
   "id": "882421f6",
   "metadata": {},
   "outputs": [
    {
     "name": "stdout",
     "output_type": "stream",
     "text": [
      "\n",
      "Shape of \u001b[34maa\u001b[0m: (3248, 1)\n",
      "\n",
      "\n",
      "Shape of \u001b[34mad\u001b[0m: (3248, 1)\n",
      "\n",
      "\n",
      "Shape of \u001b[34mda\u001b[0m: (3248, 1)\n",
      "\n",
      "\n",
      "Shape of \u001b[34mdd\u001b[0m: (3248, 1)\n",
      "\n",
      "\n",
      "Shape of \u001b[34mInput Data\u001b[0m: (3248, 1)\n",
      "\n",
      "\n",
      "Shape of \u001b[34mlabels\u001b[0m: (3248,)\n",
      "\n"
     ]
    }
   ],
   "source": [
    "print(f'\\nShape of {colored(\"aa\", \"blue\")}: {aa_reduced.shape}\\n')\n",
    "print(f'\\nShape of {colored(\"ad\", \"blue\")}: {ad_reduced.shape}\\n')\n",
    "print(f'\\nShape of {colored(\"da\", \"blue\")}: {da_reduced.shape}\\n')\n",
    "print(f'\\nShape of {colored(\"dd\", \"blue\")}: {dd_reduced.shape}\\n')\n",
    "print(f'\\nShape of {colored(\"Input Data\", \"blue\")}: {input_data_reduced.shape}\\n')\n",
    "print(f'\\nShape of {colored(\"labels\", \"blue\")}: {y_reduced.shape}\\n')"
   ]
  },
  {
   "cell_type": "markdown",
   "id": "543bf47e",
   "metadata": {},
   "source": [
    "$\\newline$\n",
    "$\\newline$\n",
    "- - <a name=''>${\\bf{\\text{Reshaping to 3 Dimensions for Concatenation}}}$</a>\n",
    "$\\newline$\n",
    "$\\newline$"
   ]
  },
  {
   "cell_type": "code",
   "execution_count": 125,
   "id": "4b2378c1",
   "metadata": {},
   "outputs": [],
   "source": [
    "aa_3 = aa_reduced.reshape((aa_reduced.shape[0], aa_reduced.shape[1], 1))\n",
    "ad_3 = ad_reduced.reshape((ad_reduced.shape[0], ad_reduced.shape[1], 1))\n",
    "da_3 = da_reduced.reshape((da_reduced.shape[0], da_reduced.shape[1], 1))\n",
    "dd_3 = dd_reduced.reshape((dd_reduced.shape[0], dd_reduced.shape[1], 1))\n",
    "input_data_3 = input_data_reduced.reshape((input_data_reduced.shape[0], input_data_reduced.shape[1], 1))\n",
    "y_3 = y_reduced"
   ]
  },
  {
   "cell_type": "code",
   "execution_count": 126,
   "id": "19e4b8b3",
   "metadata": {},
   "outputs": [
    {
     "name": "stdout",
     "output_type": "stream",
     "text": [
      "\n",
      "Shape of \u001b[34maa\u001b[0m: (3248, 1, 1)\n",
      "\n",
      "\n",
      "Shape of \u001b[34mad\u001b[0m: (3248, 1, 1)\n",
      "\n",
      "\n",
      "Shape of \u001b[34mda\u001b[0m: (3248, 1, 1)\n",
      "\n",
      "\n",
      "Shape of \u001b[34mdd\u001b[0m: (3248, 1, 1)\n",
      "\n",
      "\n",
      "Shape of \u001b[34mInput Data\u001b[0m: (3248, 1, 1)\n",
      "\n",
      "\n",
      "Shape of \u001b[34mlabels\u001b[0m: (3248,)\n",
      "\n"
     ]
    }
   ],
   "source": [
    "print(f'\\nShape of {colored(\"aa\", \"blue\")}: {aa_3.shape}\\n')\n",
    "print(f'\\nShape of {colored(\"ad\", \"blue\")}: {ad_3.shape}\\n')\n",
    "print(f'\\nShape of {colored(\"da\", \"blue\")}: {da_3.shape}\\n')\n",
    "print(f'\\nShape of {colored(\"dd\", \"blue\")}: {dd_3.shape}\\n')\n",
    "print(f'\\nShape of {colored(\"Input Data\", \"blue\")}: {input_data_3.shape}\\n')\n",
    "print(f'\\nShape of {colored(\"labels\", \"blue\")}: {y_3.shape}\\n')"
   ]
  },
  {
   "cell_type": "markdown",
   "id": "cd114b82",
   "metadata": {},
   "source": [
    "$\\newline$\n",
    "$\\newline$\n",
    "- - <a name=''>${\\bf{\\text{Concatenation}}}$</a>\n",
    "$\\newline$\n",
    "$\\newline$"
   ]
  },
  {
   "cell_type": "code",
   "execution_count": 127,
   "id": "a2e3ee8f",
   "metadata": {},
   "outputs": [],
   "source": [
    "data_feature_extracted = np.concatenate((aa_3, ad_3, da_3, dd_3, input_data_3), axis=2)\n",
    "y_feature_extracted = y_3"
   ]
  },
  {
   "cell_type": "code",
   "execution_count": 130,
   "id": "458d6ecf",
   "metadata": {},
   "outputs": [
    {
     "name": "stdout",
     "output_type": "stream",
     "text": [
      "\n",
      "Shape of \u001b[34mFeature Extracted Data\u001b[0m: (3248, 1, 5)\n",
      "\n",
      "\n",
      "Shape of \u001b[34mLabels\u001b[0m: (3248,)\n",
      "\n"
     ]
    }
   ],
   "source": [
    "print(f'\\nShape of {colored(\"Feature Extracted Data\", \"blue\")}: {data_feature_extracted.shape}\\n')\n",
    "print(f'\\nShape of {colored(\"Labels\", \"blue\")}: {y_feature_extracted.shape}\\n')"
   ]
  },
  {
   "cell_type": "markdown",
   "id": "7465244b",
   "metadata": {},
   "source": [
    "$\\newline$\n",
    "$\\newline$\n",
    "- - <a name=''>${\\bf{\\text{Reshaping}}}$</a>\n",
    "$\\newline$\n",
    "$\\newline$"
   ]
  },
  {
   "cell_type": "code",
   "execution_count": 131,
   "id": "e015c96c",
   "metadata": {},
   "outputs": [],
   "source": [
    "m_new, n_new, d_new = data_feature_extracted.shape"
   ]
  },
  {
   "cell_type": "code",
   "execution_count": 133,
   "id": "68cfb0f8",
   "metadata": {},
   "outputs": [],
   "source": [
    "data_feature_extracted_reshaped = data_feature_extracted.reshape((m_new*n_new, d_new))\n",
    "y_feature_extracted_reshaped = y_feature_extracted"
   ]
  },
  {
   "cell_type": "code",
   "execution_count": 134,
   "id": "f498b190",
   "metadata": {},
   "outputs": [
    {
     "name": "stdout",
     "output_type": "stream",
     "text": [
      "\n",
      "Shape of \u001b[34mData\u001b[0m: (3248, 5)\n",
      "\n",
      "\n",
      "Shape of \u001b[34mLabels\u001b[0m: (3248,)\n",
      "\n"
     ]
    }
   ],
   "source": [
    "print(f'\\nShape of {colored(\"Data\", \"blue\")}: {data_feature_extracted_reshaped.shape}\\n')\n",
    "print(f'\\nShape of {colored(\"Labels\", \"blue\")}: {y_feature_extracted_reshaped.shape}\\n')"
   ]
  },
  {
   "cell_type": "code",
   "execution_count": 137,
   "id": "8f97734c",
   "metadata": {},
   "outputs": [
    {
     "name": "stdout",
     "output_type": "stream",
     "text": [
      "\n",
      "\u001b[34mMin\u001b[0m of X: -6.535109674271446\n",
      "\n",
      "\n",
      "\u001b[34mMax\u001b[0m of X: 8.270026055723875\n",
      "\n"
     ]
    }
   ],
   "source": [
    "X, y = data_feature_extracted_reshaped, y_feature_extracted_reshaped\n",
    "print(f'\\n{colored(\"Min\", \"blue\")} of X: {X.min()}\\n')\n",
    "print(f'\\n{colored(\"Max\", \"blue\")} of X: {X.max()}\\n')"
   ]
  },
  {
   "cell_type": "markdown",
   "id": "5d01fefa",
   "metadata": {},
   "source": [
    "$\\newline$\n",
    "$\\newline$\n",
    "- <a name=''>${\\bf{\\text{Standard Scaling}}}$</a>\n",
    "$\\newline$\n",
    "$\\newline$"
   ]
  },
  {
   "cell_type": "code",
   "execution_count": 139,
   "id": "c011ede7",
   "metadata": {},
   "outputs": [],
   "source": [
    "from sklearn.preprocessing import StandardScaler"
   ]
  },
  {
   "cell_type": "code",
   "execution_count": 140,
   "id": "c279a197",
   "metadata": {},
   "outputs": [],
   "source": [
    "standard_scaler = StandardScaler()"
   ]
  },
  {
   "cell_type": "code",
   "execution_count": 142,
   "id": "f548e22e",
   "metadata": {},
   "outputs": [],
   "source": [
    "X_scaled = standard_scaler.fit_transform(X)\n",
    "y_scaled = y"
   ]
  },
  {
   "cell_type": "code",
   "execution_count": 147,
   "id": "10f0d319",
   "metadata": {},
   "outputs": [
    {
     "name": "stdout",
     "output_type": "stream",
     "text": [
      "\n",
      "Shape of X: (3248, 5)\n",
      "\n",
      "\n",
      "Shape of y: (3248,)\n",
      "\n",
      "\n",
      "Mean of X: -0.000\n",
      "\n",
      "\n",
      "Var of X:  1.000\n",
      "\n"
     ]
    }
   ],
   "source": [
    "print(f'\\nShape of X: {X_scaled.shape}\\n')\n",
    "print(f'\\nShape of y: {y_scaled.shape}\\n')\n",
    "print(f'\\nMean of X: {X_scaled.mean(): 0.3f}\\n')\n",
    "print(f'\\nVar of X: {X_scaled.var(): 0.3f}\\n')"
   ]
  },
  {
   "cell_type": "markdown",
   "id": "7484e89c",
   "metadata": {},
   "source": [
    "$\\newline$\n",
    "$\\newline$\n",
    "- <a name=''>${\\bf{\\text{Data Splitting}}}$</a>\n",
    "$\\newline$\n",
    "$\\newline$"
   ]
  },
  {
   "cell_type": "code",
   "execution_count": 148,
   "id": "dd9a8210",
   "metadata": {},
   "outputs": [],
   "source": [
    "train_size_list = [0.1]\n",
    "data = {}\n",
    "for train_size_float in train_size_list: data['X_train_' + str(train_size_float)], \\\n",
    "    data['X_test_' + \\\n",
    "    str(train_size_float)], data['y_train_' + str(train_size_float)], \\\n",
    "    data['y_test_' + str(train_size_float)] = \\\n",
    "    train_test_splitter(X, y, train_size_floatt=train_size_float)"
   ]
  },
  {
   "cell_type": "code",
   "execution_count": 149,
   "id": "aa2b1b3b",
   "metadata": {},
   "outputs": [],
   "source": [
    "train_size = 0.1\n",
    "X_train, X_test, y_train, y_test = data['X_train_' + str(train_size)], data['X_test_' + str(train_size)], \\\n",
    "data['y_train_' + str(train_size)], data['y_test_' + str(train_size)]"
   ]
  },
  {
   "cell_type": "code",
   "execution_count": 150,
   "id": "cb5b740e",
   "metadata": {},
   "outputs": [
    {
     "name": "stdout",
     "output_type": "stream",
     "text": [
      "\n",
      "Shape of the \u001b[32mX_train\u001b[0m: \u001b[34m(318, 5)\u001b[0m\n",
      "\n",
      "Min of the \u001b[32mX_train\u001b[0m: -5.426\n",
      "\n",
      "Max of the \u001b[32mX_train\u001b[0m:  6.762\n",
      "\n",
      "Shape of the \u001b[32my_train\u001b[0m: \u001b[34m(318,)\u001b[0m\n",
      "\n",
      "\n",
      "\n",
      "Shape of the \u001b[32mX_test\u001b[0m: \u001b[34m(2930, 5)\u001b[0m\n",
      "\n",
      "Min of the \u001b[32mX_test\u001b[0m: -6.535\n",
      "\n",
      "Max of the \u001b[32mX_test\u001b[0m:  8.270\n",
      "\n",
      "Shape of the \u001b[32my_test\u001b[0m: \u001b[34m(2930,)\u001b[0m\n",
      "\n"
     ]
    }
   ],
   "source": [
    "print(f'\\nShape of the {colored(\"X_train\", \"green\")}: {colored(X_train.shape, \"blue\")}\\n')\n",
    "print(f'Min of the {colored(\"X_train\", \"green\")}: {X_train.min(): 0.3f}\\n')\n",
    "print(f'Max of the {colored(\"X_train\", \"green\")}: {X_train.max(): 0.3f}\\n')\n",
    "print(f'Shape of the {colored(\"y_train\", \"green\")}: {colored(y_train.shape, \"blue\")}\\n\\n')\n",
    "print(f'\\nShape of the {colored(\"X_test\", \"green\")}: {colored(X_test.shape, \"blue\")}\\n')\n",
    "print(f'Min of the {colored(\"X_test\", \"green\")}: {X_test.min(): 0.3f}\\n')\n",
    "print(f'Max of the {colored(\"X_test\", \"green\")}: {X_test.max(): 0.3f}\\n')\n",
    "print(f'Shape of the {colored(\"y_test\", \"green\")}: {colored(y_test.shape, \"blue\")}\\n')"
   ]
  },
  {
   "cell_type": "markdown",
   "id": "145681f2",
   "metadata": {},
   "source": [
    "$\\newline$\n",
    "$\\newline$\n",
    "- <a name=''>${\\bf{\\text{K-fold}}}$</a>\n",
    "$\\newline$\n",
    "$\\newline$"
   ]
  },
  {
   "cell_type": "code",
   "execution_count": 162,
   "id": "e0c5511b",
   "metadata": {},
   "outputs": [],
   "source": [
    "import pandas as pd\n",
    "from sklearn.svm import SVC\n",
    "from sklearn.model_selection import GridSearchCV, cross_val_score, train_test_split"
   ]
  },
  {
   "cell_type": "code",
   "execution_count": 151,
   "id": "94a2f8af",
   "metadata": {},
   "outputs": [],
   "source": [
    "data_scaled = data"
   ]
  },
  {
   "cell_type": "code",
   "execution_count": 163,
   "id": "8fb703f9",
   "metadata": {},
   "outputs": [
    {
     "name": "stderr",
     "output_type": "stream",
     "text": [
      "/home/shahin/.local/lib/python3.10/site-packages/sklearn/model_selection/_split.py:684: UserWarning: The least populated class in y has only 9 members, which is less than n_splits=10.\n",
      "  warnings.warn(\n",
      "/home/shahin/.local/lib/python3.10/site-packages/sklearn/model_selection/_split.py:684: UserWarning: The least populated class in y has only 9 members, which is less than n_splits=11.\n",
      "  warnings.warn(\n",
      "/home/shahin/.local/lib/python3.10/site-packages/sklearn/model_selection/_split.py:684: UserWarning: The least populated class in y has only 9 members, which is less than n_splits=12.\n",
      "  warnings.warn(\n",
      "/home/shahin/.local/lib/python3.10/site-packages/sklearn/model_selection/_split.py:684: UserWarning: The least populated class in y has only 9 members, which is less than n_splits=13.\n",
      "  warnings.warn(\n",
      "/home/shahin/.local/lib/python3.10/site-packages/sklearn/model_selection/_split.py:684: UserWarning: The least populated class in y has only 9 members, which is less than n_splits=14.\n",
      "  warnings.warn(\n",
      "/home/shahin/.local/lib/python3.10/site-packages/sklearn/model_selection/_split.py:684: UserWarning: The least populated class in y has only 9 members, which is less than n_splits=15.\n",
      "  warnings.warn(\n"
     ]
    }
   ],
   "source": [
    "train_size_tuple = (0.1, )\n",
    "k_fold_tuple = range(2, 16)\n",
    "\n",
    "parameters_for_k_fold_dict = {'train_size': train_size_tuple, 'k_fold': k_fold_tuple}\n",
    "total_length = 1\n",
    "for key_name_str in parameters_for_k_fold_dict.keys():\n",
    "    total_length *= len(parameters_for_k_fold_dict[key_name_str])\n",
    "    \n",
    "    \n",
    "train_size_stored_values = np.zeros(total_length)\n",
    "acc_mean_stored_values = np.zeros(total_length)\n",
    "k_fold_stored_values = np.zeros(total_length)\n",
    "\n",
    "\n",
    "clf_without_pca = SVC()\n",
    "count = 0\n",
    "for train_size in parameters_for_k_fold_dict['train_size']:\n",
    "    X_train, y_train, X_test, y_test = data_scaled['X_train_' + str(train_size)], \\\n",
    "    data_scaled['y_train_' + str(train_size)], data_scaled['X_test_' + str(train_size)], \\\n",
    "    data_scaled['y_test_' + str(train_size)]\n",
    "    clf_without_pca.fit(X_train, y_train)\n",
    "    for k_fold in parameters_for_k_fold_dict['k_fold']:\n",
    "        count += 1\n",
    "        scores = cross_val_score(clf_without_pca, X_train, y_train, cv=k_fold)\n",
    "        acc_mean = scores.mean()\n",
    "        train_size_stored_values[count - 1] = train_size\n",
    "        acc_mean_stored_values[count - 1] = acc_mean\n",
    "        k_fold_stored_values[count - 1] = k_fold\n",
    "        \n",
    "df_for_k_fold = pd.DataFrame({'Train Size': train_size_stored_values, 'K-fold(CV)': k_fold_stored_values,\\\n",
    "'Mean of Accuracy': acc_mean_stored_values})"
   ]
  },
  {
   "cell_type": "code",
   "execution_count": 164,
   "id": "a12c0216",
   "metadata": {},
   "outputs": [
    {
     "data": {
      "text/html": [
       "<div>\n",
       "<style scoped>\n",
       "    .dataframe tbody tr th:only-of-type {\n",
       "        vertical-align: middle;\n",
       "    }\n",
       "\n",
       "    .dataframe tbody tr th {\n",
       "        vertical-align: top;\n",
       "    }\n",
       "\n",
       "    .dataframe thead th {\n",
       "        text-align: right;\n",
       "    }\n",
       "</style>\n",
       "<table border=\"1\" class=\"dataframe\">\n",
       "  <thead>\n",
       "    <tr style=\"text-align: right;\">\n",
       "      <th></th>\n",
       "      <th>Train Size</th>\n",
       "      <th>K-fold(CV)</th>\n",
       "      <th>Mean of Accuracy</th>\n",
       "    </tr>\n",
       "  </thead>\n",
       "  <tbody>\n",
       "    <tr>\n",
       "      <th>0</th>\n",
       "      <td>0.1</td>\n",
       "      <td>2.0</td>\n",
       "      <td>0.402516</td>\n",
       "    </tr>\n",
       "    <tr>\n",
       "      <th>1</th>\n",
       "      <td>0.1</td>\n",
       "      <td>3.0</td>\n",
       "      <td>0.437107</td>\n",
       "    </tr>\n",
       "    <tr>\n",
       "      <th>2</th>\n",
       "      <td>0.1</td>\n",
       "      <td>4.0</td>\n",
       "      <td>0.440427</td>\n",
       "    </tr>\n",
       "    <tr>\n",
       "      <th>3</th>\n",
       "      <td>0.1</td>\n",
       "      <td>5.0</td>\n",
       "      <td>0.459276</td>\n",
       "    </tr>\n",
       "    <tr>\n",
       "      <th>4</th>\n",
       "      <td>0.1</td>\n",
       "      <td>6.0</td>\n",
       "      <td>0.446541</td>\n",
       "    </tr>\n",
       "    <tr>\n",
       "      <th>5</th>\n",
       "      <td>0.1</td>\n",
       "      <td>7.0</td>\n",
       "      <td>0.452933</td>\n",
       "    </tr>\n",
       "    <tr>\n",
       "      <th>6</th>\n",
       "      <td>0.1</td>\n",
       "      <td>8.0</td>\n",
       "      <td>0.446875</td>\n",
       "    </tr>\n",
       "    <tr>\n",
       "      <th>7</th>\n",
       "      <td>0.1</td>\n",
       "      <td>9.0</td>\n",
       "      <td>0.443651</td>\n",
       "    </tr>\n",
       "    <tr>\n",
       "      <th>8</th>\n",
       "      <td>0.1</td>\n",
       "      <td>10.0</td>\n",
       "      <td>0.449698</td>\n",
       "    </tr>\n",
       "    <tr>\n",
       "      <th>9</th>\n",
       "      <td>0.1</td>\n",
       "      <td>11.0</td>\n",
       "      <td>0.452866</td>\n",
       "    </tr>\n",
       "    <tr>\n",
       "      <th>10</th>\n",
       "      <td>0.1</td>\n",
       "      <td>12.0</td>\n",
       "      <td>0.443495</td>\n",
       "    </tr>\n",
       "    <tr>\n",
       "      <th>11</th>\n",
       "      <td>0.1</td>\n",
       "      <td>13.0</td>\n",
       "      <td>0.446795</td>\n",
       "    </tr>\n",
       "    <tr>\n",
       "      <th>12</th>\n",
       "      <td>0.1</td>\n",
       "      <td>14.0</td>\n",
       "      <td>0.456522</td>\n",
       "    </tr>\n",
       "    <tr>\n",
       "      <th>13</th>\n",
       "      <td>0.1</td>\n",
       "      <td>15.0</td>\n",
       "      <td>0.455844</td>\n",
       "    </tr>\n",
       "  </tbody>\n",
       "</table>\n",
       "</div>"
      ],
      "text/plain": [
       "    Train Size  K-fold(CV)  Mean of Accuracy\n",
       "0          0.1         2.0          0.402516\n",
       "1          0.1         3.0          0.437107\n",
       "2          0.1         4.0          0.440427\n",
       "3          0.1         5.0          0.459276\n",
       "4          0.1         6.0          0.446541\n",
       "5          0.1         7.0          0.452933\n",
       "6          0.1         8.0          0.446875\n",
       "7          0.1         9.0          0.443651\n",
       "8          0.1        10.0          0.449698\n",
       "9          0.1        11.0          0.452866\n",
       "10         0.1        12.0          0.443495\n",
       "11         0.1        13.0          0.446795\n",
       "12         0.1        14.0          0.456522\n",
       "13         0.1        15.0          0.455844"
      ]
     },
     "execution_count": 164,
     "metadata": {},
     "output_type": "execute_result"
    }
   ],
   "source": [
    "df_for_k_fold"
   ]
  },
  {
   "cell_type": "code",
   "execution_count": 165,
   "id": "e05c72a0",
   "metadata": {},
   "outputs": [
    {
     "data": {
      "text/html": [
       "<div>\n",
       "<style scoped>\n",
       "    .dataframe tbody tr th:only-of-type {\n",
       "        vertical-align: middle;\n",
       "    }\n",
       "\n",
       "    .dataframe tbody tr th {\n",
       "        vertical-align: top;\n",
       "    }\n",
       "\n",
       "    .dataframe thead th {\n",
       "        text-align: right;\n",
       "    }\n",
       "</style>\n",
       "<table border=\"1\" class=\"dataframe\">\n",
       "  <thead>\n",
       "    <tr style=\"text-align: right;\">\n",
       "      <th></th>\n",
       "      <th>Train Size</th>\n",
       "      <th>K-fold(CV)</th>\n",
       "      <th>Mean of Accuracy</th>\n",
       "    </tr>\n",
       "  </thead>\n",
       "  <tbody>\n",
       "    <tr>\n",
       "      <th>0</th>\n",
       "      <td>0.1</td>\n",
       "      <td>2.0</td>\n",
       "      <td>0.402516</td>\n",
       "    </tr>\n",
       "    <tr>\n",
       "      <th>1</th>\n",
       "      <td>0.1</td>\n",
       "      <td>3.0</td>\n",
       "      <td>0.437107</td>\n",
       "    </tr>\n",
       "    <tr>\n",
       "      <th>2</th>\n",
       "      <td>0.1</td>\n",
       "      <td>4.0</td>\n",
       "      <td>0.440427</td>\n",
       "    </tr>\n",
       "    <tr>\n",
       "      <th>3</th>\n",
       "      <td>0.1</td>\n",
       "      <td>5.0</td>\n",
       "      <td>0.459276</td>\n",
       "    </tr>\n",
       "    <tr>\n",
       "      <th>4</th>\n",
       "      <td>0.1</td>\n",
       "      <td>6.0</td>\n",
       "      <td>0.446541</td>\n",
       "    </tr>\n",
       "    <tr>\n",
       "      <th>5</th>\n",
       "      <td>0.1</td>\n",
       "      <td>7.0</td>\n",
       "      <td>0.452933</td>\n",
       "    </tr>\n",
       "    <tr>\n",
       "      <th>6</th>\n",
       "      <td>0.1</td>\n",
       "      <td>8.0</td>\n",
       "      <td>0.446875</td>\n",
       "    </tr>\n",
       "    <tr>\n",
       "      <th>7</th>\n",
       "      <td>0.1</td>\n",
       "      <td>9.0</td>\n",
       "      <td>0.443651</td>\n",
       "    </tr>\n",
       "    <tr>\n",
       "      <th>8</th>\n",
       "      <td>0.1</td>\n",
       "      <td>10.0</td>\n",
       "      <td>0.449698</td>\n",
       "    </tr>\n",
       "    <tr>\n",
       "      <th>9</th>\n",
       "      <td>0.1</td>\n",
       "      <td>11.0</td>\n",
       "      <td>0.452866</td>\n",
       "    </tr>\n",
       "    <tr>\n",
       "      <th>10</th>\n",
       "      <td>0.1</td>\n",
       "      <td>12.0</td>\n",
       "      <td>0.443495</td>\n",
       "    </tr>\n",
       "    <tr>\n",
       "      <th>11</th>\n",
       "      <td>0.1</td>\n",
       "      <td>13.0</td>\n",
       "      <td>0.446795</td>\n",
       "    </tr>\n",
       "    <tr>\n",
       "      <th>12</th>\n",
       "      <td>0.1</td>\n",
       "      <td>14.0</td>\n",
       "      <td>0.456522</td>\n",
       "    </tr>\n",
       "    <tr>\n",
       "      <th>13</th>\n",
       "      <td>0.1</td>\n",
       "      <td>15.0</td>\n",
       "      <td>0.455844</td>\n",
       "    </tr>\n",
       "  </tbody>\n",
       "</table>\n",
       "</div>"
      ],
      "text/plain": [
       "    Train Size  K-fold(CV)  Mean of Accuracy\n",
       "0          0.1         2.0          0.402516\n",
       "1          0.1         3.0          0.437107\n",
       "2          0.1         4.0          0.440427\n",
       "3          0.1         5.0          0.459276\n",
       "4          0.1         6.0          0.446541\n",
       "5          0.1         7.0          0.452933\n",
       "6          0.1         8.0          0.446875\n",
       "7          0.1         9.0          0.443651\n",
       "8          0.1        10.0          0.449698\n",
       "9          0.1        11.0          0.452866\n",
       "10         0.1        12.0          0.443495\n",
       "11         0.1        13.0          0.446795\n",
       "12         0.1        14.0          0.456522\n",
       "13         0.1        15.0          0.455844"
      ]
     },
     "execution_count": 165,
     "metadata": {},
     "output_type": "execute_result"
    }
   ],
   "source": [
    "df1 = df_for_k_fold[df_for_k_fold['Train Size'] == 0.1]\n",
    "df1"
   ]
  },
  {
   "cell_type": "code",
   "execution_count": 166,
   "id": "66cb5c0b",
   "metadata": {},
   "outputs": [
    {
     "data": {
      "text/html": [
       "<div>\n",
       "<style scoped>\n",
       "    .dataframe tbody tr th:only-of-type {\n",
       "        vertical-align: middle;\n",
       "    }\n",
       "\n",
       "    .dataframe tbody tr th {\n",
       "        vertical-align: top;\n",
       "    }\n",
       "\n",
       "    .dataframe thead th {\n",
       "        text-align: right;\n",
       "    }\n",
       "</style>\n",
       "<table border=\"1\" class=\"dataframe\">\n",
       "  <thead>\n",
       "    <tr style=\"text-align: right;\">\n",
       "      <th></th>\n",
       "      <th>Train Size</th>\n",
       "      <th>K-fold(CV)</th>\n",
       "      <th>Mean of Accuracy</th>\n",
       "    </tr>\n",
       "  </thead>\n",
       "  <tbody>\n",
       "    <tr>\n",
       "      <th>3</th>\n",
       "      <td>0.1</td>\n",
       "      <td>5.0</td>\n",
       "      <td>0.459276</td>\n",
       "    </tr>\n",
       "  </tbody>\n",
       "</table>\n",
       "</div>"
      ],
      "text/plain": [
       "   Train Size  K-fold(CV)  Mean of Accuracy\n",
       "3         0.1         5.0          0.459276"
      ]
     },
     "execution_count": 166,
     "metadata": {},
     "output_type": "execute_result"
    }
   ],
   "source": [
    "df1_result = df1[df1['Mean of Accuracy'] == (df1['Mean of Accuracy']).max()]\n",
    "df1_result"
   ]
  },
  {
   "cell_type": "code",
   "execution_count": 167,
   "id": "edc34972",
   "metadata": {},
   "outputs": [],
   "source": [
    "best_k_fold = 5"
   ]
  },
  {
   "cell_type": "markdown",
   "id": "53ec3735",
   "metadata": {},
   "source": [
    "$\\newline$\n",
    "$\\newline$\n",
    "<a name=''>$\\large{\\bf{\\text{References}}}$</a>\n",
    "$\\newline$\n",
    "$\\newline$\n",
    "- <a name=''>[$\\bf{\\text{Pisson Distribution}}$](https://numpy.org/doc/stable/reference/random/generated/numpy.random.poisson.html)</a>\n",
    "$\\newline$\n",
    "$\\newline$\n",
    "- <a name=''>[$\\bf{\\text{Zero Padding in Numpy}}$](https://numpy.org/doc/stable/reference/generated/numpy.pad.html)</a>\n",
    "$\\newline$\n",
    "$\\newline$\n",
    "- <a name=''>[$\\bf{\\text{Concatenation in Numpy}}$](https://numpy.org/doc/stable/reference/generated/numpy.concatenate.html)</a>\n",
    "$\\newline$\n",
    "$\\newline$"
   ]
  }
 ],
 "metadata": {
  "kernelspec": {
   "display_name": "Python 3 (ipykernel)",
   "language": "python",
   "name": "python3"
  },
  "language_info": {
   "codemirror_mode": {
    "name": "ipython",
    "version": 3
   },
   "file_extension": ".py",
   "mimetype": "text/x-python",
   "name": "python",
   "nbconvert_exporter": "python",
   "pygments_lexer": "ipython3",
   "version": "3.10.8"
  }
 },
 "nbformat": 4,
 "nbformat_minor": 5
}
