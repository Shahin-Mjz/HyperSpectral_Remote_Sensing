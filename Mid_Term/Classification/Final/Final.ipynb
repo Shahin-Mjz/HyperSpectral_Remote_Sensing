{
 "cells": [
  {
   "cell_type": "code",
   "execution_count": 1,
   "id": "dd34b5e7",
   "metadata": {},
   "outputs": [],
   "source": [
    "import os\n",
    "import numpy as np\n",
    "import pandas as pd\n",
    "import pymatreader as pymat\n",
    "from sklearn.svm import SVC\n",
    "from termcolor import colored\n",
    "import matplotlib.pyplot as plt\n",
    "from sklearn.decomposition import PCA\n",
    "from sklearn.pipeline import Pipeline, make_pipeline\n",
    "from sklearn.preprocessing import StandardScaler, MinMaxScaler\n",
    "from sklearn.model_selection import GridSearchCV, cross_val_score, train_test_split\n",
    "from sklearn.metrics import accuracy_score, confusion_matrix, ConfusionMatrixDisplay, cohen_kappa_score"
   ]
  },
  {
   "cell_type": "code",
   "execution_count": 2,
   "id": "0a277e20",
   "metadata": {},
   "outputs": [],
   "source": [
    "path_str = os.getcwd() + '/'"
   ]
  },
  {
   "cell_type": "code",
   "execution_count": 5,
   "id": "b92c7fc8",
   "metadata": {},
   "outputs": [],
   "source": [
    "data_file_name = 'Majazi1.mat'\n",
    "gt_file_name = 'Majazi1_gt.mat'"
   ]
  },
  {
   "cell_type": "code",
   "execution_count": 7,
   "id": "b32cd618",
   "metadata": {},
   "outputs": [],
   "source": [
    "data = pymat.read_mat(path_str + data_file_name)['Botswana']\n",
    "data_gt = pymat.read_mat(path_str + gt_file_name)['Botswana_gt']"
   ]
  },
  {
   "cell_type": "code",
   "execution_count": 8,
   "id": "c7ab3784",
   "metadata": {},
   "outputs": [
    {
     "name": "stdout",
     "output_type": "stream",
     "text": [
      "\n",
      "Shape of Data: (1476, 256, 145)\n",
      "\n",
      "\n",
      "Shape of GT: (1476, 256)\n",
      "\n"
     ]
    }
   ],
   "source": [
    "print(f'\\nShape of Data: {data.shape}\\n')\n",
    "print(f'\\nShape of GT: {data_gt.shape}\\n')"
   ]
  },
  {
   "cell_type": "code",
   "execution_count": 9,
   "id": "20b29e29",
   "metadata": {},
   "outputs": [],
   "source": [
    "def BG_removal(data_3D: np.ndarray, data_gt_2D: np.ndarray) -> (np.ndarray, np.ndarray):\n",
    "    data_copy = data_3D.copy()\n",
    "    gt_copy = data_gt_2D.copy()\n",
    "    \n",
    "    data_reshaped = data_copy.reshape((data_copy.shape[0] * data_copy.shape[1], data_copy.shape[2]))\n",
    "    gt_reshaped = gt_copy.ravel()\n",
    "    classes_unique = np.unique(gt_reshaped)\n",
    "    new_data = data_reshaped[gt_reshaped != 0]\n",
    "    new_gt = gt_reshaped[gt_reshaped != 0]\n",
    "    \n",
    "    return new_data, new_gt"
   ]
  },
  {
   "cell_type": "code",
   "execution_count": 10,
   "id": "09980311",
   "metadata": {},
   "outputs": [],
   "source": [
    "data_without_BG, gt_without_BG = BG_removal(data_3D=data, data_gt_2D=data_gt)"
   ]
  },
  {
   "cell_type": "code",
   "execution_count": 11,
   "id": "de7ee628",
   "metadata": {},
   "outputs": [
    {
     "name": "stdout",
     "output_type": "stream",
     "text": [
      "\n",
      "Shape of the BG_removed Data: \u001b[34m(3248, 145)\u001b[0m\n",
      "\n",
      " ... and its \u001b[34mData Type\u001b[0m: \u001b[32muint16\u001b[0m\n",
      "\n",
      "\n",
      "\n",
      "Shape of the BG_removed GT: \u001b[34m(3248,)\u001b[0m\n",
      "\n",
      " ... and its \u001b[34mData Type\u001b[0m: \u001b[32muint8\u001b[0m\n",
      "\n"
     ]
    }
   ],
   "source": [
    "print(f'\\nShape of the BG_removed Data: {colored(data_without_BG.shape, \"blue\")}\\n')\n",
    "print(f' ... and its {colored(\"Data Type\", \"blue\")}: {colored(data_without_BG.dtype, \"green\")}\\n\\n')\n",
    "print(f'\\nShape of the BG_removed GT: {colored(gt_without_BG.shape, \"blue\")}\\n')\n",
    "print(f' ... and its {colored(\"Data Type\", \"blue\")}: {colored(gt_without_BG.dtype, \"green\")}\\n')"
   ]
  },
  {
   "cell_type": "code",
   "execution_count": 12,
   "id": "2d181972",
   "metadata": {},
   "outputs": [],
   "source": [
    "def class_separator(X: np.ndarray, y: np.ndarray) -> dict:\n",
    "    \n",
    "    unique_labels = np.unique(y)\n",
    "    total_data = {}\n",
    "    for class_name in unique_labels:\n",
    "        total_data[str(class_name)], total_data[str(class_name) + '_label'] = \\\n",
    "        X[y == class_name], y[y == class_name]\n",
    "        \n",
    "        \n",
    "    return total_data\n",
    "\n",
    "\n",
    "\n",
    "def train_test_for_each_class(X: np.ndarray, y: np.ndarray, train_size_float: float) -> (dict, dict):\n",
    "    \n",
    "    splitter = train_test_split\n",
    "    data = class_separator(X, y)\n",
    "    num_classes = int(len(data) / 2)\n",
    "    train_data, test_data = {}, {}\n",
    "    for class_name in range(1, num_classes + 1):\n",
    "        train_data[str(class_name)], test_data[str(class_name)], train_data[str(class_name) + '_label'], \\\n",
    "        test_data[str(class_name) + '_label'] = splitter(data[str(class_name)], \\\n",
    "                                            data[str(class_name) + '_label'], train_size=train_size_float, \\\n",
    "                                                        shuffle=True, random_state=0)\n",
    "        \n",
    "    return train_data, test_data\n",
    "\n",
    "\n",
    "def train_test_splitter(X: np.ndarray, y: np.ndarray, train_size_floatt: float) -> \\\n",
    "(np.ndarray, np.ndarray, np.ndarray, np.ndarray):\n",
    "    \n",
    "    data_train, data_test = train_test_for_each_class(X, y, train_size_floatt)\n",
    "    keys = list(data_train.keys())\n",
    "    X_train, X_test, y_train, y_test = data_train[keys[0]], \\\n",
    "    data_test[keys[0]], data_train[keys[1]], data_test[keys[1]]\n",
    "    \n",
    "    re_keys = keys[2:]\n",
    "    n = int(len(re_keys) / 2)\n",
    "    for i in range(n):\n",
    "        X_train, X_test, y_train, y_test = np.concatenate((X_train, data_train[re_keys[2*i]]), axis=0), \\\n",
    "        np.concatenate((X_test, data_test[re_keys[2*i]]), axis=0), \\\n",
    "        np.concatenate((y_train, data_train[re_keys[2*i + 1]])), \\\n",
    "        np.concatenate((y_test, data_test[re_keys[2*i + 1]]))\n",
    "        \n",
    "    \n",
    "    return X_train, X_test, y_train, y_test"
   ]
  },
  {
   "cell_type": "code",
   "execution_count": 25,
   "id": "05431810",
   "metadata": {},
   "outputs": [],
   "source": [
    "standard_scaler = StandardScaler()"
   ]
  },
  {
   "cell_type": "code",
   "execution_count": 15,
   "id": "5888c826",
   "metadata": {},
   "outputs": [
    {
     "data": {
      "text/plain": [
       "(3248, 145)"
      ]
     },
     "execution_count": 15,
     "metadata": {},
     "output_type": "execute_result"
    }
   ],
   "source": [
    "data_without_BG.shape"
   ]
  },
  {
   "cell_type": "code",
   "execution_count": 16,
   "id": "138087b2",
   "metadata": {},
   "outputs": [],
   "source": [
    "input_data = data_without_BG\n",
    "input_gt = gt_without_BG"
   ]
  },
  {
   "cell_type": "code",
   "execution_count": 17,
   "id": "0d2ec033",
   "metadata": {},
   "outputs": [],
   "source": [
    "pca = PCA(n_components=3)"
   ]
  },
  {
   "cell_type": "code",
   "execution_count": 18,
   "id": "7b424b82",
   "metadata": {},
   "outputs": [],
   "source": [
    "data_reduced = pca.fit_transform(input_data)"
   ]
  },
  {
   "cell_type": "code",
   "execution_count": 19,
   "id": "202fde8e",
   "metadata": {},
   "outputs": [
    {
     "data": {
      "text/plain": [
       "(3248, 3)"
      ]
     },
     "execution_count": 19,
     "metadata": {},
     "output_type": "execute_result"
    }
   ],
   "source": [
    "data_reduced.shape"
   ]
  },
  {
   "cell_type": "code",
   "execution_count": 20,
   "id": "9f55afc8",
   "metadata": {},
   "outputs": [],
   "source": [
    "data_tensor = data_reduced.reshape((116, 28, 3))"
   ]
  },
  {
   "cell_type": "code",
   "execution_count": 21,
   "id": "c93e5669",
   "metadata": {},
   "outputs": [
    {
     "data": {
      "text/plain": [
       "(116, 28, 3)"
      ]
     },
     "execution_count": 21,
     "metadata": {},
     "output_type": "execute_result"
    }
   ],
   "source": [
    "data_tensor.shape"
   ]
  },
  {
   "cell_type": "code",
   "execution_count": 22,
   "id": "77e120a6",
   "metadata": {},
   "outputs": [],
   "source": [
    "band1 = data_tensor[:, :, [0]].reshape((116, 28))\n",
    "band2 = data_tensor[:, :, [1]].reshape((116, 28))\n",
    "band3 = data_tensor[:, :, [2]].reshape((116, 28))"
   ]
  },
  {
   "cell_type": "code",
   "execution_count": 23,
   "id": "08e085f7",
   "metadata": {},
   "outputs": [
    {
     "data": {
      "text/plain": [
       "(116, 28)"
      ]
     },
     "execution_count": 23,
     "metadata": {},
     "output_type": "execute_result"
    }
   ],
   "source": [
    "band1.shape"
   ]
  },
  {
   "cell_type": "markdown",
   "id": "840f7ec4",
   "metadata": {},
   "source": [
    "### Morphology:"
   ]
  },
  {
   "cell_type": "code",
   "execution_count": 26,
   "id": "b96ff2f0",
   "metadata": {},
   "outputs": [],
   "source": [
    "import cv2 as cv"
   ]
  },
  {
   "cell_type": "markdown",
   "id": "737d316e",
   "metadata": {},
   "source": [
    "- **Opening**"
   ]
  },
  {
   "cell_type": "markdown",
   "id": "e762235e",
   "metadata": {},
   "source": [
    "- - **band 1**"
   ]
  },
  {
   "cell_type": "code",
   "execution_count": 27,
   "id": "2caf1bb7",
   "metadata": {},
   "outputs": [],
   "source": [
    "data_morph = band1"
   ]
  },
  {
   "cell_type": "code",
   "execution_count": 28,
   "id": "1c19af2c",
   "metadata": {},
   "outputs": [],
   "source": [
    "kernel = np.ones((1, 1), np.uint8)\n",
    "data_opening_1 = cv.morphologyEx(data_morph, cv.MORPH_OPEN, kernel)\n",
    "\n",
    "m, n = data_opening_1.shape\n",
    "data_opening_1_tensor = data_opening_1.reshape((m, n, 1))"
   ]
  },
  {
   "cell_type": "code",
   "execution_count": 29,
   "id": "16ffe01d",
   "metadata": {},
   "outputs": [],
   "source": [
    "kernel = np.ones((2, 2), np.uint8)\n",
    "data_opening_2 = cv.morphologyEx(data_morph, cv.MORPH_OPEN, kernel)\n",
    "\n",
    "m, n = data_opening_2.shape\n",
    "data_opening_2_tensor = data_opening_2.reshape((m, n, 1))"
   ]
  },
  {
   "cell_type": "code",
   "execution_count": 30,
   "id": "7f40240b",
   "metadata": {},
   "outputs": [],
   "source": [
    "kernel = np.ones((3, 3), np.uint8)\n",
    "data_opening_3 = cv.morphologyEx(data_morph, cv.MORPH_OPEN, kernel)\n",
    "\n",
    "m, n = data_opening_3.shape\n",
    "data_opening_3_tensor = data_opening_3.reshape((m, n, 1))"
   ]
  },
  {
   "cell_type": "code",
   "execution_count": 31,
   "id": "781b8693",
   "metadata": {},
   "outputs": [],
   "source": [
    "kernel = np.ones((4, 4), np.uint8)\n",
    "data_opening_4 = cv.morphologyEx(data_morph, cv.MORPH_OPEN, kernel)\n",
    "\n",
    "m, n = data_opening_4.shape\n",
    "data_opening_4_tensor = data_opening_4.reshape((m, n, 1))"
   ]
  },
  {
   "cell_type": "code",
   "execution_count": 32,
   "id": "b72ef22c",
   "metadata": {},
   "outputs": [],
   "source": [
    "band1_opening_1234 = np.concatenate((data_opening_1_tensor, data_opening_2_tensor, data_opening_3_tensor, \\\n",
    "                                    data_opening_4_tensor), \\\n",
    "                                    axis=2)"
   ]
  },
  {
   "cell_type": "markdown",
   "id": "1a79f8da",
   "metadata": {},
   "source": [
    "- - **band 2**"
   ]
  },
  {
   "cell_type": "code",
   "execution_count": 33,
   "id": "5a8cd9dc",
   "metadata": {},
   "outputs": [],
   "source": [
    "data_morph = band2"
   ]
  },
  {
   "cell_type": "code",
   "execution_count": 34,
   "id": "3a0467d9",
   "metadata": {},
   "outputs": [],
   "source": [
    "kernel = np.ones((1, 1), np.uint8)\n",
    "data_opening_1 = cv.morphologyEx(data_morph, cv.MORPH_OPEN, kernel)\n",
    "\n",
    "m, n = data_opening_1.shape\n",
    "data_opening_1_tensor = data_opening_1.reshape((m, n, 1))"
   ]
  },
  {
   "cell_type": "code",
   "execution_count": 35,
   "id": "e3b7b52b",
   "metadata": {},
   "outputs": [],
   "source": [
    "kernel = np.ones((2, 2), np.uint8)\n",
    "data_opening_2 = cv.morphologyEx(data_morph, cv.MORPH_OPEN, kernel)\n",
    "\n",
    "m, n = data_opening_2.shape\n",
    "data_opening_2_tensor = data_opening_2.reshape((m, n, 1))"
   ]
  },
  {
   "cell_type": "code",
   "execution_count": 36,
   "id": "63cfd3b4",
   "metadata": {},
   "outputs": [],
   "source": [
    "kernel = np.ones((3, 3), np.uint8)\n",
    "data_opening_3 = cv.morphologyEx(data_morph, cv.MORPH_OPEN, kernel)\n",
    "\n",
    "m, n = data_opening_3.shape\n",
    "data_opening_3_tensor = data_opening_3.reshape((m, n, 1))"
   ]
  },
  {
   "cell_type": "code",
   "execution_count": 37,
   "id": "050bb675",
   "metadata": {},
   "outputs": [],
   "source": [
    "kernel = np.ones((4, 4), np.uint8)\n",
    "data_opening_4 = cv.morphologyEx(data_morph, cv.MORPH_OPEN, kernel)\n",
    "\n",
    "m, n = data_opening_4.shape\n",
    "data_opening_4_tensor = data_opening_4.reshape((m, n, 1))"
   ]
  },
  {
   "cell_type": "code",
   "execution_count": 38,
   "id": "f6bca3a2",
   "metadata": {},
   "outputs": [],
   "source": [
    "band2_opening_1234 = np.concatenate((data_opening_1_tensor, data_opening_2_tensor, data_opening_3_tensor, \\\n",
    "                                    data_opening_4_tensor), \\\n",
    "                                    axis=2)"
   ]
  },
  {
   "cell_type": "markdown",
   "id": "b0abd25a",
   "metadata": {},
   "source": [
    "- - **band 3**"
   ]
  },
  {
   "cell_type": "code",
   "execution_count": 39,
   "id": "658b874d",
   "metadata": {},
   "outputs": [],
   "source": [
    "data_morph = band3"
   ]
  },
  {
   "cell_type": "code",
   "execution_count": 40,
   "id": "b3a913c3",
   "metadata": {},
   "outputs": [],
   "source": [
    "kernel = np.ones((1, 1), np.uint8)\n",
    "data_opening_1 = cv.morphologyEx(data_morph, cv.MORPH_OPEN, kernel)\n",
    "\n",
    "m, n = data_opening_1.shape\n",
    "data_opening_1_tensor = data_opening_1.reshape((m, n, 1))"
   ]
  },
  {
   "cell_type": "code",
   "execution_count": 41,
   "id": "f1e7975b",
   "metadata": {},
   "outputs": [],
   "source": [
    "kernel = np.ones((2, 2), np.uint8)\n",
    "data_opening_2 = cv.morphologyEx(data_morph, cv.MORPH_OPEN, kernel)\n",
    "\n",
    "m, n = data_opening_2.shape\n",
    "data_opening_2_tensor = data_opening_2.reshape((m, n, 1))"
   ]
  },
  {
   "cell_type": "code",
   "execution_count": 42,
   "id": "69cfd2e9",
   "metadata": {},
   "outputs": [],
   "source": [
    "kernel = np.ones((3, 3), np.uint8)\n",
    "data_opening_3 = cv.morphologyEx(data_morph, cv.MORPH_OPEN, kernel)\n",
    "\n",
    "m, n = data_opening_3.shape\n",
    "data_opening_3_tensor = data_opening_3.reshape((m, n, 1))"
   ]
  },
  {
   "cell_type": "code",
   "execution_count": 43,
   "id": "b9c2482d",
   "metadata": {},
   "outputs": [],
   "source": [
    "kernel = np.ones((4, 4), np.uint8)\n",
    "data_opening_4 = cv.morphologyEx(data_morph, cv.MORPH_OPEN, kernel)\n",
    "\n",
    "m, n = data_opening_4.shape\n",
    "data_opening_4_tensor = data_opening_4.reshape((m, n, 1))"
   ]
  },
  {
   "cell_type": "code",
   "execution_count": 44,
   "id": "cafa3225",
   "metadata": {},
   "outputs": [],
   "source": [
    "band3_opening_1234 = np.concatenate((data_opening_1_tensor, data_opening_2_tensor, data_opening_3_tensor, \\\n",
    "                                    data_opening_4_tensor), \\\n",
    "                                    axis=2)"
   ]
  },
  {
   "cell_type": "code",
   "execution_count": 45,
   "id": "fcf3718f",
   "metadata": {},
   "outputs": [
    {
     "data": {
      "text/plain": [
       "(116, 28, 12)"
      ]
     },
     "execution_count": 45,
     "metadata": {},
     "output_type": "execute_result"
    }
   ],
   "source": [
    "data_total_opening = np.concatenate((band1_opening_1234, band2_opening_1234, band3_opening_1234), axis=2)\n",
    "data_total_opening.shape"
   ]
  },
  {
   "cell_type": "markdown",
   "id": "985e3537",
   "metadata": {},
   "source": [
    "- **Closing**"
   ]
  },
  {
   "cell_type": "markdown",
   "id": "1c6c899a",
   "metadata": {},
   "source": [
    "- - **band 1**"
   ]
  },
  {
   "cell_type": "code",
   "execution_count": 46,
   "id": "c2ad7708",
   "metadata": {},
   "outputs": [],
   "source": [
    "data_morph = band1"
   ]
  },
  {
   "cell_type": "code",
   "execution_count": 47,
   "id": "abd2a54f",
   "metadata": {},
   "outputs": [],
   "source": [
    "kernel = np.ones((1, 1), np.uint8)\n",
    "data_closing_1 = cv.morphologyEx(data_morph, cv.MORPH_CLOSE, kernel)\n",
    "\n",
    "m, n = data_closing_1.shape\n",
    "data_closing_1_tensor = data_closing_1.reshape((m, n, 1))"
   ]
  },
  {
   "cell_type": "code",
   "execution_count": 48,
   "id": "b57bb5cd",
   "metadata": {},
   "outputs": [],
   "source": [
    "kernel = np.ones((2, 2), np.uint8)\n",
    "data_closing_2 = cv.morphologyEx(data_morph, cv.MORPH_CLOSE, kernel)\n",
    "\n",
    "m, n = data_closing_2.shape\n",
    "data_closing_2_tensor = data_closing_2.reshape((m, n, 1))"
   ]
  },
  {
   "cell_type": "code",
   "execution_count": 49,
   "id": "982032dd",
   "metadata": {},
   "outputs": [],
   "source": [
    "kernel = np.ones((3, 3), np.uint8)\n",
    "data_closing_3 = cv.morphologyEx(data_morph, cv.MORPH_CLOSE, kernel)\n",
    "\n",
    "m, n = data_closing_3.shape\n",
    "data_closing_3_tensor = data_closing_3.reshape((m, n, 1))"
   ]
  },
  {
   "cell_type": "code",
   "execution_count": 50,
   "id": "125e9ce7",
   "metadata": {},
   "outputs": [],
   "source": [
    "kernel = np.ones((4, 4), np.uint8)\n",
    "data_closing_4 = cv.morphologyEx(data_morph, cv.MORPH_CLOSE, kernel)\n",
    "\n",
    "m, n = data_closing_4.shape\n",
    "data_closing_4_tensor = data_closing_4.reshape((m, n, 1))"
   ]
  },
  {
   "cell_type": "code",
   "execution_count": 51,
   "id": "933ddc83",
   "metadata": {},
   "outputs": [],
   "source": [
    "band1_closing_1234 = np.concatenate((data_closing_1_tensor, data_closing_2_tensor, data_closing_3_tensor, \\\n",
    "                                    data_closing_4_tensor), \\\n",
    "                                    axis=2)"
   ]
  },
  {
   "cell_type": "markdown",
   "id": "841f8012",
   "metadata": {},
   "source": [
    "- - **band 2**"
   ]
  },
  {
   "cell_type": "code",
   "execution_count": 52,
   "id": "572fba6d",
   "metadata": {},
   "outputs": [],
   "source": [
    "data_morph = band2"
   ]
  },
  {
   "cell_type": "code",
   "execution_count": 53,
   "id": "9b00a544",
   "metadata": {},
   "outputs": [],
   "source": [
    "kernel = np.ones((1, 1), np.uint8)\n",
    "data_closing_1 = cv.morphologyEx(data_morph, cv.MORPH_CLOSE, kernel)\n",
    "\n",
    "m, n = data_closing_1.shape\n",
    "data_closing_1_tensor = data_closing_1.reshape((m, n, 1))"
   ]
  },
  {
   "cell_type": "code",
   "execution_count": 54,
   "id": "92ba3e30",
   "metadata": {},
   "outputs": [],
   "source": [
    "kernel = np.ones((2, 2), np.uint8)\n",
    "data_closing_2 = cv.morphologyEx(data_morph, cv.MORPH_CLOSE, kernel)\n",
    "\n",
    "m, n = data_closing_2.shape\n",
    "data_closing_2_tensor = data_closing_2.reshape((m, n, 1))"
   ]
  },
  {
   "cell_type": "code",
   "execution_count": 55,
   "id": "2ece7e39",
   "metadata": {},
   "outputs": [],
   "source": [
    "kernel = np.ones((3, 3), np.uint8)\n",
    "data_closing_3 = cv.morphologyEx(data_morph, cv.MORPH_CLOSE, kernel)\n",
    "\n",
    "m, n = data_closing_3.shape\n",
    "data_closing_3_tensor = data_closing_3.reshape((m, n, 1))"
   ]
  },
  {
   "cell_type": "code",
   "execution_count": 56,
   "id": "b15bb225",
   "metadata": {},
   "outputs": [],
   "source": [
    "kernel = np.ones((4, 4), np.uint8)\n",
    "data_closing_4 = cv.morphologyEx(data_morph, cv.MORPH_CLOSE, kernel)\n",
    "\n",
    "m, n = data_closing_4.shape\n",
    "data_closing_4_tensor = data_closing_4.reshape((m, n, 1))"
   ]
  },
  {
   "cell_type": "code",
   "execution_count": 57,
   "id": "4f3e76f0",
   "metadata": {},
   "outputs": [],
   "source": [
    "band2_closing_1234 = np.concatenate((data_closing_1_tensor, data_closing_2_tensor, data_closing_3_tensor, \\\n",
    "                                    data_closing_4_tensor), \\\n",
    "                                    axis=2)"
   ]
  },
  {
   "cell_type": "markdown",
   "id": "96a57e8f",
   "metadata": {},
   "source": [
    "- - **band 3**"
   ]
  },
  {
   "cell_type": "code",
   "execution_count": 58,
   "id": "1f6d84b2",
   "metadata": {},
   "outputs": [],
   "source": [
    "data_morph = band3"
   ]
  },
  {
   "cell_type": "code",
   "execution_count": 59,
   "id": "8ac812a2",
   "metadata": {},
   "outputs": [],
   "source": [
    "kernel = np.ones((1, 1), np.uint8)\n",
    "data_closing_1 = cv.morphologyEx(data_morph, cv.MORPH_CLOSE, kernel)\n",
    "\n",
    "m, n = data_closing_1.shape\n",
    "data_closing_1_tensor = data_closing_1.reshape((m, n, 1))"
   ]
  },
  {
   "cell_type": "code",
   "execution_count": 61,
   "id": "d15fb7db",
   "metadata": {},
   "outputs": [],
   "source": [
    "kernel = np.ones((2, 2), np.uint8)\n",
    "data_closing_2 = cv.morphologyEx(data_morph, cv.MORPH_CLOSE, kernel)\n",
    "\n",
    "m, n = data_closing_2.shape\n",
    "data_closing_2_tensor = data_closing_2.reshape((m, n, 1))"
   ]
  },
  {
   "cell_type": "code",
   "execution_count": 62,
   "id": "4e8a4906",
   "metadata": {},
   "outputs": [],
   "source": [
    "kernel = np.ones((3, 3), np.uint8)\n",
    "data_closing_3 = cv.morphologyEx(data_morph, cv.MORPH_CLOSE, kernel)\n",
    "\n",
    "m, n = data_closing_3.shape\n",
    "data_closing_3_tensor = data_closing_3.reshape((m, n, 1))"
   ]
  },
  {
   "cell_type": "code",
   "execution_count": 63,
   "id": "e82cfdb1",
   "metadata": {},
   "outputs": [],
   "source": [
    "kernel = np.ones((4, 4), np.uint8)\n",
    "data_closing_4 = cv.morphologyEx(data_morph, cv.MORPH_CLOSE, kernel)\n",
    "\n",
    "m, n = data_closing_4.shape\n",
    "data_closing_4_tensor = data_closing_4.reshape((m, n, 1))"
   ]
  },
  {
   "cell_type": "code",
   "execution_count": 64,
   "id": "76dfbc02",
   "metadata": {},
   "outputs": [],
   "source": [
    "band3_closing_1234 = np.concatenate((data_closing_1_tensor, data_closing_2_tensor, data_closing_3_tensor, \\\n",
    "                                    data_closing_4_tensor), \\\n",
    "                                    axis=2)"
   ]
  },
  {
   "cell_type": "code",
   "execution_count": 65,
   "id": "8c6e09c1",
   "metadata": {},
   "outputs": [
    {
     "data": {
      "text/plain": [
       "(116, 28, 12)"
      ]
     },
     "execution_count": 65,
     "metadata": {},
     "output_type": "execute_result"
    }
   ],
   "source": [
    "data_total_closing = np.concatenate((band1_closing_1234, band2_closing_1234, band3_closing_1234), axis=2)\n",
    "data_total_closing.shape"
   ]
  },
  {
   "cell_type": "code",
   "execution_count": 66,
   "id": "68310a6b",
   "metadata": {},
   "outputs": [],
   "source": [
    "principal_band = data_tensor[:, :, 0].reshape((116, 28, 1))\n",
    "input_data_opening = data_total_opening\n",
    "input_data_closing = data_total_closing"
   ]
  },
  {
   "cell_type": "markdown",
   "id": "69912c36",
   "metadata": {},
   "source": [
    "### Data after Feature Extraction"
   ]
  },
  {
   "cell_type": "code",
   "execution_count": 67,
   "id": "329bc433",
   "metadata": {},
   "outputs": [
    {
     "data": {
      "text/plain": [
       "(116, 28, 25)"
      ]
     },
     "execution_count": 67,
     "metadata": {},
     "output_type": "execute_result"
    }
   ],
   "source": [
    "input_data_25 = np.concatenate((principal_band, input_data_opening, input_data_closing), axis=2)\n",
    "input_data_25.shape"
   ]
  },
  {
   "cell_type": "code",
   "execution_count": 68,
   "id": "f5660e6e",
   "metadata": {},
   "outputs": [],
   "source": [
    "data_reshaped = input_data_25.reshape((116 * 28, 25))"
   ]
  },
  {
   "cell_type": "code",
   "execution_count": 69,
   "id": "5e42fefc",
   "metadata": {},
   "outputs": [
    {
     "data": {
      "text/plain": [
       "1.0000000000000007"
      ]
     },
     "execution_count": 69,
     "metadata": {},
     "output_type": "execute_result"
    }
   ],
   "source": [
    "data_scaled = standard_scaler.fit_transform(data_reshaped)\n",
    "data_scaled.var()"
   ]
  },
  {
   "cell_type": "markdown",
   "id": "cd123061",
   "metadata": {},
   "source": [
    "- **Data Separating**"
   ]
  },
  {
   "cell_type": "code",
   "execution_count": 70,
   "id": "88b14b16",
   "metadata": {},
   "outputs": [],
   "source": [
    "train_size_list = [0.05]\n",
    "data = {}\n",
    "for train_size_float in train_size_list: data['X_train_' + str(train_size_float)], \\\n",
    "    data['X_test_' + \\\n",
    "    str(train_size_float)], data['y_train_' + str(train_size_float)], \\\n",
    "    data['y_test_' + str(train_size_float)] =\\\n",
    "            train_test_splitter(data_without_BG, gt_without_BG, train_size_floatt=train_size_float)"
   ]
  },
  {
   "cell_type": "code",
   "execution_count": 71,
   "id": "9b6a110a",
   "metadata": {},
   "outputs": [],
   "source": [
    "train_size_list = [0.05]\n",
    "data_scaled = {}\n",
    "\n",
    "for train_size in train_size_list:\n",
    "    data_scaled['X_train_' + str(train_size)] = \\\n",
    "    standard_scaler.fit_transform(data['X_train_' + str(train_size)])\n",
    "    data_scaled['X_test_' + str(train_size)] = standard_scaler.fit_transform(data['X_test_' + str(train_size)])\n",
    "    data_scaled['y_train_' + str(train_size)] = data['y_train_' + str(train_size)]\n",
    "    data_scaled['y_test_' + str(train_size)] = data['y_test_' + str(train_size)]"
   ]
  },
  {
   "cell_type": "code",
   "execution_count": 72,
   "id": "82cc2974",
   "metadata": {},
   "outputs": [
    {
     "name": "stderr",
     "output_type": "stream",
     "text": [
      "/home/shahin/.local/lib/python3.10/site-packages/sklearn/model_selection/_split.py:684: UserWarning: The least populated class in y has only 4 members, which is less than n_splits=5.\n",
      "  warnings.warn(\n",
      "/home/shahin/.local/lib/python3.10/site-packages/sklearn/model_selection/_split.py:684: UserWarning: The least populated class in y has only 4 members, which is less than n_splits=6.\n",
      "  warnings.warn(\n",
      "/home/shahin/.local/lib/python3.10/site-packages/sklearn/model_selection/_split.py:684: UserWarning: The least populated class in y has only 4 members, which is less than n_splits=7.\n",
      "  warnings.warn(\n",
      "/home/shahin/.local/lib/python3.10/site-packages/sklearn/model_selection/_split.py:684: UserWarning: The least populated class in y has only 4 members, which is less than n_splits=8.\n",
      "  warnings.warn(\n",
      "/home/shahin/.local/lib/python3.10/site-packages/sklearn/model_selection/_split.py:684: UserWarning: The least populated class in y has only 4 members, which is less than n_splits=9.\n",
      "  warnings.warn(\n",
      "/home/shahin/.local/lib/python3.10/site-packages/sklearn/model_selection/_split.py:684: UserWarning: The least populated class in y has only 4 members, which is less than n_splits=10.\n",
      "  warnings.warn(\n",
      "/home/shahin/.local/lib/python3.10/site-packages/sklearn/model_selection/_split.py:684: UserWarning: The least populated class in y has only 4 members, which is less than n_splits=11.\n",
      "  warnings.warn(\n",
      "/home/shahin/.local/lib/python3.10/site-packages/sklearn/model_selection/_split.py:684: UserWarning: The least populated class in y has only 4 members, which is less than n_splits=12.\n",
      "  warnings.warn(\n",
      "/home/shahin/.local/lib/python3.10/site-packages/sklearn/model_selection/_split.py:684: UserWarning: The least populated class in y has only 4 members, which is less than n_splits=13.\n",
      "  warnings.warn(\n",
      "/home/shahin/.local/lib/python3.10/site-packages/sklearn/model_selection/_split.py:684: UserWarning: The least populated class in y has only 4 members, which is less than n_splits=14.\n",
      "  warnings.warn(\n",
      "/home/shahin/.local/lib/python3.10/site-packages/sklearn/model_selection/_split.py:684: UserWarning: The least populated class in y has only 4 members, which is less than n_splits=15.\n",
      "  warnings.warn(\n"
     ]
    }
   ],
   "source": [
    "train_size_tuple = (0.05, )\n",
    "k_fold_tuple = range(2, 16)\n",
    "\n",
    "parameters_for_k_fold_dict = {'train_size': train_size_tuple, 'k_fold': k_fold_tuple}\n",
    "total_length = 1\n",
    "for key_name_str in parameters_for_k_fold_dict.keys():\n",
    "    total_length *= len(parameters_for_k_fold_dict[key_name_str])\n",
    "    \n",
    "    \n",
    "train_size_stored_values = np.zeros(total_length)\n",
    "acc_mean_stored_values = np.zeros(total_length)\n",
    "k_fold_stored_values = np.zeros(total_length)\n",
    "\n",
    "\n",
    "clf_without_pca = SVC()\n",
    "count = 0\n",
    "for train_size in parameters_for_k_fold_dict['train_size']:\n",
    "    X_train, y_train, X_test, y_test = data_scaled['X_train_' + str(train_size)], \\\n",
    "    data_scaled['y_train_' + str(train_size)], data_scaled['X_test_' + str(train_size)], \\\n",
    "    data_scaled['y_test_' + str(train_size)]\n",
    "    clf_without_pca.fit(X_train, y_train)\n",
    "    for k_fold in parameters_for_k_fold_dict['k_fold']:\n",
    "        count += 1\n",
    "        scores = cross_val_score(clf_without_pca, X_train, y_train, cv=k_fold)\n",
    "        acc_mean = scores.mean()\n",
    "        train_size_stored_values[count - 1] = train_size\n",
    "        acc_mean_stored_values[count - 1] = acc_mean\n",
    "        k_fold_stored_values[count - 1] = k_fold\n",
    "        \n",
    "df_for_k_fold = pd.DataFrame({'Train Size': train_size_stored_values, 'K-fold(CV)': k_fold_stored_values,\\\n",
    "'Mean of Accuracy': acc_mean_stored_values})"
   ]
  },
  {
   "cell_type": "code",
   "execution_count": 73,
   "id": "2b8c1367",
   "metadata": {},
   "outputs": [
    {
     "data": {
      "text/html": [
       "<div>\n",
       "<style scoped>\n",
       "    .dataframe tbody tr th:only-of-type {\n",
       "        vertical-align: middle;\n",
       "    }\n",
       "\n",
       "    .dataframe tbody tr th {\n",
       "        vertical-align: top;\n",
       "    }\n",
       "\n",
       "    .dataframe thead th {\n",
       "        text-align: right;\n",
       "    }\n",
       "</style>\n",
       "<table border=\"1\" class=\"dataframe\">\n",
       "  <thead>\n",
       "    <tr style=\"text-align: right;\">\n",
       "      <th></th>\n",
       "      <th>Train Size</th>\n",
       "      <th>K-fold(CV)</th>\n",
       "      <th>Mean of Accuracy</th>\n",
       "    </tr>\n",
       "  </thead>\n",
       "  <tbody>\n",
       "    <tr>\n",
       "      <th>0</th>\n",
       "      <td>0.05</td>\n",
       "      <td>2.0</td>\n",
       "      <td>0.576923</td>\n",
       "    </tr>\n",
       "    <tr>\n",
       "      <th>1</th>\n",
       "      <td>0.05</td>\n",
       "      <td>3.0</td>\n",
       "      <td>0.673077</td>\n",
       "    </tr>\n",
       "    <tr>\n",
       "      <th>2</th>\n",
       "      <td>0.05</td>\n",
       "      <td>4.0</td>\n",
       "      <td>0.698718</td>\n",
       "    </tr>\n",
       "    <tr>\n",
       "      <th>3</th>\n",
       "      <td>0.05</td>\n",
       "      <td>5.0</td>\n",
       "      <td>0.711492</td>\n",
       "    </tr>\n",
       "    <tr>\n",
       "      <th>4</th>\n",
       "      <td>0.05</td>\n",
       "      <td>6.0</td>\n",
       "      <td>0.724359</td>\n",
       "    </tr>\n",
       "    <tr>\n",
       "      <th>5</th>\n",
       "      <td>0.05</td>\n",
       "      <td>7.0</td>\n",
       "      <td>0.697911</td>\n",
       "    </tr>\n",
       "    <tr>\n",
       "      <th>6</th>\n",
       "      <td>0.05</td>\n",
       "      <td>8.0</td>\n",
       "      <td>0.705263</td>\n",
       "    </tr>\n",
       "    <tr>\n",
       "      <th>7</th>\n",
       "      <td>0.05</td>\n",
       "      <td>9.0</td>\n",
       "      <td>0.749092</td>\n",
       "    </tr>\n",
       "    <tr>\n",
       "      <th>8</th>\n",
       "      <td>0.05</td>\n",
       "      <td>10.0</td>\n",
       "      <td>0.765000</td>\n",
       "    </tr>\n",
       "    <tr>\n",
       "      <th>9</th>\n",
       "      <td>0.05</td>\n",
       "      <td>11.0</td>\n",
       "      <td>0.742424</td>\n",
       "    </tr>\n",
       "    <tr>\n",
       "      <th>10</th>\n",
       "      <td>0.05</td>\n",
       "      <td>12.0</td>\n",
       "      <td>0.782051</td>\n",
       "    </tr>\n",
       "    <tr>\n",
       "      <th>11</th>\n",
       "      <td>0.05</td>\n",
       "      <td>13.0</td>\n",
       "      <td>0.775641</td>\n",
       "    </tr>\n",
       "    <tr>\n",
       "      <th>12</th>\n",
       "      <td>0.05</td>\n",
       "      <td>14.0</td>\n",
       "      <td>0.768939</td>\n",
       "    </tr>\n",
       "    <tr>\n",
       "      <th>13</th>\n",
       "      <td>0.05</td>\n",
       "      <td>15.0</td>\n",
       "      <td>0.758788</td>\n",
       "    </tr>\n",
       "  </tbody>\n",
       "</table>\n",
       "</div>"
      ],
      "text/plain": [
       "    Train Size  K-fold(CV)  Mean of Accuracy\n",
       "0         0.05         2.0          0.576923\n",
       "1         0.05         3.0          0.673077\n",
       "2         0.05         4.0          0.698718\n",
       "3         0.05         5.0          0.711492\n",
       "4         0.05         6.0          0.724359\n",
       "5         0.05         7.0          0.697911\n",
       "6         0.05         8.0          0.705263\n",
       "7         0.05         9.0          0.749092\n",
       "8         0.05        10.0          0.765000\n",
       "9         0.05        11.0          0.742424\n",
       "10        0.05        12.0          0.782051\n",
       "11        0.05        13.0          0.775641\n",
       "12        0.05        14.0          0.768939\n",
       "13        0.05        15.0          0.758788"
      ]
     },
     "execution_count": 73,
     "metadata": {},
     "output_type": "execute_result"
    }
   ],
   "source": [
    "df_for_k_fold"
   ]
  },
  {
   "cell_type": "code",
   "execution_count": 74,
   "id": "9c71a317",
   "metadata": {},
   "outputs": [
    {
     "data": {
      "text/html": [
       "<div>\n",
       "<style scoped>\n",
       "    .dataframe tbody tr th:only-of-type {\n",
       "        vertical-align: middle;\n",
       "    }\n",
       "\n",
       "    .dataframe tbody tr th {\n",
       "        vertical-align: top;\n",
       "    }\n",
       "\n",
       "    .dataframe thead th {\n",
       "        text-align: right;\n",
       "    }\n",
       "</style>\n",
       "<table border=\"1\" class=\"dataframe\">\n",
       "  <thead>\n",
       "    <tr style=\"text-align: right;\">\n",
       "      <th></th>\n",
       "      <th>Train Size</th>\n",
       "      <th>K-fold(CV)</th>\n",
       "      <th>Mean of Accuracy</th>\n",
       "    </tr>\n",
       "  </thead>\n",
       "  <tbody>\n",
       "    <tr>\n",
       "      <th>0</th>\n",
       "      <td>0.05</td>\n",
       "      <td>2.0</td>\n",
       "      <td>0.576923</td>\n",
       "    </tr>\n",
       "    <tr>\n",
       "      <th>1</th>\n",
       "      <td>0.05</td>\n",
       "      <td>3.0</td>\n",
       "      <td>0.673077</td>\n",
       "    </tr>\n",
       "    <tr>\n",
       "      <th>2</th>\n",
       "      <td>0.05</td>\n",
       "      <td>4.0</td>\n",
       "      <td>0.698718</td>\n",
       "    </tr>\n",
       "    <tr>\n",
       "      <th>3</th>\n",
       "      <td>0.05</td>\n",
       "      <td>5.0</td>\n",
       "      <td>0.711492</td>\n",
       "    </tr>\n",
       "    <tr>\n",
       "      <th>4</th>\n",
       "      <td>0.05</td>\n",
       "      <td>6.0</td>\n",
       "      <td>0.724359</td>\n",
       "    </tr>\n",
       "    <tr>\n",
       "      <th>5</th>\n",
       "      <td>0.05</td>\n",
       "      <td>7.0</td>\n",
       "      <td>0.697911</td>\n",
       "    </tr>\n",
       "    <tr>\n",
       "      <th>6</th>\n",
       "      <td>0.05</td>\n",
       "      <td>8.0</td>\n",
       "      <td>0.705263</td>\n",
       "    </tr>\n",
       "    <tr>\n",
       "      <th>7</th>\n",
       "      <td>0.05</td>\n",
       "      <td>9.0</td>\n",
       "      <td>0.749092</td>\n",
       "    </tr>\n",
       "    <tr>\n",
       "      <th>8</th>\n",
       "      <td>0.05</td>\n",
       "      <td>10.0</td>\n",
       "      <td>0.765000</td>\n",
       "    </tr>\n",
       "    <tr>\n",
       "      <th>9</th>\n",
       "      <td>0.05</td>\n",
       "      <td>11.0</td>\n",
       "      <td>0.742424</td>\n",
       "    </tr>\n",
       "    <tr>\n",
       "      <th>10</th>\n",
       "      <td>0.05</td>\n",
       "      <td>12.0</td>\n",
       "      <td>0.782051</td>\n",
       "    </tr>\n",
       "    <tr>\n",
       "      <th>11</th>\n",
       "      <td>0.05</td>\n",
       "      <td>13.0</td>\n",
       "      <td>0.775641</td>\n",
       "    </tr>\n",
       "    <tr>\n",
       "      <th>12</th>\n",
       "      <td>0.05</td>\n",
       "      <td>14.0</td>\n",
       "      <td>0.768939</td>\n",
       "    </tr>\n",
       "    <tr>\n",
       "      <th>13</th>\n",
       "      <td>0.05</td>\n",
       "      <td>15.0</td>\n",
       "      <td>0.758788</td>\n",
       "    </tr>\n",
       "  </tbody>\n",
       "</table>\n",
       "</div>"
      ],
      "text/plain": [
       "    Train Size  K-fold(CV)  Mean of Accuracy\n",
       "0         0.05         2.0          0.576923\n",
       "1         0.05         3.0          0.673077\n",
       "2         0.05         4.0          0.698718\n",
       "3         0.05         5.0          0.711492\n",
       "4         0.05         6.0          0.724359\n",
       "5         0.05         7.0          0.697911\n",
       "6         0.05         8.0          0.705263\n",
       "7         0.05         9.0          0.749092\n",
       "8         0.05        10.0          0.765000\n",
       "9         0.05        11.0          0.742424\n",
       "10        0.05        12.0          0.782051\n",
       "11        0.05        13.0          0.775641\n",
       "12        0.05        14.0          0.768939\n",
       "13        0.05        15.0          0.758788"
      ]
     },
     "execution_count": 74,
     "metadata": {},
     "output_type": "execute_result"
    }
   ],
   "source": [
    "df1 = df_for_k_fold[df_for_k_fold['Train Size'] == 0.05]\n",
    "df1"
   ]
  },
  {
   "cell_type": "code",
   "execution_count": 75,
   "id": "c4585a17",
   "metadata": {},
   "outputs": [
    {
     "data": {
      "text/html": [
       "<div>\n",
       "<style scoped>\n",
       "    .dataframe tbody tr th:only-of-type {\n",
       "        vertical-align: middle;\n",
       "    }\n",
       "\n",
       "    .dataframe tbody tr th {\n",
       "        vertical-align: top;\n",
       "    }\n",
       "\n",
       "    .dataframe thead th {\n",
       "        text-align: right;\n",
       "    }\n",
       "</style>\n",
       "<table border=\"1\" class=\"dataframe\">\n",
       "  <thead>\n",
       "    <tr style=\"text-align: right;\">\n",
       "      <th></th>\n",
       "      <th>Train Size</th>\n",
       "      <th>K-fold(CV)</th>\n",
       "      <th>Mean of Accuracy</th>\n",
       "    </tr>\n",
       "  </thead>\n",
       "  <tbody>\n",
       "    <tr>\n",
       "      <th>10</th>\n",
       "      <td>0.05</td>\n",
       "      <td>12.0</td>\n",
       "      <td>0.782051</td>\n",
       "    </tr>\n",
       "  </tbody>\n",
       "</table>\n",
       "</div>"
      ],
      "text/plain": [
       "    Train Size  K-fold(CV)  Mean of Accuracy\n",
       "10        0.05        12.0          0.782051"
      ]
     },
     "execution_count": 75,
     "metadata": {},
     "output_type": "execute_result"
    }
   ],
   "source": [
    "df1_result = df1[df1['Mean of Accuracy'] == (df1['Mean of Accuracy']).max()]\n",
    "df1_result"
   ]
  },
  {
   "cell_type": "code",
   "execution_count": 76,
   "id": "7dc6e066",
   "metadata": {},
   "outputs": [],
   "source": [
    "svc = SVC(kernel='rbf', random_state=0)"
   ]
  },
  {
   "cell_type": "code",
   "execution_count": 77,
   "id": "c63860e0",
   "metadata": {},
   "outputs": [],
   "source": [
    "pipe = Pipeline(steps=[(\"svc\", svc)])"
   ]
  },
  {
   "cell_type": "code",
   "execution_count": 79,
   "id": "612c2b10",
   "metadata": {},
   "outputs": [],
   "source": [
    "param_grid = {'svc__gamma': np.linspace(0, 1, 11)}"
   ]
  },
  {
   "cell_type": "code",
   "execution_count": 80,
   "id": "626e7e18",
   "metadata": {},
   "outputs": [],
   "source": [
    "input_data_dict = data_scaled"
   ]
  },
  {
   "cell_type": "code",
   "execution_count": 81,
   "id": "0f070474",
   "metadata": {},
   "outputs": [
    {
     "name": "stderr",
     "output_type": "stream",
     "text": [
      "/home/shahin/.local/lib/python3.10/site-packages/sklearn/model_selection/_split.py:684: UserWarning: The least populated class in y has only 4 members, which is less than n_splits=12.\n",
      "  warnings.warn(\n",
      "/home/shahin/.local/lib/python3.10/site-packages/sklearn/model_selection/_validation.py:378: FitFailedWarning: \n",
      "12 fits failed out of a total of 132.\n",
      "The score on these train-test partitions for these parameters will be set to nan.\n",
      "If these failures are not expected, you can try to debug them by setting error_score='raise'.\n",
      "\n",
      "Below are more details about the failures:\n",
      "--------------------------------------------------------------------------------\n",
      "12 fits failed with the following error:\n",
      "Traceback (most recent call last):\n",
      "  File \"/home/shahin/.local/lib/python3.10/site-packages/sklearn/model_selection/_validation.py\", line 686, in _fit_and_score\n",
      "    estimator.fit(X_train, y_train, **fit_params)\n",
      "  File \"/home/shahin/.local/lib/python3.10/site-packages/sklearn/pipeline.py\", line 382, in fit\n",
      "    self._final_estimator.fit(Xt, y, **fit_params_last_step)\n",
      "  File \"/home/shahin/.local/lib/python3.10/site-packages/sklearn/svm/_base.py\", line 237, in fit\n",
      "    raise ValueError(msg)\n",
      "ValueError: gamma value must be > 0; 0.0 is invalid. Use a positive number or use 'auto' to set gamma to a value of 1 / n_features.\n",
      "\n",
      "  warnings.warn(some_fits_failed_message, FitFailedWarning)\n",
      "/home/shahin/.local/lib/python3.10/site-packages/sklearn/model_selection/_search.py:953: UserWarning: One or more of the test scores are non-finite: [       nan 0.83333333 0.79487179 0.75       0.73076923 0.69871795\n",
      " 0.60897436 0.51923077 0.44230769 0.38461538 0.33974359]\n",
      "  warnings.warn(\n"
     ]
    },
    {
     "data": {
      "text/html": [
       "<style>#sk-container-id-1 {color: black;background-color: white;}#sk-container-id-1 pre{padding: 0;}#sk-container-id-1 div.sk-toggleable {background-color: white;}#sk-container-id-1 label.sk-toggleable__label {cursor: pointer;display: block;width: 100%;margin-bottom: 0;padding: 0.3em;box-sizing: border-box;text-align: center;}#sk-container-id-1 label.sk-toggleable__label-arrow:before {content: \"▸\";float: left;margin-right: 0.25em;color: #696969;}#sk-container-id-1 label.sk-toggleable__label-arrow:hover:before {color: black;}#sk-container-id-1 div.sk-estimator:hover label.sk-toggleable__label-arrow:before {color: black;}#sk-container-id-1 div.sk-toggleable__content {max-height: 0;max-width: 0;overflow: hidden;text-align: left;background-color: #f0f8ff;}#sk-container-id-1 div.sk-toggleable__content pre {margin: 0.2em;color: black;border-radius: 0.25em;background-color: #f0f8ff;}#sk-container-id-1 input.sk-toggleable__control:checked~div.sk-toggleable__content {max-height: 200px;max-width: 100%;overflow: auto;}#sk-container-id-1 input.sk-toggleable__control:checked~label.sk-toggleable__label-arrow:before {content: \"▾\";}#sk-container-id-1 div.sk-estimator input.sk-toggleable__control:checked~label.sk-toggleable__label {background-color: #d4ebff;}#sk-container-id-1 div.sk-label input.sk-toggleable__control:checked~label.sk-toggleable__label {background-color: #d4ebff;}#sk-container-id-1 input.sk-hidden--visually {border: 0;clip: rect(1px 1px 1px 1px);clip: rect(1px, 1px, 1px, 1px);height: 1px;margin: -1px;overflow: hidden;padding: 0;position: absolute;width: 1px;}#sk-container-id-1 div.sk-estimator {font-family: monospace;background-color: #f0f8ff;border: 1px dotted black;border-radius: 0.25em;box-sizing: border-box;margin-bottom: 0.5em;}#sk-container-id-1 div.sk-estimator:hover {background-color: #d4ebff;}#sk-container-id-1 div.sk-parallel-item::after {content: \"\";width: 100%;border-bottom: 1px solid gray;flex-grow: 1;}#sk-container-id-1 div.sk-label:hover label.sk-toggleable__label {background-color: #d4ebff;}#sk-container-id-1 div.sk-serial::before {content: \"\";position: absolute;border-left: 1px solid gray;box-sizing: border-box;top: 0;bottom: 0;left: 50%;z-index: 0;}#sk-container-id-1 div.sk-serial {display: flex;flex-direction: column;align-items: center;background-color: white;padding-right: 0.2em;padding-left: 0.2em;position: relative;}#sk-container-id-1 div.sk-item {position: relative;z-index: 1;}#sk-container-id-1 div.sk-parallel {display: flex;align-items: stretch;justify-content: center;background-color: white;position: relative;}#sk-container-id-1 div.sk-item::before, #sk-container-id-1 div.sk-parallel-item::before {content: \"\";position: absolute;border-left: 1px solid gray;box-sizing: border-box;top: 0;bottom: 0;left: 50%;z-index: -1;}#sk-container-id-1 div.sk-parallel-item {display: flex;flex-direction: column;z-index: 1;position: relative;background-color: white;}#sk-container-id-1 div.sk-parallel-item:first-child::after {align-self: flex-end;width: 50%;}#sk-container-id-1 div.sk-parallel-item:last-child::after {align-self: flex-start;width: 50%;}#sk-container-id-1 div.sk-parallel-item:only-child::after {width: 0;}#sk-container-id-1 div.sk-dashed-wrapped {border: 1px dashed gray;margin: 0 0.4em 0.5em 0.4em;box-sizing: border-box;padding-bottom: 0.4em;background-color: white;}#sk-container-id-1 div.sk-label label {font-family: monospace;font-weight: bold;display: inline-block;line-height: 1.2em;}#sk-container-id-1 div.sk-label-container {text-align: center;}#sk-container-id-1 div.sk-container {/* jupyter's `normalize.less` sets `[hidden] { display: none; }` but bootstrap.min.css set `[hidden] { display: none !important; }` so we also need the `!important` here to be able to override the default hidden behavior on the sphinx rendered scikit-learn.org. See: https://github.com/scikit-learn/scikit-learn/issues/21755 */display: inline-block !important;position: relative;}#sk-container-id-1 div.sk-text-repr-fallback {display: none;}</style><div id=\"sk-container-id-1\" class=\"sk-top-container\"><div class=\"sk-text-repr-fallback\"><pre>GridSearchCV(cv=12, estimator=Pipeline(steps=[(&#x27;svc&#x27;, SVC(random_state=0))]),\n",
       "             param_grid={&#x27;svc__gamma&#x27;: array([0. , 0.1, 0.2, 0.3, 0.4, 0.5, 0.6, 0.7, 0.8, 0.9, 1. ])})</pre><b>In a Jupyter environment, please rerun this cell to show the HTML representation or trust the notebook. <br />On GitHub, the HTML representation is unable to render, please try loading this page with nbviewer.org.</b></div><div class=\"sk-container\" hidden><div class=\"sk-item sk-dashed-wrapped\"><div class=\"sk-label-container\"><div class=\"sk-label sk-toggleable\"><input class=\"sk-toggleable__control sk-hidden--visually\" id=\"sk-estimator-id-1\" type=\"checkbox\" ><label for=\"sk-estimator-id-1\" class=\"sk-toggleable__label sk-toggleable__label-arrow\">GridSearchCV</label><div class=\"sk-toggleable__content\"><pre>GridSearchCV(cv=12, estimator=Pipeline(steps=[(&#x27;svc&#x27;, SVC(random_state=0))]),\n",
       "             param_grid={&#x27;svc__gamma&#x27;: array([0. , 0.1, 0.2, 0.3, 0.4, 0.5, 0.6, 0.7, 0.8, 0.9, 1. ])})</pre></div></div></div><div class=\"sk-parallel\"><div class=\"sk-parallel-item\"><div class=\"sk-item\"><div class=\"sk-label-container\"><div class=\"sk-label sk-toggleable\"><input class=\"sk-toggleable__control sk-hidden--visually\" id=\"sk-estimator-id-2\" type=\"checkbox\" ><label for=\"sk-estimator-id-2\" class=\"sk-toggleable__label sk-toggleable__label-arrow\">estimator: Pipeline</label><div class=\"sk-toggleable__content\"><pre>Pipeline(steps=[(&#x27;svc&#x27;, SVC(random_state=0))])</pre></div></div></div><div class=\"sk-serial\"><div class=\"sk-item\"><div class=\"sk-serial\"><div class=\"sk-item\"><div class=\"sk-estimator sk-toggleable\"><input class=\"sk-toggleable__control sk-hidden--visually\" id=\"sk-estimator-id-3\" type=\"checkbox\" ><label for=\"sk-estimator-id-3\" class=\"sk-toggleable__label sk-toggleable__label-arrow\">SVC</label><div class=\"sk-toggleable__content\"><pre>SVC(random_state=0)</pre></div></div></div></div></div></div></div></div></div></div></div></div>"
      ],
      "text/plain": [
       "GridSearchCV(cv=12, estimator=Pipeline(steps=[('svc', SVC(random_state=0))]),\n",
       "             param_grid={'svc__gamma': array([0. , 0.1, 0.2, 0.3, 0.4, 0.5, 0.6, 0.7, 0.8, 0.9, 1. ])})"
      ]
     },
     "execution_count": 81,
     "metadata": {},
     "output_type": "execute_result"
    }
   ],
   "source": [
    "train_size = 0.05\n",
    "best_k_fold = 12\n",
    "X_train, y_train = input_data_dict['X_train_' + str(train_size)], input_data_dict['y_train_' + str(train_size)]\n",
    "search = GridSearchCV(pipe, param_grid, cv=best_k_fold)\n",
    "search.fit(X_train, y_train)"
   ]
  },
  {
   "cell_type": "code",
   "execution_count": 82,
   "id": "e92adbc3",
   "metadata": {},
   "outputs": [],
   "source": [
    "from termcolor import colored"
   ]
  },
  {
   "cell_type": "code",
   "execution_count": 83,
   "id": "8ddb51e7",
   "metadata": {},
   "outputs": [
    {
     "name": "stdout",
     "output_type": "stream",
     "text": [
      "\n",
      "\n",
      "γ = \u001b[34m0.1\u001b[0m\n",
      "\n"
     ]
    }
   ],
   "source": [
    "best_params = search.best_params_\n",
    "best_gamma = best_params['svc__gamma']\n",
    "print(f'\\n\\n\\u03B3 = {colored(best_gamma, \"blue\")}\\n')"
   ]
  },
  {
   "cell_type": "code",
   "execution_count": 84,
   "id": "6ed0f0c2",
   "metadata": {},
   "outputs": [
    {
     "name": "stdout",
     "output_type": "stream",
     "text": [
      "\n",
      "Best Accuracy is: \u001b[34m0.8333333333333335\u001b[0m\n",
      "\n"
     ]
    }
   ],
   "source": [
    "best_score = search.best_score_\n",
    "print(f'\\nBest Accuracy is: {colored(best_score, \"blue\")}\\n')"
   ]
  },
  {
   "cell_type": "code",
   "execution_count": 85,
   "id": "54cb00f6",
   "metadata": {},
   "outputs": [
    {
     "data": {
      "text/html": [
       "<style>#sk-container-id-2 {color: black;background-color: white;}#sk-container-id-2 pre{padding: 0;}#sk-container-id-2 div.sk-toggleable {background-color: white;}#sk-container-id-2 label.sk-toggleable__label {cursor: pointer;display: block;width: 100%;margin-bottom: 0;padding: 0.3em;box-sizing: border-box;text-align: center;}#sk-container-id-2 label.sk-toggleable__label-arrow:before {content: \"▸\";float: left;margin-right: 0.25em;color: #696969;}#sk-container-id-2 label.sk-toggleable__label-arrow:hover:before {color: black;}#sk-container-id-2 div.sk-estimator:hover label.sk-toggleable__label-arrow:before {color: black;}#sk-container-id-2 div.sk-toggleable__content {max-height: 0;max-width: 0;overflow: hidden;text-align: left;background-color: #f0f8ff;}#sk-container-id-2 div.sk-toggleable__content pre {margin: 0.2em;color: black;border-radius: 0.25em;background-color: #f0f8ff;}#sk-container-id-2 input.sk-toggleable__control:checked~div.sk-toggleable__content {max-height: 200px;max-width: 100%;overflow: auto;}#sk-container-id-2 input.sk-toggleable__control:checked~label.sk-toggleable__label-arrow:before {content: \"▾\";}#sk-container-id-2 div.sk-estimator input.sk-toggleable__control:checked~label.sk-toggleable__label {background-color: #d4ebff;}#sk-container-id-2 div.sk-label input.sk-toggleable__control:checked~label.sk-toggleable__label {background-color: #d4ebff;}#sk-container-id-2 input.sk-hidden--visually {border: 0;clip: rect(1px 1px 1px 1px);clip: rect(1px, 1px, 1px, 1px);height: 1px;margin: -1px;overflow: hidden;padding: 0;position: absolute;width: 1px;}#sk-container-id-2 div.sk-estimator {font-family: monospace;background-color: #f0f8ff;border: 1px dotted black;border-radius: 0.25em;box-sizing: border-box;margin-bottom: 0.5em;}#sk-container-id-2 div.sk-estimator:hover {background-color: #d4ebff;}#sk-container-id-2 div.sk-parallel-item::after {content: \"\";width: 100%;border-bottom: 1px solid gray;flex-grow: 1;}#sk-container-id-2 div.sk-label:hover label.sk-toggleable__label {background-color: #d4ebff;}#sk-container-id-2 div.sk-serial::before {content: \"\";position: absolute;border-left: 1px solid gray;box-sizing: border-box;top: 0;bottom: 0;left: 50%;z-index: 0;}#sk-container-id-2 div.sk-serial {display: flex;flex-direction: column;align-items: center;background-color: white;padding-right: 0.2em;padding-left: 0.2em;position: relative;}#sk-container-id-2 div.sk-item {position: relative;z-index: 1;}#sk-container-id-2 div.sk-parallel {display: flex;align-items: stretch;justify-content: center;background-color: white;position: relative;}#sk-container-id-2 div.sk-item::before, #sk-container-id-2 div.sk-parallel-item::before {content: \"\";position: absolute;border-left: 1px solid gray;box-sizing: border-box;top: 0;bottom: 0;left: 50%;z-index: -1;}#sk-container-id-2 div.sk-parallel-item {display: flex;flex-direction: column;z-index: 1;position: relative;background-color: white;}#sk-container-id-2 div.sk-parallel-item:first-child::after {align-self: flex-end;width: 50%;}#sk-container-id-2 div.sk-parallel-item:last-child::after {align-self: flex-start;width: 50%;}#sk-container-id-2 div.sk-parallel-item:only-child::after {width: 0;}#sk-container-id-2 div.sk-dashed-wrapped {border: 1px dashed gray;margin: 0 0.4em 0.5em 0.4em;box-sizing: border-box;padding-bottom: 0.4em;background-color: white;}#sk-container-id-2 div.sk-label label {font-family: monospace;font-weight: bold;display: inline-block;line-height: 1.2em;}#sk-container-id-2 div.sk-label-container {text-align: center;}#sk-container-id-2 div.sk-container {/* jupyter's `normalize.less` sets `[hidden] { display: none; }` but bootstrap.min.css set `[hidden] { display: none !important; }` so we also need the `!important` here to be able to override the default hidden behavior on the sphinx rendered scikit-learn.org. See: https://github.com/scikit-learn/scikit-learn/issues/21755 */display: inline-block !important;position: relative;}#sk-container-id-2 div.sk-text-repr-fallback {display: none;}</style><div id=\"sk-container-id-2\" class=\"sk-top-container\"><div class=\"sk-text-repr-fallback\"><pre>SVC(gamma=0.1)</pre><b>In a Jupyter environment, please rerun this cell to show the HTML representation or trust the notebook. <br />On GitHub, the HTML representation is unable to render, please try loading this page with nbviewer.org.</b></div><div class=\"sk-container\" hidden><div class=\"sk-item\"><div class=\"sk-estimator sk-toggleable\"><input class=\"sk-toggleable__control sk-hidden--visually\" id=\"sk-estimator-id-4\" type=\"checkbox\" checked><label for=\"sk-estimator-id-4\" class=\"sk-toggleable__label sk-toggleable__label-arrow\">SVC</label><div class=\"sk-toggleable__content\"><pre>SVC(gamma=0.1)</pre></div></div></div></div></div>"
      ],
      "text/plain": [
       "SVC(gamma=0.1)"
      ]
     },
     "execution_count": 85,
     "metadata": {},
     "output_type": "execute_result"
    }
   ],
   "source": [
    "train_size = 0.05\n",
    "clf = SVC(kernel='rbf', gamma=best_gamma)\n",
    "X_train, y_train, X_test, y_test = input_data_dict['X_train_' + str(train_size)], \\\n",
    "input_data_dict['y_train_' + str(train_size)], input_data_dict['X_test_' + str(train_size)], \\\n",
    "input_data_dict['y_test_' + str(train_size)]\n",
    "clf.fit(X_train, y_train)"
   ]
  },
  {
   "cell_type": "code",
   "execution_count": 86,
   "id": "be958501",
   "metadata": {},
   "outputs": [
    {
     "data": {
      "text/html": [
       "<div>\n",
       "<style scoped>\n",
       "    .dataframe tbody tr th:only-of-type {\n",
       "        vertical-align: middle;\n",
       "    }\n",
       "\n",
       "    .dataframe tbody tr th {\n",
       "        vertical-align: top;\n",
       "    }\n",
       "\n",
       "    .dataframe thead th {\n",
       "        text-align: right;\n",
       "    }\n",
       "</style>\n",
       "<table border=\"1\" class=\"dataframe\">\n",
       "  <thead>\n",
       "    <tr style=\"text-align: right;\">\n",
       "      <th></th>\n",
       "      <th>Class</th>\n",
       "      <th>Accuracy</th>\n",
       "    </tr>\n",
       "  </thead>\n",
       "  <tbody>\n",
       "    <tr>\n",
       "      <th>0</th>\n",
       "      <td>1</td>\n",
       "      <td>1.000000</td>\n",
       "    </tr>\n",
       "    <tr>\n",
       "      <th>1</th>\n",
       "      <td>2</td>\n",
       "      <td>0.937500</td>\n",
       "    </tr>\n",
       "    <tr>\n",
       "      <th>2</th>\n",
       "      <td>3</td>\n",
       "      <td>0.924686</td>\n",
       "    </tr>\n",
       "    <tr>\n",
       "      <th>3</th>\n",
       "      <td>4</td>\n",
       "      <td>0.917073</td>\n",
       "    </tr>\n",
       "    <tr>\n",
       "      <th>4</th>\n",
       "      <td>5</td>\n",
       "      <td>0.761719</td>\n",
       "    </tr>\n",
       "    <tr>\n",
       "      <th>5</th>\n",
       "      <td>6</td>\n",
       "      <td>0.656250</td>\n",
       "    </tr>\n",
       "    <tr>\n",
       "      <th>6</th>\n",
       "      <td>7</td>\n",
       "      <td>0.951417</td>\n",
       "    </tr>\n",
       "    <tr>\n",
       "      <th>7</th>\n",
       "      <td>8</td>\n",
       "      <td>0.927461</td>\n",
       "    </tr>\n",
       "    <tr>\n",
       "      <th>8</th>\n",
       "      <td>9</td>\n",
       "      <td>0.732441</td>\n",
       "    </tr>\n",
       "    <tr>\n",
       "      <th>9</th>\n",
       "      <td>10</td>\n",
       "      <td>0.834746</td>\n",
       "    </tr>\n",
       "    <tr>\n",
       "      <th>10</th>\n",
       "      <td>11</td>\n",
       "      <td>0.941379</td>\n",
       "    </tr>\n",
       "    <tr>\n",
       "      <th>11</th>\n",
       "      <td>12</td>\n",
       "      <td>0.895349</td>\n",
       "    </tr>\n",
       "    <tr>\n",
       "      <th>12</th>\n",
       "      <td>13</td>\n",
       "      <td>0.741176</td>\n",
       "    </tr>\n",
       "    <tr>\n",
       "      <th>13</th>\n",
       "      <td>14</td>\n",
       "      <td>0.571429</td>\n",
       "    </tr>\n",
       "  </tbody>\n",
       "</table>\n",
       "</div>"
      ],
      "text/plain": [
       "    Class  Accuracy\n",
       "0       1  1.000000\n",
       "1       2  0.937500\n",
       "2       3  0.924686\n",
       "3       4  0.917073\n",
       "4       5  0.761719\n",
       "5       6  0.656250\n",
       "6       7  0.951417\n",
       "7       8  0.927461\n",
       "8       9  0.732441\n",
       "9      10  0.834746\n",
       "10     11  0.941379\n",
       "11     12  0.895349\n",
       "12     13  0.741176\n",
       "13     14  0.571429"
      ]
     },
     "execution_count": 86,
     "metadata": {},
     "output_type": "execute_result"
    }
   ],
   "source": [
    "y_pred = clf.predict(X_test)\n",
    "ov_acc = accuracy_score(y_test, y_pred)\n",
    "conf_mat = confusion_matrix(y_test, y_pred)\n",
    "kappa = cohen_kappa_score(y_test, y_pred)\n",
    "acc_for_each_class = conf_mat.diagonal()/conf_mat.sum(axis=1)\n",
    "df_result1 = pd.DataFrame({'Class': range(1, 15), 'Accuracy': acc_for_each_class})\n",
    "df_result1"
   ]
  },
  {
   "cell_type": "code",
   "execution_count": 87,
   "id": "1e5f1140",
   "metadata": {},
   "outputs": [
    {
     "data": {
      "image/png": "[encoded data removed]",
      "text/plain": [
       "<Figure size 640x480 with 2 Axes>"
      ]
     },
     "metadata": {},
     "output_type": "display_data"
    }
   ],
   "source": [
    "cmap_list = ['Greys', 'Purples', 'Blues', 'Greens', 'Oranges', 'Reds', \\\n",
    "                      'YlOrBr', 'YlOrRd', 'OrRd', 'PuRd', 'RdPu', 'BuPu',\\\n",
    "                      'GnBu', 'PuBu', 'YlGnBu', 'PuBuGn', 'BuGn', 'YlGn']\n",
    "\n",
    "disp = ConfusionMatrixDisplay(confusion_matrix=conf_mat, display_labels=clf.classes_)\n",
    "disp.plot(cmap=cmap_list[14])\n",
    "plt.show()"
   ]
  },
  {
   "cell_type": "code",
   "execution_count": 88,
   "id": "b4a48cf4",
   "metadata": {},
   "outputs": [
    {
     "name": "stdout",
     "output_type": "stream",
     "text": [
      "\n",
      "Overall Accuracy: \u001b[32m0.8463777490297542\u001b[0m\n",
      "\n",
      "κ = \u001b[32m0.833495563774022\u001b[0m\n",
      "\n"
     ]
    }
   ],
   "source": [
    "print(f'\\nOverall Accuracy: {colored(ov_acc, \"green\")}\\n\\n\\u03BA = {colored(kappa, \"green\")}\\n')"
   ]
  },
  {
   "cell_type": "markdown",
   "id": "b142151f",
   "metadata": {},
   "source": [
    "$\\newline$\n",
    "$\\newline$\n",
    "<a name=''>$\\bf{\\text{Classification Map}}$</a>\n",
    "$\\newline$\n",
    "$\\newline$"
   ]
  },
  {
   "cell_type": "code",
   "execution_count": 118,
   "id": "66da3cf6",
   "metadata": {},
   "outputs": [],
   "source": [
    "X_3d = pymat.read_mat(path_str + data_file_name)['Botswana']\n",
    "y_2d = pymat.read_mat(path_str + gt_file_name)['Botswana_gt']"
   ]
  },
  {
   "cell_type": "code",
   "execution_count": 119,
   "id": "73d25479",
   "metadata": {},
   "outputs": [],
   "source": [
    "X_test = X_3d.reshape((X_3d.shape[0]*X_3d.shape[1], 145))\n",
    "y_test = y_2d.ravel()"
   ]
  },
  {
   "cell_type": "code",
   "execution_count": 120,
   "id": "c87e0165",
   "metadata": {},
   "outputs": [],
   "source": [
    "y_pred = clf.predict(X_test)"
   ]
  },
  {
   "cell_type": "code",
   "execution_count": 124,
   "id": "538c6648",
   "metadata": {},
   "outputs": [],
   "source": [
    "y_pred[y_test == 0] = 0"
   ]
  },
  {
   "cell_type": "code",
   "execution_count": 125,
   "id": "ebd18f44",
   "metadata": {},
   "outputs": [],
   "source": [
    "y_pred_plot = y_pred.reshape((1476, 256))\n",
    "y_test_plot = y_test.reshape((1476, 256))"
   ]
  },
  {
   "cell_type": "code",
   "execution_count": 126,
   "id": "7aa782f6",
   "metadata": {},
   "outputs": [
    {
     "data": {
      "text/plain": [
       "dtype('uint8')"
      ]
     },
     "execution_count": 126,
     "metadata": {},
     "output_type": "execute_result"
    }
   ],
   "source": [
    "y_test_plot.dtype"
   ]
  },
  {
   "cell_type": "code",
   "execution_count": 132,
   "id": "50acb047",
   "metadata": {},
   "outputs": [
    {
     "data": {
      "image/png": "[encoded data removed]",
      "text/plain": [
       "<Figure size 640x480 with 3 Axes>"
      ]
     },
     "metadata": {},
     "output_type": "display_data"
    }
   ],
   "source": [
    "plt.figure(1)\n",
    "plt.subplot(1, 2, 1), plt.imshow(y_test_plot), plt.axis('off'), plt.title('Labels', fontsize=10)\n",
    "plt.colorbar()\n",
    "plt.subplot(1, 2, 2), plt.imshow(y_pred_plot), plt.axis('off'), plt.title('Classification Map', fontsize=10)\n",
    "plt.show()"
   ]
  },
  {
   "cell_type": "markdown",
   "id": "959ebc8b",
   "metadata": {},
   "source": [
    "$\\newline$\n",
    "$\\newline$\n",
    "<a name=''>$\\bf{\\text{End Classification Map}}$</a>\n",
    "$\\newline$\n",
    "$\\newline$"
   ]
  },
  {
   "cell_type": "markdown",
   "id": "8b3a55df",
   "metadata": {},
   "source": [
    "$\\newline$\n",
    "$\\newline$\n",
    "<a name=''>$\\bf{\\text{Classification Map for Test Data}}$</a>\n",
    "$\\newline$\n",
    "$\\newline$"
   ]
  },
  {
   "cell_type": "code",
   "execution_count": 90,
   "id": "1a2ad696",
   "metadata": {},
   "outputs": [
    {
     "data": {
      "image/png": "[encoded data removed]",
      "text/plain": [
       "<Figure size 640x480 with 2 Axes>"
      ]
     },
     "metadata": {},
     "output_type": "display_data"
    }
   ],
   "source": [
    "plt.figure(1)\n",
    "plt.subplot(1, 2, 1), plt.imshow(selected_y_pred_reshaped), \\\n",
    "plt.axis('off'), plt.title('Class. Map for Test Data')\n",
    "\n",
    "plt.subplot(1, 2, 2), plt.imshow(selected_y_test_reshaped), \\\n",
    "plt.axis('off'), plt.title('Class. Map for Labels')\n",
    "plt.show()"
   ]
  },
  {
   "cell_type": "markdown",
   "id": "ffbf0ad0",
   "metadata": {},
   "source": [
    "$\\newline$\n",
    "$\\newline$\n",
    "<a name=''>$\\bf{\\text{End of Classification Map for Test Data}}$</a>\n",
    "$\\newline$\n",
    "$\\newline$"
   ]
  },
  {
   "cell_type": "code",
   "execution_count": 91,
   "id": "f07a0a93",
   "metadata": {},
   "outputs": [
    {
     "name": "stdout",
     "output_type": "stream",
     "text": [
      "\n",
      "\u001b[32mOv. Accuracy:\u001b[0m  0.846\n",
      "\n"
     ]
    }
   ],
   "source": [
    "my_ov_acc = len(y_pred[y_pred == y_test]) / len(y_pred)\n",
    "print(f'\\n{colored(\"Ov. Accuracy:\", \"green\")} {my_ov_acc: 0.3f}\\n')"
   ]
  },
  {
   "cell_type": "code",
   "execution_count": 92,
   "id": "fdd50fee",
   "metadata": {},
   "outputs": [
    {
     "data": {
      "text/plain": [
       "0.8423304772142849"
      ]
     },
     "execution_count": 92,
     "metadata": {},
     "output_type": "execute_result"
    }
   ],
   "source": [
    "AA = df_result1['Accuracy'].mean()\n",
    "AA"
   ]
  },
  {
   "cell_type": "code",
   "execution_count": 93,
   "id": "99a613ba",
   "metadata": {},
   "outputs": [],
   "source": [
    "gt = gt_without_BG.flatten()"
   ]
  },
  {
   "cell_type": "code",
   "execution_count": 94,
   "id": "fcc295df",
   "metadata": {},
   "outputs": [
    {
     "data": {
      "text/plain": [
       "270"
      ]
     },
     "execution_count": 94,
     "metadata": {},
     "output_type": "execute_result"
    }
   ],
   "source": [
    "num_class_1 = len(data_without_BG[gt == 1])\n",
    "num_class_1"
   ]
  },
  {
   "cell_type": "code",
   "execution_count": 95,
   "id": "65278a0c",
   "metadata": {},
   "outputs": [
    {
     "data": {
      "text/plain": [
       "95"
      ]
     },
     "execution_count": 95,
     "metadata": {},
     "output_type": "execute_result"
    }
   ],
   "source": [
    "num_class_14 = len(data_without_BG[gt == 14])\n",
    "num_class_14"
   ]
  }
 ],
 "metadata": {
  "kernelspec": {
   "display_name": "Python 3 (ipykernel)",
   "language": "python",
   "name": "python3"
  },
  "language_info": {
   "codemirror_mode": {
    "name": "ipython",
    "version": 3
   },
   "file_extension": ".py",
   "mimetype": "text/x-python",
   "name": "python",
   "nbconvert_exporter": "python",
   "pygments_lexer": "ipython3",
   "version": "3.10.8"
  }
 },
 "nbformat": 4,
 "nbformat_minor": 5
}
