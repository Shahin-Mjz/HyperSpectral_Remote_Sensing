{
 "cells": [
  {
   "cell_type": "code",
   "execution_count": 1,
   "id": "ea4a9a3d",
   "metadata": {},
   "outputs": [],
   "source": [
    "import os\n",
    "import numpy as np\n",
    "import pandas as pd\n",
    "import pymatreader as pymat\n",
    "from sklearn.svm import SVC\n",
    "from termcolor import colored\n",
    "import matplotlib.pyplot as plt\n",
    "from sklearn.decomposition import PCA\n",
    "from sklearn.pipeline import Pipeline, make_pipeline\n",
    "from sklearn.preprocessing import StandardScaler, MinMaxScaler\n",
    "from sklearn.model_selection import GridSearchCV, cross_val_score, train_test_split\n",
    "from sklearn.metrics import accuracy_score, confusion_matrix, ConfusionMatrixDisplay, cohen_kappa_score"
   ]
  },
  {
   "cell_type": "code",
   "execution_count": 2,
   "id": "bf6612b4",
   "metadata": {},
   "outputs": [],
   "source": [
    "path_str = os.getcwd() + '/'"
   ]
  },
  {
   "cell_type": "code",
   "execution_count": 3,
   "id": "c80da4bb",
   "metadata": {},
   "outputs": [],
   "source": [
    "data_file_name = 'Majazi1.mat'\n",
    "gt_file_name = 'Majazi1_gt.mat'"
   ]
  },
  {
   "cell_type": "code",
   "execution_count": 4,
   "id": "9258c7f5",
   "metadata": {},
   "outputs": [],
   "source": [
    "data = pymat.read_mat(path_str + data_file_name)['Botswana']\n",
    "data_gt = pymat.read_mat(path_str + gt_file_name)['Botswana_gt']"
   ]
  },
  {
   "cell_type": "code",
   "execution_count": 5,
   "id": "d5f4461f",
   "metadata": {},
   "outputs": [],
   "source": [
    "def BG_removal(data_3D: np.ndarray, data_gt_2D: np.ndarray) -> (np.ndarray, np.ndarray):\n",
    "    data_copy = data_3D.copy()\n",
    "    gt_copy = data_gt_2D.copy()\n",
    "    \n",
    "    data_reshaped = data_copy.reshape((data_copy.shape[0] * data_copy.shape[1], data_copy.shape[2]))\n",
    "    gt_reshaped = gt_copy.ravel()\n",
    "    classes_unique = np.unique(gt_reshaped)\n",
    "    new_data = data_reshaped[gt_reshaped != 0]\n",
    "    new_gt = gt_reshaped[gt_reshaped != 0]\n",
    "    \n",
    "    return new_data, new_gt"
   ]
  },
  {
   "cell_type": "code",
   "execution_count": 6,
   "id": "aa877168",
   "metadata": {},
   "outputs": [],
   "source": [
    "data_without_BG, gt_without_BG = BG_removal(data_3D=data, data_gt_2D=data_gt)"
   ]
  },
  {
   "cell_type": "code",
   "execution_count": 7,
   "id": "0b8f75d5",
   "metadata": {},
   "outputs": [
    {
     "name": "stdout",
     "output_type": "stream",
     "text": [
      "\n",
      "Shape of the BG_removed Data: \u001b[34m(3248, 145)\u001b[0m\n",
      "\n",
      " ... and its \u001b[34mData Type\u001b[0m: \u001b[32muint16\u001b[0m\n",
      "\n",
      "\n",
      "\n",
      "Shape of the BG_removed GT: \u001b[34m(3248,)\u001b[0m\n",
      "\n",
      " ... and its \u001b[34mData Type\u001b[0m: \u001b[32muint8\u001b[0m\n",
      "\n"
     ]
    }
   ],
   "source": [
    "print(f'\\nShape of the BG_removed Data: {colored(data_without_BG.shape, \"blue\")}\\n')\n",
    "print(f' ... and its {colored(\"Data Type\", \"blue\")}: {colored(data_without_BG.dtype, \"green\")}\\n\\n')\n",
    "print(f'\\nShape of the BG_removed GT: {colored(gt_without_BG.shape, \"blue\")}\\n')\n",
    "print(f' ... and its {colored(\"Data Type\", \"blue\")}: {colored(gt_without_BG.dtype, \"green\")}\\n')"
   ]
  },
  {
   "cell_type": "code",
   "execution_count": 9,
   "id": "5f6139a0",
   "metadata": {},
   "outputs": [],
   "source": [
    "def class_separator(X: np.ndarray, y: np.ndarray) -> dict:\n",
    "    \n",
    "    unique_labels = np.unique(y)\n",
    "    total_data = {}\n",
    "    for class_name in unique_labels:\n",
    "        total_data[str(class_name)], total_data[str(class_name) + '_label'] = \\\n",
    "        X[y == class_name], y[y == class_name]\n",
    "        \n",
    "        \n",
    "    return total_data\n",
    "\n",
    "\n",
    "\n",
    "def train_test_for_each_class(X: np.ndarray, y: np.ndarray, train_size_float: float) -> (dict, dict):\n",
    "    \n",
    "    splitter = train_test_split\n",
    "    data = class_separator(X, y)\n",
    "    num_classes = int(len(data) / 2)\n",
    "    train_data, test_data = {}, {}\n",
    "    for class_name in range(1, num_classes + 1):\n",
    "        train_data[str(class_name)], test_data[str(class_name)], train_data[str(class_name) + '_label'], \\\n",
    "        test_data[str(class_name) + '_label'] = splitter(data[str(class_name)], \\\n",
    "                                            data[str(class_name) + '_label'], train_size=train_size_float, \\\n",
    "                                                        shuffle=True, random_state=0)\n",
    "        \n",
    "    return train_data, test_data\n",
    "\n",
    "\n",
    "def train_test_splitter(X: np.ndarray, y: np.ndarray, train_size_floatt: float) -> \\\n",
    "(np.ndarray, np.ndarray, np.ndarray, np.ndarray):\n",
    "    \n",
    "    data_train, data_test = train_test_for_each_class(X, y, train_size_floatt)\n",
    "    keys = list(data_train.keys())\n",
    "    X_train, X_test, y_train, y_test = data_train[keys[0]], \\\n",
    "    data_test[keys[0]], data_train[keys[1]], data_test[keys[1]]\n",
    "    \n",
    "    re_keys = keys[2:]\n",
    "    n = int(len(re_keys) / 2)\n",
    "    for i in range(n):\n",
    "        X_train, X_test, y_train, y_test = np.concatenate((X_train, data_train[re_keys[2*i]]), axis=0), \\\n",
    "        np.concatenate((X_test, data_test[re_keys[2*i]]), axis=0), \\\n",
    "        np.concatenate((y_train, data_train[re_keys[2*i + 1]])), \\\n",
    "        np.concatenate((y_test, data_test[re_keys[2*i + 1]]))\n",
    "        \n",
    "    \n",
    "    return X_train, X_test, y_train, y_test"
   ]
  },
  {
   "cell_type": "code",
   "execution_count": 11,
   "id": "10aa7116",
   "metadata": {},
   "outputs": [],
   "source": [
    "train_size_list = [0.1]\n",
    "data = {}\n",
    "for train_size_float in train_size_list: data['X_train_' + str(train_size_float)], \\\n",
    "    data['X_test_' + \\\n",
    "    str(train_size_float)], data['y_train_' + str(train_size_float)], \\\n",
    "    data['y_test_' + str(train_size_float)] =\\\n",
    "            train_test_splitter(data_without_BG, gt_without_BG, train_size_floatt=train_size_float)\n",
    "#     train_test_split(data_without_BG, gt_without_BG, train_size=train_size_float, \\\n",
    "#                     shuffle=True, random_state=0)"
   ]
  },
  {
   "cell_type": "code",
   "execution_count": 12,
   "id": "884aa2a7",
   "metadata": {},
   "outputs": [],
   "source": [
    "train_size = 0.1\n",
    "X_train, X_test, y_train, y_test = data['X_train_' + str(train_size)], data['X_test_' + str(train_size)], \\\n",
    "data['y_train_' + str(train_size)], data['y_test_' + str(train_size)]"
   ]
  },
  {
   "cell_type": "code",
   "execution_count": 13,
   "id": "74e90ab5",
   "metadata": {},
   "outputs": [
    {
     "name": "stdout",
     "output_type": "stream",
     "text": [
      "\n",
      "Shape of the \u001b[32mX_train\u001b[0m: \u001b[34m(318, 145)\u001b[0m\n",
      "\n",
      "Shape of the \u001b[32my_train\u001b[0m: \u001b[34m(318,)\u001b[0m\n",
      "\n",
      "\n",
      "\n",
      "Shape of the \u001b[32mX_test\u001b[0m: \u001b[34m(2930, 145)\u001b[0m\n",
      "\n",
      "Shape of the \u001b[32my_test\u001b[0m: \u001b[34m(2930,)\u001b[0m\n",
      "\n"
     ]
    }
   ],
   "source": [
    "print(f'\\nShape of the {colored(\"X_train\", \"green\")}: {colored(X_train.shape, \"blue\")}\\n')\n",
    "print(f'Shape of the {colored(\"y_train\", \"green\")}: {colored(y_train.shape, \"blue\")}\\n\\n')\n",
    "print(f'\\nShape of the {colored(\"X_test\", \"green\")}: {colored(X_test.shape, \"blue\")}\\n')\n",
    "print(f'Shape of the {colored(\"y_test\", \"green\")}: {colored(y_test.shape, \"blue\")}\\n')"
   ]
  },
  {
   "cell_type": "code",
   "execution_count": 14,
   "id": "48fdfb22",
   "metadata": {},
   "outputs": [],
   "source": [
    "standard_scaler = StandardScaler()"
   ]
  },
  {
   "cell_type": "code",
   "execution_count": 15,
   "id": "93a09601",
   "metadata": {},
   "outputs": [],
   "source": [
    "train_size_list = [0.1]\n",
    "data_scaled = {}\n",
    "\n",
    "for train_size in train_size_list:\n",
    "    data_scaled['X_train_' + str(train_size)] = \\\n",
    "    standard_scaler.fit_transform(data['X_train_' + str(train_size)])\n",
    "    data_scaled['X_test_' + str(train_size)] = standard_scaler.fit_transform(data['X_test_' + str(train_size)])\n",
    "    data_scaled['y_train_' + str(train_size)] = data['y_train_' + str(train_size)]\n",
    "    data_scaled['y_test_' + str(train_size)] = data['y_test_' + str(train_size)]"
   ]
  },
  {
   "cell_type": "code",
   "execution_count": 16,
   "id": "1af0d247",
   "metadata": {},
   "outputs": [],
   "source": [
    "train_size = 0.1\n",
    "X_train_scaled, X_test_scaled, y_train_scaled, y_test_scaled = data_scaled['X_train_' + str(train_size)], \\\n",
    "data_scaled['X_test_' + str(train_size)], data_scaled['y_train_' + str(train_size)], \\\n",
    "data_scaled['y_test_' + str(train_size)]"
   ]
  },
  {
   "cell_type": "code",
   "execution_count": 17,
   "id": "3aa21186",
   "metadata": {},
   "outputs": [
    {
     "name": "stdout",
     "output_type": "stream",
     "text": [
      "\n",
      "Mean of \u001b[32mX_train\u001b[0m:  0.000\n",
      "\n",
      "Var of \u001b[32mX_train\u001b[0m:  1.000\n",
      "\n",
      " ... and its \u001b[32mData Type\u001b[0m: \u001b[34mfloat64\u001b[0m\n",
      "\n",
      "\n",
      "\n",
      "\n",
      "Mean of \u001b[32mX_test\u001b[0m: -0.000\n",
      "\n",
      "Var of \u001b[32mX_test\u001b[0m:  1.000\n",
      "\n",
      " ... and its \u001b[32mData Type\u001b[0m: \u001b[34mfloat64\u001b[0m\n",
      "\n"
     ]
    }
   ],
   "source": [
    "print(f'\\nMean of {colored(\"X_train\", \"green\")}: {X_train_scaled.mean(): 0.3f}')\n",
    "print(f'\\nVar of {colored(\"X_train\", \"green\")}: {X_train_scaled.var(): 0.3f}\\n')\n",
    "print(f' ... and its {colored(\"Data Type\", \"green\")}: {colored(X_train_scaled.dtype, \"blue\")}\\n')\n",
    "print(f'\\n\\n\\nMean of {colored(\"X_test\", \"green\")}: {X_test_scaled.mean(): 0.3f}')\n",
    "print(f'\\nVar of {colored(\"X_test\", \"green\")}: {X_test_scaled.var(): 0.3f}\\n')\n",
    "print(f' ... and its {colored(\"Data Type\", \"green\")}: {colored(X_test_scaled.dtype, \"blue\")}\\n')"
   ]
  },
  {
   "cell_type": "code",
   "execution_count": 19,
   "id": "d876468e",
   "metadata": {},
   "outputs": [
    {
     "name": "stderr",
     "output_type": "stream",
     "text": [
      "/home/shahin/.local/lib/python3.10/site-packages/sklearn/model_selection/_split.py:684: UserWarning: The least populated class in y has only 9 members, which is less than n_splits=10.\n",
      "  warnings.warn(\n",
      "/home/shahin/.local/lib/python3.10/site-packages/sklearn/model_selection/_split.py:684: UserWarning: The least populated class in y has only 9 members, which is less than n_splits=11.\n",
      "  warnings.warn(\n",
      "/home/shahin/.local/lib/python3.10/site-packages/sklearn/model_selection/_split.py:684: UserWarning: The least populated class in y has only 9 members, which is less than n_splits=12.\n",
      "  warnings.warn(\n",
      "/home/shahin/.local/lib/python3.10/site-packages/sklearn/model_selection/_split.py:684: UserWarning: The least populated class in y has only 9 members, which is less than n_splits=13.\n",
      "  warnings.warn(\n",
      "/home/shahin/.local/lib/python3.10/site-packages/sklearn/model_selection/_split.py:684: UserWarning: The least populated class in y has only 9 members, which is less than n_splits=14.\n",
      "  warnings.warn(\n",
      "/home/shahin/.local/lib/python3.10/site-packages/sklearn/model_selection/_split.py:684: UserWarning: The least populated class in y has only 9 members, which is less than n_splits=15.\n",
      "  warnings.warn(\n"
     ]
    }
   ],
   "source": [
    "train_size_tuple = (0.1, )\n",
    "k_fold_tuple = range(2, 16)\n",
    "\n",
    "parameters_for_k_fold_dict = {'train_size': train_size_tuple, 'k_fold': k_fold_tuple}\n",
    "total_length = 1\n",
    "for key_name_str in parameters_for_k_fold_dict.keys():\n",
    "    total_length *= len(parameters_for_k_fold_dict[key_name_str])\n",
    "    \n",
    "    \n",
    "train_size_stored_values = np.zeros(total_length)\n",
    "acc_mean_stored_values = np.zeros(total_length)\n",
    "k_fold_stored_values = np.zeros(total_length)\n",
    "\n",
    "\n",
    "clf_without_pca = SVC()\n",
    "count = 0\n",
    "for train_size in parameters_for_k_fold_dict['train_size']:\n",
    "    X_train, y_train, X_test, y_test = data_scaled['X_train_' + str(train_size)], \\\n",
    "    data_scaled['y_train_' + str(train_size)], data_scaled['X_test_' + str(train_size)], \\\n",
    "    data_scaled['y_test_' + str(train_size)]\n",
    "    clf_without_pca.fit(X_train, y_train)\n",
    "    for k_fold in parameters_for_k_fold_dict['k_fold']:\n",
    "        count += 1\n",
    "        scores = cross_val_score(clf_without_pca, X_train, y_train, cv=k_fold)\n",
    "        acc_mean = scores.mean()\n",
    "        train_size_stored_values[count - 1] = train_size\n",
    "        acc_mean_stored_values[count - 1] = acc_mean\n",
    "        k_fold_stored_values[count - 1] = k_fold\n",
    "        \n",
    "df_for_k_fold = pd.DataFrame({'Train Size': train_size_stored_values, 'K-fold(CV)': k_fold_stored_values,\\\n",
    "'Mean of Accuracy': acc_mean_stored_values})"
   ]
  },
  {
   "cell_type": "code",
   "execution_count": 20,
   "id": "1d48f3e9",
   "metadata": {},
   "outputs": [
    {
     "data": {
      "text/html": [
       "<div>\n",
       "<style scoped>\n",
       "    .dataframe tbody tr th:only-of-type {\n",
       "        vertical-align: middle;\n",
       "    }\n",
       "\n",
       "    .dataframe tbody tr th {\n",
       "        vertical-align: top;\n",
       "    }\n",
       "\n",
       "    .dataframe thead th {\n",
       "        text-align: right;\n",
       "    }\n",
       "</style>\n",
       "<table border=\"1\" class=\"dataframe\">\n",
       "  <thead>\n",
       "    <tr style=\"text-align: right;\">\n",
       "      <th></th>\n",
       "      <th>Train Size</th>\n",
       "      <th>K-fold(CV)</th>\n",
       "      <th>Mean of Accuracy</th>\n",
       "    </tr>\n",
       "  </thead>\n",
       "  <tbody>\n",
       "    <tr>\n",
       "      <th>0</th>\n",
       "      <td>0.1</td>\n",
       "      <td>2.0</td>\n",
       "      <td>0.729560</td>\n",
       "    </tr>\n",
       "    <tr>\n",
       "      <th>1</th>\n",
       "      <td>0.1</td>\n",
       "      <td>3.0</td>\n",
       "      <td>0.786164</td>\n",
       "    </tr>\n",
       "    <tr>\n",
       "      <th>2</th>\n",
       "      <td>0.1</td>\n",
       "      <td>4.0</td>\n",
       "      <td>0.779866</td>\n",
       "    </tr>\n",
       "    <tr>\n",
       "      <th>3</th>\n",
       "      <td>0.1</td>\n",
       "      <td>5.0</td>\n",
       "      <td>0.798810</td>\n",
       "    </tr>\n",
       "    <tr>\n",
       "      <th>4</th>\n",
       "      <td>0.1</td>\n",
       "      <td>6.0</td>\n",
       "      <td>0.795597</td>\n",
       "    </tr>\n",
       "    <tr>\n",
       "      <th>5</th>\n",
       "      <td>0.1</td>\n",
       "      <td>7.0</td>\n",
       "      <td>0.789234</td>\n",
       "    </tr>\n",
       "    <tr>\n",
       "      <th>6</th>\n",
       "      <td>0.1</td>\n",
       "      <td>8.0</td>\n",
       "      <td>0.792708</td>\n",
       "    </tr>\n",
       "    <tr>\n",
       "      <th>7</th>\n",
       "      <td>0.1</td>\n",
       "      <td>9.0</td>\n",
       "      <td>0.801940</td>\n",
       "    </tr>\n",
       "    <tr>\n",
       "      <th>8</th>\n",
       "      <td>0.1</td>\n",
       "      <td>10.0</td>\n",
       "      <td>0.811794</td>\n",
       "    </tr>\n",
       "    <tr>\n",
       "      <th>9</th>\n",
       "      <td>0.1</td>\n",
       "      <td>11.0</td>\n",
       "      <td>0.811576</td>\n",
       "    </tr>\n",
       "    <tr>\n",
       "      <th>10</th>\n",
       "      <td>0.1</td>\n",
       "      <td>12.0</td>\n",
       "      <td>0.805081</td>\n",
       "    </tr>\n",
       "    <tr>\n",
       "      <th>11</th>\n",
       "      <td>0.1</td>\n",
       "      <td>13.0</td>\n",
       "      <td>0.808462</td>\n",
       "    </tr>\n",
       "    <tr>\n",
       "      <th>12</th>\n",
       "      <td>0.1</td>\n",
       "      <td>14.0</td>\n",
       "      <td>0.814935</td>\n",
       "    </tr>\n",
       "    <tr>\n",
       "      <th>13</th>\n",
       "      <td>0.1</td>\n",
       "      <td>15.0</td>\n",
       "      <td>0.807504</td>\n",
       "    </tr>\n",
       "  </tbody>\n",
       "</table>\n",
       "</div>"
      ],
      "text/plain": [
       "    Train Size  K-fold(CV)  Mean of Accuracy\n",
       "0          0.1         2.0          0.729560\n",
       "1          0.1         3.0          0.786164\n",
       "2          0.1         4.0          0.779866\n",
       "3          0.1         5.0          0.798810\n",
       "4          0.1         6.0          0.795597\n",
       "5          0.1         7.0          0.789234\n",
       "6          0.1         8.0          0.792708\n",
       "7          0.1         9.0          0.801940\n",
       "8          0.1        10.0          0.811794\n",
       "9          0.1        11.0          0.811576\n",
       "10         0.1        12.0          0.805081\n",
       "11         0.1        13.0          0.808462\n",
       "12         0.1        14.0          0.814935\n",
       "13         0.1        15.0          0.807504"
      ]
     },
     "execution_count": 20,
     "metadata": {},
     "output_type": "execute_result"
    }
   ],
   "source": [
    "df_for_k_fold"
   ]
  },
  {
   "cell_type": "code",
   "execution_count": 21,
   "id": "aa87837b",
   "metadata": {},
   "outputs": [
    {
     "data": {
      "text/html": [
       "<div>\n",
       "<style scoped>\n",
       "    .dataframe tbody tr th:only-of-type {\n",
       "        vertical-align: middle;\n",
       "    }\n",
       "\n",
       "    .dataframe tbody tr th {\n",
       "        vertical-align: top;\n",
       "    }\n",
       "\n",
       "    .dataframe thead th {\n",
       "        text-align: right;\n",
       "    }\n",
       "</style>\n",
       "<table border=\"1\" class=\"dataframe\">\n",
       "  <thead>\n",
       "    <tr style=\"text-align: right;\">\n",
       "      <th></th>\n",
       "      <th>Train Size</th>\n",
       "      <th>K-fold(CV)</th>\n",
       "      <th>Mean of Accuracy</th>\n",
       "    </tr>\n",
       "  </thead>\n",
       "  <tbody>\n",
       "    <tr>\n",
       "      <th>0</th>\n",
       "      <td>0.1</td>\n",
       "      <td>2.0</td>\n",
       "      <td>0.729560</td>\n",
       "    </tr>\n",
       "    <tr>\n",
       "      <th>1</th>\n",
       "      <td>0.1</td>\n",
       "      <td>3.0</td>\n",
       "      <td>0.786164</td>\n",
       "    </tr>\n",
       "    <tr>\n",
       "      <th>2</th>\n",
       "      <td>0.1</td>\n",
       "      <td>4.0</td>\n",
       "      <td>0.779866</td>\n",
       "    </tr>\n",
       "    <tr>\n",
       "      <th>3</th>\n",
       "      <td>0.1</td>\n",
       "      <td>5.0</td>\n",
       "      <td>0.798810</td>\n",
       "    </tr>\n",
       "    <tr>\n",
       "      <th>4</th>\n",
       "      <td>0.1</td>\n",
       "      <td>6.0</td>\n",
       "      <td>0.795597</td>\n",
       "    </tr>\n",
       "    <tr>\n",
       "      <th>5</th>\n",
       "      <td>0.1</td>\n",
       "      <td>7.0</td>\n",
       "      <td>0.789234</td>\n",
       "    </tr>\n",
       "    <tr>\n",
       "      <th>6</th>\n",
       "      <td>0.1</td>\n",
       "      <td>8.0</td>\n",
       "      <td>0.792708</td>\n",
       "    </tr>\n",
       "    <tr>\n",
       "      <th>7</th>\n",
       "      <td>0.1</td>\n",
       "      <td>9.0</td>\n",
       "      <td>0.801940</td>\n",
       "    </tr>\n",
       "    <tr>\n",
       "      <th>8</th>\n",
       "      <td>0.1</td>\n",
       "      <td>10.0</td>\n",
       "      <td>0.811794</td>\n",
       "    </tr>\n",
       "    <tr>\n",
       "      <th>9</th>\n",
       "      <td>0.1</td>\n",
       "      <td>11.0</td>\n",
       "      <td>0.811576</td>\n",
       "    </tr>\n",
       "    <tr>\n",
       "      <th>10</th>\n",
       "      <td>0.1</td>\n",
       "      <td>12.0</td>\n",
       "      <td>0.805081</td>\n",
       "    </tr>\n",
       "    <tr>\n",
       "      <th>11</th>\n",
       "      <td>0.1</td>\n",
       "      <td>13.0</td>\n",
       "      <td>0.808462</td>\n",
       "    </tr>\n",
       "    <tr>\n",
       "      <th>12</th>\n",
       "      <td>0.1</td>\n",
       "      <td>14.0</td>\n",
       "      <td>0.814935</td>\n",
       "    </tr>\n",
       "    <tr>\n",
       "      <th>13</th>\n",
       "      <td>0.1</td>\n",
       "      <td>15.0</td>\n",
       "      <td>0.807504</td>\n",
       "    </tr>\n",
       "  </tbody>\n",
       "</table>\n",
       "</div>"
      ],
      "text/plain": [
       "    Train Size  K-fold(CV)  Mean of Accuracy\n",
       "0          0.1         2.0          0.729560\n",
       "1          0.1         3.0          0.786164\n",
       "2          0.1         4.0          0.779866\n",
       "3          0.1         5.0          0.798810\n",
       "4          0.1         6.0          0.795597\n",
       "5          0.1         7.0          0.789234\n",
       "6          0.1         8.0          0.792708\n",
       "7          0.1         9.0          0.801940\n",
       "8          0.1        10.0          0.811794\n",
       "9          0.1        11.0          0.811576\n",
       "10         0.1        12.0          0.805081\n",
       "11         0.1        13.0          0.808462\n",
       "12         0.1        14.0          0.814935\n",
       "13         0.1        15.0          0.807504"
      ]
     },
     "execution_count": 21,
     "metadata": {},
     "output_type": "execute_result"
    }
   ],
   "source": [
    "df1 = df_for_k_fold[df_for_k_fold['Train Size'] == 0.1]\n",
    "df1"
   ]
  },
  {
   "cell_type": "code",
   "execution_count": 22,
   "id": "b350e918",
   "metadata": {},
   "outputs": [
    {
     "data": {
      "text/html": [
       "<div>\n",
       "<style scoped>\n",
       "    .dataframe tbody tr th:only-of-type {\n",
       "        vertical-align: middle;\n",
       "    }\n",
       "\n",
       "    .dataframe tbody tr th {\n",
       "        vertical-align: top;\n",
       "    }\n",
       "\n",
       "    .dataframe thead th {\n",
       "        text-align: right;\n",
       "    }\n",
       "</style>\n",
       "<table border=\"1\" class=\"dataframe\">\n",
       "  <thead>\n",
       "    <tr style=\"text-align: right;\">\n",
       "      <th></th>\n",
       "      <th>Train Size</th>\n",
       "      <th>K-fold(CV)</th>\n",
       "      <th>Mean of Accuracy</th>\n",
       "    </tr>\n",
       "  </thead>\n",
       "  <tbody>\n",
       "    <tr>\n",
       "      <th>12</th>\n",
       "      <td>0.1</td>\n",
       "      <td>14.0</td>\n",
       "      <td>0.814935</td>\n",
       "    </tr>\n",
       "  </tbody>\n",
       "</table>\n",
       "</div>"
      ],
      "text/plain": [
       "    Train Size  K-fold(CV)  Mean of Accuracy\n",
       "12         0.1        14.0          0.814935"
      ]
     },
     "execution_count": 22,
     "metadata": {},
     "output_type": "execute_result"
    }
   ],
   "source": [
    "df1_result = df1[df1['Mean of Accuracy'] == (df1['Mean of Accuracy']).max()]\n",
    "df1_result"
   ]
  },
  {
   "cell_type": "markdown",
   "id": "a3452142",
   "metadata": {},
   "source": [
    "- <a name=''>${\\bf{\\text{SVC(rbf)}}}$</a>"
   ]
  },
  {
   "cell_type": "markdown",
   "id": "81c01a08",
   "metadata": {},
   "source": [
    "- - <a name=''>${{\\text{Grid Search}}}$</a>"
   ]
  },
  {
   "cell_type": "code",
   "execution_count": 23,
   "id": "5ab0e58d",
   "metadata": {},
   "outputs": [],
   "source": [
    "svc = SVC(kernel='rbf', random_state=0)"
   ]
  },
  {
   "cell_type": "code",
   "execution_count": 24,
   "id": "84c9a167",
   "metadata": {},
   "outputs": [],
   "source": [
    "pipe = Pipeline(steps=[(\"svc\", svc)])"
   ]
  },
  {
   "cell_type": "code",
   "execution_count": 25,
   "id": "3887cd43",
   "metadata": {},
   "outputs": [],
   "source": [
    "param_grid = {'svc__C': np.logspace(-2, 2, 30), \\\n",
    "             'svc__gamma': np.linspace(0, 1, 33)}"
   ]
  },
  {
   "cell_type": "code",
   "execution_count": 26,
   "id": "b5a84848",
   "metadata": {},
   "outputs": [],
   "source": [
    "input_data_dict = data_scaled"
   ]
  },
  {
   "cell_type": "code",
   "execution_count": 27,
   "id": "e62454bf",
   "metadata": {},
   "outputs": [
    {
     "name": "stderr",
     "output_type": "stream",
     "text": [
      "/home/shahin/.local/lib/python3.10/site-packages/sklearn/model_selection/_split.py:684: UserWarning: The least populated class in y has only 9 members, which is less than n_splits=14.\n",
      "  warnings.warn(\n",
      "/home/shahin/.local/lib/python3.10/site-packages/sklearn/model_selection/_validation.py:378: FitFailedWarning: \n",
      "420 fits failed out of a total of 13860.\n",
      "The score on these train-test partitions for these parameters will be set to nan.\n",
      "If these failures are not expected, you can try to debug them by setting error_score='raise'.\n",
      "\n",
      "Below are more details about the failures:\n",
      "--------------------------------------------------------------------------------\n",
      "420 fits failed with the following error:\n",
      "Traceback (most recent call last):\n",
      "  File \"/home/shahin/.local/lib/python3.10/site-packages/sklearn/model_selection/_validation.py\", line 686, in _fit_and_score\n",
      "    estimator.fit(X_train, y_train, **fit_params)\n",
      "  File \"/home/shahin/.local/lib/python3.10/site-packages/sklearn/pipeline.py\", line 382, in fit\n",
      "    self._final_estimator.fit(Xt, y, **fit_params_last_step)\n",
      "  File \"/home/shahin/.local/lib/python3.10/site-packages/sklearn/svm/_base.py\", line 237, in fit\n",
      "    raise ValueError(msg)\n",
      "ValueError: gamma value must be > 0; 0.0 is invalid. Use a positive number or use 'auto' to set gamma to a value of 1 / n_features.\n",
      "\n",
      "  warnings.warn(some_fits_failed_message, FitFailedWarning)\n",
      "/home/shahin/.local/lib/python3.10/site-packages/sklearn/model_selection/_search.py:953: UserWarning: One or more of the test scores are non-finite: [       nan 0.11038961 0.11038961 0.11038961 0.11038961 0.11038961\n",
      " 0.11038961 0.10417843 0.10417843 0.10417843 0.10417843 0.10107284\n",
      " 0.10107284 0.10107284 0.10107284 0.10107284 0.10107284 0.10107284\n",
      " 0.10107284 0.10107284 0.10107284 0.10107284 0.10107284 0.10107284\n",
      " 0.10107284 0.10107284 0.10107284 0.10107284 0.10107284 0.10107284\n",
      " 0.10107284 0.10107284 0.10107284        nan 0.11038961 0.11038961\n",
      " 0.11038961 0.11038961 0.11038961 0.11038961 0.10417843 0.10417843\n",
      " 0.10417843 0.10417843 0.10107284 0.10107284 0.10107284 0.10107284\n",
      " 0.10107284 0.10107284 0.10107284 0.10107284 0.10107284 0.10107284\n",
      " 0.10107284 0.10107284 0.10107284 0.10107284 0.10107284 0.10107284\n",
      " 0.10107284 0.10107284 0.10107284 0.10107284 0.10107284 0.10107284\n",
      "        nan 0.11038961 0.11038961 0.11038961 0.11038961 0.11038961\n",
      " 0.11038961 0.10417843 0.10417843 0.10417843 0.10417843 0.10107284\n",
      " 0.10107284 0.10107284 0.10107284 0.10107284 0.10107284 0.10107284\n",
      " 0.10107284 0.10107284 0.10107284 0.10107284 0.10107284 0.10107284\n",
      " 0.10107284 0.10107284 0.10107284 0.10107284 0.10107284 0.10107284\n",
      " 0.10107284 0.10107284 0.10107284        nan 0.11038961 0.11038961\n",
      " 0.11038961 0.11038961 0.11038961 0.11038961 0.10417843 0.10417843\n",
      " 0.10417843 0.10417843 0.10107284 0.10107284 0.10107284 0.10107284\n",
      " 0.10107284 0.10107284 0.10107284 0.10107284 0.10107284 0.10107284\n",
      " 0.10107284 0.10107284 0.10107284 0.10107284 0.10107284 0.10107284\n",
      " 0.10107284 0.10107284 0.10107284 0.10107284 0.10107284 0.10107284\n",
      "        nan 0.25508187 0.14822134 0.11038961 0.11038961 0.11038961\n",
      " 0.11038961 0.10417843 0.10417843 0.10417843 0.10417843 0.10107284\n",
      " 0.10107284 0.10107284 0.10107284 0.10107284 0.10107284 0.10107284\n",
      " 0.10107284 0.10107284 0.10107284 0.10107284 0.10107284 0.10107284\n",
      " 0.10107284 0.10107284 0.10107284 0.10107284 0.10107284 0.10107284\n",
      " 0.10107284 0.10107284 0.10107284        nan 0.39059853 0.31493506\n",
      " 0.19833427 0.14511575 0.11038961 0.11038961 0.10417843 0.10417843\n",
      " 0.10417843 0.10417843 0.10107284 0.10107284 0.10107284 0.10107284\n",
      " 0.10107284 0.10107284 0.10107284 0.10107284 0.10107284 0.10107284\n",
      " 0.10107284 0.10107284 0.10107284 0.10107284 0.10107284 0.10107284\n",
      " 0.10107284 0.10107284 0.10107284 0.10107284 0.10107284 0.10107284\n",
      "        nan 0.52625635 0.44776962 0.35290796 0.29305477 0.20482778\n",
      " 0.15782044 0.13565782 0.10728402 0.10417843 0.10417843 0.10107284\n",
      " 0.10107284 0.10107284 0.10107284 0.10107284 0.10107284 0.10107284\n",
      " 0.10107284 0.10107284 0.10107284 0.10107284 0.10107284 0.10107284\n",
      " 0.10107284 0.10107284 0.10107284 0.10107284 0.10107284 0.10107284\n",
      " 0.10107284 0.10107284 0.10107284        nan 0.58003953 0.59867307\n",
      " 0.49760023 0.43464145 0.35290796 0.28359684 0.2082157  0.18294749\n",
      " 0.14539808 0.13565782 0.11998871 0.10417843 0.10107284 0.10107284\n",
      " 0.10107284 0.10107284 0.10107284 0.10107284 0.10107284 0.10107284\n",
      " 0.10107284 0.10107284 0.10107284 0.10107284 0.10107284 0.10107284\n",
      " 0.10107284 0.10107284 0.10107284 0.10107284 0.10107284 0.10107284\n",
      "        nan 0.63946923 0.72811971 0.69974591 0.61151892 0.54813665\n",
      " 0.4405703  0.38142292 0.30872388 0.24562394 0.2082157  0.1798419\n",
      " 0.14850367 0.13579898 0.13269339 0.1230943  0.11688312 0.10417843\n",
      " 0.10107284 0.10107284 0.10107284 0.10107284 0.10107284 0.10107284\n",
      " 0.10107284 0.10107284 0.10107284 0.10107284 0.10107284 0.10107284\n",
      " 0.10107284 0.10107284 0.10107284        nan 0.7687747  0.77470356\n",
      " 0.74943535 0.73080181 0.66784303 0.62718803 0.56070017 0.45059289\n",
      " 0.38777527 0.34669678 0.3121118  0.23630717 0.21132129 0.19226426\n",
      " 0.1579616  0.14525692 0.13579898 0.13579898 0.13269339 0.12323546\n",
      " 0.11688312 0.10417843 0.10107284 0.10107284 0.10107284 0.10107284\n",
      " 0.10107284 0.10107284 0.10107284 0.10107284 0.10107284 0.10107284\n",
      "        nan 0.79926595 0.783738   0.78402033 0.76199887 0.73701299\n",
      " 0.70525127 0.64892716 0.63015246 0.57368718 0.50395257 0.44452287\n",
      " 0.38466968 0.34994353 0.33413326 0.26792772 0.23023715 0.20793337\n",
      " 0.18294749 0.16727837 0.14525692 0.14215133 0.13579898 0.13269339\n",
      " 0.13269339 0.12634105 0.12323546 0.11688312 0.10417843 0.10417843\n",
      " 0.10107284 0.10107284 0.10107284        nan 0.80237154 0.81197064\n",
      " 0.81197064 0.7933371  0.78063241 0.77131564 0.75578769 0.69875776\n",
      " 0.67080745 0.65513834 0.60191982 0.54813665 0.48828346 0.46343874\n",
      " 0.41290232 0.38481084 0.35304912 0.34034444 0.28994918 0.23941276\n",
      " 0.2173913  0.19240542 0.17038396 0.16403162 0.15457369 0.14836251\n",
      " 0.13890457 0.13890457 0.13269339 0.13269339 0.12634105 0.12323546\n",
      "        nan 0.80872388 0.81182947 0.82453416 0.8308865  0.81535855\n",
      " 0.8121118  0.79644269 0.77456239 0.75578769 0.73037832 0.68337098\n",
      " 0.67080745 0.63622247 0.60177866 0.55759458 0.51030491 0.48531903\n",
      " 0.44762846 0.41614907 0.39737436 0.37210615 0.35304912 0.32721626\n",
      " 0.28359684 0.24872953 0.22063806 0.20793337 0.18591191 0.16713721\n",
      " 0.16403162 0.15457369 0.15457369        nan 0.81493506 0.82749859\n",
      " 0.83385093 0.83709768 0.83709768 0.82778091 0.81225296 0.80914737\n",
      " 0.80293619 0.79037267 0.76552795 0.75578769 0.73080181 0.70228684\n",
      " 0.67730096 0.64568041 0.62365895 0.58610954 0.5609825  0.52625635\n",
      " 0.50748165 0.48531903 0.4539808  0.42264257 0.40993789 0.40062112\n",
      " 0.37196499 0.34994353 0.31804065 0.31789949 0.28670243 0.2553642\n",
      "        nan 0.82425184 0.83695652 0.84345003 0.84655562 0.84034444\n",
      " 0.83723885 0.8308865  0.82453416 0.81846414 0.8217109  0.81874647\n",
      " 0.80293619 0.79672501 0.77809147 0.77188029 0.75917561 0.74336533\n",
      " 0.72755505 0.70214568 0.6863354  0.66741954 0.64243365 0.60798984\n",
      " 0.57679277 0.56733484 0.55124224 0.53557312 0.51058724 0.49167137\n",
      " 0.46033315 0.44762846 0.43195935        nan 0.83992095 0.86222473\n",
      " 0.85290796 0.86222473 0.86222473 0.85911914 0.85587239 0.84345003\n",
      " 0.84345003 0.84034444 0.83116883 0.83116883 0.81225296 0.80293619\n",
      " 0.79672501 0.78430265 0.77809147 0.76566911 0.75931677 0.7339074\n",
      " 0.73376623 0.72120271 0.69889893 0.69268775 0.68958216 0.68322981\n",
      " 0.65838509 0.63622247 0.61744777 0.60474308 0.58582722 0.5701581\n",
      "        nan 0.85573123 0.86547149 0.86843591 0.86518916 0.86518916\n",
      " 0.86843591 0.86236589 0.85911914 0.84966121 0.84669678 0.8404856\n",
      " 0.83116883 0.82481649 0.80604178 0.80604178 0.78740824 0.78430265\n",
      " 0.7687747  0.76242236 0.73701299 0.73376623 0.7243083  0.70511011\n",
      " 0.70200452 0.69268775 0.68322981 0.66770186 0.64906832 0.6269057\n",
      " 0.61109543 0.59217956 0.57651045        nan 0.85883682 0.88099944\n",
      " 0.87125918 0.86815359 0.8715415  0.87168267 0.86547149 0.85601355\n",
      " 0.85290796 0.84669678 0.84359119 0.83427442 0.82156973 0.80604178\n",
      " 0.80293619 0.78740824 0.78119706 0.7687747  0.76242236 0.73701299\n",
      " 0.73687182 0.7243083  0.70511011 0.70200452 0.69268775 0.68322981\n",
      " 0.66770186 0.64906832 0.6269057  0.61109543 0.59217956 0.57651045\n",
      "        nan 0.87789385 0.89031621 0.87140034 0.88099944 0.87789385\n",
      " 0.87492942 0.87492942 0.85911914 0.85601355 0.84669678 0.84359119\n",
      " 0.83738001 0.81846414 0.80293619 0.7998306  0.78430265 0.78119706\n",
      " 0.76566911 0.75931677 0.73701299 0.73687182 0.7243083  0.70511011\n",
      " 0.70200452 0.69268775 0.68322981 0.66770186 0.64906832 0.6269057\n",
      " 0.61109543 0.59217956 0.57651045        nan 0.89031621 0.88396386\n",
      " 0.88424619 0.88410503 0.87789385 0.87803501 0.86857708 0.85601355\n",
      " 0.85290796 0.84669678 0.84359119 0.83738001 0.81846414 0.80293619\n",
      " 0.7998306  0.78430265 0.78119706 0.76566911 0.75931677 0.73701299\n",
      " 0.73687182 0.7243083  0.70511011 0.70200452 0.69268775 0.68322981\n",
      " 0.66770186 0.64906832 0.6269057  0.61109543 0.59217956 0.57651045\n",
      "        nan 0.89652739 0.89356296 0.88735178 0.88721062 0.87775268\n",
      " 0.86843591 0.86533032 0.85601355 0.85290796 0.84669678 0.84359119\n",
      " 0.83738001 0.81846414 0.80293619 0.7998306  0.78430265 0.78119706\n",
      " 0.76566911 0.75931677 0.73701299 0.73687182 0.7243083  0.70511011\n",
      " 0.70200452 0.69268775 0.68322981 0.66770186 0.64906832 0.6269057\n",
      " 0.61109543 0.59217956 0.57651045        nan 0.89031621 0.89977414\n",
      " 0.88735178 0.88085827 0.87775268 0.86843591 0.86533032 0.85601355\n",
      " 0.85290796 0.84669678 0.84359119 0.83738001 0.81846414 0.80293619\n",
      " 0.7998306  0.78430265 0.78119706 0.76566911 0.75931677 0.73701299\n",
      " 0.73687182 0.7243083  0.70511011 0.70200452 0.69268775 0.68322981\n",
      " 0.66770186 0.64906832 0.6269057  0.61109543 0.59217956 0.57651045\n",
      "        nan 0.89652739 0.89666855 0.88099944 0.88410503 0.87775268\n",
      " 0.86843591 0.86533032 0.85601355 0.85290796 0.84669678 0.84359119\n",
      " 0.83738001 0.81846414 0.80293619 0.7998306  0.78430265 0.78119706\n",
      " 0.76566911 0.75931677 0.73701299 0.73687182 0.7243083  0.70511011\n",
      " 0.70200452 0.69268775 0.68322981 0.66770186 0.64906832 0.6269057\n",
      " 0.61109543 0.59217956 0.57651045        nan 0.89977414 0.8934218\n",
      " 0.88099944 0.88410503 0.87775268 0.86843591 0.86533032 0.85601355\n",
      " 0.85290796 0.84669678 0.84359119 0.83738001 0.81846414 0.80293619\n",
      " 0.7998306  0.78430265 0.78119706 0.76566911 0.75931677 0.73701299\n",
      " 0.73687182 0.7243083  0.70511011 0.70200452 0.69268775 0.68322981\n",
      " 0.66770186 0.64906832 0.6269057  0.61109543 0.59217956 0.57651045\n",
      "        nan 0.89977414 0.8934218  0.88099944 0.88410503 0.87775268\n",
      " 0.86843591 0.86533032 0.85601355 0.85290796 0.84669678 0.84359119\n",
      " 0.83738001 0.81846414 0.80293619 0.7998306  0.78430265 0.78119706\n",
      " 0.76566911 0.75931677 0.73701299 0.73687182 0.7243083  0.70511011\n",
      " 0.70200452 0.69268775 0.68322981 0.66770186 0.64906832 0.6269057\n",
      " 0.61109543 0.59217956 0.57651045        nan 0.89977414 0.8934218\n",
      " 0.88099944 0.88410503 0.87775268 0.86843591 0.86533032 0.85601355\n",
      " 0.85290796 0.84669678 0.84359119 0.83738001 0.81846414 0.80293619\n",
      " 0.7998306  0.78430265 0.78119706 0.76566911 0.75931677 0.73701299\n",
      " 0.73687182 0.7243083  0.70511011 0.70200452 0.69268775 0.68322981\n",
      " 0.66770186 0.64906832 0.6269057  0.61109543 0.59217956 0.57651045\n",
      "        nan 0.89666855 0.8934218  0.88099944 0.88410503 0.87775268\n",
      " 0.86843591 0.86533032 0.85601355 0.85290796 0.84669678 0.84359119\n",
      " 0.83738001 0.81846414 0.80293619 0.7998306  0.78430265 0.78119706\n",
      " 0.76566911 0.75931677 0.73701299 0.73687182 0.7243083  0.70511011\n",
      " 0.70200452 0.69268775 0.68322981 0.66770186 0.64906832 0.6269057\n",
      " 0.61109543 0.59217956 0.57651045        nan 0.89666855 0.8934218\n",
      " 0.88099944 0.88410503 0.87775268 0.86843591 0.86533032 0.85601355\n",
      " 0.85290796 0.84669678 0.84359119 0.83738001 0.81846414 0.80293619\n",
      " 0.7998306  0.78430265 0.78119706 0.76566911 0.75931677 0.73701299\n",
      " 0.73687182 0.7243083  0.70511011 0.70200452 0.69268775 0.68322981\n",
      " 0.66770186 0.64906832 0.6269057  0.61109543 0.59217956 0.57651045\n",
      "        nan 0.89666855 0.8934218  0.88099944 0.88410503 0.87775268\n",
      " 0.86843591 0.86533032 0.85601355 0.85290796 0.84669678 0.84359119\n",
      " 0.83738001 0.81846414 0.80293619 0.7998306  0.78430265 0.78119706\n",
      " 0.76566911 0.75931677 0.73701299 0.73687182 0.7243083  0.70511011\n",
      " 0.70200452 0.69268775 0.68322981 0.66770186 0.64906832 0.6269057\n",
      " 0.61109543 0.59217956 0.57651045        nan 0.89666855 0.8934218\n",
      " 0.88099944 0.88410503 0.87775268 0.86843591 0.86533032 0.85601355\n",
      " 0.85290796 0.84669678 0.84359119 0.83738001 0.81846414 0.80293619\n",
      " 0.7998306  0.78430265 0.78119706 0.76566911 0.75931677 0.73701299\n",
      " 0.73687182 0.7243083  0.70511011 0.70200452 0.69268775 0.68322981\n",
      " 0.66770186 0.64906832 0.6269057  0.61109543 0.59217956 0.57651045]\n",
      "  warnings.warn(\n"
     ]
    },
    {
     "data": {
      "text/html": [
       "<style>#sk-container-id-1 {color: black;background-color: white;}#sk-container-id-1 pre{padding: 0;}#sk-container-id-1 div.sk-toggleable {background-color: white;}#sk-container-id-1 label.sk-toggleable__label {cursor: pointer;display: block;width: 100%;margin-bottom: 0;padding: 0.3em;box-sizing: border-box;text-align: center;}#sk-container-id-1 label.sk-toggleable__label-arrow:before {content: \"▸\";float: left;margin-right: 0.25em;color: #696969;}#sk-container-id-1 label.sk-toggleable__label-arrow:hover:before {color: black;}#sk-container-id-1 div.sk-estimator:hover label.sk-toggleable__label-arrow:before {color: black;}#sk-container-id-1 div.sk-toggleable__content {max-height: 0;max-width: 0;overflow: hidden;text-align: left;background-color: #f0f8ff;}#sk-container-id-1 div.sk-toggleable__content pre {margin: 0.2em;color: black;border-radius: 0.25em;background-color: #f0f8ff;}#sk-container-id-1 input.sk-toggleable__control:checked~div.sk-toggleable__content {max-height: 200px;max-width: 100%;overflow: auto;}#sk-container-id-1 input.sk-toggleable__control:checked~label.sk-toggleable__label-arrow:before {content: \"▾\";}#sk-container-id-1 div.sk-estimator input.sk-toggleable__control:checked~label.sk-toggleable__label {background-color: #d4ebff;}#sk-container-id-1 div.sk-label input.sk-toggleable__control:checked~label.sk-toggleable__label {background-color: #d4ebff;}#sk-container-id-1 input.sk-hidden--visually {border: 0;clip: rect(1px 1px 1px 1px);clip: rect(1px, 1px, 1px, 1px);height: 1px;margin: -1px;overflow: hidden;padding: 0;position: absolute;width: 1px;}#sk-container-id-1 div.sk-estimator {font-family: monospace;background-color: #f0f8ff;border: 1px dotted black;border-radius: 0.25em;box-sizing: border-box;margin-bottom: 0.5em;}#sk-container-id-1 div.sk-estimator:hover {background-color: #d4ebff;}#sk-container-id-1 div.sk-parallel-item::after {content: \"\";width: 100%;border-bottom: 1px solid gray;flex-grow: 1;}#sk-container-id-1 div.sk-label:hover label.sk-toggleable__label {background-color: #d4ebff;}#sk-container-id-1 div.sk-serial::before {content: \"\";position: absolute;border-left: 1px solid gray;box-sizing: border-box;top: 0;bottom: 0;left: 50%;z-index: 0;}#sk-container-id-1 div.sk-serial {display: flex;flex-direction: column;align-items: center;background-color: white;padding-right: 0.2em;padding-left: 0.2em;position: relative;}#sk-container-id-1 div.sk-item {position: relative;z-index: 1;}#sk-container-id-1 div.sk-parallel {display: flex;align-items: stretch;justify-content: center;background-color: white;position: relative;}#sk-container-id-1 div.sk-item::before, #sk-container-id-1 div.sk-parallel-item::before {content: \"\";position: absolute;border-left: 1px solid gray;box-sizing: border-box;top: 0;bottom: 0;left: 50%;z-index: -1;}#sk-container-id-1 div.sk-parallel-item {display: flex;flex-direction: column;z-index: 1;position: relative;background-color: white;}#sk-container-id-1 div.sk-parallel-item:first-child::after {align-self: flex-end;width: 50%;}#sk-container-id-1 div.sk-parallel-item:last-child::after {align-self: flex-start;width: 50%;}#sk-container-id-1 div.sk-parallel-item:only-child::after {width: 0;}#sk-container-id-1 div.sk-dashed-wrapped {border: 1px dashed gray;margin: 0 0.4em 0.5em 0.4em;box-sizing: border-box;padding-bottom: 0.4em;background-color: white;}#sk-container-id-1 div.sk-label label {font-family: monospace;font-weight: bold;display: inline-block;line-height: 1.2em;}#sk-container-id-1 div.sk-label-container {text-align: center;}#sk-container-id-1 div.sk-container {/* jupyter's `normalize.less` sets `[hidden] { display: none; }` but bootstrap.min.css set `[hidden] { display: none !important; }` so we also need the `!important` here to be able to override the default hidden behavior on the sphinx rendered scikit-learn.org. See: https://github.com/scikit-learn/scikit-learn/issues/21755 */display: inline-block !important;position: relative;}#sk-container-id-1 div.sk-text-repr-fallback {display: none;}</style><div id=\"sk-container-id-1\" class=\"sk-top-container\"><div class=\"sk-text-repr-fallback\"><pre>GridSearchCV(cv=14, estimator=Pipeline(steps=[(&#x27;svc&#x27;, SVC(random_state=0))]),\n",
       "             param_grid={&#x27;svc__C&#x27;: array([1.00000000e-02, 1.37382380e-02, 1.88739182e-02, 2.59294380e-02,\n",
       "       3.56224789e-02, 4.89390092e-02, 6.72335754e-02, 9.23670857e-02,\n",
       "       1.26896100e-01, 1.74332882e-01, 2.39502662e-01, 3.29034456e-01,\n",
       "       4.52035366e-01, 6.21016942e-01, 8.53167852e-01, 1.17210230e+00,\n",
       "       1.61026...\n",
       "       5.73615251e+00, 7.88046282e+00, 1.08263673e+01, 1.48735211e+01,\n",
       "       2.04335972e+01, 2.80721620e+01, 3.85662042e+01, 5.29831691e+01,\n",
       "       7.27895384e+01, 1.00000000e+02]),\n",
       "                         &#x27;svc__gamma&#x27;: array([0.     , 0.03125, 0.0625 , 0.09375, 0.125  , 0.15625, 0.1875 ,\n",
       "       0.21875, 0.25   , 0.28125, 0.3125 , 0.34375, 0.375  , 0.40625,\n",
       "       0.4375 , 0.46875, 0.5    , 0.53125, 0.5625 , 0.59375, 0.625  ,\n",
       "       0.65625, 0.6875 , 0.71875, 0.75   , 0.78125, 0.8125 , 0.84375,\n",
       "       0.875  , 0.90625, 0.9375 , 0.96875, 1.     ])})</pre><b>In a Jupyter environment, please rerun this cell to show the HTML representation or trust the notebook. <br />On GitHub, the HTML representation is unable to render, please try loading this page with nbviewer.org.</b></div><div class=\"sk-container\" hidden><div class=\"sk-item sk-dashed-wrapped\"><div class=\"sk-label-container\"><div class=\"sk-label sk-toggleable\"><input class=\"sk-toggleable__control sk-hidden--visually\" id=\"sk-estimator-id-1\" type=\"checkbox\" ><label for=\"sk-estimator-id-1\" class=\"sk-toggleable__label sk-toggleable__label-arrow\">GridSearchCV</label><div class=\"sk-toggleable__content\"><pre>GridSearchCV(cv=14, estimator=Pipeline(steps=[(&#x27;svc&#x27;, SVC(random_state=0))]),\n",
       "             param_grid={&#x27;svc__C&#x27;: array([1.00000000e-02, 1.37382380e-02, 1.88739182e-02, 2.59294380e-02,\n",
       "       3.56224789e-02, 4.89390092e-02, 6.72335754e-02, 9.23670857e-02,\n",
       "       1.26896100e-01, 1.74332882e-01, 2.39502662e-01, 3.29034456e-01,\n",
       "       4.52035366e-01, 6.21016942e-01, 8.53167852e-01, 1.17210230e+00,\n",
       "       1.61026...\n",
       "       5.73615251e+00, 7.88046282e+00, 1.08263673e+01, 1.48735211e+01,\n",
       "       2.04335972e+01, 2.80721620e+01, 3.85662042e+01, 5.29831691e+01,\n",
       "       7.27895384e+01, 1.00000000e+02]),\n",
       "                         &#x27;svc__gamma&#x27;: array([0.     , 0.03125, 0.0625 , 0.09375, 0.125  , 0.15625, 0.1875 ,\n",
       "       0.21875, 0.25   , 0.28125, 0.3125 , 0.34375, 0.375  , 0.40625,\n",
       "       0.4375 , 0.46875, 0.5    , 0.53125, 0.5625 , 0.59375, 0.625  ,\n",
       "       0.65625, 0.6875 , 0.71875, 0.75   , 0.78125, 0.8125 , 0.84375,\n",
       "       0.875  , 0.90625, 0.9375 , 0.96875, 1.     ])})</pre></div></div></div><div class=\"sk-parallel\"><div class=\"sk-parallel-item\"><div class=\"sk-item\"><div class=\"sk-label-container\"><div class=\"sk-label sk-toggleable\"><input class=\"sk-toggleable__control sk-hidden--visually\" id=\"sk-estimator-id-2\" type=\"checkbox\" ><label for=\"sk-estimator-id-2\" class=\"sk-toggleable__label sk-toggleable__label-arrow\">estimator: Pipeline</label><div class=\"sk-toggleable__content\"><pre>Pipeline(steps=[(&#x27;svc&#x27;, SVC(random_state=0))])</pre></div></div></div><div class=\"sk-serial\"><div class=\"sk-item\"><div class=\"sk-serial\"><div class=\"sk-item\"><div class=\"sk-estimator sk-toggleable\"><input class=\"sk-toggleable__control sk-hidden--visually\" id=\"sk-estimator-id-3\" type=\"checkbox\" ><label for=\"sk-estimator-id-3\" class=\"sk-toggleable__label sk-toggleable__label-arrow\">SVC</label><div class=\"sk-toggleable__content\"><pre>SVC(random_state=0)</pre></div></div></div></div></div></div></div></div></div></div></div></div>"
      ],
      "text/plain": [
       "GridSearchCV(cv=14, estimator=Pipeline(steps=[('svc', SVC(random_state=0))]),\n",
       "             param_grid={'svc__C': array([1.00000000e-02, 1.37382380e-02, 1.88739182e-02, 2.59294380e-02,\n",
       "       3.56224789e-02, 4.89390092e-02, 6.72335754e-02, 9.23670857e-02,\n",
       "       1.26896100e-01, 1.74332882e-01, 2.39502662e-01, 3.29034456e-01,\n",
       "       4.52035366e-01, 6.21016942e-01, 8.53167852e-01, 1.17210230e+00,\n",
       "       1.61026...\n",
       "       5.73615251e+00, 7.88046282e+00, 1.08263673e+01, 1.48735211e+01,\n",
       "       2.04335972e+01, 2.80721620e+01, 3.85662042e+01, 5.29831691e+01,\n",
       "       7.27895384e+01, 1.00000000e+02]),\n",
       "                         'svc__gamma': array([0.     , 0.03125, 0.0625 , 0.09375, 0.125  , 0.15625, 0.1875 ,\n",
       "       0.21875, 0.25   , 0.28125, 0.3125 , 0.34375, 0.375  , 0.40625,\n",
       "       0.4375 , 0.46875, 0.5    , 0.53125, 0.5625 , 0.59375, 0.625  ,\n",
       "       0.65625, 0.6875 , 0.71875, 0.75   , 0.78125, 0.8125 , 0.84375,\n",
       "       0.875  , 0.90625, 0.9375 , 0.96875, 1.     ])})"
      ]
     },
     "execution_count": 27,
     "metadata": {},
     "output_type": "execute_result"
    }
   ],
   "source": [
    "train_size = 0.1\n",
    "best_k_fold = 14\n",
    "X_train, y_train = input_data_dict['X_train_' + str(train_size)], input_data_dict['y_train_' + str(train_size)]\n",
    "search = GridSearchCV(pipe, param_grid, cv=best_k_fold)\n",
    "search.fit(X_train, y_train)"
   ]
  },
  {
   "cell_type": "code",
   "execution_count": 28,
   "id": "023441f0",
   "metadata": {},
   "outputs": [
    {
     "name": "stdout",
     "output_type": "stream",
     "text": [
      "\n",
      "λ = \u001b[34m14.873521072935118\u001b[0m\n",
      "\n",
      "γ = \u001b[34m0.03125\u001b[0m\n",
      "\n"
     ]
    }
   ],
   "source": [
    "best_params = search.best_params_\n",
    "best_lambda, best_gamma = best_params['svc__C'], best_params['svc__gamma']\n",
    "print(f'\\n\\u03BB = {colored(best_lambda, \"blue\")}\\n\\n\\u03B3 = {colored(best_gamma, \"blue\")}\\n')"
   ]
  },
  {
   "cell_type": "code",
   "execution_count": 29,
   "id": "e668576c",
   "metadata": {},
   "outputs": [
    {
     "name": "stdout",
     "output_type": "stream",
     "text": [
      "\n",
      "Best Accuracy is: \u001b[34m0.8997741389045738\u001b[0m\n",
      "\n"
     ]
    }
   ],
   "source": [
    "best_score = search.best_score_\n",
    "print(f'\\nBest Accuracy is: {colored(best_score, \"blue\")}\\n')"
   ]
  },
  {
   "cell_type": "markdown",
   "id": "ef3a754c",
   "metadata": {},
   "source": [
    "- - <a name=''>${\\text{Test:}}$</a>"
   ]
  },
  {
   "cell_type": "code",
   "execution_count": 50,
   "id": "9b90805a",
   "metadata": {},
   "outputs": [
    {
     "data": {
      "text/html": [
       "<style>#sk-container-id-4 {color: black;background-color: white;}#sk-container-id-4 pre{padding: 0;}#sk-container-id-4 div.sk-toggleable {background-color: white;}#sk-container-id-4 label.sk-toggleable__label {cursor: pointer;display: block;width: 100%;margin-bottom: 0;padding: 0.3em;box-sizing: border-box;text-align: center;}#sk-container-id-4 label.sk-toggleable__label-arrow:before {content: \"▸\";float: left;margin-right: 0.25em;color: #696969;}#sk-container-id-4 label.sk-toggleable__label-arrow:hover:before {color: black;}#sk-container-id-4 div.sk-estimator:hover label.sk-toggleable__label-arrow:before {color: black;}#sk-container-id-4 div.sk-toggleable__content {max-height: 0;max-width: 0;overflow: hidden;text-align: left;background-color: #f0f8ff;}#sk-container-id-4 div.sk-toggleable__content pre {margin: 0.2em;color: black;border-radius: 0.25em;background-color: #f0f8ff;}#sk-container-id-4 input.sk-toggleable__control:checked~div.sk-toggleable__content {max-height: 200px;max-width: 100%;overflow: auto;}#sk-container-id-4 input.sk-toggleable__control:checked~label.sk-toggleable__label-arrow:before {content: \"▾\";}#sk-container-id-4 div.sk-estimator input.sk-toggleable__control:checked~label.sk-toggleable__label {background-color: #d4ebff;}#sk-container-id-4 div.sk-label input.sk-toggleable__control:checked~label.sk-toggleable__label {background-color: #d4ebff;}#sk-container-id-4 input.sk-hidden--visually {border: 0;clip: rect(1px 1px 1px 1px);clip: rect(1px, 1px, 1px, 1px);height: 1px;margin: -1px;overflow: hidden;padding: 0;position: absolute;width: 1px;}#sk-container-id-4 div.sk-estimator {font-family: monospace;background-color: #f0f8ff;border: 1px dotted black;border-radius: 0.25em;box-sizing: border-box;margin-bottom: 0.5em;}#sk-container-id-4 div.sk-estimator:hover {background-color: #d4ebff;}#sk-container-id-4 div.sk-parallel-item::after {content: \"\";width: 100%;border-bottom: 1px solid gray;flex-grow: 1;}#sk-container-id-4 div.sk-label:hover label.sk-toggleable__label {background-color: #d4ebff;}#sk-container-id-4 div.sk-serial::before {content: \"\";position: absolute;border-left: 1px solid gray;box-sizing: border-box;top: 0;bottom: 0;left: 50%;z-index: 0;}#sk-container-id-4 div.sk-serial {display: flex;flex-direction: column;align-items: center;background-color: white;padding-right: 0.2em;padding-left: 0.2em;position: relative;}#sk-container-id-4 div.sk-item {position: relative;z-index: 1;}#sk-container-id-4 div.sk-parallel {display: flex;align-items: stretch;justify-content: center;background-color: white;position: relative;}#sk-container-id-4 div.sk-item::before, #sk-container-id-4 div.sk-parallel-item::before {content: \"\";position: absolute;border-left: 1px solid gray;box-sizing: border-box;top: 0;bottom: 0;left: 50%;z-index: -1;}#sk-container-id-4 div.sk-parallel-item {display: flex;flex-direction: column;z-index: 1;position: relative;background-color: white;}#sk-container-id-4 div.sk-parallel-item:first-child::after {align-self: flex-end;width: 50%;}#sk-container-id-4 div.sk-parallel-item:last-child::after {align-self: flex-start;width: 50%;}#sk-container-id-4 div.sk-parallel-item:only-child::after {width: 0;}#sk-container-id-4 div.sk-dashed-wrapped {border: 1px dashed gray;margin: 0 0.4em 0.5em 0.4em;box-sizing: border-box;padding-bottom: 0.4em;background-color: white;}#sk-container-id-4 div.sk-label label {font-family: monospace;font-weight: bold;display: inline-block;line-height: 1.2em;}#sk-container-id-4 div.sk-label-container {text-align: center;}#sk-container-id-4 div.sk-container {/* jupyter's `normalize.less` sets `[hidden] { display: none; }` but bootstrap.min.css set `[hidden] { display: none !important; }` so we also need the `!important` here to be able to override the default hidden behavior on the sphinx rendered scikit-learn.org. See: https://github.com/scikit-learn/scikit-learn/issues/21755 */display: inline-block !important;position: relative;}#sk-container-id-4 div.sk-text-repr-fallback {display: none;}</style><div id=\"sk-container-id-4\" class=\"sk-top-container\"><div class=\"sk-text-repr-fallback\"><pre>SVC(C=14.873521072935118, gamma=0.03125)</pre><b>In a Jupyter environment, please rerun this cell to show the HTML representation or trust the notebook. <br />On GitHub, the HTML representation is unable to render, please try loading this page with nbviewer.org.</b></div><div class=\"sk-container\" hidden><div class=\"sk-item\"><div class=\"sk-estimator sk-toggleable\"><input class=\"sk-toggleable__control sk-hidden--visually\" id=\"sk-estimator-id-6\" type=\"checkbox\" checked><label for=\"sk-estimator-id-6\" class=\"sk-toggleable__label sk-toggleable__label-arrow\">SVC</label><div class=\"sk-toggleable__content\"><pre>SVC(C=14.873521072935118, gamma=0.03125)</pre></div></div></div></div></div>"
      ],
      "text/plain": [
       "SVC(C=14.873521072935118, gamma=0.03125)"
      ]
     },
     "execution_count": 50,
     "metadata": {},
     "output_type": "execute_result"
    }
   ],
   "source": [
    "train_size = 0.1\n",
    "clf = SVC(C=best_lambda, kernel='rbf', gamma=best_gamma)\n",
    "X_train, y_train, X_test, y_test = input_data_dict['X_train_' + str(train_size)], \\\n",
    "input_data_dict['y_train_' + str(train_size)], input_data_dict['X_test_' + str(train_size)], \\\n",
    "input_data_dict['y_test_' + str(train_size)]\n",
    "clf.fit(X_train, y_train)"
   ]
  },
  {
   "cell_type": "code",
   "execution_count": 51,
   "id": "905503fe",
   "metadata": {},
   "outputs": [
    {
     "data": {
      "text/html": [
       "<div>\n",
       "<style scoped>\n",
       "    .dataframe tbody tr th:only-of-type {\n",
       "        vertical-align: middle;\n",
       "    }\n",
       "\n",
       "    .dataframe tbody tr th {\n",
       "        vertical-align: top;\n",
       "    }\n",
       "\n",
       "    .dataframe thead th {\n",
       "        text-align: right;\n",
       "    }\n",
       "</style>\n",
       "<table border=\"1\" class=\"dataframe\">\n",
       "  <thead>\n",
       "    <tr style=\"text-align: right;\">\n",
       "      <th></th>\n",
       "      <th>Class</th>\n",
       "      <th>Accuracy</th>\n",
       "    </tr>\n",
       "  </thead>\n",
       "  <tbody>\n",
       "    <tr>\n",
       "      <th>0</th>\n",
       "      <td>1</td>\n",
       "      <td>1.000000</td>\n",
       "    </tr>\n",
       "    <tr>\n",
       "      <th>1</th>\n",
       "      <td>2</td>\n",
       "      <td>0.989011</td>\n",
       "    </tr>\n",
       "    <tr>\n",
       "      <th>2</th>\n",
       "      <td>3</td>\n",
       "      <td>0.982301</td>\n",
       "    </tr>\n",
       "    <tr>\n",
       "      <th>3</th>\n",
       "      <td>4</td>\n",
       "      <td>0.969072</td>\n",
       "    </tr>\n",
       "    <tr>\n",
       "      <th>4</th>\n",
       "      <td>5</td>\n",
       "      <td>0.802469</td>\n",
       "    </tr>\n",
       "    <tr>\n",
       "      <th>5</th>\n",
       "      <td>6</td>\n",
       "      <td>0.794239</td>\n",
       "    </tr>\n",
       "    <tr>\n",
       "      <th>6</th>\n",
       "      <td>7</td>\n",
       "      <td>0.982906</td>\n",
       "    </tr>\n",
       "    <tr>\n",
       "      <th>7</th>\n",
       "      <td>8</td>\n",
       "      <td>0.978142</td>\n",
       "    </tr>\n",
       "    <tr>\n",
       "      <th>8</th>\n",
       "      <td>9</td>\n",
       "      <td>0.929329</td>\n",
       "    </tr>\n",
       "    <tr>\n",
       "      <th>9</th>\n",
       "      <td>10</td>\n",
       "      <td>0.870536</td>\n",
       "    </tr>\n",
       "    <tr>\n",
       "      <th>10</th>\n",
       "      <td>11</td>\n",
       "      <td>0.960000</td>\n",
       "    </tr>\n",
       "    <tr>\n",
       "      <th>11</th>\n",
       "      <td>12</td>\n",
       "      <td>0.932515</td>\n",
       "    </tr>\n",
       "    <tr>\n",
       "      <th>12</th>\n",
       "      <td>13</td>\n",
       "      <td>0.917355</td>\n",
       "    </tr>\n",
       "    <tr>\n",
       "      <th>13</th>\n",
       "      <td>14</td>\n",
       "      <td>1.000000</td>\n",
       "    </tr>\n",
       "  </tbody>\n",
       "</table>\n",
       "</div>"
      ],
      "text/plain": [
       "    Class  Accuracy\n",
       "0       1  1.000000\n",
       "1       2  0.989011\n",
       "2       3  0.982301\n",
       "3       4  0.969072\n",
       "4       5  0.802469\n",
       "5       6  0.794239\n",
       "6       7  0.982906\n",
       "7       8  0.978142\n",
       "8       9  0.929329\n",
       "9      10  0.870536\n",
       "10     11  0.960000\n",
       "11     12  0.932515\n",
       "12     13  0.917355\n",
       "13     14  1.000000"
      ]
     },
     "execution_count": 51,
     "metadata": {},
     "output_type": "execute_result"
    }
   ],
   "source": [
    "y_pred = clf.predict(X_test)\n",
    "ov_acc = accuracy_score(y_test, y_pred)\n",
    "conf_mat = confusion_matrix(y_test, y_pred)\n",
    "kappa = cohen_kappa_score(y_test, y_pred)\n",
    "acc_for_each_class = conf_mat.diagonal()/conf_mat.sum(axis=1)\n",
    "df_result1 = pd.DataFrame({'Class': range(1, 15), 'Accuracy': acc_for_each_class})\n",
    "df_result1"
   ]
  },
  {
   "cell_type": "markdown",
   "id": "3826981e",
   "metadata": {},
   "source": [
    "- <a name=''>${\\bf{\\text{Heatmap of Confusion Matrix}}}$</a>"
   ]
  },
  {
   "cell_type": "code",
   "execution_count": 52,
   "id": "dcc6efe6",
   "metadata": {},
   "outputs": [
    {
     "data": {
      "image/png": "[encoded data removed]",
      "text/plain": [
       "<Figure size 640x480 with 2 Axes>"
      ]
     },
     "metadata": {},
     "output_type": "display_data"
    }
   ],
   "source": [
    "cmap_list = ['Greys', 'Purples', 'Blues', 'Greens', 'Oranges', 'Reds', \\\n",
    "                      'YlOrBr', 'YlOrRd', 'OrRd', 'PuRd', 'RdPu', 'BuPu',\\\n",
    "                      'GnBu', 'PuBu', 'YlGnBu', 'PuBuGn', 'BuGn', 'YlGn']\n",
    "\n",
    "disp = ConfusionMatrixDisplay(confusion_matrix=conf_mat, display_labels=clf.classes_)\n",
    "disp.plot(cmap=cmap_list[14])\n",
    "plt.show()"
   ]
  },
  {
   "cell_type": "code",
   "execution_count": 53,
   "id": "9bede9c8",
   "metadata": {},
   "outputs": [
    {
     "name": "stdout",
     "output_type": "stream",
     "text": [
      "\n",
      "Result of this Pipeline: \u001b[34mInput_Data\u001b[0m ---> \u001b[35mStandard Scaler\u001b[0m ---> \u001b[35mSVC(rbf)\u001b[0m\n",
      "\n",
      "Overall Accuracy: \u001b[32m0.9290102389078498\u001b[0m\n",
      "\n",
      "κ = \u001b[32m0.923081359914085\u001b[0m\n",
      "\n"
     ]
    }
   ],
   "source": [
    "print(f\"\\nResult of this Pipeline: {colored('Input_Data', 'blue')} ---> \\\n",
    "{colored('Standard Scaler', 'magenta')} ---> {colored('SVC(rbf)', 'magenta')}\")\n",
    "print(f'\\nOverall Accuracy: {colored(ov_acc, \"green\")}\\n\\n\\u03BA = {colored(kappa, \"green\")}\\n')"
   ]
  },
  {
   "cell_type": "markdown",
   "id": "47fc8061",
   "metadata": {},
   "source": [
    "$\\newline$\n",
    "$\\newline$\n",
    "- <a name=''>${\\bf{\\text{Classification Map for }\\underline{\\text{Test Data}}}}$</a>\n",
    "$\\newline$\n",
    "$\\newline$"
   ]
  },
  {
   "cell_type": "code",
   "execution_count": 57,
   "id": "27c7c2ac",
   "metadata": {},
   "outputs": [
    {
     "name": "stdout",
     "output_type": "stream",
     "text": [
      "\n",
      "Shape of the ŷ: \u001b[34m(2930,)\u001b[0m\n",
      "\n"
     ]
    }
   ],
   "source": [
    "print(f'\\nShape of the y\\u0302: {colored(y_pred.shape, \"blue\")}\\n')"
   ]
  },
  {
   "cell_type": "code",
   "execution_count": 82,
   "id": "233d0006",
   "metadata": {},
   "outputs": [],
   "source": [
    "length = y_pred.shape[0]\n",
    "m = int(length ** 0.5)\n",
    "n = m\n",
    "selected_y_pred = y_pred[: m*n]\n",
    "selected_y_pred_reshaped = selected_y_pred.reshape((m, n))\n",
    "selected_y_test = y_test[: m*n]\n",
    "selected_y_test_reshaped = selected_y_test.reshape((m, n))"
   ]
  },
  {
   "cell_type": "code",
   "execution_count": 86,
   "id": "f01e3d49",
   "metadata": {},
   "outputs": [
    {
     "data": {
      "image/png": "[encoded data removed]",
      "text/plain": [
       "<Figure size 640x480 with 2 Axes>"
      ]
     },
     "metadata": {},
     "output_type": "display_data"
    }
   ],
   "source": [
    "plt.figure(1)\n",
    "plt.subplot(1, 2, 1), plt.imshow(selected_y_pred_reshaped), \\\n",
    "plt.axis('off'), plt.title('Class. Map for Test Data')\n",
    "\n",
    "plt.subplot(1, 2, 2), plt.imshow(selected_y_test_reshaped), \\\n",
    "plt.axis('off'), plt.title('Class. Map for Labels')\n",
    "plt.show()"
   ]
  },
  {
   "cell_type": "code",
   "execution_count": 92,
   "id": "caf2a0d6",
   "metadata": {},
   "outputs": [
    {
     "name": "stdout",
     "output_type": "stream",
     "text": [
      "\n",
      "\u001b[32mOv. Accuracy:\u001b[0m  0.929\n",
      "\n"
     ]
    }
   ],
   "source": [
    "my_ov_acc = len(y_pred[y_pred == y_test]) / len(y_pred)\n",
    "print(f'\\n{colored(\"Ov. Accuracy:\", \"green\")} {my_ov_acc: 0.3f}\\n')"
   ]
  },
  {
   "cell_type": "markdown",
   "id": "840b02fd",
   "metadata": {},
   "source": [
    "- <a name=''>${\\bf{\\text{SVC(poly)}}}$</a>"
   ]
  },
  {
   "cell_type": "markdown",
   "id": "29573b65",
   "metadata": {},
   "source": [
    "- - <a name=''>${\\text{Grid Search}}$</a>"
   ]
  },
  {
   "cell_type": "code",
   "execution_count": 135,
   "id": "498350b3",
   "metadata": {},
   "outputs": [],
   "source": [
    "svc = SVC(kernel='poly', random_state=0)"
   ]
  },
  {
   "cell_type": "code",
   "execution_count": 136,
   "id": "dc27482c",
   "metadata": {},
   "outputs": [],
   "source": [
    "pipe = Pipeline(steps=[(\"svc\", svc)])"
   ]
  },
  {
   "cell_type": "code",
   "execution_count": 137,
   "id": "7556f425",
   "metadata": {},
   "outputs": [],
   "source": [
    "param_grid = {'svc__C': np.logspace(1, 2, 11), 'svc__degree': [2, 3, 4, 5], \\\n",
    "             'svc__gamma': np.linspace(0, 1, 11)}"
   ]
  },
  {
   "cell_type": "code",
   "execution_count": 138,
   "id": "3798c4c6",
   "metadata": {},
   "outputs": [],
   "source": [
    "input_data_dict = data_scaled"
   ]
  },
  {
   "cell_type": "code",
   "execution_count": 139,
   "id": "09c0012b",
   "metadata": {},
   "outputs": [
    {
     "name": "stderr",
     "output_type": "stream",
     "text": [
      "/home/shahin/.local/lib/python3.10/site-packages/sklearn/model_selection/_split.py:684: UserWarning: The least populated class in y has only 5 members, which is less than n_splits=10.\n",
      "  warnings.warn(\n",
      "/home/shahin/.local/lib/python3.10/site-packages/sklearn/model_selection/_validation.py:378: FitFailedWarning: \n",
      "440 fits failed out of a total of 4840.\n",
      "The score on these train-test partitions for these parameters will be set to nan.\n",
      "If these failures are not expected, you can try to debug them by setting error_score='raise'.\n",
      "\n",
      "Below are more details about the failures:\n",
      "--------------------------------------------------------------------------------\n",
      "440 fits failed with the following error:\n",
      "Traceback (most recent call last):\n",
      "  File \"/home/shahin/.local/lib/python3.10/site-packages/sklearn/model_selection/_validation.py\", line 686, in _fit_and_score\n",
      "    estimator.fit(X_train, y_train, **fit_params)\n",
      "  File \"/home/shahin/.local/lib/python3.10/site-packages/sklearn/pipeline.py\", line 382, in fit\n",
      "    self._final_estimator.fit(Xt, y, **fit_params_last_step)\n",
      "  File \"/home/shahin/.local/lib/python3.10/site-packages/sklearn/svm/_base.py\", line 237, in fit\n",
      "    raise ValueError(msg)\n",
      "ValueError: gamma value must be > 0; 0.0 is invalid. Use a positive number or use 'auto' to set gamma to a value of 1 / n_features.\n",
      "\n",
      "  warnings.warn(some_fits_failed_message, FitFailedWarning)\n",
      "/home/shahin/.local/lib/python3.10/site-packages/sklearn/model_selection/_search.py:953: UserWarning: One or more of the test scores are non-finite: [       nan 0.87339015 0.88276515 0.88276515 0.88276515 0.88276515\n",
      " 0.88276515 0.88276515 0.88276515 0.88276515 0.88276515        nan\n",
      " 0.89166667 0.89479167 0.89479167 0.89479167 0.89479167 0.89479167\n",
      " 0.89479167 0.89479167 0.89479167 0.89479167        nan 0.81448864\n",
      " 0.82386364 0.82386364 0.82386364 0.82386364 0.82386364 0.82386364\n",
      " 0.82386364 0.82386364 0.82386364        nan 0.85142045 0.84517045\n",
      " 0.84517045 0.84517045 0.84517045 0.84517045 0.84517045 0.84517045\n",
      " 0.84517045 0.84517045        nan 0.87339015 0.88276515 0.88276515\n",
      " 0.88276515 0.88276515 0.88276515 0.88276515 0.88276515 0.88276515\n",
      " 0.88276515        nan 0.89479167 0.89479167 0.89479167 0.89479167\n",
      " 0.89479167 0.89479167 0.89479167 0.89479167 0.89479167 0.89479167\n",
      "        nan 0.81448864 0.82386364 0.82386364 0.82386364 0.82386364\n",
      " 0.82386364 0.82386364 0.82386364 0.82386364 0.82386364        nan\n",
      " 0.85142045 0.84517045 0.84517045 0.84517045 0.84517045 0.84517045\n",
      " 0.84517045 0.84517045 0.84517045 0.84517045        nan 0.87964015\n",
      " 0.88276515 0.88276515 0.88276515 0.88276515 0.88276515 0.88276515\n",
      " 0.88276515 0.88276515 0.88276515        nan 0.89791667 0.89479167\n",
      " 0.89479167 0.89479167 0.89479167 0.89479167 0.89479167 0.89479167\n",
      " 0.89479167 0.89479167        nan 0.81770833 0.82386364 0.82386364\n",
      " 0.82386364 0.82386364 0.82386364 0.82386364 0.82386364 0.82386364\n",
      " 0.82386364        nan 0.85142045 0.84517045 0.84517045 0.84517045\n",
      " 0.84517045 0.84517045 0.84517045 0.84517045 0.84517045 0.84517045\n",
      "        nan 0.88276515 0.88276515 0.88276515 0.88276515 0.88276515\n",
      " 0.88276515 0.88276515 0.88276515 0.88276515 0.88276515        nan\n",
      " 0.89791667 0.89479167 0.89479167 0.89479167 0.89479167 0.89479167\n",
      " 0.89479167 0.89479167 0.89479167 0.89479167        nan 0.82386364\n",
      " 0.82386364 0.82386364 0.82386364 0.82386364 0.82386364 0.82386364\n",
      " 0.82386364 0.82386364 0.82386364        nan 0.85454545 0.84517045\n",
      " 0.84517045 0.84517045 0.84517045 0.84517045 0.84517045 0.84517045\n",
      " 0.84517045 0.84517045        nan 0.88276515 0.88276515 0.88276515\n",
      " 0.88276515 0.88276515 0.88276515 0.88276515 0.88276515 0.88276515\n",
      " 0.88276515        nan 0.89791667 0.89479167 0.89479167 0.89479167\n",
      " 0.89479167 0.89479167 0.89479167 0.89479167 0.89479167 0.89479167\n",
      "        nan 0.82698864 0.82386364 0.82386364 0.82386364 0.82386364\n",
      " 0.82386364 0.82386364 0.82386364 0.82386364 0.82386364        nan\n",
      " 0.85454545 0.84517045 0.84517045 0.84517045 0.84517045 0.84517045\n",
      " 0.84517045 0.84517045 0.84517045 0.84517045        nan 0.88276515\n",
      " 0.88276515 0.88276515 0.88276515 0.88276515 0.88276515 0.88276515\n",
      " 0.88276515 0.88276515 0.88276515        nan 0.89479167 0.89479167\n",
      " 0.89479167 0.89479167 0.89479167 0.89479167 0.89479167 0.89479167\n",
      " 0.89479167 0.89479167        nan 0.82386364 0.82386364 0.82386364\n",
      " 0.82386364 0.82386364 0.82386364 0.82386364 0.82386364 0.82386364\n",
      " 0.82386364        nan 0.85767045 0.84517045 0.84517045 0.84517045\n",
      " 0.84517045 0.84517045 0.84517045 0.84517045 0.84517045 0.84517045\n",
      "        nan 0.88276515 0.88276515 0.88276515 0.88276515 0.88276515\n",
      " 0.88276515 0.88276515 0.88276515 0.88276515 0.88276515        nan\n",
      " 0.89479167 0.89479167 0.89479167 0.89479167 0.89479167 0.89479167\n",
      " 0.89479167 0.89479167 0.89479167 0.89479167        nan 0.82073864\n",
      " 0.82386364 0.82386364 0.82386364 0.82386364 0.82386364 0.82386364\n",
      " 0.82386364 0.82386364 0.82386364        nan 0.85767045 0.84517045\n",
      " 0.84517045 0.84517045 0.84517045 0.84517045 0.84517045 0.84517045\n",
      " 0.84517045 0.84517045        nan 0.88276515 0.88276515 0.88276515\n",
      " 0.88276515 0.88276515 0.88276515 0.88276515 0.88276515 0.88276515\n",
      " 0.88276515        nan 0.89479167 0.89479167 0.89479167 0.89479167\n",
      " 0.89479167 0.89479167 0.89479167 0.89479167 0.89479167 0.89479167\n",
      "        nan 0.81458333 0.82386364 0.82386364 0.82386364 0.82386364\n",
      " 0.82386364 0.82386364 0.82386364 0.82386364 0.82386364        nan\n",
      " 0.85142045 0.84517045 0.84517045 0.84517045 0.84517045 0.84517045\n",
      " 0.84517045 0.84517045 0.84517045 0.84517045        nan 0.88276515\n",
      " 0.88276515 0.88276515 0.88276515 0.88276515 0.88276515 0.88276515\n",
      " 0.88276515 0.88276515 0.88276515        nan 0.89479167 0.89479167\n",
      " 0.89479167 0.89479167 0.89479167 0.89479167 0.89479167 0.89479167\n",
      " 0.89479167 0.89479167        nan 0.81761364 0.82386364 0.82386364\n",
      " 0.82386364 0.82386364 0.82386364 0.82386364 0.82386364 0.82386364\n",
      " 0.82386364        nan 0.85142045 0.84517045 0.84517045 0.84517045\n",
      " 0.84517045 0.84517045 0.84517045 0.84517045 0.84517045 0.84517045\n",
      "        nan 0.88276515 0.88276515 0.88276515 0.88276515 0.88276515\n",
      " 0.88276515 0.88276515 0.88276515 0.88276515 0.88276515        nan\n",
      " 0.89479167 0.89479167 0.89479167 0.89479167 0.89479167 0.89479167\n",
      " 0.89479167 0.89479167 0.89479167 0.89479167        nan 0.82073864\n",
      " 0.82386364 0.82386364 0.82386364 0.82386364 0.82386364 0.82386364\n",
      " 0.82386364 0.82386364 0.82386364        nan 0.84829545 0.84517045\n",
      " 0.84517045 0.84517045 0.84517045 0.84517045 0.84517045 0.84517045\n",
      " 0.84517045 0.84517045        nan 0.88276515 0.88276515 0.88276515\n",
      " 0.88276515 0.88276515 0.88276515 0.88276515 0.88276515 0.88276515\n",
      " 0.88276515        nan 0.89479167 0.89479167 0.89479167 0.89479167\n",
      " 0.89479167 0.89479167 0.89479167 0.89479167 0.89479167 0.89479167\n",
      "        nan 0.82073864 0.82386364 0.82386364 0.82386364 0.82386364\n",
      " 0.82386364 0.82386364 0.82386364 0.82386364 0.82386364        nan\n",
      " 0.84829545 0.84517045 0.84517045 0.84517045 0.84517045 0.84517045\n",
      " 0.84517045 0.84517045 0.84517045 0.84517045]\n",
      "  warnings.warn(\n"
     ]
    },
    {
     "data": {
      "text/html": [
       "<style>#sk-container-id-10 {color: black;background-color: white;}#sk-container-id-10 pre{padding: 0;}#sk-container-id-10 div.sk-toggleable {background-color: white;}#sk-container-id-10 label.sk-toggleable__label {cursor: pointer;display: block;width: 100%;margin-bottom: 0;padding: 0.3em;box-sizing: border-box;text-align: center;}#sk-container-id-10 label.sk-toggleable__label-arrow:before {content: \"▸\";float: left;margin-right: 0.25em;color: #696969;}#sk-container-id-10 label.sk-toggleable__label-arrow:hover:before {color: black;}#sk-container-id-10 div.sk-estimator:hover label.sk-toggleable__label-arrow:before {color: black;}#sk-container-id-10 div.sk-toggleable__content {max-height: 0;max-width: 0;overflow: hidden;text-align: left;background-color: #f0f8ff;}#sk-container-id-10 div.sk-toggleable__content pre {margin: 0.2em;color: black;border-radius: 0.25em;background-color: #f0f8ff;}#sk-container-id-10 input.sk-toggleable__control:checked~div.sk-toggleable__content {max-height: 200px;max-width: 100%;overflow: auto;}#sk-container-id-10 input.sk-toggleable__control:checked~label.sk-toggleable__label-arrow:before {content: \"▾\";}#sk-container-id-10 div.sk-estimator input.sk-toggleable__control:checked~label.sk-toggleable__label {background-color: #d4ebff;}#sk-container-id-10 div.sk-label input.sk-toggleable__control:checked~label.sk-toggleable__label {background-color: #d4ebff;}#sk-container-id-10 input.sk-hidden--visually {border: 0;clip: rect(1px 1px 1px 1px);clip: rect(1px, 1px, 1px, 1px);height: 1px;margin: -1px;overflow: hidden;padding: 0;position: absolute;width: 1px;}#sk-container-id-10 div.sk-estimator {font-family: monospace;background-color: #f0f8ff;border: 1px dotted black;border-radius: 0.25em;box-sizing: border-box;margin-bottom: 0.5em;}#sk-container-id-10 div.sk-estimator:hover {background-color: #d4ebff;}#sk-container-id-10 div.sk-parallel-item::after {content: \"\";width: 100%;border-bottom: 1px solid gray;flex-grow: 1;}#sk-container-id-10 div.sk-label:hover label.sk-toggleable__label {background-color: #d4ebff;}#sk-container-id-10 div.sk-serial::before {content: \"\";position: absolute;border-left: 1px solid gray;box-sizing: border-box;top: 0;bottom: 0;left: 50%;z-index: 0;}#sk-container-id-10 div.sk-serial {display: flex;flex-direction: column;align-items: center;background-color: white;padding-right: 0.2em;padding-left: 0.2em;position: relative;}#sk-container-id-10 div.sk-item {position: relative;z-index: 1;}#sk-container-id-10 div.sk-parallel {display: flex;align-items: stretch;justify-content: center;background-color: white;position: relative;}#sk-container-id-10 div.sk-item::before, #sk-container-id-10 div.sk-parallel-item::before {content: \"\";position: absolute;border-left: 1px solid gray;box-sizing: border-box;top: 0;bottom: 0;left: 50%;z-index: -1;}#sk-container-id-10 div.sk-parallel-item {display: flex;flex-direction: column;z-index: 1;position: relative;background-color: white;}#sk-container-id-10 div.sk-parallel-item:first-child::after {align-self: flex-end;width: 50%;}#sk-container-id-10 div.sk-parallel-item:last-child::after {align-self: flex-start;width: 50%;}#sk-container-id-10 div.sk-parallel-item:only-child::after {width: 0;}#sk-container-id-10 div.sk-dashed-wrapped {border: 1px dashed gray;margin: 0 0.4em 0.5em 0.4em;box-sizing: border-box;padding-bottom: 0.4em;background-color: white;}#sk-container-id-10 div.sk-label label {font-family: monospace;font-weight: bold;display: inline-block;line-height: 1.2em;}#sk-container-id-10 div.sk-label-container {text-align: center;}#sk-container-id-10 div.sk-container {/* jupyter's `normalize.less` sets `[hidden] { display: none; }` but bootstrap.min.css set `[hidden] { display: none !important; }` so we also need the `!important` here to be able to override the default hidden behavior on the sphinx rendered scikit-learn.org. See: https://github.com/scikit-learn/scikit-learn/issues/21755 */display: inline-block !important;position: relative;}#sk-container-id-10 div.sk-text-repr-fallback {display: none;}</style><div id=\"sk-container-id-10\" class=\"sk-top-container\"><div class=\"sk-text-repr-fallback\"><pre>GridSearchCV(cv=10,\n",
       "             estimator=Pipeline(steps=[(&#x27;svc&#x27;,\n",
       "                                        SVC(kernel=&#x27;poly&#x27;, random_state=0))]),\n",
       "             param_grid={&#x27;svc__C&#x27;: array([ 10.        ,  12.58925412,  15.84893192,  19.95262315,\n",
       "        25.11886432,  31.6227766 ,  39.81071706,  50.11872336,\n",
       "        63.09573445,  79.43282347, 100.        ]),\n",
       "                         &#x27;svc__degree&#x27;: [2, 3, 4, 5],\n",
       "                         &#x27;svc__gamma&#x27;: array([0. , 0.1, 0.2, 0.3, 0.4, 0.5, 0.6, 0.7, 0.8, 0.9, 1. ])})</pre><b>In a Jupyter environment, please rerun this cell to show the HTML representation or trust the notebook. <br />On GitHub, the HTML representation is unable to render, please try loading this page with nbviewer.org.</b></div><div class=\"sk-container\" hidden><div class=\"sk-item sk-dashed-wrapped\"><div class=\"sk-label-container\"><div class=\"sk-label sk-toggleable\"><input class=\"sk-toggleable__control sk-hidden--visually\" id=\"sk-estimator-id-24\" type=\"checkbox\" ><label for=\"sk-estimator-id-24\" class=\"sk-toggleable__label sk-toggleable__label-arrow\">GridSearchCV</label><div class=\"sk-toggleable__content\"><pre>GridSearchCV(cv=10,\n",
       "             estimator=Pipeline(steps=[(&#x27;svc&#x27;,\n",
       "                                        SVC(kernel=&#x27;poly&#x27;, random_state=0))]),\n",
       "             param_grid={&#x27;svc__C&#x27;: array([ 10.        ,  12.58925412,  15.84893192,  19.95262315,\n",
       "        25.11886432,  31.6227766 ,  39.81071706,  50.11872336,\n",
       "        63.09573445,  79.43282347, 100.        ]),\n",
       "                         &#x27;svc__degree&#x27;: [2, 3, 4, 5],\n",
       "                         &#x27;svc__gamma&#x27;: array([0. , 0.1, 0.2, 0.3, 0.4, 0.5, 0.6, 0.7, 0.8, 0.9, 1. ])})</pre></div></div></div><div class=\"sk-parallel\"><div class=\"sk-parallel-item\"><div class=\"sk-item\"><div class=\"sk-label-container\"><div class=\"sk-label sk-toggleable\"><input class=\"sk-toggleable__control sk-hidden--visually\" id=\"sk-estimator-id-25\" type=\"checkbox\" ><label for=\"sk-estimator-id-25\" class=\"sk-toggleable__label sk-toggleable__label-arrow\">estimator: Pipeline</label><div class=\"sk-toggleable__content\"><pre>Pipeline(steps=[(&#x27;svc&#x27;, SVC(kernel=&#x27;poly&#x27;, random_state=0))])</pre></div></div></div><div class=\"sk-serial\"><div class=\"sk-item\"><div class=\"sk-serial\"><div class=\"sk-item\"><div class=\"sk-estimator sk-toggleable\"><input class=\"sk-toggleable__control sk-hidden--visually\" id=\"sk-estimator-id-26\" type=\"checkbox\" ><label for=\"sk-estimator-id-26\" class=\"sk-toggleable__label sk-toggleable__label-arrow\">SVC</label><div class=\"sk-toggleable__content\"><pre>SVC(kernel=&#x27;poly&#x27;, random_state=0)</pre></div></div></div></div></div></div></div></div></div></div></div></div>"
      ],
      "text/plain": [
       "GridSearchCV(cv=10,\n",
       "             estimator=Pipeline(steps=[('svc',\n",
       "                                        SVC(kernel='poly', random_state=0))]),\n",
       "             param_grid={'svc__C': array([ 10.        ,  12.58925412,  15.84893192,  19.95262315,\n",
       "        25.11886432,  31.6227766 ,  39.81071706,  50.11872336,\n",
       "        63.09573445,  79.43282347, 100.        ]),\n",
       "                         'svc__degree': [2, 3, 4, 5],\n",
       "                         'svc__gamma': array([0. , 0.1, 0.2, 0.3, 0.4, 0.5, 0.6, 0.7, 0.8, 0.9, 1. ])})"
      ]
     },
     "execution_count": 139,
     "metadata": {},
     "output_type": "execute_result"
    }
   ],
   "source": [
    "train_size = 0.1\n",
    "X_train, y_train = input_data_dict['X_train_' + str(train_size)], input_data_dict['y_train_' + str(train_size)]\n",
    "search = GridSearchCV(pipe, param_grid, cv=10)\n",
    "search.fit(X_train, y_train)"
   ]
  },
  {
   "cell_type": "code",
   "execution_count": 140,
   "id": "12a43b24",
   "metadata": {},
   "outputs": [
    {
     "name": "stdout",
     "output_type": "stream",
     "text": [
      "\n",
      "λ = \u001b[34m15.848931924611133\u001b[0m\n",
      "\n",
      "γ = \u001b[34m0.1\u001b[0m\n",
      "\n",
      "Degree = \u001b[34m3\u001b[0m\n",
      "\n"
     ]
    }
   ],
   "source": [
    "best_params = search.best_params_\n",
    "best_lambda, best_gamma, best_degree = best_params['svc__C'], best_params['svc__gamma'], \\\n",
    "best_params['svc__degree']\n",
    "print(f'\\n\\u03BB = {colored(best_lambda, \"blue\")}\\n\\n\\u03B3 = {colored(best_gamma, \"blue\")}\\n\\nDegree = \\\n",
    "{colored(best_degree, \"blue\")}\\n')"
   ]
  },
  {
   "cell_type": "code",
   "execution_count": 141,
   "id": "1c301407",
   "metadata": {},
   "outputs": [
    {
     "name": "stdout",
     "output_type": "stream",
     "text": [
      "\n",
      "Best Accuracy is: \u001b[32m0.8979166666666668\u001b[0m\n",
      "\n"
     ]
    }
   ],
   "source": [
    "best_score = search.best_score_\n",
    "print(f'\\nBest Accuracy is: {colored(best_score, \"green\")}\\n')"
   ]
  },
  {
   "cell_type": "markdown",
   "id": "1fd7c56f",
   "metadata": {},
   "source": [
    "- - <a name=''>${\\text{Test:}}$</a>"
   ]
  },
  {
   "cell_type": "code",
   "execution_count": 142,
   "id": "3d2099ed",
   "metadata": {},
   "outputs": [
    {
     "data": {
      "text/html": [
       "<style>#sk-container-id-11 {color: black;background-color: white;}#sk-container-id-11 pre{padding: 0;}#sk-container-id-11 div.sk-toggleable {background-color: white;}#sk-container-id-11 label.sk-toggleable__label {cursor: pointer;display: block;width: 100%;margin-bottom: 0;padding: 0.3em;box-sizing: border-box;text-align: center;}#sk-container-id-11 label.sk-toggleable__label-arrow:before {content: \"▸\";float: left;margin-right: 0.25em;color: #696969;}#sk-container-id-11 label.sk-toggleable__label-arrow:hover:before {color: black;}#sk-container-id-11 div.sk-estimator:hover label.sk-toggleable__label-arrow:before {color: black;}#sk-container-id-11 div.sk-toggleable__content {max-height: 0;max-width: 0;overflow: hidden;text-align: left;background-color: #f0f8ff;}#sk-container-id-11 div.sk-toggleable__content pre {margin: 0.2em;color: black;border-radius: 0.25em;background-color: #f0f8ff;}#sk-container-id-11 input.sk-toggleable__control:checked~div.sk-toggleable__content {max-height: 200px;max-width: 100%;overflow: auto;}#sk-container-id-11 input.sk-toggleable__control:checked~label.sk-toggleable__label-arrow:before {content: \"▾\";}#sk-container-id-11 div.sk-estimator input.sk-toggleable__control:checked~label.sk-toggleable__label {background-color: #d4ebff;}#sk-container-id-11 div.sk-label input.sk-toggleable__control:checked~label.sk-toggleable__label {background-color: #d4ebff;}#sk-container-id-11 input.sk-hidden--visually {border: 0;clip: rect(1px 1px 1px 1px);clip: rect(1px, 1px, 1px, 1px);height: 1px;margin: -1px;overflow: hidden;padding: 0;position: absolute;width: 1px;}#sk-container-id-11 div.sk-estimator {font-family: monospace;background-color: #f0f8ff;border: 1px dotted black;border-radius: 0.25em;box-sizing: border-box;margin-bottom: 0.5em;}#sk-container-id-11 div.sk-estimator:hover {background-color: #d4ebff;}#sk-container-id-11 div.sk-parallel-item::after {content: \"\";width: 100%;border-bottom: 1px solid gray;flex-grow: 1;}#sk-container-id-11 div.sk-label:hover label.sk-toggleable__label {background-color: #d4ebff;}#sk-container-id-11 div.sk-serial::before {content: \"\";position: absolute;border-left: 1px solid gray;box-sizing: border-box;top: 0;bottom: 0;left: 50%;z-index: 0;}#sk-container-id-11 div.sk-serial {display: flex;flex-direction: column;align-items: center;background-color: white;padding-right: 0.2em;padding-left: 0.2em;position: relative;}#sk-container-id-11 div.sk-item {position: relative;z-index: 1;}#sk-container-id-11 div.sk-parallel {display: flex;align-items: stretch;justify-content: center;background-color: white;position: relative;}#sk-container-id-11 div.sk-item::before, #sk-container-id-11 div.sk-parallel-item::before {content: \"\";position: absolute;border-left: 1px solid gray;box-sizing: border-box;top: 0;bottom: 0;left: 50%;z-index: -1;}#sk-container-id-11 div.sk-parallel-item {display: flex;flex-direction: column;z-index: 1;position: relative;background-color: white;}#sk-container-id-11 div.sk-parallel-item:first-child::after {align-self: flex-end;width: 50%;}#sk-container-id-11 div.sk-parallel-item:last-child::after {align-self: flex-start;width: 50%;}#sk-container-id-11 div.sk-parallel-item:only-child::after {width: 0;}#sk-container-id-11 div.sk-dashed-wrapped {border: 1px dashed gray;margin: 0 0.4em 0.5em 0.4em;box-sizing: border-box;padding-bottom: 0.4em;background-color: white;}#sk-container-id-11 div.sk-label label {font-family: monospace;font-weight: bold;display: inline-block;line-height: 1.2em;}#sk-container-id-11 div.sk-label-container {text-align: center;}#sk-container-id-11 div.sk-container {/* jupyter's `normalize.less` sets `[hidden] { display: none; }` but bootstrap.min.css set `[hidden] { display: none !important; }` so we also need the `!important` here to be able to override the default hidden behavior on the sphinx rendered scikit-learn.org. See: https://github.com/scikit-learn/scikit-learn/issues/21755 */display: inline-block !important;position: relative;}#sk-container-id-11 div.sk-text-repr-fallback {display: none;}</style><div id=\"sk-container-id-11\" class=\"sk-top-container\"><div class=\"sk-text-repr-fallback\"><pre>SVC(C=15.848931924611133, gamma=0.1, kernel=&#x27;poly&#x27;)</pre><b>In a Jupyter environment, please rerun this cell to show the HTML representation or trust the notebook. <br />On GitHub, the HTML representation is unable to render, please try loading this page with nbviewer.org.</b></div><div class=\"sk-container\" hidden><div class=\"sk-item\"><div class=\"sk-estimator sk-toggleable\"><input class=\"sk-toggleable__control sk-hidden--visually\" id=\"sk-estimator-id-27\" type=\"checkbox\" checked><label for=\"sk-estimator-id-27\" class=\"sk-toggleable__label sk-toggleable__label-arrow\">SVC</label><div class=\"sk-toggleable__content\"><pre>SVC(C=15.848931924611133, gamma=0.1, kernel=&#x27;poly&#x27;)</pre></div></div></div></div></div>"
      ],
      "text/plain": [
       "SVC(C=15.848931924611133, gamma=0.1, kernel='poly')"
      ]
     },
     "execution_count": 142,
     "metadata": {},
     "output_type": "execute_result"
    }
   ],
   "source": [
    "train_size = 0.1\n",
    "clf = SVC(C=best_lambda, kernel='poly', degree=best_degree, gamma=best_gamma)\n",
    "X_train, y_train, X_test, y_test = input_data_dict['X_train_' + str(train_size)], \\\n",
    "input_data_dict['y_train_' + str(train_size)], input_data_dict['X_test_' + str(train_size)], \\\n",
    "input_data_dict['y_test_' + str(train_size)]\n",
    "clf.fit(X_train, y_train)"
   ]
  },
  {
   "cell_type": "code",
   "execution_count": 145,
   "id": "dcc1d38c",
   "metadata": {},
   "outputs": [
    {
     "data": {
      "text/html": [
       "<div>\n",
       "<style scoped>\n",
       "    .dataframe tbody tr th:only-of-type {\n",
       "        vertical-align: middle;\n",
       "    }\n",
       "\n",
       "    .dataframe tbody tr th {\n",
       "        vertical-align: top;\n",
       "    }\n",
       "\n",
       "    .dataframe thead th {\n",
       "        text-align: right;\n",
       "    }\n",
       "</style>\n",
       "<table border=\"1\" class=\"dataframe\">\n",
       "  <thead>\n",
       "    <tr style=\"text-align: right;\">\n",
       "      <th></th>\n",
       "      <th>Class</th>\n",
       "      <th>Accuracy</th>\n",
       "    </tr>\n",
       "  </thead>\n",
       "  <tbody>\n",
       "    <tr>\n",
       "      <th>0</th>\n",
       "      <td>1</td>\n",
       "      <td>1.000000</td>\n",
       "    </tr>\n",
       "    <tr>\n",
       "      <th>1</th>\n",
       "      <td>2</td>\n",
       "      <td>0.989011</td>\n",
       "    </tr>\n",
       "    <tr>\n",
       "      <th>2</th>\n",
       "      <td>3</td>\n",
       "      <td>0.878261</td>\n",
       "    </tr>\n",
       "    <tr>\n",
       "      <th>3</th>\n",
       "      <td>4</td>\n",
       "      <td>0.953846</td>\n",
       "    </tr>\n",
       "    <tr>\n",
       "      <th>4</th>\n",
       "      <td>5</td>\n",
       "      <td>0.841463</td>\n",
       "    </tr>\n",
       "    <tr>\n",
       "      <th>5</th>\n",
       "      <td>6</td>\n",
       "      <td>0.775000</td>\n",
       "    </tr>\n",
       "    <tr>\n",
       "      <th>6</th>\n",
       "      <td>7</td>\n",
       "      <td>0.970085</td>\n",
       "    </tr>\n",
       "    <tr>\n",
       "      <th>7</th>\n",
       "      <td>8</td>\n",
       "      <td>0.982353</td>\n",
       "    </tr>\n",
       "    <tr>\n",
       "      <th>8</th>\n",
       "      <td>9</td>\n",
       "      <td>0.799296</td>\n",
       "    </tr>\n",
       "    <tr>\n",
       "      <th>9</th>\n",
       "      <td>10</td>\n",
       "      <td>0.909091</td>\n",
       "    </tr>\n",
       "    <tr>\n",
       "      <th>10</th>\n",
       "      <td>11</td>\n",
       "      <td>0.857651</td>\n",
       "    </tr>\n",
       "    <tr>\n",
       "      <th>11</th>\n",
       "      <td>12</td>\n",
       "      <td>0.949686</td>\n",
       "    </tr>\n",
       "    <tr>\n",
       "      <th>12</th>\n",
       "      <td>13</td>\n",
       "      <td>0.657258</td>\n",
       "    </tr>\n",
       "    <tr>\n",
       "      <th>13</th>\n",
       "      <td>14</td>\n",
       "      <td>0.933333</td>\n",
       "    </tr>\n",
       "  </tbody>\n",
       "</table>\n",
       "</div>"
      ],
      "text/plain": [
       "    Class  Accuracy\n",
       "0       1  1.000000\n",
       "1       2  0.989011\n",
       "2       3  0.878261\n",
       "3       4  0.953846\n",
       "4       5  0.841463\n",
       "5       6  0.775000\n",
       "6       7  0.970085\n",
       "7       8  0.982353\n",
       "8       9  0.799296\n",
       "9      10  0.909091\n",
       "10     11  0.857651\n",
       "11     12  0.949686\n",
       "12     13  0.657258\n",
       "13     14  0.933333"
      ]
     },
     "execution_count": 145,
     "metadata": {},
     "output_type": "execute_result"
    }
   ],
   "source": [
    "y_pred = clf.predict(X_test)\n",
    "ov_acc = accuracy_score(y_test, y_pred)\n",
    "conf_mat = confusion_matrix(y_test, y_pred)\n",
    "kappa = cohen_kappa_score(y_test, y_pred)\n",
    "acc_for_each_class = conf_mat.diagonal()/conf_mat.sum(axis=1)\n",
    "df_result1 = pd.DataFrame({'Class': range(1, 15), 'Accuracy': acc_for_each_class})\n",
    "df_result1"
   ]
  },
  {
   "cell_type": "markdown",
   "id": "c9a12b94",
   "metadata": {},
   "source": [
    "- <a name=''>${\\bf{\\text{Heatmap of Confusion Matrix}}}$</a>"
   ]
  },
  {
   "cell_type": "code",
   "execution_count": 146,
   "id": "5fcd0468",
   "metadata": {},
   "outputs": [
    {
     "data": {
      "image/png": "[encoded data removed]",
      "text/plain": [
       "<Figure size 640x480 with 2 Axes>"
      ]
     },
     "metadata": {},
     "output_type": "display_data"
    }
   ],
   "source": [
    "cmap_list = ['Greys', 'Purples', 'Blues', 'Greens', 'Oranges', 'Reds', \\\n",
    "                      'YlOrBr', 'YlOrRd', 'OrRd', 'PuRd', 'RdPu', 'BuPu',\\\n",
    "                      'GnBu', 'PuBu', 'YlGnBu', 'PuBuGn', 'BuGn', 'YlGn']\n",
    "\n",
    "disp = ConfusionMatrixDisplay(confusion_matrix=conf_mat, display_labels=clf.classes_)\n",
    "disp.plot(cmap=cmap_list[14])\n",
    "plt.show()"
   ]
  },
  {
   "cell_type": "code",
   "execution_count": 147,
   "id": "f700f504",
   "metadata": {},
   "outputs": [
    {
     "name": "stdout",
     "output_type": "stream",
     "text": [
      "\n",
      "Result of this Pipeline: \u001b[34mInput_Data\u001b[0m ---> \u001b[35mStandard Scaler\u001b[0m ---> \u001b[35mSVC(poly)\u001b[0m\n",
      "\n",
      "Overall Accuracy: \u001b[32m0.877906976744186\u001b[0m\n",
      "\n",
      "κ = \u001b[32m0.867853468943284\u001b[0m\n",
      "\n"
     ]
    }
   ],
   "source": [
    "print(f\"\\nResult of this Pipeline: {colored('Input_Data', 'blue')} ---> {colored('Standard Scaler', 'magenta')}\\\n",
    " ---> {colored('SVC(poly)', 'magenta')}\")\n",
    "print(f'\\nOverall Accuracy: {colored(ov_acc, \"green\")}\\n\\n\\u03BA = {colored(kappa, \"green\")}\\n')"
   ]
  },
  {
   "cell_type": "markdown",
   "id": "8075bdaf",
   "metadata": {},
   "source": [
    "$\\newline$\n",
    "$\\newline$\n",
    "- <a name=''>${\\bf{\\text{Classification Map for }\\underline{\\text{Test Data}}}}$</a>\n",
    "$\\newline$\n",
    "$\\newline$"
   ]
  },
  {
   "cell_type": "code",
   "execution_count": null,
   "id": "c5f4ef86",
   "metadata": {},
   "outputs": [],
   "source": [
    "print(f'\\nShape of the y\\u0302: {colored(y_pred.shape, \"blue\")}\\n')"
   ]
  },
  {
   "cell_type": "code",
   "execution_count": null,
   "id": "65557ebc",
   "metadata": {},
   "outputs": [],
   "source": [
    "length = y_pred.shape[0]\n",
    "m = int(length ** 0.5)\n",
    "n = m\n",
    "selected_y_pred = y_pred[: m*n]\n",
    "selected_y_pred_reshaped = selected_y_pred.reshape((m, n))\n",
    "selected_y_test = y_test[: m*n]\n",
    "selected_y_test_reshaped = selected_y_test.reshape((m, n))"
   ]
  },
  {
   "cell_type": "code",
   "execution_count": null,
   "id": "d59623b4",
   "metadata": {},
   "outputs": [],
   "source": [
    "plt.figure(1)\n",
    "plt.subplot(1, 2, 1), plt.imshow(selected_y_pred_reshaped), \\\n",
    "plt.axis('off'), plt.title('Class. Map for Test Data')\n",
    "\n",
    "plt.subplot(1, 2, 2), plt.imshow(selected_y_test_reshaped), \\\n",
    "plt.axis('off'), plt.title('Class. Map for Labels')\n",
    "plt.show()"
   ]
  },
  {
   "cell_type": "code",
   "execution_count": null,
   "id": "d6cc05f2",
   "metadata": {},
   "outputs": [],
   "source": [
    "my_ov_acc = len(y_pred[y_pred == y_test]) / len(y_pred)\n",
    "print(f'\\n{colored(\"Ov. Accuracy:\", \"green\")} {my_ov_acc: 0.3f}\\n')"
   ]
  },
  {
   "cell_type": "markdown",
   "id": "4b3b5e14",
   "metadata": {},
   "source": [
    "- <a name=''>${\\bf{\\text{PCA + SVC}}}$</a>"
   ]
  },
  {
   "cell_type": "code",
   "execution_count": 148,
   "id": "53778cab",
   "metadata": {},
   "outputs": [],
   "source": [
    "input_data_dict = data_scaled"
   ]
  },
  {
   "cell_type": "code",
   "execution_count": 149,
   "id": "e444804b",
   "metadata": {},
   "outputs": [],
   "source": [
    "pca = PCA(n_components=4)"
   ]
  },
  {
   "cell_type": "code",
   "execution_count": 150,
   "id": "39a109e2",
   "metadata": {},
   "outputs": [
    {
     "name": "stdout",
     "output_type": "stream",
     "text": [
      "\n",
      "                       For n_components = \u001b[31m4\u001b[0m\n",
      "\n",
      "\n",
      "\n",
      "Explained Variance for X_train_\u001b[32m0.1\u001b[0m:     \u001b[34m0.9914875016565682\u001b[0m\n",
      "\n",
      "\n",
      "Explained Variance for X_test_\u001b[32m0.1\u001b[0m:     \u001b[34m0.99155643087652\u001b[0m\n",
      "\n"
     ]
    }
   ],
   "source": [
    "train_size_list = [0.1]\n",
    "data_reduced = {}\n",
    "print(f'\\n                       For n_components = {colored(pca.n_components, \"red\")}\\n\\n')\n",
    "for train_size in train_size_list:\n",
    "    data_reduced['X_train_' + str(train_size)] = pca.fit_transform(input_data_dict['X_train_' + str(train_size)])\n",
    "    print(f'\\nExplained Variance for X_train_{colored(train_size, \"green\")}: \\\n",
    "    {colored(np.sum(pca.explained_variance_ratio_), \"blue\")}\\n')\n",
    "    \n",
    "    data_reduced['X_test_' + str(train_size)] = pca.fit_transform(input_data_dict['X_test_' + str(train_size)])\n",
    "    print(f'\\nExplained Variance for X_test_{colored(train_size, \"green\")}: \\\n",
    "    {colored(np.sum(pca.explained_variance_ratio_), \"blue\")}\\n')\n",
    "    \n",
    "    data_reduced['y_train_' + str(train_size)] = input_data_dict['y_train_' + str(train_size)]\n",
    "    data_reduced['y_test_' + str(train_size)] = input_data_dict['y_test_' + str(train_size)]"
   ]
  },
  {
   "cell_type": "code",
   "execution_count": 151,
   "id": "e7c9f367",
   "metadata": {},
   "outputs": [
    {
     "name": "stdout",
     "output_type": "stream",
     "text": [
      "\n",
      "\n",
      "Max of \u001b[32mX_train_0.1\u001b[0m:  41.007\n",
      "\n",
      "Min of \u001b[32mX_train_0.1\u001b[0m: -26.168\n",
      "\n",
      "Mean of \u001b[32mX_train_0.1\u001b[0m: -0.000\n",
      "\n",
      "Var of \u001b[32mX_train_0.1\u001b[0m:  35.941\n",
      "\n",
      "\n"
     ]
    }
   ],
   "source": [
    "train_size = 0.1\n",
    "print(f'\\n\\nMax of {colored(\"X_train_\" + str(train_size), \"green\")}: \\\n",
    "{(data_reduced[\"X_train_\" + str(train_size)]).max(): 0.3f}')\n",
    "print(f'\\nMin of {colored(\"X_train_\" + str(train_size), \"green\")}: \\\n",
    "{(data_reduced[\"X_train_\" + str(train_size)]).min(): 0.3f}')\n",
    "print(f'\\nMean of {colored(\"X_train_\" + str(train_size), \"green\")}: \\\n",
    "{(data_reduced[\"X_train_\" + str(train_size)]).mean(): 0.3f}')\n",
    "print(f'\\nVar of {colored(\"X_train_\" + str(train_size), \"green\")}: \\\n",
    "{(data_reduced[\"X_train_\" + str(train_size)]).var(): 0.3f}\\n\\n')"
   ]
  },
  {
   "cell_type": "code",
   "execution_count": 152,
   "id": "2bc9c97d",
   "metadata": {},
   "outputs": [],
   "source": [
    "standard_scaler = StandardScaler()"
   ]
  },
  {
   "cell_type": "code",
   "execution_count": 154,
   "id": "ed3eb062",
   "metadata": {},
   "outputs": [],
   "source": [
    "train_size_list = [0.1]\n",
    "data_scaled = {}\n",
    "\n",
    "for train_size in train_size_list:\n",
    "    data_scaled['X_train_' + str(train_size)] = \\\n",
    "    standard_scaler.fit_transform(data_reduced['X_train_' + str(train_size)])\n",
    "    data_scaled['X_test_' + str(train_size)] = \\\n",
    "    standard_scaler.fit_transform(data_reduced['X_test_' + str(train_size)])\n",
    "    data_scaled['y_train_' + str(train_size)] = data_reduced['y_train_' + str(train_size)]\n",
    "    data_scaled['y_test_' + str(train_size)] = data_reduced['y_test_' + str(train_size)]"
   ]
  },
  {
   "cell_type": "code",
   "execution_count": 156,
   "id": "6d35e815",
   "metadata": {},
   "outputs": [
    {
     "name": "stdout",
     "output_type": "stream",
     "text": [
      "\n",
      "\n",
      "Max of \u001b[32mX_train_0.1\u001b[0m:  8.306\n",
      "\n",
      "Min of \u001b[32mX_train_0.1\u001b[0m: -2.443\n",
      "\n",
      "Mean of \u001b[32mX_train_0.1\u001b[0m:  0.000\n",
      "\n",
      "Var of \u001b[32mX_train_0.1\u001b[0m:  1.000\n",
      "\n",
      "\n"
     ]
    }
   ],
   "source": [
    "train_size = 0.1\n",
    "print(f'\\n\\nMax of {colored(\"X_train_\" + str(train_size), \"green\")}: \\\n",
    "{(data_scaled[\"X_train_\" + str(train_size)]).max(): 0.3f}')\n",
    "print(f'\\nMin of {colored(\"X_train_\" + str(train_size), \"green\")}: \\\n",
    "{(data_scaled[\"X_train_\" + str(train_size)]).min(): 0.3f}')\n",
    "print(f'\\nMean of {colored(\"X_train_\" + str(train_size), \"green\")}: \\\n",
    "{(data_scaled[\"X_train_\" + str(train_size)]).mean(): 0.3f}')\n",
    "print(f'\\nVar of {colored(\"X_train_\" + str(train_size), \"green\")}: \\\n",
    "{(data_scaled[\"X_train_\" + str(train_size)]).var(): 0.3f}\\n\\n')"
   ]
  },
  {
   "cell_type": "markdown",
   "id": "d9a306db",
   "metadata": {},
   "source": [
    "- - <a name=''>${\\text{Grid Search}}$</a>"
   ]
  },
  {
   "cell_type": "code",
   "execution_count": 78,
   "id": "00a69a69",
   "metadata": {},
   "outputs": [],
   "source": [
    "data_reduced = data_scaled\n",
    "input_data_dict = data_reduced"
   ]
  },
  {
   "cell_type": "code",
   "execution_count": 79,
   "id": "edfee692",
   "metadata": {},
   "outputs": [],
   "source": [
    "svc = SVC(random_state=0)"
   ]
  },
  {
   "cell_type": "code",
   "execution_count": 80,
   "id": "ac1d34e8",
   "metadata": {},
   "outputs": [],
   "source": [
    "pipe = Pipeline(steps=[(\"svc\", svc)])"
   ]
  },
  {
   "cell_type": "code",
   "execution_count": 158,
   "id": "84c19b65",
   "metadata": {},
   "outputs": [],
   "source": [
    "param_grid = {'svc__C': np.logspace(-4, 4, 9), 'svc__kernel': ['linear', 'poly', 'rbf'], \\\n",
    "             'svc__gamma': np.linspace(0, 1, 11), 'svc__degree': [2, 3, 4]}"
   ]
  },
  {
   "cell_type": "code",
   "execution_count": 159,
   "id": "f88a2935",
   "metadata": {},
   "outputs": [
    {
     "name": "stderr",
     "output_type": "stream",
     "text": [
      "/home/shahin/.local/lib/python3.10/site-packages/sklearn/model_selection/_split.py:684: UserWarning: The least populated class in y has only 5 members, which is less than n_splits=10.\n",
      "  warnings.warn(\n",
      "/home/shahin/.local/lib/python3.10/site-packages/sklearn/model_selection/_validation.py:378: FitFailedWarning: \n",
      "810 fits failed out of a total of 8910.\n",
      "The score on these train-test partitions for these parameters will be set to nan.\n",
      "If these failures are not expected, you can try to debug them by setting error_score='raise'.\n",
      "\n",
      "Below are more details about the failures:\n",
      "--------------------------------------------------------------------------------\n",
      "810 fits failed with the following error:\n",
      "Traceback (most recent call last):\n",
      "  File \"/home/shahin/.local/lib/python3.10/site-packages/sklearn/model_selection/_validation.py\", line 686, in _fit_and_score\n",
      "    estimator.fit(X_train, y_train, **fit_params)\n",
      "  File \"/home/shahin/.local/lib/python3.10/site-packages/sklearn/pipeline.py\", line 382, in fit\n",
      "    self._final_estimator.fit(Xt, y, **fit_params_last_step)\n",
      "  File \"/home/shahin/.local/lib/python3.10/site-packages/sklearn/svm/_base.py\", line 237, in fit\n",
      "    raise ValueError(msg)\n",
      "ValueError: gamma value must be > 0; 0.0 is invalid. Use a positive number or use 'auto' to set gamma to a value of 1 / n_features.\n",
      "\n",
      "  warnings.warn(some_fits_failed_message, FitFailedWarning)\n",
      "/home/shahin/.local/lib/python3.10/site-packages/sklearn/model_selection/_search.py:953: UserWarning: One or more of the test scores are non-finite: [       nan        nan        nan 0.20691288 0.21297348 0.13323864\n",
      " 0.20691288 0.28058712 0.13323864 0.20691288 0.35501894 0.13323864\n",
      " 0.20691288 0.40142045 0.13323864 0.20691288 0.45359848 0.13323864\n",
      " 0.20691288 0.50331439 0.13323864 0.20691288 0.53721591 0.13323864\n",
      " 0.20691288 0.56799242 0.13011364 0.20691288 0.60189394 0.13011364\n",
      " 0.20691288 0.63598485 0.13011364        nan        nan        nan\n",
      " 0.20691288 0.42926136 0.13323864 0.20691288 0.60501894 0.13323864\n",
      " 0.20691288 0.67623106 0.13323864 0.20691288 0.70691288 0.13323864\n",
      " 0.20691288 0.74962121 0.13323864 0.20691288 0.76193182 0.13323864\n",
      " 0.20691288 0.76808712 0.13323864 0.20691288 0.79261364 0.13011364\n",
      " 0.20691288 0.79886364 0.13011364 0.20691288 0.82670455 0.13011364\n",
      "        nan        nan        nan 0.20691288 0.51534091 0.13323864\n",
      " 0.20691288 0.67301136 0.13323864 0.20691288 0.70965909 0.13323864\n",
      " 0.20691288 0.73721591 0.13323864 0.20691288 0.76467803 0.13323864\n",
      " 0.20691288 0.79876894 0.13323864 0.20691288 0.81420455 0.13323864\n",
      " 0.20691288 0.82035985 0.13011364 0.20691288 0.82348485 0.13011364\n",
      " 0.20691288 0.82054924 0.13011364        nan        nan        nan\n",
      " 0.40748106 0.36420455 0.13323864 0.40748106 0.5125     0.13323864\n",
      " 0.40748106 0.62054924 0.13323864 0.40748106 0.64820076 0.13323864\n",
      " 0.40748106 0.67585227 0.13323864 0.40748106 0.70965909 0.13323864\n",
      " 0.40748106 0.7342803  0.13323864 0.40748106 0.74952652 0.13011364\n",
      " 0.40748106 0.78039773 0.13011364 0.40748106 0.79289773 0.13011364\n",
      "        nan        nan        nan 0.40748106 0.62954545 0.13323864\n",
      " 0.40748106 0.71316288 0.13323864 0.40748106 0.76808712 0.13323864\n",
      " 0.40748106 0.79573864 0.13323864 0.40748106 0.84214015 0.13323864\n",
      " 0.40748106 0.84839015 0.13323864 0.40748106 0.85454545 0.13323864\n",
      " 0.40748106 0.85757576 0.13011364 0.40748106 0.87926136 0.13011364\n",
      " 0.40748106 0.87613636 0.13011364        nan        nan        nan\n",
      " 0.40748106 0.65132576 0.13323864 0.40748106 0.721875   0.13323864\n",
      " 0.40748106 0.76770833 0.13323864 0.40748106 0.81420455 0.13323864\n",
      " 0.40748106 0.82348485 0.13323864 0.40748106 0.81742424 0.13323864\n",
      " 0.40748106 0.81458333 0.13323864 0.40748106 0.81458333 0.13011364\n",
      " 0.40748106 0.81761364 0.13011364 0.40748106 0.81448864 0.13011364\n",
      "        nan        nan        nan 0.79043561 0.63598485 0.13323864\n",
      " 0.79043561 0.7219697  0.13323864 0.79043561 0.79289773 0.13323864\n",
      " 0.79043561 0.81467803 0.13323864 0.79043561 0.83304924 0.13323864\n",
      " 0.79043561 0.84848485 0.13323864 0.79043561 0.85776515 0.13323864\n",
      " 0.79043561 0.86079545 0.13011364 0.79043561 0.86695076 0.13011364\n",
      " 0.79043561 0.87007576 0.13011364        nan        nan        nan\n",
      " 0.79043561 0.7282197  0.13323864 0.79043561 0.80189394 0.13323864\n",
      " 0.79043561 0.84829545 0.13323864 0.79043561 0.86998106 0.13323864\n",
      " 0.79043561 0.87613636 0.13323864 0.79043561 0.87916667 0.13323864\n",
      " 0.79043561 0.88229167 0.13323864 0.79043561 0.88854167 0.13011364\n",
      " 0.79043561 0.89166667 0.13011364 0.79043561 0.89166667 0.13011364\n",
      "        nan        nan        nan 0.79043561 0.70965909 0.13323864\n",
      " 0.79043561 0.79583333 0.13323864 0.79043561 0.82348485 0.13323864\n",
      " 0.79043561 0.81458333 0.13323864 0.79043561 0.81761364 0.13323864\n",
      " 0.79043561 0.81145833 0.13323864 0.79043561 0.82698864 0.13323864\n",
      " 0.79043561 0.82073864 0.13011364 0.79043561 0.81761364 0.13011364\n",
      " 0.79043561 0.82073864 0.13011364        nan        nan        nan\n",
      " 0.88929924 0.79289773 0.55861742 0.88929924 0.84848485 0.37045455\n",
      " 0.88929924 0.86695076 0.26827652 0.88929924 0.87007576 0.20388258\n",
      " 0.88929924 0.86714015 0.17329545 0.88929924 0.86410985 0.13323864\n",
      " 0.88929924 0.87339015 0.13323864 0.88929924 0.87339015 0.13011364\n",
      " 0.88929924 0.87339015 0.13011364 0.88929924 0.87339015 0.13011364\n",
      "        nan        nan        nan 0.88929924 0.82670455 0.55861742\n",
      " 0.88929924 0.87926136 0.37045455 0.88929924 0.87604167 0.26827652\n",
      " 0.88929924 0.89166667 0.20388258 0.88929924 0.89166667 0.17329545\n",
      " 0.88929924 0.89791667 0.13323864 0.88929924 0.89479167 0.13323864\n",
      " 0.88929924 0.89479167 0.13011364 0.88929924 0.89479167 0.13011364\n",
      " 0.88929924 0.89479167 0.13011364        nan        nan        nan\n",
      " 0.88929924 0.78304924 0.55861742 0.88929924 0.82064394 0.37045455\n",
      " 0.88929924 0.81448864 0.26827652 0.88929924 0.82698864 0.20388258\n",
      " 0.88929924 0.81761364 0.17329545 0.88929924 0.82386364 0.13323864\n",
      " 0.88929924 0.82386364 0.13323864 0.88929924 0.82386364 0.13011364\n",
      " 0.88929924 0.82386364 0.13011364 0.88929924 0.82386364 0.13011364\n",
      "        nan        nan        nan 0.93854167 0.87007576 0.87083333\n",
      " 0.93854167 0.86410985 0.86770833 0.93854167 0.87339015 0.85842803\n",
      " 0.93854167 0.87964015 0.83342803 0.93854167 0.88276515 0.79043561\n",
      " 0.93854167 0.88276515 0.775      0.93854167 0.88276515 0.75643939\n",
      " 0.93854167 0.88276515 0.72575758 0.93854167 0.88276515 0.67954545\n",
      " 0.93854167 0.88276515 0.62102273        nan        nan        nan\n",
      " 0.93854167 0.87613636 0.87083333 0.93854167 0.88854167 0.86770833\n",
      " 0.93854167 0.89791667 0.85842803 0.93854167 0.89479167 0.83342803\n",
      " 0.93854167 0.89479167 0.79043561 0.93854167 0.89479167 0.775\n",
      " 0.93854167 0.89479167 0.75643939 0.93854167 0.89479167 0.72575758\n",
      " 0.93854167 0.89479167 0.67954545 0.93854167 0.89479167 0.62102273\n",
      "        nan        nan        nan 0.93854167 0.82054924 0.87083333\n",
      " 0.93854167 0.81770833 0.86770833 0.93854167 0.82073864 0.85842803\n",
      " 0.93854167 0.82386364 0.83342803 0.93854167 0.82386364 0.79043561\n",
      " 0.93854167 0.82386364 0.775      0.93854167 0.82386364 0.75643939\n",
      " 0.93854167 0.82386364 0.72575758 0.93854167 0.82386364 0.67954545\n",
      " 0.93854167 0.82386364 0.62102273        nan        nan        nan\n",
      " 0.92926136 0.87339015 0.90160985 0.92926136 0.88276515 0.89232955\n",
      " 0.92926136 0.88276515 0.87386364 0.92926136 0.88276515 0.85823864\n",
      " 0.92926136 0.88276515 0.82130682 0.92926136 0.88276515 0.78731061\n",
      " 0.92926136 0.88276515 0.76581439 0.92926136 0.88276515 0.74431818\n",
      " 0.92926136 0.88276515 0.70719697 0.92926136 0.88276515 0.66107955\n",
      "        nan        nan        nan 0.92926136 0.89166667 0.90160985\n",
      " 0.92926136 0.89479167 0.89232955 0.92926136 0.89479167 0.87386364\n",
      " 0.92926136 0.89479167 0.85823864 0.92926136 0.89479167 0.82130682\n",
      " 0.92926136 0.89479167 0.78731061 0.92926136 0.89479167 0.76581439\n",
      " 0.92926136 0.89479167 0.74431818 0.92926136 0.89479167 0.70719697\n",
      " 0.92926136 0.89479167 0.66107955        nan        nan        nan\n",
      " 0.92926136 0.81448864 0.90160985 0.92926136 0.82386364 0.89232955\n",
      " 0.92926136 0.82386364 0.87386364 0.92926136 0.82386364 0.85823864\n",
      " 0.92926136 0.82386364 0.82130682 0.92926136 0.82386364 0.78731061\n",
      " 0.92926136 0.82386364 0.76581439 0.92926136 0.82386364 0.74431818\n",
      " 0.92926136 0.82386364 0.70719697 0.92926136 0.82386364 0.66107955\n",
      "        nan        nan        nan 0.92926136 0.88276515 0.90160985\n",
      " 0.92926136 0.88276515 0.89232955 0.92926136 0.88276515 0.87386364\n",
      " 0.92926136 0.88276515 0.85823864 0.92926136 0.88276515 0.82130682\n",
      " 0.92926136 0.88276515 0.78731061 0.92926136 0.88276515 0.76581439\n",
      " 0.92926136 0.88276515 0.74431818 0.92926136 0.88276515 0.70719697\n",
      " 0.92926136 0.88276515 0.66107955        nan        nan        nan\n",
      " 0.92926136 0.89479167 0.90160985 0.92926136 0.89479167 0.89232955\n",
      " 0.92926136 0.89479167 0.87386364 0.92926136 0.89479167 0.85823864\n",
      " 0.92926136 0.89479167 0.82130682 0.92926136 0.89479167 0.78731061\n",
      " 0.92926136 0.89479167 0.76581439 0.92926136 0.89479167 0.74431818\n",
      " 0.92926136 0.89479167 0.70719697 0.92926136 0.89479167 0.66107955\n",
      "        nan        nan        nan 0.92926136 0.82073864 0.90160985\n",
      " 0.92926136 0.82386364 0.89232955 0.92926136 0.82386364 0.87386364\n",
      " 0.92926136 0.82386364 0.85823864 0.92926136 0.82386364 0.82130682\n",
      " 0.92926136 0.82386364 0.78731061 0.92926136 0.82386364 0.76581439\n",
      " 0.92926136 0.82386364 0.74431818 0.92926136 0.82386364 0.70719697\n",
      " 0.92926136 0.82386364 0.66107955        nan        nan        nan\n",
      " 0.92926136 0.88276515 0.90160985 0.92926136 0.88276515 0.89232955\n",
      " 0.92926136 0.88276515 0.87386364 0.92926136 0.88276515 0.85823864\n",
      " 0.92926136 0.88276515 0.82130682 0.92926136 0.88276515 0.78731061\n",
      " 0.92926136 0.88276515 0.76581439 0.92926136 0.88276515 0.74431818\n",
      " 0.92926136 0.88276515 0.70719697 0.92926136 0.88276515 0.66107955\n",
      "        nan        nan        nan 0.92926136 0.89479167 0.90160985\n",
      " 0.92926136 0.89479167 0.89232955 0.92926136 0.89479167 0.87386364\n",
      " 0.92926136 0.89479167 0.85823864 0.92926136 0.89479167 0.82130682\n",
      " 0.92926136 0.89479167 0.78731061 0.92926136 0.89479167 0.76581439\n",
      " 0.92926136 0.89479167 0.74431818 0.92926136 0.89479167 0.70719697\n",
      " 0.92926136 0.89479167 0.66107955        nan        nan        nan\n",
      " 0.92926136 0.82386364 0.90160985 0.92926136 0.82386364 0.89232955\n",
      " 0.92926136 0.82386364 0.87386364 0.92926136 0.82386364 0.85823864\n",
      " 0.92926136 0.82386364 0.82130682 0.92926136 0.82386364 0.78731061\n",
      " 0.92926136 0.82386364 0.76581439 0.92926136 0.82386364 0.74431818\n",
      " 0.92926136 0.82386364 0.70719697 0.92926136 0.82386364 0.66107955\n",
      "        nan        nan        nan 0.92926136 0.88276515 0.90160985\n",
      " 0.92926136 0.88276515 0.89232955 0.92926136 0.88276515 0.87386364\n",
      " 0.92926136 0.88276515 0.85823864 0.92926136 0.88276515 0.82130682\n",
      " 0.92926136 0.88276515 0.78731061 0.92926136 0.88276515 0.76581439\n",
      " 0.92926136 0.88276515 0.74431818 0.92926136 0.88276515 0.70719697\n",
      " 0.92926136 0.88276515 0.66107955        nan        nan        nan\n",
      " 0.92926136 0.89479167 0.90160985 0.92926136 0.89479167 0.89232955\n",
      " 0.92926136 0.89479167 0.87386364 0.92926136 0.89479167 0.85823864\n",
      " 0.92926136 0.89479167 0.82130682 0.92926136 0.89479167 0.78731061\n",
      " 0.92926136 0.89479167 0.76581439 0.92926136 0.89479167 0.74431818\n",
      " 0.92926136 0.89479167 0.70719697 0.92926136 0.89479167 0.66107955\n",
      "        nan        nan        nan 0.92926136 0.82386364 0.90160985\n",
      " 0.92926136 0.82386364 0.89232955 0.92926136 0.82386364 0.87386364\n",
      " 0.92926136 0.82386364 0.85823864 0.92926136 0.82386364 0.82130682\n",
      " 0.92926136 0.82386364 0.78731061 0.92926136 0.82386364 0.76581439\n",
      " 0.92926136 0.82386364 0.74431818 0.92926136 0.82386364 0.70719697\n",
      " 0.92926136 0.82386364 0.66107955]\n",
      "  warnings.warn(\n"
     ]
    },
    {
     "data": {
      "text/html": [
       "<style>#sk-container-id-12 {color: black;background-color: white;}#sk-container-id-12 pre{padding: 0;}#sk-container-id-12 div.sk-toggleable {background-color: white;}#sk-container-id-12 label.sk-toggleable__label {cursor: pointer;display: block;width: 100%;margin-bottom: 0;padding: 0.3em;box-sizing: border-box;text-align: center;}#sk-container-id-12 label.sk-toggleable__label-arrow:before {content: \"▸\";float: left;margin-right: 0.25em;color: #696969;}#sk-container-id-12 label.sk-toggleable__label-arrow:hover:before {color: black;}#sk-container-id-12 div.sk-estimator:hover label.sk-toggleable__label-arrow:before {color: black;}#sk-container-id-12 div.sk-toggleable__content {max-height: 0;max-width: 0;overflow: hidden;text-align: left;background-color: #f0f8ff;}#sk-container-id-12 div.sk-toggleable__content pre {margin: 0.2em;color: black;border-radius: 0.25em;background-color: #f0f8ff;}#sk-container-id-12 input.sk-toggleable__control:checked~div.sk-toggleable__content {max-height: 200px;max-width: 100%;overflow: auto;}#sk-container-id-12 input.sk-toggleable__control:checked~label.sk-toggleable__label-arrow:before {content: \"▾\";}#sk-container-id-12 div.sk-estimator input.sk-toggleable__control:checked~label.sk-toggleable__label {background-color: #d4ebff;}#sk-container-id-12 div.sk-label input.sk-toggleable__control:checked~label.sk-toggleable__label {background-color: #d4ebff;}#sk-container-id-12 input.sk-hidden--visually {border: 0;clip: rect(1px 1px 1px 1px);clip: rect(1px, 1px, 1px, 1px);height: 1px;margin: -1px;overflow: hidden;padding: 0;position: absolute;width: 1px;}#sk-container-id-12 div.sk-estimator {font-family: monospace;background-color: #f0f8ff;border: 1px dotted black;border-radius: 0.25em;box-sizing: border-box;margin-bottom: 0.5em;}#sk-container-id-12 div.sk-estimator:hover {background-color: #d4ebff;}#sk-container-id-12 div.sk-parallel-item::after {content: \"\";width: 100%;border-bottom: 1px solid gray;flex-grow: 1;}#sk-container-id-12 div.sk-label:hover label.sk-toggleable__label {background-color: #d4ebff;}#sk-container-id-12 div.sk-serial::before {content: \"\";position: absolute;border-left: 1px solid gray;box-sizing: border-box;top: 0;bottom: 0;left: 50%;z-index: 0;}#sk-container-id-12 div.sk-serial {display: flex;flex-direction: column;align-items: center;background-color: white;padding-right: 0.2em;padding-left: 0.2em;position: relative;}#sk-container-id-12 div.sk-item {position: relative;z-index: 1;}#sk-container-id-12 div.sk-parallel {display: flex;align-items: stretch;justify-content: center;background-color: white;position: relative;}#sk-container-id-12 div.sk-item::before, #sk-container-id-12 div.sk-parallel-item::before {content: \"\";position: absolute;border-left: 1px solid gray;box-sizing: border-box;top: 0;bottom: 0;left: 50%;z-index: -1;}#sk-container-id-12 div.sk-parallel-item {display: flex;flex-direction: column;z-index: 1;position: relative;background-color: white;}#sk-container-id-12 div.sk-parallel-item:first-child::after {align-self: flex-end;width: 50%;}#sk-container-id-12 div.sk-parallel-item:last-child::after {align-self: flex-start;width: 50%;}#sk-container-id-12 div.sk-parallel-item:only-child::after {width: 0;}#sk-container-id-12 div.sk-dashed-wrapped {border: 1px dashed gray;margin: 0 0.4em 0.5em 0.4em;box-sizing: border-box;padding-bottom: 0.4em;background-color: white;}#sk-container-id-12 div.sk-label label {font-family: monospace;font-weight: bold;display: inline-block;line-height: 1.2em;}#sk-container-id-12 div.sk-label-container {text-align: center;}#sk-container-id-12 div.sk-container {/* jupyter's `normalize.less` sets `[hidden] { display: none; }` but bootstrap.min.css set `[hidden] { display: none !important; }` so we also need the `!important` here to be able to override the default hidden behavior on the sphinx rendered scikit-learn.org. See: https://github.com/scikit-learn/scikit-learn/issues/21755 */display: inline-block !important;position: relative;}#sk-container-id-12 div.sk-text-repr-fallback {display: none;}</style><div id=\"sk-container-id-12\" class=\"sk-top-container\"><div class=\"sk-text-repr-fallback\"><pre>GridSearchCV(cv=10,\n",
       "             estimator=Pipeline(steps=[(&#x27;svc&#x27;,\n",
       "                                        SVC(kernel=&#x27;poly&#x27;, random_state=0))]),\n",
       "             param_grid={&#x27;svc__C&#x27;: array([1.e-04, 1.e-03, 1.e-02, 1.e-01, 1.e+00, 1.e+01, 1.e+02, 1.e+03,\n",
       "       1.e+04]),\n",
       "                         &#x27;svc__degree&#x27;: [2, 3, 4],\n",
       "                         &#x27;svc__gamma&#x27;: array([0. , 0.1, 0.2, 0.3, 0.4, 0.5, 0.6, 0.7, 0.8, 0.9, 1. ]),\n",
       "                         &#x27;svc__kernel&#x27;: [&#x27;linear&#x27;, &#x27;poly&#x27;, &#x27;rbf&#x27;]})</pre><b>In a Jupyter environment, please rerun this cell to show the HTML representation or trust the notebook. <br />On GitHub, the HTML representation is unable to render, please try loading this page with nbviewer.org.</b></div><div class=\"sk-container\" hidden><div class=\"sk-item sk-dashed-wrapped\"><div class=\"sk-label-container\"><div class=\"sk-label sk-toggleable\"><input class=\"sk-toggleable__control sk-hidden--visually\" id=\"sk-estimator-id-28\" type=\"checkbox\" ><label for=\"sk-estimator-id-28\" class=\"sk-toggleable__label sk-toggleable__label-arrow\">GridSearchCV</label><div class=\"sk-toggleable__content\"><pre>GridSearchCV(cv=10,\n",
       "             estimator=Pipeline(steps=[(&#x27;svc&#x27;,\n",
       "                                        SVC(kernel=&#x27;poly&#x27;, random_state=0))]),\n",
       "             param_grid={&#x27;svc__C&#x27;: array([1.e-04, 1.e-03, 1.e-02, 1.e-01, 1.e+00, 1.e+01, 1.e+02, 1.e+03,\n",
       "       1.e+04]),\n",
       "                         &#x27;svc__degree&#x27;: [2, 3, 4],\n",
       "                         &#x27;svc__gamma&#x27;: array([0. , 0.1, 0.2, 0.3, 0.4, 0.5, 0.6, 0.7, 0.8, 0.9, 1. ]),\n",
       "                         &#x27;svc__kernel&#x27;: [&#x27;linear&#x27;, &#x27;poly&#x27;, &#x27;rbf&#x27;]})</pre></div></div></div><div class=\"sk-parallel\"><div class=\"sk-parallel-item\"><div class=\"sk-item\"><div class=\"sk-label-container\"><div class=\"sk-label sk-toggleable\"><input class=\"sk-toggleable__control sk-hidden--visually\" id=\"sk-estimator-id-29\" type=\"checkbox\" ><label for=\"sk-estimator-id-29\" class=\"sk-toggleable__label sk-toggleable__label-arrow\">estimator: Pipeline</label><div class=\"sk-toggleable__content\"><pre>Pipeline(steps=[(&#x27;svc&#x27;, SVC(kernel=&#x27;poly&#x27;, random_state=0))])</pre></div></div></div><div class=\"sk-serial\"><div class=\"sk-item\"><div class=\"sk-serial\"><div class=\"sk-item\"><div class=\"sk-estimator sk-toggleable\"><input class=\"sk-toggleable__control sk-hidden--visually\" id=\"sk-estimator-id-30\" type=\"checkbox\" ><label for=\"sk-estimator-id-30\" class=\"sk-toggleable__label sk-toggleable__label-arrow\">SVC</label><div class=\"sk-toggleable__content\"><pre>SVC(kernel=&#x27;poly&#x27;, random_state=0)</pre></div></div></div></div></div></div></div></div></div></div></div></div>"
      ],
      "text/plain": [
       "GridSearchCV(cv=10,\n",
       "             estimator=Pipeline(steps=[('svc',\n",
       "                                        SVC(kernel='poly', random_state=0))]),\n",
       "             param_grid={'svc__C': array([1.e-04, 1.e-03, 1.e-02, 1.e-01, 1.e+00, 1.e+01, 1.e+02, 1.e+03,\n",
       "       1.e+04]),\n",
       "                         'svc__degree': [2, 3, 4],\n",
       "                         'svc__gamma': array([0. , 0.1, 0.2, 0.3, 0.4, 0.5, 0.6, 0.7, 0.8, 0.9, 1. ]),\n",
       "                         'svc__kernel': ['linear', 'poly', 'rbf']})"
      ]
     },
     "execution_count": 159,
     "metadata": {},
     "output_type": "execute_result"
    }
   ],
   "source": [
    "train_size = 0.1\n",
    "best_k_fold = 10\n",
    "X_train, y_train = input_data_dict['X_train_' + str(train_size)], input_data_dict['y_train_' + str(train_size)]\n",
    "search = GridSearchCV(pipe, param_grid, cv=best_k_fold)\n",
    "search.fit(X_train, y_train)"
   ]
  },
  {
   "cell_type": "code",
   "execution_count": 160,
   "id": "a4bb3acd",
   "metadata": {},
   "outputs": [
    {
     "name": "stdout",
     "output_type": "stream",
     "text": [
      "\n",
      "λ = \u001b[34m1.0\u001b[0m\n",
      "\n",
      "γ = \u001b[34m0.1\u001b[0m\n",
      "\n",
      "Kernel = \u001b[34mlinear\u001b[0m\n",
      "\n",
      "Degree = \u001b[34m2\u001b[0m\n",
      "\n"
     ]
    }
   ],
   "source": [
    "best_params = search.best_params_\n",
    "best_lambda, best_gamma, best_kernel, best_degree = best_params['svc__C'], best_params['svc__gamma'], \\\n",
    "best_params['svc__kernel'], best_params['svc__degree']\n",
    "print(f'\\n\\u03BB = {colored(best_lambda, \"blue\")}\\n\\n\\u03B3 = \\\n",
    "{colored(best_gamma, \"blue\")}\\n\\nKernel = {colored(best_kernel, \"blue\")}\\n\\nDegree = \\\n",
    "{colored(best_degree, \"blue\")}\\n')"
   ]
  },
  {
   "cell_type": "code",
   "execution_count": 161,
   "id": "8f2a3029",
   "metadata": {},
   "outputs": [
    {
     "name": "stdout",
     "output_type": "stream",
     "text": [
      "\n",
      "Best Accuracy is: \u001b[32m0.9385416666666668\u001b[0m\n",
      "\n"
     ]
    }
   ],
   "source": [
    "best_score = search.best_score_\n",
    "print(f'\\nBest Accuracy is: {colored(best_score, \"green\")}\\n')"
   ]
  },
  {
   "cell_type": "markdown",
   "id": "c68c0270",
   "metadata": {},
   "source": [
    "- - <a name=''>${\\text{Test:}}$</a>"
   ]
  },
  {
   "cell_type": "code",
   "execution_count": 162,
   "id": "afd665c2",
   "metadata": {},
   "outputs": [
    {
     "data": {
      "text/html": [
       "<style>#sk-container-id-13 {color: black;background-color: white;}#sk-container-id-13 pre{padding: 0;}#sk-container-id-13 div.sk-toggleable {background-color: white;}#sk-container-id-13 label.sk-toggleable__label {cursor: pointer;display: block;width: 100%;margin-bottom: 0;padding: 0.3em;box-sizing: border-box;text-align: center;}#sk-container-id-13 label.sk-toggleable__label-arrow:before {content: \"▸\";float: left;margin-right: 0.25em;color: #696969;}#sk-container-id-13 label.sk-toggleable__label-arrow:hover:before {color: black;}#sk-container-id-13 div.sk-estimator:hover label.sk-toggleable__label-arrow:before {color: black;}#sk-container-id-13 div.sk-toggleable__content {max-height: 0;max-width: 0;overflow: hidden;text-align: left;background-color: #f0f8ff;}#sk-container-id-13 div.sk-toggleable__content pre {margin: 0.2em;color: black;border-radius: 0.25em;background-color: #f0f8ff;}#sk-container-id-13 input.sk-toggleable__control:checked~div.sk-toggleable__content {max-height: 200px;max-width: 100%;overflow: auto;}#sk-container-id-13 input.sk-toggleable__control:checked~label.sk-toggleable__label-arrow:before {content: \"▾\";}#sk-container-id-13 div.sk-estimator input.sk-toggleable__control:checked~label.sk-toggleable__label {background-color: #d4ebff;}#sk-container-id-13 div.sk-label input.sk-toggleable__control:checked~label.sk-toggleable__label {background-color: #d4ebff;}#sk-container-id-13 input.sk-hidden--visually {border: 0;clip: rect(1px 1px 1px 1px);clip: rect(1px, 1px, 1px, 1px);height: 1px;margin: -1px;overflow: hidden;padding: 0;position: absolute;width: 1px;}#sk-container-id-13 div.sk-estimator {font-family: monospace;background-color: #f0f8ff;border: 1px dotted black;border-radius: 0.25em;box-sizing: border-box;margin-bottom: 0.5em;}#sk-container-id-13 div.sk-estimator:hover {background-color: #d4ebff;}#sk-container-id-13 div.sk-parallel-item::after {content: \"\";width: 100%;border-bottom: 1px solid gray;flex-grow: 1;}#sk-container-id-13 div.sk-label:hover label.sk-toggleable__label {background-color: #d4ebff;}#sk-container-id-13 div.sk-serial::before {content: \"\";position: absolute;border-left: 1px solid gray;box-sizing: border-box;top: 0;bottom: 0;left: 50%;z-index: 0;}#sk-container-id-13 div.sk-serial {display: flex;flex-direction: column;align-items: center;background-color: white;padding-right: 0.2em;padding-left: 0.2em;position: relative;}#sk-container-id-13 div.sk-item {position: relative;z-index: 1;}#sk-container-id-13 div.sk-parallel {display: flex;align-items: stretch;justify-content: center;background-color: white;position: relative;}#sk-container-id-13 div.sk-item::before, #sk-container-id-13 div.sk-parallel-item::before {content: \"\";position: absolute;border-left: 1px solid gray;box-sizing: border-box;top: 0;bottom: 0;left: 50%;z-index: -1;}#sk-container-id-13 div.sk-parallel-item {display: flex;flex-direction: column;z-index: 1;position: relative;background-color: white;}#sk-container-id-13 div.sk-parallel-item:first-child::after {align-self: flex-end;width: 50%;}#sk-container-id-13 div.sk-parallel-item:last-child::after {align-self: flex-start;width: 50%;}#sk-container-id-13 div.sk-parallel-item:only-child::after {width: 0;}#sk-container-id-13 div.sk-dashed-wrapped {border: 1px dashed gray;margin: 0 0.4em 0.5em 0.4em;box-sizing: border-box;padding-bottom: 0.4em;background-color: white;}#sk-container-id-13 div.sk-label label {font-family: monospace;font-weight: bold;display: inline-block;line-height: 1.2em;}#sk-container-id-13 div.sk-label-container {text-align: center;}#sk-container-id-13 div.sk-container {/* jupyter's `normalize.less` sets `[hidden] { display: none; }` but bootstrap.min.css set `[hidden] { display: none !important; }` so we also need the `!important` here to be able to override the default hidden behavior on the sphinx rendered scikit-learn.org. See: https://github.com/scikit-learn/scikit-learn/issues/21755 */display: inline-block !important;position: relative;}#sk-container-id-13 div.sk-text-repr-fallback {display: none;}</style><div id=\"sk-container-id-13\" class=\"sk-top-container\"><div class=\"sk-text-repr-fallback\"><pre>SVC(degree=2, gamma=0.1, kernel=&#x27;linear&#x27;)</pre><b>In a Jupyter environment, please rerun this cell to show the HTML representation or trust the notebook. <br />On GitHub, the HTML representation is unable to render, please try loading this page with nbviewer.org.</b></div><div class=\"sk-container\" hidden><div class=\"sk-item\"><div class=\"sk-estimator sk-toggleable\"><input class=\"sk-toggleable__control sk-hidden--visually\" id=\"sk-estimator-id-31\" type=\"checkbox\" checked><label for=\"sk-estimator-id-31\" class=\"sk-toggleable__label sk-toggleable__label-arrow\">SVC</label><div class=\"sk-toggleable__content\"><pre>SVC(degree=2, gamma=0.1, kernel=&#x27;linear&#x27;)</pre></div></div></div></div></div>"
      ],
      "text/plain": [
       "SVC(degree=2, gamma=0.1, kernel='linear')"
      ]
     },
     "execution_count": 162,
     "metadata": {},
     "output_type": "execute_result"
    }
   ],
   "source": [
    "train_size = 0.1\n",
    "clf = SVC(C=best_lambda, kernel=best_kernel, degree=best_degree, gamma=best_gamma)\n",
    "X_train, y_train, X_test, y_test = input_data_dict['X_train_' + str(train_size)], \\\n",
    "input_data_dict['y_train_' + str(train_size)], input_data_dict['X_test_' + str(train_size)], \\\n",
    "input_data_dict['y_test_' + str(train_size)]\n",
    "clf.fit(X_train, y_train)"
   ]
  },
  {
   "cell_type": "code",
   "execution_count": 163,
   "id": "6ec13e83",
   "metadata": {},
   "outputs": [
    {
     "data": {
      "text/html": [
       "<div>\n",
       "<style scoped>\n",
       "    .dataframe tbody tr th:only-of-type {\n",
       "        vertical-align: middle;\n",
       "    }\n",
       "\n",
       "    .dataframe tbody tr th {\n",
       "        vertical-align: top;\n",
       "    }\n",
       "\n",
       "    .dataframe thead th {\n",
       "        text-align: right;\n",
       "    }\n",
       "</style>\n",
       "<table border=\"1\" class=\"dataframe\">\n",
       "  <thead>\n",
       "    <tr style=\"text-align: right;\">\n",
       "      <th></th>\n",
       "      <th>Class</th>\n",
       "      <th>Accuracy</th>\n",
       "    </tr>\n",
       "  </thead>\n",
       "  <tbody>\n",
       "    <tr>\n",
       "      <th>0</th>\n",
       "      <td>1</td>\n",
       "      <td>1.000000</td>\n",
       "    </tr>\n",
       "    <tr>\n",
       "      <th>1</th>\n",
       "      <td>2</td>\n",
       "      <td>1.000000</td>\n",
       "    </tr>\n",
       "    <tr>\n",
       "      <th>2</th>\n",
       "      <td>3</td>\n",
       "      <td>0.995652</td>\n",
       "    </tr>\n",
       "    <tr>\n",
       "      <th>3</th>\n",
       "      <td>4</td>\n",
       "      <td>0.917949</td>\n",
       "    </tr>\n",
       "    <tr>\n",
       "      <th>4</th>\n",
       "      <td>5</td>\n",
       "      <td>0.837398</td>\n",
       "    </tr>\n",
       "    <tr>\n",
       "      <th>5</th>\n",
       "      <td>6</td>\n",
       "      <td>0.841667</td>\n",
       "    </tr>\n",
       "    <tr>\n",
       "      <th>6</th>\n",
       "      <td>7</td>\n",
       "      <td>0.978632</td>\n",
       "    </tr>\n",
       "    <tr>\n",
       "      <th>7</th>\n",
       "      <td>8</td>\n",
       "      <td>0.994118</td>\n",
       "    </tr>\n",
       "    <tr>\n",
       "      <th>8</th>\n",
       "      <td>9</td>\n",
       "      <td>0.873239</td>\n",
       "    </tr>\n",
       "    <tr>\n",
       "      <th>9</th>\n",
       "      <td>10</td>\n",
       "      <td>0.945455</td>\n",
       "    </tr>\n",
       "    <tr>\n",
       "      <th>10</th>\n",
       "      <td>11</td>\n",
       "      <td>0.861210</td>\n",
       "    </tr>\n",
       "    <tr>\n",
       "      <th>11</th>\n",
       "      <td>12</td>\n",
       "      <td>0.968553</td>\n",
       "    </tr>\n",
       "    <tr>\n",
       "      <th>12</th>\n",
       "      <td>13</td>\n",
       "      <td>0.862903</td>\n",
       "    </tr>\n",
       "    <tr>\n",
       "      <th>13</th>\n",
       "      <td>14</td>\n",
       "      <td>0.977778</td>\n",
       "    </tr>\n",
       "  </tbody>\n",
       "</table>\n",
       "</div>"
      ],
      "text/plain": [
       "    Class  Accuracy\n",
       "0       1  1.000000\n",
       "1       2  1.000000\n",
       "2       3  0.995652\n",
       "3       4  0.917949\n",
       "4       5  0.837398\n",
       "5       6  0.841667\n",
       "6       7  0.978632\n",
       "7       8  0.994118\n",
       "8       9  0.873239\n",
       "9      10  0.945455\n",
       "10     11  0.861210\n",
       "11     12  0.968553\n",
       "12     13  0.862903\n",
       "13     14  0.977778"
      ]
     },
     "execution_count": 163,
     "metadata": {},
     "output_type": "execute_result"
    }
   ],
   "source": [
    "y_pred = clf.predict(X_test)\n",
    "ov_acc = accuracy_score(y_test, y_pred)\n",
    "conf_mat = confusion_matrix(y_test, y_pred)\n",
    "kappa = cohen_kappa_score(y_test, y_pred)\n",
    "acc_for_each_class = conf_mat.diagonal()/conf_mat.sum(axis=1)\n",
    "df_result1 = pd.DataFrame({'Class': range(1, 15), 'Accuracy': acc_for_each_class})\n",
    "df_result1"
   ]
  },
  {
   "cell_type": "markdown",
   "id": "e6e9cbad",
   "metadata": {},
   "source": [
    "- <a name=''>${\\bf{\\text{Heatmap for Confusion Matrix}}}$</a>"
   ]
  },
  {
   "cell_type": "code",
   "execution_count": 164,
   "id": "4b2abae1",
   "metadata": {},
   "outputs": [
    {
     "data": {
      "image/png": "[encoded data removed]",
      "text/plain": [
       "<Figure size 640x480 with 2 Axes>"
      ]
     },
     "metadata": {},
     "output_type": "display_data"
    }
   ],
   "source": [
    "cmap_list = ['Greys', 'Purples', 'Blues', 'Greens', 'Oranges', 'Reds', \\\n",
    "                      'YlOrBr', 'YlOrRd', 'OrRd', 'PuRd', 'RdPu', 'BuPu',\\\n",
    "                      'GnBu', 'PuBu', 'YlGnBu', 'PuBuGn', 'BuGn', 'YlGn']\n",
    "\n",
    "disp = ConfusionMatrixDisplay(confusion_matrix=conf_mat, display_labels=clf.classes_)\n",
    "disp.plot(cmap=cmap_list[14])\n",
    "plt.show()"
   ]
  },
  {
   "cell_type": "code",
   "execution_count": 165,
   "id": "0cf7c54e",
   "metadata": {},
   "outputs": [
    {
     "name": "stdout",
     "output_type": "stream",
     "text": [
      "\n",
      "Result of this Pipeline: \u001b[34mInput_Data\u001b[0m ---> \u001b[35mStandard Scaler\u001b[0m ---> PCA ---> \u001b[35mStandard Scaler\u001b[0m ---> \u001b[35mSVC\u001b[0m\n",
      "\n",
      "Overall Accuracy: \u001b[32m0.9216826265389877\u001b[0m\n",
      "\n",
      "κ = \u001b[32m0.9151951858542293\u001b[0m\n",
      "\n"
     ]
    }
   ],
   "source": [
    "print(f\"\\nResult of this Pipeline: {colored('Input_Data', 'blue')} ---> \\\n",
    "{colored('Standard Scaler', 'magenta')}\\\n",
    " ---> PCA ---> {colored('Standard Scaler', 'magenta')} ---> {colored('SVC', 'magenta')}\")\n",
    "print(f'\\nOverall Accuracy: {colored(ov_acc, \"green\")}\\n\\n\\u03BA = {colored(kappa, \"green\")}\\n')"
   ]
  },
  {
   "cell_type": "markdown",
   "id": "ea6e38c4",
   "metadata": {},
   "source": [
    "$\\newline$\n",
    "$\\newline$\n",
    "- <a name=''>${\\bf{\\text{Classification Map for }\\underline{\\text{Test Data}}}}$</a>\n",
    "$\\newline$\n",
    "$\\newline$"
   ]
  },
  {
   "cell_type": "code",
   "execution_count": null,
   "id": "787c2255",
   "metadata": {},
   "outputs": [],
   "source": [
    "print(f'\\nShape of the y\\u0302: {colored(y_pred.shape, \"blue\")}\\n')"
   ]
  },
  {
   "cell_type": "code",
   "execution_count": null,
   "id": "643a71a2",
   "metadata": {},
   "outputs": [],
   "source": [
    "length = y_pred.shape[0]\n",
    "m = int(length ** 0.5)\n",
    "n = m\n",
    "selected_y_pred = y_pred[: m*n]\n",
    "selected_y_pred_reshaped = selected_y_pred.reshape((m, n))\n",
    "selected_y_test = y_test[: m*n]\n",
    "selected_y_test_reshaped = selected_y_test.reshape((m, n))"
   ]
  },
  {
   "cell_type": "code",
   "execution_count": null,
   "id": "4401d668",
   "metadata": {},
   "outputs": [],
   "source": [
    "plt.figure(1)\n",
    "plt.subplot(1, 2, 1), plt.imshow(selected_y_pred_reshaped), \\\n",
    "plt.axis('off'), plt.title('Class. Map for Test Data')\n",
    "\n",
    "plt.subplot(1, 2, 2), plt.imshow(selected_y_test_reshaped), \\\n",
    "plt.axis('off'), plt.title('Class. Map for Labels')\n",
    "plt.show()"
   ]
  },
  {
   "cell_type": "code",
   "execution_count": null,
   "id": "c4220f1d",
   "metadata": {},
   "outputs": [],
   "source": [
    "my_ov_acc = len(y_pred[y_pred == y_test]) / len(y_pred)\n",
    "print(f'\\n{colored(\"Ov. Accuracy:\", \"green\")} {my_ov_acc: 0.3f}\\n')"
   ]
  },
  {
   "cell_type": "markdown",
   "id": "99d2db9a",
   "metadata": {},
   "source": [
    "- <a name='4'>${\\bf{\\text{2D SWT + 1D SWT + SVM}}}$</a>"
   ]
  },
  {
   "cell_type": "code",
   "execution_count": 15,
   "id": "0480c0e0",
   "metadata": {},
   "outputs": [],
   "source": [
    "import pywt"
   ]
  },
  {
   "cell_type": "code",
   "execution_count": 16,
   "id": "5892165c",
   "metadata": {},
   "outputs": [
    {
     "name": "stdout",
     "output_type": "stream",
     "text": [
      "\n",
      "Shape of Data: \u001b[34m(3248, 145)\u001b[0m\n",
      "\n",
      " ... and its \u001b[34mData Type\u001b[0m: \u001b[32muint16\u001b[0m\n",
      "\n",
      "\n",
      "\n",
      "Shape of GT: \u001b[34m(3248,)\u001b[0m\n",
      "\n",
      " ... and its \u001b[34mData Type\u001b[0m: \u001b[32muint8\u001b[0m\n",
      "\n"
     ]
    }
   ],
   "source": [
    "data = data_without_BG\n",
    "data_gt = gt_without_BG\n",
    "print(f'\\nShape of Data: {colored(data.shape, \"blue\")}\\n')\n",
    "print(f' ... and its {colored(\"Data Type\", \"blue\")}: {colored(data.dtype, \"green\")}\\n')\n",
    "print(f'\\n\\nShape of GT: {colored(data_gt.shape, \"blue\")}\\n')\n",
    "print(f' ... and its {colored(\"Data Type\", \"blue\")}: {colored(data_gt.dtype, \"green\")}\\n')"
   ]
  },
  {
   "cell_type": "code",
   "execution_count": 17,
   "id": "995b6b31",
   "metadata": {},
   "outputs": [
    {
     "name": "stdout",
     "output_type": "stream",
     "text": [
      "\n",
      "Max level for spatial direction: \u001b[34m4\u001b[0m\n",
      "\n"
     ]
    }
   ],
   "source": [
    "spatial_max_level = pywt.swt_max_level(data.shape[0])\n",
    "print(f'\\nMax level for spatial direction: {colored(spatial_max_level, \"blue\")}\\n')"
   ]
  },
  {
   "cell_type": "code",
   "execution_count": 18,
   "id": "483e3bd7",
   "metadata": {},
   "outputs": [],
   "source": [
    "data_swt_spatial_list = pywt.swtn(data, wavelet='db2', level=1, axes=(0, ))"
   ]
  },
  {
   "cell_type": "code",
   "execution_count": 19,
   "id": "9b0bac3e",
   "metadata": {},
   "outputs": [],
   "source": [
    "def concat_for_swt(data_list: list, data_gt: np.ndarray, axis: int=0) -> (np.ndarray, np.ndarray):\n",
    "    data_list_copy = data_list.copy()\n",
    "    new_gt = data_gt.copy()\n",
    "    for (i, data_dict) in enumerate(data_list_copy):\n",
    "        if i == 0: \n",
    "            new_data = np.concatenate((data_dict['a'], data_dict['d']), axis=axis)\n",
    "            if axis == 0:\n",
    "                new_gt = np.concatenate((data_gt, data_gt))\n",
    "        else: \n",
    "            new_data = np.concatenate((new_data, data_dict['a'], data_dict['d']), axis=axis)\n",
    "            if axis == 0:\n",
    "                new_gt = np.concatenate((new_gt, data_gt, data_gt))\n",
    "            \n",
    "    return new_data, new_gt"
   ]
  },
  {
   "cell_type": "code",
   "execution_count": 20,
   "id": "235dfaef",
   "metadata": {},
   "outputs": [],
   "source": [
    "spatial_swt_data, spatial_swt_gt = concat_for_swt(data_swt_spatial_list, data_gt)"
   ]
  },
  {
   "cell_type": "code",
   "execution_count": 21,
   "id": "17f7580b",
   "metadata": {},
   "outputs": [
    {
     "name": "stdout",
     "output_type": "stream",
     "text": [
      "\n",
      "Shape of \u001b[32mSpatial SWT Data\u001b[0m: \u001b[34m(6496, 145)\u001b[0m\n",
      "\n",
      "Shape of \u001b[32mSpatial SWT GT\u001b[0m: \u001b[34m(6496,)\u001b[0m\n",
      "\n"
     ]
    }
   ],
   "source": [
    "print(f'\\nShape of {colored(\"Spatial SWT Data\", \"green\")}: {colored(spatial_swt_data.shape, \"blue\")}\\n')\n",
    "print(f'Shape of {colored(\"Spatial SWT GT\", \"green\")}: {colored(spatial_swt_gt.shape, \"blue\")}\\n')"
   ]
  },
  {
   "cell_type": "code",
   "execution_count": 22,
   "id": "22b0a0a9",
   "metadata": {},
   "outputs": [
    {
     "name": "stdout",
     "output_type": "stream",
     "text": [
      "\n",
      "Max level for spectral direction: \u001b[34m0\u001b[0m\n",
      "\n"
     ]
    },
    {
     "name": "stderr",
     "output_type": "stream",
     "text": [
      "/tmp/ipykernel_14787/706708911.py:1: UserWarning: No levels of stationary wavelet decomposition are possible. The signal to be transformed must have a size that is a multiple of 2**n for an n-level decomposition.\n",
      "  max_level = pywt.swt_max_level(spatial_swt_data.shape[1])\n"
     ]
    }
   ],
   "source": [
    "max_level = pywt.swt_max_level(spatial_swt_data.shape[1])\n",
    "print(f'\\nMax level for spectral direction: {colored(max_level, \"blue\")}\\n')"
   ]
  },
  {
   "cell_type": "code",
   "execution_count": 29,
   "id": "24acd9a6",
   "metadata": {},
   "outputs": [],
   "source": [
    "# new_feature = (spatial_swt_data[:, -1]).reshape((spatial_swt_data.shape[0], 1))\n",
    "\n",
    "# if spatial_swt_data.shape[1]%2 == 0:\n",
    "#     data_swt_spectral_list = pywt.swtn(spatial_swt_data, wavelet='db2', level=1, axes=(1, ))\n",
    "    \n",
    "# else:\n",
    "#     spatial_swt_data = np.concatenate((spatial_swt_data, new_feature), axis=1)\n",
    "#     data_swt_spectral_list = pywt.swtn(spatial_swt_data, wavelet='db2', level=1, axes=(1, ))"
   ]
  },
  {
   "cell_type": "code",
   "execution_count": 17,
   "id": "a72e0922",
   "metadata": {},
   "outputs": [],
   "source": [
    "# spectral_swt_data, spectral_swt_gt = concat_for_swt(data_swt_spectral_list, spatial_swt_gt, axis=1)"
   ]
  },
  {
   "cell_type": "code",
   "execution_count": 23,
   "id": "057a88b8",
   "metadata": {},
   "outputs": [],
   "source": [
    "# New: **************************************************************************\n",
    "spectral_swt_data, spectral_swt_gt = spatial_swt_data, spatial_swt_gt"
   ]
  },
  {
   "cell_type": "code",
   "execution_count": 24,
   "id": "7664b62b",
   "metadata": {},
   "outputs": [
    {
     "name": "stdout",
     "output_type": "stream",
     "text": [
      "\n",
      "Shape of \u001b[32mSpectral SWT Data\u001b[0m: \u001b[34m(6496, 145)\u001b[0m\n",
      "\n",
      "Shape of \u001b[32mSpectral SWT GT\u001b[0m: \u001b[34m(6496,)\u001b[0m\n",
      "\n"
     ]
    }
   ],
   "source": [
    "print(f'\\nShape of {colored(\"Spectral SWT Data\", \"green\")}: {colored(spectral_swt_data.shape, \"blue\")}\\n')\n",
    "print(f'Shape of {colored(\"Spectral SWT GT\", \"green\")}: {colored(spectral_swt_gt.shape, \"blue\")}\\n')"
   ]
  },
  {
   "cell_type": "code",
   "execution_count": 25,
   "id": "8dc670c1",
   "metadata": {},
   "outputs": [],
   "source": [
    "final_data = spectral_swt_data\n",
    "data_gt = spectral_swt_gt"
   ]
  },
  {
   "cell_type": "code",
   "execution_count": 26,
   "id": "1da96e29",
   "metadata": {},
   "outputs": [],
   "source": [
    "train_size_list = [0.1]\n",
    "data = {}\n",
    "for train_size_float in train_size_list: data['X_train_' + str(train_size_float)], \\\n",
    "    data['X_test_' + \\\n",
    "    str(train_size_float)], data['y_train_' + str(train_size_float)], \\\n",
    "    data['y_test_' + str(train_size_float)] =\\\n",
    "    train_test_split(final_data, data_gt, train_size=\\\n",
    "                     train_size_float, random_state=0)"
   ]
  },
  {
   "cell_type": "code",
   "execution_count": 27,
   "id": "25e6a9f6",
   "metadata": {},
   "outputs": [
    {
     "name": "stdout",
     "output_type": "stream",
     "text": [
      "\n",
      "Shape of \u001b[32mX_train\u001b[0m: \u001b[34m(649, 145)\u001b[0m\n",
      "Shape of \u001b[32my_train\u001b[0m: \u001b[34m(649,)\u001b[0m\n",
      "\n",
      "\n",
      "Shape of \u001b[32mX_test\u001b[0m: \u001b[34m(5847, 145)\u001b[0m\n",
      "Shape of \u001b[32my_test\u001b[0m: \u001b[34m(5847,)\u001b[0m\n",
      "\n"
     ]
    }
   ],
   "source": [
    "train_size = 0.1\n",
    "X_train, X_test, y_train, y_test = data['X_train_' + str(train_size)], \\\n",
    "data['X_test_' + str(train_size)], data['y_train_' + str(train_size)], data['y_test_' + str(train_size)]\n",
    "print(f'\\nShape of {colored(\"X_train\", \"green\")}: {colored(X_train.shape, \"blue\")}')\n",
    "print(f'Shape of {colored(\"y_train\", \"green\")}: {colored(y_train.shape, \"blue\")}\\n')\n",
    "print(f'\\nShape of {colored(\"X_test\", \"green\")}: {colored(X_test.shape, \"blue\")}')\n",
    "print(f'Shape of {colored(\"y_test\", \"green\")}: {colored(y_test.shape, \"blue\")}\\n')"
   ]
  },
  {
   "cell_type": "code",
   "execution_count": 28,
   "id": "3e2e55ac",
   "metadata": {},
   "outputs": [],
   "source": [
    "scaler = StandardScaler()"
   ]
  },
  {
   "cell_type": "code",
   "execution_count": 29,
   "id": "e9215cd3",
   "metadata": {},
   "outputs": [],
   "source": [
    "train_size_list = [0.1]\n",
    "data_scaled = {}\n",
    "\n",
    "for train_size in train_size_list:\n",
    "    data_scaled['X_train_' + str(train_size)] = scaler.fit_transform(data['X_train_' + str(train_size)])\n",
    "    data_scaled['X_test_' + str(train_size)] = scaler.fit_transform(data['X_test_' + str(train_size)])\n",
    "    data_scaled['y_train_' + str(train_size)] = data['y_train_' + str(train_size)]\n",
    "    data_scaled['y_test_' + str(train_size)] = data['y_test_' + str(train_size)]"
   ]
  },
  {
   "cell_type": "code",
   "execution_count": 30,
   "id": "6ab65733",
   "metadata": {},
   "outputs": [],
   "source": [
    "train_size = 0.1\n",
    "X_train_normal = data_scaled['X_train_' + str(train_size)]\n",
    "y_train_normal = data_scaled['y_train_' + str(train_size)]\n",
    "\n",
    "X_test_normal = data_scaled['X_test_' + str(train_size)]\n",
    "y_test_normal = data_scaled['y_test_' + str(train_size)]"
   ]
  },
  {
   "cell_type": "code",
   "execution_count": 31,
   "id": "720941ef",
   "metadata": {},
   "outputs": [
    {
     "name": "stdout",
     "output_type": "stream",
     "text": [
      "\n",
      "Mean of \u001b[34mX_train_normal\u001b[0m:  0.000\n",
      "Var of \u001b[34mX_train_normal\u001b[0m:  1.000\n",
      "\n",
      " ... and its Data Type: \u001b[32mfloat64\u001b[0m\n",
      "\n",
      "\n",
      "\n",
      "Mean of \u001b[34mX_test_normal\u001b[0m: -0.000\n",
      "Var of \u001b[34mX_test_normal\u001b[0m:  1.000\n",
      "\n",
      " ... and its Data Type: \u001b[32mfloat64\u001b[0m\n",
      "\n"
     ]
    }
   ],
   "source": [
    "print(f'\\nMean of {colored(\"X_train_normal\", \"blue\")}: {X_train_normal.mean(): 0.3f}')\n",
    "print(f'Var of {colored(\"X_train_normal\", \"blue\")}: {X_train_normal.var(): 0.3f}\\n')\n",
    "print(f' ... and its Data Type: {colored(X_train_normal.dtype, \"green\")}\\n')\n",
    "print(f'\\n\\nMean of {colored(\"X_test_normal\", \"blue\")}: {X_test_normal.mean(): 0.3f}')\n",
    "print(f'Var of {colored(\"X_test_normal\", \"blue\")}: {X_test_normal.var(): 0.3f}\\n')\n",
    "print(f' ... and its Data Type: {colored(X_test_normal.dtype, \"green\")}\\n')"
   ]
  },
  {
   "cell_type": "code",
   "execution_count": 188,
   "id": "7165a1b5",
   "metadata": {},
   "outputs": [
    {
     "name": "stderr",
     "output_type": "stream",
     "text": [
      "/home/shahin/.local/lib/python3.10/site-packages/sklearn/model_selection/_split.py:684: UserWarning: The least populated class in y has only 18 members, which is less than n_splits=19.\n",
      "  warnings.warn(\n"
     ]
    }
   ],
   "source": [
    "train_size_tuple = (0.1, )\n",
    "k_fold_tuple = range(2, 20)\n",
    "\n",
    "parameters_for_k_fold_dict = {'train_size': train_size_tuple, 'k_fold': k_fold_tuple}\n",
    "total_length = 1\n",
    "for key_name_str in parameters_for_k_fold_dict.keys():\n",
    "    total_length *= len(parameters_for_k_fold_dict[key_name_str])\n",
    "    \n",
    "    \n",
    "train_size_stored_values = np.zeros(total_length)\n",
    "acc_mean_stored_values = np.zeros(total_length)\n",
    "k_fold_stored_values = np.zeros(total_length)\n",
    "\n",
    "\n",
    "clf_without_pca = SVC()\n",
    "count = 0\n",
    "for train_size in parameters_for_k_fold_dict['train_size']:\n",
    "    X_train, y_train = data_scaled['X_train_' + str(train_size)], \\\n",
    "    data_scaled['y_train_' + str(train_size)]\n",
    "    clf_without_pca.fit(X_train, y_train)\n",
    "    for k_fold in parameters_for_k_fold_dict['k_fold']:\n",
    "        count += 1\n",
    "        scores = cross_val_score(clf_without_pca, X_train, y_train, cv=k_fold)\n",
    "        acc_mean = scores.mean()\n",
    "        train_size_stored_values[count - 1] = train_size\n",
    "        acc_mean_stored_values[count - 1] = acc_mean\n",
    "        k_fold_stored_values[count - 1] = k_fold\n",
    "        \n",
    "df_for_k_fold = pd.DataFrame({'Train Size': train_size_stored_values, 'K-fold(CV)': k_fold_stored_values,\\\n",
    "'Mean of Accuracy': acc_mean_stored_values})"
   ]
  },
  {
   "cell_type": "code",
   "execution_count": 189,
   "id": "eb7b2d67",
   "metadata": {},
   "outputs": [
    {
     "data": {
      "text/html": [
       "<div>\n",
       "<style scoped>\n",
       "    .dataframe tbody tr th:only-of-type {\n",
       "        vertical-align: middle;\n",
       "    }\n",
       "\n",
       "    .dataframe tbody tr th {\n",
       "        vertical-align: top;\n",
       "    }\n",
       "\n",
       "    .dataframe thead th {\n",
       "        text-align: right;\n",
       "    }\n",
       "</style>\n",
       "<table border=\"1\" class=\"dataframe\">\n",
       "  <thead>\n",
       "    <tr style=\"text-align: right;\">\n",
       "      <th></th>\n",
       "      <th>Train Size</th>\n",
       "      <th>K-fold(CV)</th>\n",
       "      <th>Mean of Accuracy</th>\n",
       "    </tr>\n",
       "  </thead>\n",
       "  <tbody>\n",
       "    <tr>\n",
       "      <th>0</th>\n",
       "      <td>0.1</td>\n",
       "      <td>2.0</td>\n",
       "      <td>0.388314</td>\n",
       "    </tr>\n",
       "    <tr>\n",
       "      <th>1</th>\n",
       "      <td>0.1</td>\n",
       "      <td>3.0</td>\n",
       "      <td>0.392914</td>\n",
       "    </tr>\n",
       "    <tr>\n",
       "      <th>2</th>\n",
       "      <td>0.1</td>\n",
       "      <td>4.0</td>\n",
       "      <td>0.394446</td>\n",
       "    </tr>\n",
       "    <tr>\n",
       "      <th>3</th>\n",
       "      <td>0.1</td>\n",
       "      <td>5.0</td>\n",
       "      <td>0.400632</td>\n",
       "    </tr>\n",
       "    <tr>\n",
       "      <th>4</th>\n",
       "      <td>0.1</td>\n",
       "      <td>6.0</td>\n",
       "      <td>0.395897</td>\n",
       "    </tr>\n",
       "    <tr>\n",
       "      <th>5</th>\n",
       "      <td>0.1</td>\n",
       "      <td>7.0</td>\n",
       "      <td>0.403677</td>\n",
       "    </tr>\n",
       "    <tr>\n",
       "      <th>6</th>\n",
       "      <td>0.1</td>\n",
       "      <td>8.0</td>\n",
       "      <td>0.403681</td>\n",
       "    </tr>\n",
       "    <tr>\n",
       "      <th>7</th>\n",
       "      <td>0.1</td>\n",
       "      <td>9.0</td>\n",
       "      <td>0.402144</td>\n",
       "    </tr>\n",
       "    <tr>\n",
       "      <th>8</th>\n",
       "      <td>0.1</td>\n",
       "      <td>10.0</td>\n",
       "      <td>0.397572</td>\n",
       "    </tr>\n",
       "    <tr>\n",
       "      <th>9</th>\n",
       "      <td>0.1</td>\n",
       "      <td>11.0</td>\n",
       "      <td>0.400616</td>\n",
       "    </tr>\n",
       "    <tr>\n",
       "      <th>10</th>\n",
       "      <td>0.1</td>\n",
       "      <td>12.0</td>\n",
       "      <td>0.395988</td>\n",
       "    </tr>\n",
       "    <tr>\n",
       "      <th>11</th>\n",
       "      <td>0.1</td>\n",
       "      <td>13.0</td>\n",
       "      <td>0.405338</td>\n",
       "    </tr>\n",
       "    <tr>\n",
       "      <th>12</th>\n",
       "      <td>0.1</td>\n",
       "      <td>14.0</td>\n",
       "      <td>0.399101</td>\n",
       "    </tr>\n",
       "    <tr>\n",
       "      <th>13</th>\n",
       "      <td>0.1</td>\n",
       "      <td>15.0</td>\n",
       "      <td>0.400388</td>\n",
       "    </tr>\n",
       "    <tr>\n",
       "      <th>14</th>\n",
       "      <td>0.1</td>\n",
       "      <td>16.0</td>\n",
       "      <td>0.410061</td>\n",
       "    </tr>\n",
       "    <tr>\n",
       "      <th>15</th>\n",
       "      <td>0.1</td>\n",
       "      <td>17.0</td>\n",
       "      <td>0.406605</td>\n",
       "    </tr>\n",
       "    <tr>\n",
       "      <th>16</th>\n",
       "      <td>0.1</td>\n",
       "      <td>18.0</td>\n",
       "      <td>0.403737</td>\n",
       "    </tr>\n",
       "    <tr>\n",
       "      <th>17</th>\n",
       "      <td>0.1</td>\n",
       "      <td>19.0</td>\n",
       "      <td>0.409730</td>\n",
       "    </tr>\n",
       "  </tbody>\n",
       "</table>\n",
       "</div>"
      ],
      "text/plain": [
       "    Train Size  K-fold(CV)  Mean of Accuracy\n",
       "0          0.1         2.0          0.388314\n",
       "1          0.1         3.0          0.392914\n",
       "2          0.1         4.0          0.394446\n",
       "3          0.1         5.0          0.400632\n",
       "4          0.1         6.0          0.395897\n",
       "5          0.1         7.0          0.403677\n",
       "6          0.1         8.0          0.403681\n",
       "7          0.1         9.0          0.402144\n",
       "8          0.1        10.0          0.397572\n",
       "9          0.1        11.0          0.400616\n",
       "10         0.1        12.0          0.395988\n",
       "11         0.1        13.0          0.405338\n",
       "12         0.1        14.0          0.399101\n",
       "13         0.1        15.0          0.400388\n",
       "14         0.1        16.0          0.410061\n",
       "15         0.1        17.0          0.406605\n",
       "16         0.1        18.0          0.403737\n",
       "17         0.1        19.0          0.409730"
      ]
     },
     "execution_count": 189,
     "metadata": {},
     "output_type": "execute_result"
    }
   ],
   "source": [
    "df_for_k_fold"
   ]
  },
  {
   "cell_type": "code",
   "execution_count": 190,
   "id": "076e4b83",
   "metadata": {},
   "outputs": [
    {
     "data": {
      "text/html": [
       "<div>\n",
       "<style scoped>\n",
       "    .dataframe tbody tr th:only-of-type {\n",
       "        vertical-align: middle;\n",
       "    }\n",
       "\n",
       "    .dataframe tbody tr th {\n",
       "        vertical-align: top;\n",
       "    }\n",
       "\n",
       "    .dataframe thead th {\n",
       "        text-align: right;\n",
       "    }\n",
       "</style>\n",
       "<table border=\"1\" class=\"dataframe\">\n",
       "  <thead>\n",
       "    <tr style=\"text-align: right;\">\n",
       "      <th></th>\n",
       "      <th>Train Size</th>\n",
       "      <th>K-fold(CV)</th>\n",
       "      <th>Mean of Accuracy</th>\n",
       "    </tr>\n",
       "  </thead>\n",
       "  <tbody>\n",
       "    <tr>\n",
       "      <th>0</th>\n",
       "      <td>0.1</td>\n",
       "      <td>2.0</td>\n",
       "      <td>0.388314</td>\n",
       "    </tr>\n",
       "    <tr>\n",
       "      <th>1</th>\n",
       "      <td>0.1</td>\n",
       "      <td>3.0</td>\n",
       "      <td>0.392914</td>\n",
       "    </tr>\n",
       "    <tr>\n",
       "      <th>2</th>\n",
       "      <td>0.1</td>\n",
       "      <td>4.0</td>\n",
       "      <td>0.394446</td>\n",
       "    </tr>\n",
       "    <tr>\n",
       "      <th>3</th>\n",
       "      <td>0.1</td>\n",
       "      <td>5.0</td>\n",
       "      <td>0.400632</td>\n",
       "    </tr>\n",
       "    <tr>\n",
       "      <th>4</th>\n",
       "      <td>0.1</td>\n",
       "      <td>6.0</td>\n",
       "      <td>0.395897</td>\n",
       "    </tr>\n",
       "    <tr>\n",
       "      <th>5</th>\n",
       "      <td>0.1</td>\n",
       "      <td>7.0</td>\n",
       "      <td>0.403677</td>\n",
       "    </tr>\n",
       "    <tr>\n",
       "      <th>6</th>\n",
       "      <td>0.1</td>\n",
       "      <td>8.0</td>\n",
       "      <td>0.403681</td>\n",
       "    </tr>\n",
       "    <tr>\n",
       "      <th>7</th>\n",
       "      <td>0.1</td>\n",
       "      <td>9.0</td>\n",
       "      <td>0.402144</td>\n",
       "    </tr>\n",
       "    <tr>\n",
       "      <th>8</th>\n",
       "      <td>0.1</td>\n",
       "      <td>10.0</td>\n",
       "      <td>0.397572</td>\n",
       "    </tr>\n",
       "    <tr>\n",
       "      <th>9</th>\n",
       "      <td>0.1</td>\n",
       "      <td>11.0</td>\n",
       "      <td>0.400616</td>\n",
       "    </tr>\n",
       "    <tr>\n",
       "      <th>10</th>\n",
       "      <td>0.1</td>\n",
       "      <td>12.0</td>\n",
       "      <td>0.395988</td>\n",
       "    </tr>\n",
       "    <tr>\n",
       "      <th>11</th>\n",
       "      <td>0.1</td>\n",
       "      <td>13.0</td>\n",
       "      <td>0.405338</td>\n",
       "    </tr>\n",
       "    <tr>\n",
       "      <th>12</th>\n",
       "      <td>0.1</td>\n",
       "      <td>14.0</td>\n",
       "      <td>0.399101</td>\n",
       "    </tr>\n",
       "    <tr>\n",
       "      <th>13</th>\n",
       "      <td>0.1</td>\n",
       "      <td>15.0</td>\n",
       "      <td>0.400388</td>\n",
       "    </tr>\n",
       "    <tr>\n",
       "      <th>14</th>\n",
       "      <td>0.1</td>\n",
       "      <td>16.0</td>\n",
       "      <td>0.410061</td>\n",
       "    </tr>\n",
       "    <tr>\n",
       "      <th>15</th>\n",
       "      <td>0.1</td>\n",
       "      <td>17.0</td>\n",
       "      <td>0.406605</td>\n",
       "    </tr>\n",
       "    <tr>\n",
       "      <th>16</th>\n",
       "      <td>0.1</td>\n",
       "      <td>18.0</td>\n",
       "      <td>0.403737</td>\n",
       "    </tr>\n",
       "    <tr>\n",
       "      <th>17</th>\n",
       "      <td>0.1</td>\n",
       "      <td>19.0</td>\n",
       "      <td>0.409730</td>\n",
       "    </tr>\n",
       "  </tbody>\n",
       "</table>\n",
       "</div>"
      ],
      "text/plain": [
       "    Train Size  K-fold(CV)  Mean of Accuracy\n",
       "0          0.1         2.0          0.388314\n",
       "1          0.1         3.0          0.392914\n",
       "2          0.1         4.0          0.394446\n",
       "3          0.1         5.0          0.400632\n",
       "4          0.1         6.0          0.395897\n",
       "5          0.1         7.0          0.403677\n",
       "6          0.1         8.0          0.403681\n",
       "7          0.1         9.0          0.402144\n",
       "8          0.1        10.0          0.397572\n",
       "9          0.1        11.0          0.400616\n",
       "10         0.1        12.0          0.395988\n",
       "11         0.1        13.0          0.405338\n",
       "12         0.1        14.0          0.399101\n",
       "13         0.1        15.0          0.400388\n",
       "14         0.1        16.0          0.410061\n",
       "15         0.1        17.0          0.406605\n",
       "16         0.1        18.0          0.403737\n",
       "17         0.1        19.0          0.409730"
      ]
     },
     "execution_count": 190,
     "metadata": {},
     "output_type": "execute_result"
    }
   ],
   "source": [
    "df1 = df_for_k_fold[df_for_k_fold['Train Size'] == 0.1]\n",
    "df1"
   ]
  },
  {
   "cell_type": "code",
   "execution_count": 191,
   "id": "5f45050e",
   "metadata": {},
   "outputs": [
    {
     "data": {
      "text/html": [
       "<div>\n",
       "<style scoped>\n",
       "    .dataframe tbody tr th:only-of-type {\n",
       "        vertical-align: middle;\n",
       "    }\n",
       "\n",
       "    .dataframe tbody tr th {\n",
       "        vertical-align: top;\n",
       "    }\n",
       "\n",
       "    .dataframe thead th {\n",
       "        text-align: right;\n",
       "    }\n",
       "</style>\n",
       "<table border=\"1\" class=\"dataframe\">\n",
       "  <thead>\n",
       "    <tr style=\"text-align: right;\">\n",
       "      <th></th>\n",
       "      <th>Train Size</th>\n",
       "      <th>K-fold(CV)</th>\n",
       "      <th>Mean of Accuracy</th>\n",
       "    </tr>\n",
       "  </thead>\n",
       "  <tbody>\n",
       "    <tr>\n",
       "      <th>14</th>\n",
       "      <td>0.1</td>\n",
       "      <td>16.0</td>\n",
       "      <td>0.410061</td>\n",
       "    </tr>\n",
       "  </tbody>\n",
       "</table>\n",
       "</div>"
      ],
      "text/plain": [
       "    Train Size  K-fold(CV)  Mean of Accuracy\n",
       "14         0.1        16.0          0.410061"
      ]
     },
     "execution_count": 191,
     "metadata": {},
     "output_type": "execute_result"
    }
   ],
   "source": [
    "df1_result = df1[df1['Mean of Accuracy'] == (df1['Mean of Accuracy']).max()]\n",
    "df1_result"
   ]
  },
  {
   "cell_type": "markdown",
   "id": "1e7d3fd7",
   "metadata": {},
   "source": [
    "- - <a name=''>${\\text{Grid Search}}$</a>"
   ]
  },
  {
   "cell_type": "code",
   "execution_count": 32,
   "id": "68cc49a4",
   "metadata": {},
   "outputs": [],
   "source": [
    "svc = SVC(random_state=0)"
   ]
  },
  {
   "cell_type": "code",
   "execution_count": 33,
   "id": "c303b4a5",
   "metadata": {},
   "outputs": [],
   "source": [
    "pipe = Pipeline(steps=[(\"svc\", svc)])"
   ]
  },
  {
   "cell_type": "code",
   "execution_count": 194,
   "id": "b045c3d6",
   "metadata": {},
   "outputs": [],
   "source": [
    "param_grid = {'svc__C': np.logspace(-4, 4, 9), 'svc__degree': [2, 3, 4], \\\n",
    "             'svc__gamma': np.linspace(0, 1, 11), 'svc__kernel': ['poly', 'rbf']}"
   ]
  },
  {
   "cell_type": "code",
   "execution_count": 34,
   "id": "295aa474",
   "metadata": {},
   "outputs": [],
   "source": [
    "input_data_dict = data_scaled"
   ]
  },
  {
   "cell_type": "code",
   "execution_count": null,
   "id": "6bab0948",
   "metadata": {},
   "outputs": [],
   "source": [
    "best_k_fold = 16\n",
    "train_size = 0.1\n",
    "X_train, y_train = input_data_dict['X_train_' + str(train_size)], input_data_dict['y_train_' + str(train_size)]\n",
    "search = GridSearchCV(pipe, param_grid, cv=best_k_fold)\n",
    "search.fit(X_train, y_train)"
   ]
  },
  {
   "cell_type": "code",
   "execution_count": 34,
   "id": "4794f5e0",
   "metadata": {},
   "outputs": [
    {
     "name": "stdout",
     "output_type": "stream",
     "text": [
      "\n",
      "λ = \u001b[34m0.0001\u001b[0m\n",
      "\n",
      "γ = \u001b[34m0.5\u001b[0m\n",
      "\n",
      "best Kernel: \u001b[34mpoly\u001b[0m\n",
      "\n",
      "Degree = \u001b[34m2\u001b[0m\n",
      "\n"
     ]
    }
   ],
   "source": [
    "best_params = search.best_params_\n",
    "best_lambda, best_gamma, best_degree, best_kernel = best_params['svc__C'], best_params['svc__gamma'], \\\n",
    "best_params['svc__degree'], best_params['svc__kernel']\n",
    "print(f'\\n\\u03BB = {colored(best_lambda, \"blue\")}\\n\\n\\u03B3 = {colored(best_gamma, \"blue\")}\\\n",
    "\\n\\nbest Kernel: {colored(best_kernel, \"blue\")}\\n\\nDegree = \\\n",
    "{colored(best_degree, \"blue\")}\\n')"
   ]
  },
  {
   "cell_type": "code",
   "execution_count": 35,
   "id": "f83890e5",
   "metadata": {},
   "outputs": [
    {
     "name": "stdout",
     "output_type": "stream",
     "text": [
      "\n",
      "Best Accuracy is: \u001b[32m0.43025914634146345\u001b[0m\n",
      "\n"
     ]
    }
   ],
   "source": [
    "best_score = search.best_score_\n",
    "print(f'\\nBest Accuracy is: {colored(best_score, \"green\")}\\n')"
   ]
  },
  {
   "cell_type": "markdown",
   "id": "a48f5ff7",
   "metadata": {},
   "source": [
    "- - <a name=''>${\\text{Test}}$</a>"
   ]
  },
  {
   "cell_type": "code",
   "execution_count": 35,
   "id": "5b936333",
   "metadata": {},
   "outputs": [],
   "source": [
    "best_lambda, best_kernel, best_degree, best_gamma = 1e-4, 'poly', 2, 0.5"
   ]
  },
  {
   "cell_type": "code",
   "execution_count": 36,
   "id": "bf2db465",
   "metadata": {},
   "outputs": [
    {
     "data": {
      "text/html": [
       "<style>#sk-container-id-1 {color: black;background-color: white;}#sk-container-id-1 pre{padding: 0;}#sk-container-id-1 div.sk-toggleable {background-color: white;}#sk-container-id-1 label.sk-toggleable__label {cursor: pointer;display: block;width: 100%;margin-bottom: 0;padding: 0.3em;box-sizing: border-box;text-align: center;}#sk-container-id-1 label.sk-toggleable__label-arrow:before {content: \"▸\";float: left;margin-right: 0.25em;color: #696969;}#sk-container-id-1 label.sk-toggleable__label-arrow:hover:before {color: black;}#sk-container-id-1 div.sk-estimator:hover label.sk-toggleable__label-arrow:before {color: black;}#sk-container-id-1 div.sk-toggleable__content {max-height: 0;max-width: 0;overflow: hidden;text-align: left;background-color: #f0f8ff;}#sk-container-id-1 div.sk-toggleable__content pre {margin: 0.2em;color: black;border-radius: 0.25em;background-color: #f0f8ff;}#sk-container-id-1 input.sk-toggleable__control:checked~div.sk-toggleable__content {max-height: 200px;max-width: 100%;overflow: auto;}#sk-container-id-1 input.sk-toggleable__control:checked~label.sk-toggleable__label-arrow:before {content: \"▾\";}#sk-container-id-1 div.sk-estimator input.sk-toggleable__control:checked~label.sk-toggleable__label {background-color: #d4ebff;}#sk-container-id-1 div.sk-label input.sk-toggleable__control:checked~label.sk-toggleable__label {background-color: #d4ebff;}#sk-container-id-1 input.sk-hidden--visually {border: 0;clip: rect(1px 1px 1px 1px);clip: rect(1px, 1px, 1px, 1px);height: 1px;margin: -1px;overflow: hidden;padding: 0;position: absolute;width: 1px;}#sk-container-id-1 div.sk-estimator {font-family: monospace;background-color: #f0f8ff;border: 1px dotted black;border-radius: 0.25em;box-sizing: border-box;margin-bottom: 0.5em;}#sk-container-id-1 div.sk-estimator:hover {background-color: #d4ebff;}#sk-container-id-1 div.sk-parallel-item::after {content: \"\";width: 100%;border-bottom: 1px solid gray;flex-grow: 1;}#sk-container-id-1 div.sk-label:hover label.sk-toggleable__label {background-color: #d4ebff;}#sk-container-id-1 div.sk-serial::before {content: \"\";position: absolute;border-left: 1px solid gray;box-sizing: border-box;top: 0;bottom: 0;left: 50%;z-index: 0;}#sk-container-id-1 div.sk-serial {display: flex;flex-direction: column;align-items: center;background-color: white;padding-right: 0.2em;padding-left: 0.2em;position: relative;}#sk-container-id-1 div.sk-item {position: relative;z-index: 1;}#sk-container-id-1 div.sk-parallel {display: flex;align-items: stretch;justify-content: center;background-color: white;position: relative;}#sk-container-id-1 div.sk-item::before, #sk-container-id-1 div.sk-parallel-item::before {content: \"\";position: absolute;border-left: 1px solid gray;box-sizing: border-box;top: 0;bottom: 0;left: 50%;z-index: -1;}#sk-container-id-1 div.sk-parallel-item {display: flex;flex-direction: column;z-index: 1;position: relative;background-color: white;}#sk-container-id-1 div.sk-parallel-item:first-child::after {align-self: flex-end;width: 50%;}#sk-container-id-1 div.sk-parallel-item:last-child::after {align-self: flex-start;width: 50%;}#sk-container-id-1 div.sk-parallel-item:only-child::after {width: 0;}#sk-container-id-1 div.sk-dashed-wrapped {border: 1px dashed gray;margin: 0 0.4em 0.5em 0.4em;box-sizing: border-box;padding-bottom: 0.4em;background-color: white;}#sk-container-id-1 div.sk-label label {font-family: monospace;font-weight: bold;display: inline-block;line-height: 1.2em;}#sk-container-id-1 div.sk-label-container {text-align: center;}#sk-container-id-1 div.sk-container {/* jupyter's `normalize.less` sets `[hidden] { display: none; }` but bootstrap.min.css set `[hidden] { display: none !important; }` so we also need the `!important` here to be able to override the default hidden behavior on the sphinx rendered scikit-learn.org. See: https://github.com/scikit-learn/scikit-learn/issues/21755 */display: inline-block !important;position: relative;}#sk-container-id-1 div.sk-text-repr-fallback {display: none;}</style><div id=\"sk-container-id-1\" class=\"sk-top-container\"><div class=\"sk-text-repr-fallback\"><pre>SVC(C=0.0001, degree=2, gamma=0.5, kernel=&#x27;poly&#x27;)</pre><b>In a Jupyter environment, please rerun this cell to show the HTML representation or trust the notebook. <br />On GitHub, the HTML representation is unable to render, please try loading this page with nbviewer.org.</b></div><div class=\"sk-container\" hidden><div class=\"sk-item\"><div class=\"sk-estimator sk-toggleable\"><input class=\"sk-toggleable__control sk-hidden--visually\" id=\"sk-estimator-id-1\" type=\"checkbox\" checked><label for=\"sk-estimator-id-1\" class=\"sk-toggleable__label sk-toggleable__label-arrow\">SVC</label><div class=\"sk-toggleable__content\"><pre>SVC(C=0.0001, degree=2, gamma=0.5, kernel=&#x27;poly&#x27;)</pre></div></div></div></div></div>"
      ],
      "text/plain": [
       "SVC(C=0.0001, degree=2, gamma=0.5, kernel='poly')"
      ]
     },
     "execution_count": 36,
     "metadata": {},
     "output_type": "execute_result"
    }
   ],
   "source": [
    "train_size = 0.1\n",
    "clf = SVC(C=best_lambda, kernel=best_kernel, degree=best_degree, gamma=best_gamma)\n",
    "X_train, y_train, X_test, y_test = input_data_dict['X_train_' + str(train_size)], \\\n",
    "input_data_dict['y_train_' + str(train_size)], input_data_dict['X_test_' + str(train_size)], \\\n",
    "input_data_dict['y_test_' + str(train_size)]\n",
    "clf.fit(X_train, y_train)"
   ]
  },
  {
   "cell_type": "code",
   "execution_count": 37,
   "id": "27058861",
   "metadata": {},
   "outputs": [
    {
     "data": {
      "text/html": [
       "<div>\n",
       "<style scoped>\n",
       "    .dataframe tbody tr th:only-of-type {\n",
       "        vertical-align: middle;\n",
       "    }\n",
       "\n",
       "    .dataframe tbody tr th {\n",
       "        vertical-align: top;\n",
       "    }\n",
       "\n",
       "    .dataframe thead th {\n",
       "        text-align: right;\n",
       "    }\n",
       "</style>\n",
       "<table border=\"1\" class=\"dataframe\">\n",
       "  <thead>\n",
       "    <tr style=\"text-align: right;\">\n",
       "      <th></th>\n",
       "      <th>Class</th>\n",
       "      <th>Accuracy</th>\n",
       "    </tr>\n",
       "  </thead>\n",
       "  <tbody>\n",
       "    <tr>\n",
       "      <th>0</th>\n",
       "      <td>1</td>\n",
       "      <td>0.516529</td>\n",
       "    </tr>\n",
       "    <tr>\n",
       "      <th>1</th>\n",
       "      <td>2</td>\n",
       "      <td>0.000000</td>\n",
       "    </tr>\n",
       "    <tr>\n",
       "      <th>2</th>\n",
       "      <td>3</td>\n",
       "      <td>0.958904</td>\n",
       "    </tr>\n",
       "    <tr>\n",
       "      <th>3</th>\n",
       "      <td>4</td>\n",
       "      <td>0.000000</td>\n",
       "    </tr>\n",
       "    <tr>\n",
       "      <th>4</th>\n",
       "      <td>5</td>\n",
       "      <td>0.463830</td>\n",
       "    </tr>\n",
       "    <tr>\n",
       "      <th>5</th>\n",
       "      <td>6</td>\n",
       "      <td>0.373967</td>\n",
       "    </tr>\n",
       "    <tr>\n",
       "      <th>6</th>\n",
       "      <td>7</td>\n",
       "      <td>0.215481</td>\n",
       "    </tr>\n",
       "    <tr>\n",
       "      <th>7</th>\n",
       "      <td>8</td>\n",
       "      <td>0.109290</td>\n",
       "    </tr>\n",
       "    <tr>\n",
       "      <th>8</th>\n",
       "      <td>9</td>\n",
       "      <td>0.000000</td>\n",
       "    </tr>\n",
       "    <tr>\n",
       "      <th>9</th>\n",
       "      <td>10</td>\n",
       "      <td>0.330357</td>\n",
       "    </tr>\n",
       "    <tr>\n",
       "      <th>10</th>\n",
       "      <td>11</td>\n",
       "      <td>0.465455</td>\n",
       "    </tr>\n",
       "    <tr>\n",
       "      <th>11</th>\n",
       "      <td>12</td>\n",
       "      <td>0.492212</td>\n",
       "    </tr>\n",
       "    <tr>\n",
       "      <th>12</th>\n",
       "      <td>13</td>\n",
       "      <td>0.116090</td>\n",
       "    </tr>\n",
       "    <tr>\n",
       "      <th>13</th>\n",
       "      <td>14</td>\n",
       "      <td>0.244186</td>\n",
       "    </tr>\n",
       "  </tbody>\n",
       "</table>\n",
       "</div>"
      ],
      "text/plain": [
       "    Class  Accuracy\n",
       "0       1  0.516529\n",
       "1       2  0.000000\n",
       "2       3  0.958904\n",
       "3       4  0.000000\n",
       "4       5  0.463830\n",
       "5       6  0.373967\n",
       "6       7  0.215481\n",
       "7       8  0.109290\n",
       "8       9  0.000000\n",
       "9      10  0.330357\n",
       "10     11  0.465455\n",
       "11     12  0.492212\n",
       "12     13  0.116090\n",
       "13     14  0.244186"
      ]
     },
     "execution_count": 37,
     "metadata": {},
     "output_type": "execute_result"
    }
   ],
   "source": [
    "y_pred = clf.predict(X_test)\n",
    "ov_acc = accuracy_score(y_test, y_pred)\n",
    "conf_mat = confusion_matrix(y_test, y_pred)\n",
    "kappa = cohen_kappa_score(y_test, y_pred)\n",
    "acc_for_each_class = conf_mat.diagonal()/conf_mat.sum(axis=1)\n",
    "df_result1 = pd.DataFrame({'Class': range(1, 15), 'Accuracy': acc_for_each_class})\n",
    "df_result1"
   ]
  },
  {
   "cell_type": "markdown",
   "id": "57500dc6",
   "metadata": {},
   "source": [
    "- <a name=''>${\\bf{\\text{Heatmap for Confusion Matrix}}}$</a>"
   ]
  },
  {
   "cell_type": "code",
   "execution_count": 38,
   "id": "eeaed55a",
   "metadata": {},
   "outputs": [
    {
     "data": {
      "image/png": "[encoded data removed]",
      "text/plain": [
       "<Figure size 640x480 with 2 Axes>"
      ]
     },
     "metadata": {},
     "output_type": "display_data"
    }
   ],
   "source": [
    "cmap_list = ['Greys', 'Purples', 'Blues', 'Greens', 'Oranges', 'Reds', \\\n",
    "                      'YlOrBr', 'YlOrRd', 'OrRd', 'PuRd', 'RdPu', 'BuPu',\\\n",
    "                      'GnBu', 'PuBu', 'YlGnBu', 'PuBuGn', 'BuGn', 'YlGn']\n",
    "\n",
    "disp = ConfusionMatrixDisplay(confusion_matrix=conf_mat, display_labels=clf.classes_)\n",
    "disp.plot(cmap=cmap_list[14])\n",
    "plt.show()"
   ]
  },
  {
   "cell_type": "code",
   "execution_count": 39,
   "id": "132761c3",
   "metadata": {},
   "outputs": [
    {
     "name": "stdout",
     "output_type": "stream",
     "text": [
      "\n",
      "Result of this Pipeline: \u001b[34mInput_Data\u001b[0m ---> \u001b[32m2D SWT + 1D SWT\u001b[0m ---> \u001b[35mStandard Scaler\u001b[0m --->  \u001b[35mSVC\u001b[0m\n",
      "\n",
      "Overall Accuracy: \u001b[32m0.3203352146399863\u001b[0m\n",
      "\n",
      "κ = \u001b[32m0.26409449142090957\u001b[0m\n",
      "\n"
     ]
    }
   ],
   "source": [
    "print(f\"\\nResult of this Pipeline: {colored('Input_Data', 'blue')} ---> \\\n",
    "{colored('2D SWT + 1D SWT', 'green')} ---> {colored('Standard Scaler', 'magenta')} \\\n",
    "--->  {colored('SVC', 'magenta')}\")\n",
    "print(f'\\nOverall Accuracy: {colored(ov_acc, \"green\")}\\n\\n\\u03BA = {colored(kappa, \"green\")}\\n')"
   ]
  },
  {
   "cell_type": "markdown",
   "id": "6ef20b9c",
   "metadata": {},
   "source": [
    "- <a name='3'>${\\bf{\\text{PCA + 2D SWT + 1D SWT + SVM}}}$</a>"
   ]
  },
  {
   "cell_type": "code",
   "execution_count": 40,
   "id": "7d08f22f",
   "metadata": {},
   "outputs": [],
   "source": [
    "import pywt"
   ]
  },
  {
   "cell_type": "code",
   "execution_count": 41,
   "id": "f8bbd616",
   "metadata": {},
   "outputs": [
    {
     "name": "stdout",
     "output_type": "stream",
     "text": [
      "\n",
      "Shape of Data: \u001b[34m(3248, 145)\u001b[0m\n",
      "\n",
      " ... and its \u001b[34mData Type\u001b[0m: \u001b[32muint16\u001b[0m\n",
      "\n",
      "\n",
      "\n",
      "Shape of GT: \u001b[34m(3248,)\u001b[0m\n",
      "\n",
      " ... and its \u001b[34mData Type\u001b[0m: \u001b[32muint8\u001b[0m\n",
      "\n"
     ]
    }
   ],
   "source": [
    "data = data_without_BG\n",
    "data_gt = gt_without_BG\n",
    "print(f'\\nShape of Data: {colored(data.shape, \"blue\")}\\n')\n",
    "print(f' ... and its {colored(\"Data Type\", \"blue\")}: {colored(data.dtype, \"green\")}\\n')\n",
    "print(f'\\n\\nShape of GT: {colored(data_gt.shape, \"blue\")}\\n')\n",
    "print(f' ... and its {colored(\"Data Type\", \"blue\")}: {colored(data_gt.dtype, \"green\")}\\n')"
   ]
  },
  {
   "cell_type": "markdown",
   "id": "74dbb25b",
   "metadata": {},
   "source": [
    "- - <a name=''>${\\text{PCA}}$</a>"
   ]
  },
  {
   "cell_type": "code",
   "execution_count": 42,
   "id": "67ca97e5",
   "metadata": {},
   "outputs": [],
   "source": [
    "input_data_dict = data_scaled"
   ]
  },
  {
   "cell_type": "code",
   "execution_count": 59,
   "id": "bbfa1ea9",
   "metadata": {},
   "outputs": [],
   "source": [
    "pca = PCA(n_components=3)"
   ]
  },
  {
   "cell_type": "code",
   "execution_count": 60,
   "id": "7fa4fd67",
   "metadata": {},
   "outputs": [
    {
     "name": "stdout",
     "output_type": "stream",
     "text": [
      "\n",
      "                       For n_components = \u001b[31m3\u001b[0m\n",
      "\n",
      "\n",
      "\n",
      "Explained Variance for X_train_\u001b[32m0.1\u001b[0m:     \u001b[34m0.9960162147613599\u001b[0m\n",
      "\n",
      "\n",
      "Explained Variance for X_test_\u001b[32m0.1\u001b[0m:     \u001b[34m0.996000328680024\u001b[0m\n",
      "\n"
     ]
    }
   ],
   "source": [
    "train_size_list = [0.1]\n",
    "data_reduced = {}\n",
    "print(f'\\n                       For n_components = {colored(pca.n_components, \"red\")}\\n\\n')\n",
    "for train_size in train_size_list:\n",
    "    data_reduced['X_train_' + str(train_size)] = pca.fit_transform(input_data_dict['X_train_' + str(train_size)])\n",
    "    print(f'\\nExplained Variance for X_train_{colored(train_size, \"green\")}: \\\n",
    "    {colored(np.sum(pca.explained_variance_ratio_), \"blue\")}\\n')\n",
    "    \n",
    "    data_reduced['X_test_' + str(train_size)] = pca.fit_transform(input_data_dict['X_test_' + str(train_size)])\n",
    "    print(f'\\nExplained Variance for X_test_{colored(train_size, \"green\")}: \\\n",
    "    {colored(np.sum(pca.explained_variance_ratio_), \"blue\")}\\n')\n",
    "    \n",
    "    data_reduced['y_train_' + str(train_size)] = input_data_dict['y_train_' + str(train_size)]\n",
    "    data_reduced['y_test_' + str(train_size)] = input_data_dict['y_test_' + str(train_size)]"
   ]
  },
  {
   "cell_type": "code",
   "execution_count": 61,
   "id": "61725cb3",
   "metadata": {},
   "outputs": [
    {
     "name": "stdout",
     "output_type": "stream",
     "text": [
      "\n",
      "\n",
      "Max of \u001b[32mX_train_0.1\u001b[0m:  36.457\n",
      "\n",
      "Min of \u001b[32mX_train_0.1\u001b[0m: -16.535\n",
      "\n",
      "Mean of \u001b[32mX_train_0.1\u001b[0m: -0.000\n",
      "\n",
      "Var of \u001b[32mX_train_0.1\u001b[0m:  48.141\n",
      "\n",
      "\n"
     ]
    }
   ],
   "source": [
    "train_size = 0.1\n",
    "print(f'\\n\\nMax of {colored(\"X_train_\" + str(train_size), \"green\")}: \\\n",
    "{(data_reduced[\"X_train_\" + str(train_size)]).max(): 0.3f}')\n",
    "print(f'\\nMin of {colored(\"X_train_\" + str(train_size), \"green\")}: \\\n",
    "{(data_reduced[\"X_train_\" + str(train_size)]).min(): 0.3f}')\n",
    "print(f'\\nMean of {colored(\"X_train_\" + str(train_size), \"green\")}: \\\n",
    "{(data_reduced[\"X_train_\" + str(train_size)]).mean(): 0.3f}')\n",
    "print(f'\\nVar of {colored(\"X_train_\" + str(train_size), \"green\")}: \\\n",
    "{(data_reduced[\"X_train_\" + str(train_size)]).var(): 0.3f}\\n\\n')"
   ]
  },
  {
   "cell_type": "code",
   "execution_count": 62,
   "id": "13def016",
   "metadata": {},
   "outputs": [],
   "source": [
    "standard_scaler = StandardScaler()"
   ]
  },
  {
   "cell_type": "code",
   "execution_count": 63,
   "id": "aae5dac5",
   "metadata": {},
   "outputs": [],
   "source": [
    "train_size_list = [0.1]\n",
    "data_scaled = {}\n",
    "\n",
    "for train_size in train_size_list:\n",
    "    data_scaled['X_train_' + str(train_size)] = \\\n",
    "    standard_scaler.fit_transform(data_reduced['X_train_' + str(train_size)])\n",
    "    data_scaled['X_test_' + str(train_size)] = \\\n",
    "    standard_scaler.fit_transform(data_reduced['X_test_' + str(train_size)])\n",
    "    data_scaled['y_train_' + str(train_size)] = data_reduced['y_train_' + str(train_size)]\n",
    "    data_scaled['y_test_' + str(train_size)] = data_reduced['y_test_' + str(train_size)]"
   ]
  },
  {
   "cell_type": "code",
   "execution_count": 64,
   "id": "a1881fc9",
   "metadata": {},
   "outputs": [
    {
     "name": "stdout",
     "output_type": "stream",
     "text": [
      "\n",
      "\n",
      "Max of \u001b[32mX_train_0.1\u001b[0m:  4.364\n",
      "\n",
      "Min of \u001b[32mX_train_0.1\u001b[0m: -2.943\n",
      "\n",
      "Mean of \u001b[32mX_train_0.1\u001b[0m:  0.000\n",
      "\n",
      "Var of \u001b[32mX_train_0.1\u001b[0m:  1.000\n",
      "\n",
      "\n"
     ]
    }
   ],
   "source": [
    "train_size = 0.1\n",
    "print(f'\\n\\nMax of {colored(\"X_train_\" + str(train_size), \"green\")}: \\\n",
    "{(data_scaled[\"X_train_\" + str(train_size)]).max(): 0.3f}')\n",
    "print(f'\\nMin of {colored(\"X_train_\" + str(train_size), \"green\")}: \\\n",
    "{(data_scaled[\"X_train_\" + str(train_size)]).min(): 0.3f}')\n",
    "print(f'\\nMean of {colored(\"X_train_\" + str(train_size), \"green\")}: \\\n",
    "{(data_scaled[\"X_train_\" + str(train_size)]).mean(): 0.3f}')\n",
    "print(f'\\nVar of {colored(\"X_train_\" + str(train_size), \"green\")}: \\\n",
    "{(data_scaled[\"X_train_\" + str(train_size)]).var(): 0.3f}\\n\\n')"
   ]
  },
  {
   "cell_type": "markdown",
   "id": "183bae9c",
   "metadata": {},
   "source": [
    "- - <a name=''>${\\text{K-fold}}$</a>"
   ]
  },
  {
   "cell_type": "code",
   "execution_count": 66,
   "id": "278070d7",
   "metadata": {},
   "outputs": [
    {
     "name": "stderr",
     "output_type": "stream",
     "text": [
      "/home/shahin/.local/lib/python3.10/site-packages/sklearn/model_selection/_split.py:684: UserWarning: The least populated class in y has only 18 members, which is less than n_splits=19.\n",
      "  warnings.warn(\n"
     ]
    }
   ],
   "source": [
    "train_size_tuple = (0.1, )\n",
    "k_fold_tuple = range(2, 20)\n",
    "\n",
    "parameters_for_k_fold_dict = {'train_size': train_size_tuple, 'k_fold': k_fold_tuple}\n",
    "total_length = 1\n",
    "for key_name_str in parameters_for_k_fold_dict.keys():\n",
    "    total_length *= len(parameters_for_k_fold_dict[key_name_str])\n",
    "    \n",
    "    \n",
    "train_size_stored_values = np.zeros(total_length)\n",
    "acc_mean_stored_values = np.zeros(total_length)\n",
    "k_fold_stored_values = np.zeros(total_length)\n",
    "\n",
    "\n",
    "clf_without_pca = SVC()\n",
    "count = 0\n",
    "for train_size in parameters_for_k_fold_dict['train_size']:\n",
    "    X_train, y_train = data_scaled['X_train_' + str(train_size)], \\\n",
    "    data_scaled['y_train_' + str(train_size)]\n",
    "    clf_without_pca.fit(X_train, y_train)\n",
    "    for k_fold in parameters_for_k_fold_dict['k_fold']:\n",
    "        count += 1\n",
    "        scores = cross_val_score(clf_without_pca, X_train, y_train, cv=k_fold)\n",
    "        acc_mean = scores.mean()\n",
    "        train_size_stored_values[count - 1] = train_size\n",
    "        acc_mean_stored_values[count - 1] = acc_mean\n",
    "        k_fold_stored_values[count - 1] = k_fold\n",
    "        \n",
    "df_for_k_fold = pd.DataFrame({'Train Size': train_size_stored_values, 'K-fold(CV)': k_fold_stored_values,\\\n",
    "'Mean of Accuracy': acc_mean_stored_values})"
   ]
  },
  {
   "cell_type": "code",
   "execution_count": 67,
   "id": "710b67f1",
   "metadata": {},
   "outputs": [
    {
     "data": {
      "text/html": [
       "<div>\n",
       "<style scoped>\n",
       "    .dataframe tbody tr th:only-of-type {\n",
       "        vertical-align: middle;\n",
       "    }\n",
       "\n",
       "    .dataframe tbody tr th {\n",
       "        vertical-align: top;\n",
       "    }\n",
       "\n",
       "    .dataframe thead th {\n",
       "        text-align: right;\n",
       "    }\n",
       "</style>\n",
       "<table border=\"1\" class=\"dataframe\">\n",
       "  <thead>\n",
       "    <tr style=\"text-align: right;\">\n",
       "      <th></th>\n",
       "      <th>Train Size</th>\n",
       "      <th>K-fold(CV)</th>\n",
       "      <th>Mean of Accuracy</th>\n",
       "    </tr>\n",
       "  </thead>\n",
       "  <tbody>\n",
       "    <tr>\n",
       "      <th>0</th>\n",
       "      <td>0.1</td>\n",
       "      <td>2.0</td>\n",
       "      <td>0.326662</td>\n",
       "    </tr>\n",
       "    <tr>\n",
       "      <th>1</th>\n",
       "      <td>0.1</td>\n",
       "      <td>3.0</td>\n",
       "      <td>0.323498</td>\n",
       "    </tr>\n",
       "    <tr>\n",
       "      <th>2</th>\n",
       "      <td>0.1</td>\n",
       "      <td>4.0</td>\n",
       "      <td>0.335852</td>\n",
       "    </tr>\n",
       "    <tr>\n",
       "      <th>3</th>\n",
       "      <td>0.1</td>\n",
       "      <td>5.0</td>\n",
       "      <td>0.340501</td>\n",
       "    </tr>\n",
       "    <tr>\n",
       "      <th>4</th>\n",
       "      <td>0.1</td>\n",
       "      <td>6.0</td>\n",
       "      <td>0.354329</td>\n",
       "    </tr>\n",
       "    <tr>\n",
       "      <th>5</th>\n",
       "      <td>0.1</td>\n",
       "      <td>7.0</td>\n",
       "      <td>0.345121</td>\n",
       "    </tr>\n",
       "    <tr>\n",
       "      <th>6</th>\n",
       "      <td>0.1</td>\n",
       "      <td>8.0</td>\n",
       "      <td>0.338998</td>\n",
       "    </tr>\n",
       "    <tr>\n",
       "      <th>7</th>\n",
       "      <td>0.1</td>\n",
       "      <td>9.0</td>\n",
       "      <td>0.363711</td>\n",
       "    </tr>\n",
       "    <tr>\n",
       "      <th>8</th>\n",
       "      <td>0.1</td>\n",
       "      <td>10.0</td>\n",
       "      <td>0.357476</td>\n",
       "    </tr>\n",
       "    <tr>\n",
       "      <th>9</th>\n",
       "      <td>0.1</td>\n",
       "      <td>11.0</td>\n",
       "      <td>0.354391</td>\n",
       "    </tr>\n",
       "    <tr>\n",
       "      <th>10</th>\n",
       "      <td>0.1</td>\n",
       "      <td>12.0</td>\n",
       "      <td>0.363749</td>\n",
       "    </tr>\n",
       "    <tr>\n",
       "      <th>11</th>\n",
       "      <td>0.1</td>\n",
       "      <td>13.0</td>\n",
       "      <td>0.363736</td>\n",
       "    </tr>\n",
       "    <tr>\n",
       "      <th>12</th>\n",
       "      <td>0.1</td>\n",
       "      <td>14.0</td>\n",
       "      <td>0.368211</td>\n",
       "    </tr>\n",
       "    <tr>\n",
       "      <th>13</th>\n",
       "      <td>0.1</td>\n",
       "      <td>15.0</td>\n",
       "      <td>0.366631</td>\n",
       "    </tr>\n",
       "    <tr>\n",
       "      <th>14</th>\n",
       "      <td>0.1</td>\n",
       "      <td>16.0</td>\n",
       "      <td>0.362043</td>\n",
       "    </tr>\n",
       "    <tr>\n",
       "      <th>15</th>\n",
       "      <td>0.1</td>\n",
       "      <td>17.0</td>\n",
       "      <td>0.361912</td>\n",
       "    </tr>\n",
       "    <tr>\n",
       "      <th>16</th>\n",
       "      <td>0.1</td>\n",
       "      <td>18.0</td>\n",
       "      <td>0.362196</td>\n",
       "    </tr>\n",
       "    <tr>\n",
       "      <th>17</th>\n",
       "      <td>0.1</td>\n",
       "      <td>19.0</td>\n",
       "      <td>0.366519</td>\n",
       "    </tr>\n",
       "  </tbody>\n",
       "</table>\n",
       "</div>"
      ],
      "text/plain": [
       "    Train Size  K-fold(CV)  Mean of Accuracy\n",
       "0          0.1         2.0          0.326662\n",
       "1          0.1         3.0          0.323498\n",
       "2          0.1         4.0          0.335852\n",
       "3          0.1         5.0          0.340501\n",
       "4          0.1         6.0          0.354329\n",
       "5          0.1         7.0          0.345121\n",
       "6          0.1         8.0          0.338998\n",
       "7          0.1         9.0          0.363711\n",
       "8          0.1        10.0          0.357476\n",
       "9          0.1        11.0          0.354391\n",
       "10         0.1        12.0          0.363749\n",
       "11         0.1        13.0          0.363736\n",
       "12         0.1        14.0          0.368211\n",
       "13         0.1        15.0          0.366631\n",
       "14         0.1        16.0          0.362043\n",
       "15         0.1        17.0          0.361912\n",
       "16         0.1        18.0          0.362196\n",
       "17         0.1        19.0          0.366519"
      ]
     },
     "execution_count": 67,
     "metadata": {},
     "output_type": "execute_result"
    }
   ],
   "source": [
    "df_for_k_fold"
   ]
  },
  {
   "cell_type": "code",
   "execution_count": 68,
   "id": "9a1134b7",
   "metadata": {},
   "outputs": [
    {
     "data": {
      "text/html": [
       "<div>\n",
       "<style scoped>\n",
       "    .dataframe tbody tr th:only-of-type {\n",
       "        vertical-align: middle;\n",
       "    }\n",
       "\n",
       "    .dataframe tbody tr th {\n",
       "        vertical-align: top;\n",
       "    }\n",
       "\n",
       "    .dataframe thead th {\n",
       "        text-align: right;\n",
       "    }\n",
       "</style>\n",
       "<table border=\"1\" class=\"dataframe\">\n",
       "  <thead>\n",
       "    <tr style=\"text-align: right;\">\n",
       "      <th></th>\n",
       "      <th>Train Size</th>\n",
       "      <th>K-fold(CV)</th>\n",
       "      <th>Mean of Accuracy</th>\n",
       "    </tr>\n",
       "  </thead>\n",
       "  <tbody>\n",
       "    <tr>\n",
       "      <th>0</th>\n",
       "      <td>0.1</td>\n",
       "      <td>2.0</td>\n",
       "      <td>0.326662</td>\n",
       "    </tr>\n",
       "    <tr>\n",
       "      <th>1</th>\n",
       "      <td>0.1</td>\n",
       "      <td>3.0</td>\n",
       "      <td>0.323498</td>\n",
       "    </tr>\n",
       "    <tr>\n",
       "      <th>2</th>\n",
       "      <td>0.1</td>\n",
       "      <td>4.0</td>\n",
       "      <td>0.335852</td>\n",
       "    </tr>\n",
       "    <tr>\n",
       "      <th>3</th>\n",
       "      <td>0.1</td>\n",
       "      <td>5.0</td>\n",
       "      <td>0.340501</td>\n",
       "    </tr>\n",
       "    <tr>\n",
       "      <th>4</th>\n",
       "      <td>0.1</td>\n",
       "      <td>6.0</td>\n",
       "      <td>0.354329</td>\n",
       "    </tr>\n",
       "    <tr>\n",
       "      <th>5</th>\n",
       "      <td>0.1</td>\n",
       "      <td>7.0</td>\n",
       "      <td>0.345121</td>\n",
       "    </tr>\n",
       "    <tr>\n",
       "      <th>6</th>\n",
       "      <td>0.1</td>\n",
       "      <td>8.0</td>\n",
       "      <td>0.338998</td>\n",
       "    </tr>\n",
       "    <tr>\n",
       "      <th>7</th>\n",
       "      <td>0.1</td>\n",
       "      <td>9.0</td>\n",
       "      <td>0.363711</td>\n",
       "    </tr>\n",
       "    <tr>\n",
       "      <th>8</th>\n",
       "      <td>0.1</td>\n",
       "      <td>10.0</td>\n",
       "      <td>0.357476</td>\n",
       "    </tr>\n",
       "    <tr>\n",
       "      <th>9</th>\n",
       "      <td>0.1</td>\n",
       "      <td>11.0</td>\n",
       "      <td>0.354391</td>\n",
       "    </tr>\n",
       "    <tr>\n",
       "      <th>10</th>\n",
       "      <td>0.1</td>\n",
       "      <td>12.0</td>\n",
       "      <td>0.363749</td>\n",
       "    </tr>\n",
       "    <tr>\n",
       "      <th>11</th>\n",
       "      <td>0.1</td>\n",
       "      <td>13.0</td>\n",
       "      <td>0.363736</td>\n",
       "    </tr>\n",
       "    <tr>\n",
       "      <th>12</th>\n",
       "      <td>0.1</td>\n",
       "      <td>14.0</td>\n",
       "      <td>0.368211</td>\n",
       "    </tr>\n",
       "    <tr>\n",
       "      <th>13</th>\n",
       "      <td>0.1</td>\n",
       "      <td>15.0</td>\n",
       "      <td>0.366631</td>\n",
       "    </tr>\n",
       "    <tr>\n",
       "      <th>14</th>\n",
       "      <td>0.1</td>\n",
       "      <td>16.0</td>\n",
       "      <td>0.362043</td>\n",
       "    </tr>\n",
       "    <tr>\n",
       "      <th>15</th>\n",
       "      <td>0.1</td>\n",
       "      <td>17.0</td>\n",
       "      <td>0.361912</td>\n",
       "    </tr>\n",
       "    <tr>\n",
       "      <th>16</th>\n",
       "      <td>0.1</td>\n",
       "      <td>18.0</td>\n",
       "      <td>0.362196</td>\n",
       "    </tr>\n",
       "    <tr>\n",
       "      <th>17</th>\n",
       "      <td>0.1</td>\n",
       "      <td>19.0</td>\n",
       "      <td>0.366519</td>\n",
       "    </tr>\n",
       "  </tbody>\n",
       "</table>\n",
       "</div>"
      ],
      "text/plain": [
       "    Train Size  K-fold(CV)  Mean of Accuracy\n",
       "0          0.1         2.0          0.326662\n",
       "1          0.1         3.0          0.323498\n",
       "2          0.1         4.0          0.335852\n",
       "3          0.1         5.0          0.340501\n",
       "4          0.1         6.0          0.354329\n",
       "5          0.1         7.0          0.345121\n",
       "6          0.1         8.0          0.338998\n",
       "7          0.1         9.0          0.363711\n",
       "8          0.1        10.0          0.357476\n",
       "9          0.1        11.0          0.354391\n",
       "10         0.1        12.0          0.363749\n",
       "11         0.1        13.0          0.363736\n",
       "12         0.1        14.0          0.368211\n",
       "13         0.1        15.0          0.366631\n",
       "14         0.1        16.0          0.362043\n",
       "15         0.1        17.0          0.361912\n",
       "16         0.1        18.0          0.362196\n",
       "17         0.1        19.0          0.366519"
      ]
     },
     "execution_count": 68,
     "metadata": {},
     "output_type": "execute_result"
    }
   ],
   "source": [
    "df1 = df_for_k_fold[df_for_k_fold['Train Size'] == 0.1]\n",
    "df1"
   ]
  },
  {
   "cell_type": "code",
   "execution_count": 69,
   "id": "33c671e1",
   "metadata": {},
   "outputs": [
    {
     "data": {
      "text/html": [
       "<div>\n",
       "<style scoped>\n",
       "    .dataframe tbody tr th:only-of-type {\n",
       "        vertical-align: middle;\n",
       "    }\n",
       "\n",
       "    .dataframe tbody tr th {\n",
       "        vertical-align: top;\n",
       "    }\n",
       "\n",
       "    .dataframe thead th {\n",
       "        text-align: right;\n",
       "    }\n",
       "</style>\n",
       "<table border=\"1\" class=\"dataframe\">\n",
       "  <thead>\n",
       "    <tr style=\"text-align: right;\">\n",
       "      <th></th>\n",
       "      <th>Train Size</th>\n",
       "      <th>K-fold(CV)</th>\n",
       "      <th>Mean of Accuracy</th>\n",
       "    </tr>\n",
       "  </thead>\n",
       "  <tbody>\n",
       "    <tr>\n",
       "      <th>12</th>\n",
       "      <td>0.1</td>\n",
       "      <td>14.0</td>\n",
       "      <td>0.368211</td>\n",
       "    </tr>\n",
       "  </tbody>\n",
       "</table>\n",
       "</div>"
      ],
      "text/plain": [
       "    Train Size  K-fold(CV)  Mean of Accuracy\n",
       "12         0.1        14.0          0.368211"
      ]
     },
     "execution_count": 69,
     "metadata": {},
     "output_type": "execute_result"
    }
   ],
   "source": [
    "df1_result = df1[df1['Mean of Accuracy'] == (df1['Mean of Accuracy']).max()]\n",
    "df1_result"
   ]
  },
  {
   "cell_type": "markdown",
   "id": "1c41c99c",
   "metadata": {},
   "source": [
    "- - <a name=''>${\\text{Grid Search}}$</a>"
   ]
  },
  {
   "cell_type": "code",
   "execution_count": 65,
   "id": "c8310af9",
   "metadata": {},
   "outputs": [],
   "source": [
    "svc = SVC(random_state=0)"
   ]
  },
  {
   "cell_type": "code",
   "execution_count": 66,
   "id": "ffa6e22c",
   "metadata": {},
   "outputs": [],
   "source": [
    "pipe = Pipeline(steps=[(\"svc\", svc)])"
   ]
  },
  {
   "cell_type": "code",
   "execution_count": 67,
   "id": "942c177d",
   "metadata": {},
   "outputs": [],
   "source": [
    "param_grid = {'svc__C': np.logspace(-4, 4, 9), 'svc__degree': [2, 3, 4], \\\n",
    "             'svc__gamma': np.linspace(0, 1, 11), 'svc__kernel': ['linear', 'poly', 'rbf']}"
   ]
  },
  {
   "cell_type": "code",
   "execution_count": 68,
   "id": "60fcf640",
   "metadata": {},
   "outputs": [],
   "source": [
    "input_data_dict = data_scaled"
   ]
  },
  {
   "cell_type": "code",
   "execution_count": 11,
   "id": "8a7800bc",
   "metadata": {},
   "outputs": [
    {
     "ename": "NameError",
     "evalue": "name 'input_data_dict' is not defined",
     "output_type": "error",
     "traceback": [
      "\u001b[0;31m---------------------------------------------------------------------------\u001b[0m",
      "\u001b[0;31mNameError\u001b[0m                                 Traceback (most recent call last)",
      "Cell \u001b[0;32mIn [11], line 3\u001b[0m\n\u001b[1;32m      1\u001b[0m best_k_fold \u001b[38;5;241m=\u001b[39m \u001b[38;5;241m14\u001b[39m\n\u001b[1;32m      2\u001b[0m train_size \u001b[38;5;241m=\u001b[39m \u001b[38;5;241m0.1\u001b[39m\n\u001b[0;32m----> 3\u001b[0m X_train, y_train \u001b[38;5;241m=\u001b[39m input_data_dict[\u001b[38;5;124m'\u001b[39m\u001b[38;5;124mX_train_\u001b[39m\u001b[38;5;124m'\u001b[39m \u001b[38;5;241m+\u001b[39m \u001b[38;5;28mstr\u001b[39m(train_size)], input_data_dict[\u001b[38;5;124m'\u001b[39m\u001b[38;5;124my_train_\u001b[39m\u001b[38;5;124m'\u001b[39m \u001b[38;5;241m+\u001b[39m \u001b[38;5;28mstr\u001b[39m(train_size)]\n\u001b[1;32m      4\u001b[0m search \u001b[38;5;241m=\u001b[39m GridSearchCV(pipe, param_grid, cv\u001b[38;5;241m=\u001b[39mbest_k_fold)\n\u001b[1;32m      5\u001b[0m search\u001b[38;5;241m.\u001b[39mfit(X_train, y_train)\n",
      "\u001b[0;31mNameError\u001b[0m: name 'input_data_dict' is not defined"
     ]
    }
   ],
   "source": [
    "best_k_fold = 14\n",
    "train_size = 0.1\n",
    "X_train, y_train = input_data_dict['X_train_' + str(train_size)], input_data_dict['y_train_' + str(train_size)]\n",
    "search = GridSearchCV(pipe, param_grid, cv=best_k_fold)\n",
    "search.fit(X_train, y_train)"
   ]
  },
  {
   "cell_type": "code",
   "execution_count": null,
   "id": "e70adc47",
   "metadata": {},
   "outputs": [],
   "source": [
    "best_params = search.best_params_\n",
    "best_lambda, best_gamma, best_degree, best_kernel = best_params['svc__C'], best_params['svc__gamma'], \\\n",
    "best_params['svc__degree'], best_params['svc__kernel']\n",
    "print(f'\\n\\u03BB = {colored(best_lambda, \"blue\")}\\n\\n\\u03B3 = {colored(best_gamma, \"blue\")}\\\n",
    "\\n\\nbest Kernel: {colored(best_kernel, \"blue\")}\\n\\nDegree = \\\n",
    "{colored(best_degree, \"blue\")}\\n')"
   ]
  },
  {
   "cell_type": "code",
   "execution_count": null,
   "id": "d15a8533",
   "metadata": {},
   "outputs": [],
   "source": [
    "best_score = search.best_score_\n",
    "print(f'\\nBest Accuracy is: {colored(best_score, \"green\")}\\n')"
   ]
  },
  {
   "cell_type": "markdown",
   "id": "159166f1",
   "metadata": {},
   "source": [
    "- - <a name=''>${\\text{Test}}$</a>"
   ]
  },
  {
   "cell_type": "code",
   "execution_count": null,
   "id": "118ac7f8",
   "metadata": {},
   "outputs": [],
   "source": [
    "train_size = 0.1\n",
    "clf = SVC(C=best_lambda, kernel=best_kernel, degree=best_degree, gamma=best_gamma)\n",
    "X_train, y_train, X_test, y_test = input_data_dict['X_train_' + str(train_size)], \\\n",
    "input_data_dict['y_train_' + str(train_size)], input_data_dict['X_test_' + str(train_size)], \\\n",
    "input_data_dict['y_test_' + str(train_size)]\n",
    "clf.fit(X_train, y_train)"
   ]
  },
  {
   "cell_type": "code",
   "execution_count": null,
   "id": "69c8163b",
   "metadata": {},
   "outputs": [],
   "source": [
    "y_pred = clf.predict(X_test)\n",
    "ov_acc = accuracy_score(y_test, y_pred)\n",
    "conf_mat = confusion_matrix(y_test, y_pred)\n",
    "kappa = cohen_kappa_score(y_test, y_pred)\n",
    "acc_for_each_class = conf_mat.diagonal()/conf_mat.sum(axis=1)\n",
    "df_result1 = pd.DataFrame({'Class': range(1, 15), 'Accuracy': acc_for_each_class})\n",
    "df_result1"
   ]
  },
  {
   "cell_type": "code",
   "execution_count": null,
   "id": "c304f35c",
   "metadata": {},
   "outputs": [],
   "source": [
    "print(f\"\\nResult of this Pipeline: {colored('Input_Data', 'blue')} ---> PCA ---> \\\n",
    "{colored('2D SWT + 1D SWT', 'green')} ---> {colored('Standard Scaler', 'magenta')} \\\n",
    "--->  {colored('SVC', 'magenta')}\")\n",
    "print(f'\\nOverall Accuracy: {colored(ov_acc, \"green\")}\\n\\n\\u03BA = {colored(kappa, \"green\")}\\n')"
   ]
  },
  {
   "cell_type": "markdown",
   "id": "e4453986",
   "metadata": {},
   "source": [
    "$\\newline$\n",
    "<a name=''>${\\bf{\\text{Creating Noisy Data}}}$</a>\n",
    "$\\newline$"
   ]
  },
  {
   "cell_type": "code",
   "execution_count": 12,
   "id": "fb39f9a2",
   "metadata": {},
   "outputs": [],
   "source": [
    "import matplotlib.pyplot as plt\n",
    "from skimage.util import random_noise\n",
    "from skimage.metrics import peak_signal_noise_ratio, mean_squared_error"
   ]
  },
  {
   "cell_type": "code",
   "execution_count": 13,
   "id": "0faefab0",
   "metadata": {},
   "outputs": [],
   "source": [
    "def min_max_scaler(input_img: np.ndarray, data_range: tuple=(0, 1)) -> np.ndarray:\n",
    "    img = input_img.copy()\n",
    "    a, b = data_range[0], data_range[1]\n",
    "    img = (img - img.min()) / (img.max() - img.min())\n",
    "    img *= (b - a)\n",
    "    img += a\n",
    "    return img"
   ]
  },
  {
   "cell_type": "code",
   "execution_count": 14,
   "id": "8eb0dece",
   "metadata": {},
   "outputs": [],
   "source": [
    "data = pymat.read_mat(path_str + data_file_name)['Botswana']\n",
    "data_gt = pymat.read_mat(path_str + gt_file_name)['Botswana_gt']"
   ]
  },
  {
   "cell_type": "code",
   "execution_count": 15,
   "id": "feaf5661",
   "metadata": {},
   "outputs": [],
   "source": [
    "data_without_BG, gt_without_BG = BG_removal(data_3D=data, data_gt_2D=data_gt)"
   ]
  },
  {
   "cell_type": "code",
   "execution_count": 16,
   "id": "377199df",
   "metadata": {},
   "outputs": [
    {
     "name": "stdout",
     "output_type": "stream",
     "text": [
      "\n",
      "Shape of BG_removed Data: \u001b[34m(3248, 145)\u001b[0m\n",
      "\n",
      " ... and its Data Type: \u001b[34muint16\u001b[0m\n",
      "\n",
      "\n",
      "Shape of BG_removed GT: \u001b[34m(3248,)\u001b[0m\n",
      "\n",
      " ... and its Data Type: \u001b[34muint8\u001b[0m\n",
      "\n"
     ]
    }
   ],
   "source": [
    "print(f'\\nShape of BG_removed Data: {colored(data_without_BG.shape, \"blue\")}\\n')\n",
    "print(f' ... and its Data Type: {colored(data_without_BG.dtype, \"blue\")}\\n')\n",
    "print(f'\\nShape of BG_removed GT: {colored(gt_without_BG.shape, \"blue\")}\\n')\n",
    "print(f' ... and its Data Type: {colored(gt_without_BG.dtype, \"blue\")}\\n')"
   ]
  },
  {
   "cell_type": "code",
   "execution_count": 17,
   "id": "31bdabb3",
   "metadata": {},
   "outputs": [],
   "source": [
    "# scaler = MinMaxScaler()\n",
    "# data_scaled, gt_scaled = min_max_scaler(data_without_BG), gt_without_BG\n",
    "# data_scaled, gt_scaled = scaler.fit_transform(data_without_BG), gt_without_BG\n",
    "\n",
    "scaler = min_max_scaler\n",
    "data_scaled, gt_scaled = scaler(data_without_BG), gt_without_BG"
   ]
  },
  {
   "cell_type": "code",
   "execution_count": 18,
   "id": "83387b7a",
   "metadata": {},
   "outputs": [
    {
     "name": "stdout",
     "output_type": "stream",
     "text": [
      "\n",
      "Shape of Scaled Data: \u001b[34m(3248, 145)\u001b[0m\n",
      "\n",
      " ... and its Data Type: \u001b[34mfloat64\u001b[0m\n",
      "\n",
      "\n",
      "Shape of Scaled GT: \u001b[34m(3248,)\u001b[0m\n",
      "\n",
      " ... and its Data Type: \u001b[34muint8\u001b[0m\n",
      "\n"
     ]
    }
   ],
   "source": [
    "print(f'\\nShape of Scaled Data: {colored(data_scaled.shape, \"blue\")}\\n')\n",
    "print(f' ... and its Data Type: {colored(data_scaled.dtype, \"blue\")}\\n')\n",
    "print(f'\\nShape of Scaled GT: {colored(gt_scaled.shape, \"blue\")}\\n')\n",
    "print(f' ... and its Data Type: {colored(gt_scaled.dtype, \"blue\")}\\n')"
   ]
  },
  {
   "cell_type": "markdown",
   "id": "d10877c1",
   "metadata": {},
   "source": [
    "- <a name=''>${\\bf{\\text{Gaussian Noise:}}}$</a>"
   ]
  },
  {
   "cell_type": "code",
   "execution_count": 19,
   "id": "ee6b3c77",
   "metadata": {},
   "outputs": [
    {
     "name": "stdout",
     "output_type": "stream",
     "text": [
      "\n",
      "Shape of the Gaussian Noisy Data: \u001b[34m(3248, 145)\u001b[0m\n",
      "\n",
      " ... and its Data Type: \u001b[34mfloat64\u001b[0m\n",
      "\n"
     ]
    }
   ],
   "source": [
    "mu = 0\n",
    "sigma_2 = 0.0001\n",
    "data_gaussian_noisy, gt_gaussian_noisy = random_noise(image=data_scaled, mode='gaussian', \\\n",
    "                                                      seed=0, var=sigma_2, mean=mu), gt_scaled\n",
    "print(f'\\nShape of the Gaussian Noisy Data: {colored(data_gaussian_noisy.shape, \"blue\")}')\n",
    "print(f'\\n ... and its Data Type: {colored(data_gaussian_noisy.dtype, \"blue\")}\\n')"
   ]
  },
  {
   "cell_type": "code",
   "execution_count": 20,
   "id": "9c98303f",
   "metadata": {},
   "outputs": [
    {
     "data": {
      "image/png": "[encoded data removed]",
      "text/plain": [
       "<Figure size 640x480 with 2 Axes>"
      ]
     },
     "metadata": {},
     "output_type": "display_data"
    }
   ],
   "source": [
    "plt.figure(1, )\n",
    "plt.subplot(1, 2, 1), plt.imshow(data_scaled[:200]), plt.axis('off'), \\\n",
    "plt.title('Original Data', fontsize=10)\n",
    "plt.subplot(1, 2, 2, ), plt.imshow(data_gaussian_noisy[:200]), plt.axis('off'), \\\n",
    "plt.title(f'Data + N({mu}, {sigma_2})', fontsize=10)\n",
    "plt.show()"
   ]
  },
  {
   "cell_type": "markdown",
   "id": "6ed2d511",
   "metadata": {},
   "source": [
    "- <a name=''>${\\bf{\\text{Data Splitting}}}$</a>"
   ]
  },
  {
   "cell_type": "code",
   "execution_count": 21,
   "id": "6b968593",
   "metadata": {},
   "outputs": [],
   "source": [
    "train_size_list = [0.1]\n",
    "data = {}\n",
    "for train_size_float in train_size_list: data['X_train_' + str(train_size_float)], \\\n",
    "    data['X_test_' + \\\n",
    "    str(train_size_float)], data['y_train_' + str(train_size_float)], \\\n",
    "    data['y_test_' + str(train_size_float)] =\\\n",
    "    train_test_split(data_gaussian_noisy, gt_gaussian_noisy, train_size=train_size_float, \\\n",
    "                    shuffle=True, random_state=0)"
   ]
  },
  {
   "cell_type": "code",
   "execution_count": 22,
   "id": "43fd9a3a",
   "metadata": {},
   "outputs": [],
   "source": [
    "train_size = 0.1\n",
    "X_train, X_test, y_train, y_test = data['X_train_' + str(train_size)], data['X_test_' + str(train_size)], \\\n",
    "data['y_train_' + str(train_size)], data['y_test_' + str(train_size)]"
   ]
  },
  {
   "cell_type": "code",
   "execution_count": 23,
   "id": "6a3e6715",
   "metadata": {},
   "outputs": [
    {
     "name": "stdout",
     "output_type": "stream",
     "text": [
      "\n",
      "Shape of the \u001b[32mX_train\u001b[0m: \u001b[34m(324, 145)\u001b[0m\n",
      "\n",
      "Shape of the \u001b[32my_train\u001b[0m: \u001b[34m(324,)\u001b[0m\n",
      "\n",
      "\n",
      "\n",
      "Shape of the \u001b[32mX_test\u001b[0m: \u001b[34m(2924, 145)\u001b[0m\n",
      "\n",
      "Shape of the \u001b[32my_test\u001b[0m: \u001b[34m(2924,)\u001b[0m\n",
      "\n"
     ]
    }
   ],
   "source": [
    "print(f'\\nShape of the {colored(\"X_train\", \"green\")}: {colored(X_train.shape, \"blue\")}\\n')\n",
    "print(f'Shape of the {colored(\"y_train\", \"green\")}: {colored(y_train.shape, \"blue\")}\\n\\n')\n",
    "print(f'\\nShape of the {colored(\"X_test\", \"green\")}: {colored(X_test.shape, \"blue\")}\\n')\n",
    "print(f'Shape of the {colored(\"y_test\", \"green\")}: {colored(y_test.shape, \"blue\")}\\n')"
   ]
  },
  {
   "cell_type": "markdown",
   "id": "3124c980",
   "metadata": {},
   "source": [
    "- <a name=''>${\\bf{\\text{Standard Scaling}}}$</a>"
   ]
  },
  {
   "cell_type": "code",
   "execution_count": 24,
   "id": "0759704d",
   "metadata": {},
   "outputs": [],
   "source": [
    "standard_scaler = StandardScaler()"
   ]
  },
  {
   "cell_type": "code",
   "execution_count": 25,
   "id": "e1989aae",
   "metadata": {},
   "outputs": [],
   "source": [
    "train_size_list = [0.1]\n",
    "data_scaled = {}\n",
    "\n",
    "for train_size in train_size_list:\n",
    "    data_scaled['X_train_' + str(train_size)] = \\\n",
    "    standard_scaler.fit_transform(data['X_train_' + str(train_size)])\n",
    "    data_scaled['X_test_' + str(train_size)] = standard_scaler.fit_transform(data['X_test_' + str(train_size)])\n",
    "    data_scaled['y_train_' + str(train_size)] = data['y_train_' + str(train_size)]\n",
    "    data_scaled['y_test_' + str(train_size)] = data['y_test_' + str(train_size)]"
   ]
  },
  {
   "cell_type": "code",
   "execution_count": 26,
   "id": "e7340946",
   "metadata": {},
   "outputs": [],
   "source": [
    "train_size = 0.1\n",
    "X_train, X_test, y_train, y_test = data_scaled['X_train_' + str(train_size)], \\\n",
    "data_scaled['X_test_' + str(train_size)], data_scaled['y_train_' + str(train_size)], \\\n",
    "data_scaled['y_test_' + str(train_size)]"
   ]
  },
  {
   "cell_type": "code",
   "execution_count": 27,
   "id": "6c1cea27",
   "metadata": {},
   "outputs": [
    {
     "name": "stdout",
     "output_type": "stream",
     "text": [
      "\n",
      "Mean of \u001b[32mX_train\u001b[0m:  0.000\n",
      "\n",
      "Var of \u001b[32mX_train\u001b[0m:  1.000\n",
      "\n",
      " ... and its \u001b[32mData Type\u001b[0m: float64\n",
      "\n",
      "\n",
      "\n",
      "\n",
      "Mean of \u001b[32mX_test\u001b[0m:  0.000\n",
      "\n",
      "Var of \u001b[32mX_test\u001b[0m:  1.000\n",
      "\n",
      " ... and its \u001b[32mData Type\u001b[0m: float64\n",
      "\n"
     ]
    }
   ],
   "source": [
    "print(f'\\nMean of {colored(\"X_train\", \"green\")}: {X_train.mean(): 0.3f}')\n",
    "print(f'\\nVar of {colored(\"X_train\", \"green\")}: {X_train.var(): 0.3f}\\n')\n",
    "print(f' ... and its {colored(\"Data Type\", \"green\")}: {X_train.dtype}\\n')\n",
    "print(f'\\n\\n\\nMean of {colored(\"X_test\", \"green\")}: {X_test.mean(): 0.3f}')\n",
    "print(f'\\nVar of {colored(\"X_test\", \"green\")}: {X_test.var(): 0.3f}\\n')\n",
    "print(f' ... and its {colored(\"Data Type\", \"green\")}: {X_test.dtype}\\n')"
   ]
  },
  {
   "cell_type": "markdown",
   "id": "196b09ab",
   "metadata": {},
   "source": [
    "- <a name=''>${\\bf{\\text{K-fold}}}$</a>"
   ]
  },
  {
   "cell_type": "code",
   "execution_count": 64,
   "id": "f5a1d378",
   "metadata": {},
   "outputs": [
    {
     "name": "stderr",
     "output_type": "stream",
     "text": [
      "/home/shahin/.local/lib/python3.10/site-packages/sklearn/model_selection/_split.py:684: UserWarning: The least populated class in y has only 5 members, which is less than n_splits=6.\n",
      "  warnings.warn(\n",
      "/home/shahin/.local/lib/python3.10/site-packages/sklearn/model_selection/_split.py:684: UserWarning: The least populated class in y has only 5 members, which is less than n_splits=7.\n",
      "  warnings.warn(\n",
      "/home/shahin/.local/lib/python3.10/site-packages/sklearn/model_selection/_split.py:684: UserWarning: The least populated class in y has only 5 members, which is less than n_splits=8.\n",
      "  warnings.warn(\n",
      "/home/shahin/.local/lib/python3.10/site-packages/sklearn/model_selection/_split.py:684: UserWarning: The least populated class in y has only 5 members, which is less than n_splits=9.\n",
      "  warnings.warn(\n",
      "/home/shahin/.local/lib/python3.10/site-packages/sklearn/model_selection/_split.py:684: UserWarning: The least populated class in y has only 5 members, which is less than n_splits=10.\n",
      "  warnings.warn(\n",
      "/home/shahin/.local/lib/python3.10/site-packages/sklearn/model_selection/_split.py:684: UserWarning: The least populated class in y has only 5 members, which is less than n_splits=11.\n",
      "  warnings.warn(\n",
      "/home/shahin/.local/lib/python3.10/site-packages/sklearn/model_selection/_split.py:684: UserWarning: The least populated class in y has only 5 members, which is less than n_splits=12.\n",
      "  warnings.warn(\n",
      "/home/shahin/.local/lib/python3.10/site-packages/sklearn/model_selection/_split.py:684: UserWarning: The least populated class in y has only 5 members, which is less than n_splits=13.\n",
      "  warnings.warn(\n",
      "/home/shahin/.local/lib/python3.10/site-packages/sklearn/model_selection/_split.py:684: UserWarning: The least populated class in y has only 5 members, which is less than n_splits=14.\n",
      "  warnings.warn(\n",
      "/home/shahin/.local/lib/python3.10/site-packages/sklearn/model_selection/_split.py:684: UserWarning: The least populated class in y has only 5 members, which is less than n_splits=15.\n",
      "  warnings.warn(\n"
     ]
    }
   ],
   "source": [
    "train_size_tuple = (0.1, )\n",
    "k_fold_tuple = range(2, 16)\n",
    "\n",
    "parameters_for_k_fold_dict = {'train_size': train_size_tuple, 'k_fold': k_fold_tuple}\n",
    "total_length = 1\n",
    "for key_name_str in parameters_for_k_fold_dict.keys():\n",
    "    total_length *= len(parameters_for_k_fold_dict[key_name_str])\n",
    "    \n",
    "    \n",
    "train_size_stored_values = np.zeros(total_length)\n",
    "acc_mean_stored_values = np.zeros(total_length)\n",
    "k_fold_stored_values = np.zeros(total_length)\n",
    "\n",
    "\n",
    "clf_without_pca = SVC()\n",
    "count = 0\n",
    "for train_size in parameters_for_k_fold_dict['train_size']:\n",
    "    X_train, y_train, X_test, y_test = data_scaled['X_train_' + str(train_size)], \\\n",
    "    data_scaled['y_train_' + str(train_size)], data_scaled['X_test_' + str(train_size)], \\\n",
    "    data_scaled['y_test_' + str(train_size)]\n",
    "    clf_without_pca.fit(X_train, y_train)\n",
    "    for k_fold in parameters_for_k_fold_dict['k_fold']:\n",
    "        count += 1\n",
    "        scores = cross_val_score(clf_without_pca, X_train, y_train, cv=k_fold)\n",
    "        acc_mean = scores.mean()\n",
    "        train_size_stored_values[count - 1] = train_size\n",
    "        acc_mean_stored_values[count - 1] = acc_mean\n",
    "        k_fold_stored_values[count - 1] = k_fold\n",
    "        \n",
    "df_for_k_fold = pd.DataFrame({'Train Size': train_size_stored_values, 'K-fold(CV)': k_fold_stored_values,\\\n",
    "'Mean of Accuracy': acc_mean_stored_values})"
   ]
  },
  {
   "cell_type": "code",
   "execution_count": 65,
   "id": "9f849078",
   "metadata": {},
   "outputs": [
    {
     "data": {
      "text/html": [
       "<div>\n",
       "<style scoped>\n",
       "    .dataframe tbody tr th:only-of-type {\n",
       "        vertical-align: middle;\n",
       "    }\n",
       "\n",
       "    .dataframe tbody tr th {\n",
       "        vertical-align: top;\n",
       "    }\n",
       "\n",
       "    .dataframe thead th {\n",
       "        text-align: right;\n",
       "    }\n",
       "</style>\n",
       "<table border=\"1\" class=\"dataframe\">\n",
       "  <thead>\n",
       "    <tr style=\"text-align: right;\">\n",
       "      <th></th>\n",
       "      <th>Train Size</th>\n",
       "      <th>K-fold(CV)</th>\n",
       "      <th>Mean of Accuracy</th>\n",
       "    </tr>\n",
       "  </thead>\n",
       "  <tbody>\n",
       "    <tr>\n",
       "      <th>0</th>\n",
       "      <td>0.1</td>\n",
       "      <td>2.0</td>\n",
       "      <td>0.651235</td>\n",
       "    </tr>\n",
       "    <tr>\n",
       "      <th>1</th>\n",
       "      <td>0.1</td>\n",
       "      <td>3.0</td>\n",
       "      <td>0.706790</td>\n",
       "    </tr>\n",
       "    <tr>\n",
       "      <th>2</th>\n",
       "      <td>0.1</td>\n",
       "      <td>4.0</td>\n",
       "      <td>0.765432</td>\n",
       "    </tr>\n",
       "    <tr>\n",
       "      <th>3</th>\n",
       "      <td>0.1</td>\n",
       "      <td>5.0</td>\n",
       "      <td>0.750000</td>\n",
       "    </tr>\n",
       "    <tr>\n",
       "      <th>4</th>\n",
       "      <td>0.1</td>\n",
       "      <td>6.0</td>\n",
       "      <td>0.759259</td>\n",
       "    </tr>\n",
       "    <tr>\n",
       "      <th>5</th>\n",
       "      <td>0.1</td>\n",
       "      <td>7.0</td>\n",
       "      <td>0.750429</td>\n",
       "    </tr>\n",
       "    <tr>\n",
       "      <th>6</th>\n",
       "      <td>0.1</td>\n",
       "      <td>8.0</td>\n",
       "      <td>0.772027</td>\n",
       "    </tr>\n",
       "    <tr>\n",
       "      <th>7</th>\n",
       "      <td>0.1</td>\n",
       "      <td>9.0</td>\n",
       "      <td>0.756173</td>\n",
       "    </tr>\n",
       "    <tr>\n",
       "      <th>8</th>\n",
       "      <td>0.1</td>\n",
       "      <td>10.0</td>\n",
       "      <td>0.768655</td>\n",
       "    </tr>\n",
       "    <tr>\n",
       "      <th>9</th>\n",
       "      <td>0.1</td>\n",
       "      <td>11.0</td>\n",
       "      <td>0.771787</td>\n",
       "    </tr>\n",
       "    <tr>\n",
       "      <th>10</th>\n",
       "      <td>0.1</td>\n",
       "      <td>12.0</td>\n",
       "      <td>0.759259</td>\n",
       "    </tr>\n",
       "    <tr>\n",
       "      <th>11</th>\n",
       "      <td>0.1</td>\n",
       "      <td>13.0</td>\n",
       "      <td>0.765513</td>\n",
       "    </tr>\n",
       "    <tr>\n",
       "      <th>12</th>\n",
       "      <td>0.1</td>\n",
       "      <td>14.0</td>\n",
       "      <td>0.774715</td>\n",
       "    </tr>\n",
       "    <tr>\n",
       "      <th>13</th>\n",
       "      <td>0.1</td>\n",
       "      <td>15.0</td>\n",
       "      <td>0.784416</td>\n",
       "    </tr>\n",
       "  </tbody>\n",
       "</table>\n",
       "</div>"
      ],
      "text/plain": [
       "    Train Size  K-fold(CV)  Mean of Accuracy\n",
       "0          0.1         2.0          0.651235\n",
       "1          0.1         3.0          0.706790\n",
       "2          0.1         4.0          0.765432\n",
       "3          0.1         5.0          0.750000\n",
       "4          0.1         6.0          0.759259\n",
       "5          0.1         7.0          0.750429\n",
       "6          0.1         8.0          0.772027\n",
       "7          0.1         9.0          0.756173\n",
       "8          0.1        10.0          0.768655\n",
       "9          0.1        11.0          0.771787\n",
       "10         0.1        12.0          0.759259\n",
       "11         0.1        13.0          0.765513\n",
       "12         0.1        14.0          0.774715\n",
       "13         0.1        15.0          0.784416"
      ]
     },
     "execution_count": 65,
     "metadata": {},
     "output_type": "execute_result"
    }
   ],
   "source": [
    "df_for_k_fold"
   ]
  },
  {
   "cell_type": "code",
   "execution_count": 66,
   "id": "5f90768c",
   "metadata": {},
   "outputs": [
    {
     "data": {
      "text/html": [
       "<div>\n",
       "<style scoped>\n",
       "    .dataframe tbody tr th:only-of-type {\n",
       "        vertical-align: middle;\n",
       "    }\n",
       "\n",
       "    .dataframe tbody tr th {\n",
       "        vertical-align: top;\n",
       "    }\n",
       "\n",
       "    .dataframe thead th {\n",
       "        text-align: right;\n",
       "    }\n",
       "</style>\n",
       "<table border=\"1\" class=\"dataframe\">\n",
       "  <thead>\n",
       "    <tr style=\"text-align: right;\">\n",
       "      <th></th>\n",
       "      <th>Train Size</th>\n",
       "      <th>K-fold(CV)</th>\n",
       "      <th>Mean of Accuracy</th>\n",
       "    </tr>\n",
       "  </thead>\n",
       "  <tbody>\n",
       "    <tr>\n",
       "      <th>0</th>\n",
       "      <td>0.1</td>\n",
       "      <td>2.0</td>\n",
       "      <td>0.651235</td>\n",
       "    </tr>\n",
       "    <tr>\n",
       "      <th>1</th>\n",
       "      <td>0.1</td>\n",
       "      <td>3.0</td>\n",
       "      <td>0.706790</td>\n",
       "    </tr>\n",
       "    <tr>\n",
       "      <th>2</th>\n",
       "      <td>0.1</td>\n",
       "      <td>4.0</td>\n",
       "      <td>0.765432</td>\n",
       "    </tr>\n",
       "    <tr>\n",
       "      <th>3</th>\n",
       "      <td>0.1</td>\n",
       "      <td>5.0</td>\n",
       "      <td>0.750000</td>\n",
       "    </tr>\n",
       "    <tr>\n",
       "      <th>4</th>\n",
       "      <td>0.1</td>\n",
       "      <td>6.0</td>\n",
       "      <td>0.759259</td>\n",
       "    </tr>\n",
       "    <tr>\n",
       "      <th>5</th>\n",
       "      <td>0.1</td>\n",
       "      <td>7.0</td>\n",
       "      <td>0.750429</td>\n",
       "    </tr>\n",
       "    <tr>\n",
       "      <th>6</th>\n",
       "      <td>0.1</td>\n",
       "      <td>8.0</td>\n",
       "      <td>0.772027</td>\n",
       "    </tr>\n",
       "    <tr>\n",
       "      <th>7</th>\n",
       "      <td>0.1</td>\n",
       "      <td>9.0</td>\n",
       "      <td>0.756173</td>\n",
       "    </tr>\n",
       "    <tr>\n",
       "      <th>8</th>\n",
       "      <td>0.1</td>\n",
       "      <td>10.0</td>\n",
       "      <td>0.768655</td>\n",
       "    </tr>\n",
       "    <tr>\n",
       "      <th>9</th>\n",
       "      <td>0.1</td>\n",
       "      <td>11.0</td>\n",
       "      <td>0.771787</td>\n",
       "    </tr>\n",
       "    <tr>\n",
       "      <th>10</th>\n",
       "      <td>0.1</td>\n",
       "      <td>12.0</td>\n",
       "      <td>0.759259</td>\n",
       "    </tr>\n",
       "    <tr>\n",
       "      <th>11</th>\n",
       "      <td>0.1</td>\n",
       "      <td>13.0</td>\n",
       "      <td>0.765513</td>\n",
       "    </tr>\n",
       "    <tr>\n",
       "      <th>12</th>\n",
       "      <td>0.1</td>\n",
       "      <td>14.0</td>\n",
       "      <td>0.774715</td>\n",
       "    </tr>\n",
       "    <tr>\n",
       "      <th>13</th>\n",
       "      <td>0.1</td>\n",
       "      <td>15.0</td>\n",
       "      <td>0.784416</td>\n",
       "    </tr>\n",
       "  </tbody>\n",
       "</table>\n",
       "</div>"
      ],
      "text/plain": [
       "    Train Size  K-fold(CV)  Mean of Accuracy\n",
       "0          0.1         2.0          0.651235\n",
       "1          0.1         3.0          0.706790\n",
       "2          0.1         4.0          0.765432\n",
       "3          0.1         5.0          0.750000\n",
       "4          0.1         6.0          0.759259\n",
       "5          0.1         7.0          0.750429\n",
       "6          0.1         8.0          0.772027\n",
       "7          0.1         9.0          0.756173\n",
       "8          0.1        10.0          0.768655\n",
       "9          0.1        11.0          0.771787\n",
       "10         0.1        12.0          0.759259\n",
       "11         0.1        13.0          0.765513\n",
       "12         0.1        14.0          0.774715\n",
       "13         0.1        15.0          0.784416"
      ]
     },
     "execution_count": 66,
     "metadata": {},
     "output_type": "execute_result"
    }
   ],
   "source": [
    "df1 = df_for_k_fold[df_for_k_fold['Train Size'] == 0.1]\n",
    "df1"
   ]
  },
  {
   "cell_type": "code",
   "execution_count": 67,
   "id": "6695f9a9",
   "metadata": {},
   "outputs": [
    {
     "data": {
      "text/html": [
       "<div>\n",
       "<style scoped>\n",
       "    .dataframe tbody tr th:only-of-type {\n",
       "        vertical-align: middle;\n",
       "    }\n",
       "\n",
       "    .dataframe tbody tr th {\n",
       "        vertical-align: top;\n",
       "    }\n",
       "\n",
       "    .dataframe thead th {\n",
       "        text-align: right;\n",
       "    }\n",
       "</style>\n",
       "<table border=\"1\" class=\"dataframe\">\n",
       "  <thead>\n",
       "    <tr style=\"text-align: right;\">\n",
       "      <th></th>\n",
       "      <th>Train Size</th>\n",
       "      <th>K-fold(CV)</th>\n",
       "      <th>Mean of Accuracy</th>\n",
       "    </tr>\n",
       "  </thead>\n",
       "  <tbody>\n",
       "    <tr>\n",
       "      <th>13</th>\n",
       "      <td>0.1</td>\n",
       "      <td>15.0</td>\n",
       "      <td>0.784416</td>\n",
       "    </tr>\n",
       "  </tbody>\n",
       "</table>\n",
       "</div>"
      ],
      "text/plain": [
       "    Train Size  K-fold(CV)  Mean of Accuracy\n",
       "13         0.1        15.0          0.784416"
      ]
     },
     "execution_count": 67,
     "metadata": {},
     "output_type": "execute_result"
    }
   ],
   "source": [
    "df1_result = df1[df1['Mean of Accuracy'] == (df1['Mean of Accuracy']).max()]\n",
    "df1_result"
   ]
  },
  {
   "cell_type": "markdown",
   "id": "306cdca7",
   "metadata": {},
   "source": [
    "- <a name=''>${\\bf{\\text{SVC(rbf)}}}$</a>"
   ]
  },
  {
   "cell_type": "markdown",
   "id": "48306ff9",
   "metadata": {},
   "source": [
    "- - <a name=''>${{\\text{Grid Search}}}$</a>"
   ]
  },
  {
   "cell_type": "code",
   "execution_count": 68,
   "id": "258cd31f",
   "metadata": {},
   "outputs": [],
   "source": [
    "svc = SVC(kernel='rbf', random_state=0)"
   ]
  },
  {
   "cell_type": "code",
   "execution_count": 69,
   "id": "2a645d90",
   "metadata": {},
   "outputs": [],
   "source": [
    "pipe = Pipeline(steps=[(\"svc\", svc)])"
   ]
  },
  {
   "cell_type": "code",
   "execution_count": 70,
   "id": "92a2e60b",
   "metadata": {},
   "outputs": [],
   "source": [
    "param_grid = {'svc__C': np.logspace(-4, 4, 9), \\\n",
    "             'svc__gamma': np.linspace(0, 1, 11)}"
   ]
  },
  {
   "cell_type": "code",
   "execution_count": 71,
   "id": "3561e1e6",
   "metadata": {},
   "outputs": [],
   "source": [
    "input_data_dict = data_scaled"
   ]
  },
  {
   "cell_type": "code",
   "execution_count": 72,
   "id": "6c776b55",
   "metadata": {},
   "outputs": [
    {
     "name": "stderr",
     "output_type": "stream",
     "text": [
      "/home/shahin/.local/lib/python3.10/site-packages/sklearn/model_selection/_split.py:684: UserWarning: The least populated class in y has only 5 members, which is less than n_splits=15.\n",
      "  warnings.warn(\n",
      "/home/shahin/.local/lib/python3.10/site-packages/sklearn/model_selection/_validation.py:378: FitFailedWarning: \n",
      "135 fits failed out of a total of 1485.\n",
      "The score on these train-test partitions for these parameters will be set to nan.\n",
      "If these failures are not expected, you can try to debug them by setting error_score='raise'.\n",
      "\n",
      "Below are more details about the failures:\n",
      "--------------------------------------------------------------------------------\n",
      "135 fits failed with the following error:\n",
      "Traceback (most recent call last):\n",
      "  File \"/home/shahin/.local/lib/python3.10/site-packages/sklearn/model_selection/_validation.py\", line 686, in _fit_and_score\n",
      "    estimator.fit(X_train, y_train, **fit_params)\n",
      "  File \"/home/shahin/.local/lib/python3.10/site-packages/sklearn/pipeline.py\", line 382, in fit\n",
      "    self._final_estimator.fit(Xt, y, **fit_params_last_step)\n",
      "  File \"/home/shahin/.local/lib/python3.10/site-packages/sklearn/svm/_base.py\", line 237, in fit\n",
      "    raise ValueError(msg)\n",
      "ValueError: gamma value must be > 0; 0.0 is invalid. Use a positive number or use 'auto' to set gamma to a value of 1 / n_features.\n",
      "\n",
      "  warnings.warn(some_fits_failed_message, FitFailedWarning)\n",
      "/home/shahin/.local/lib/python3.10/site-packages/sklearn/model_selection/_search.py:953: UserWarning: One or more of the test scores are non-finite: [       nan 0.11991342 0.10779221 0.10779221 0.10779221 0.1047619\n",
      " 0.1047619  0.1017316  0.1017316  0.1017316  0.1017316         nan\n",
      " 0.11991342 0.10779221 0.10779221 0.10779221 0.1047619  0.1047619\n",
      " 0.1017316  0.1017316  0.1017316  0.1017316         nan 0.11991342\n",
      " 0.10779221 0.10779221 0.10779221 0.1047619  0.1047619  0.1017316\n",
      " 0.1017316  0.1017316  0.1017316         nan 0.11991342 0.10779221\n",
      " 0.10779221 0.10779221 0.1047619  0.1047619  0.1017316  0.1017316\n",
      " 0.1017316  0.1017316         nan 0.26839827 0.17575758 0.11385281\n",
      " 0.11385281 0.11385281 0.11082251 0.10779221 0.10779221 0.10779221\n",
      " 0.1047619         nan 0.27460317 0.17893218 0.11688312 0.11385281\n",
      " 0.11385281 0.11082251 0.10779221 0.10779221 0.10779221 0.10779221\n",
      "        nan 0.27460317 0.17893218 0.11688312 0.11385281 0.11385281\n",
      " 0.11082251 0.10779221 0.10779221 0.10779221 0.10779221        nan\n",
      " 0.27460317 0.17893218 0.11688312 0.11385281 0.11385281 0.11082251\n",
      " 0.10779221 0.10779221 0.10779221 0.10779221        nan 0.27460317\n",
      " 0.17893218 0.11688312 0.11385281 0.11385281 0.11082251 0.10779221\n",
      " 0.10779221 0.10779221 0.10779221]\n",
      "  warnings.warn(\n"
     ]
    },
    {
     "data": {
      "text/html": [
       "<style>#sk-container-id-1 {color: black;background-color: white;}#sk-container-id-1 pre{padding: 0;}#sk-container-id-1 div.sk-toggleable {background-color: white;}#sk-container-id-1 label.sk-toggleable__label {cursor: pointer;display: block;width: 100%;margin-bottom: 0;padding: 0.3em;box-sizing: border-box;text-align: center;}#sk-container-id-1 label.sk-toggleable__label-arrow:before {content: \"▸\";float: left;margin-right: 0.25em;color: #696969;}#sk-container-id-1 label.sk-toggleable__label-arrow:hover:before {color: black;}#sk-container-id-1 div.sk-estimator:hover label.sk-toggleable__label-arrow:before {color: black;}#sk-container-id-1 div.sk-toggleable__content {max-height: 0;max-width: 0;overflow: hidden;text-align: left;background-color: #f0f8ff;}#sk-container-id-1 div.sk-toggleable__content pre {margin: 0.2em;color: black;border-radius: 0.25em;background-color: #f0f8ff;}#sk-container-id-1 input.sk-toggleable__control:checked~div.sk-toggleable__content {max-height: 200px;max-width: 100%;overflow: auto;}#sk-container-id-1 input.sk-toggleable__control:checked~label.sk-toggleable__label-arrow:before {content: \"▾\";}#sk-container-id-1 div.sk-estimator input.sk-toggleable__control:checked~label.sk-toggleable__label {background-color: #d4ebff;}#sk-container-id-1 div.sk-label input.sk-toggleable__control:checked~label.sk-toggleable__label {background-color: #d4ebff;}#sk-container-id-1 input.sk-hidden--visually {border: 0;clip: rect(1px 1px 1px 1px);clip: rect(1px, 1px, 1px, 1px);height: 1px;margin: -1px;overflow: hidden;padding: 0;position: absolute;width: 1px;}#sk-container-id-1 div.sk-estimator {font-family: monospace;background-color: #f0f8ff;border: 1px dotted black;border-radius: 0.25em;box-sizing: border-box;margin-bottom: 0.5em;}#sk-container-id-1 div.sk-estimator:hover {background-color: #d4ebff;}#sk-container-id-1 div.sk-parallel-item::after {content: \"\";width: 100%;border-bottom: 1px solid gray;flex-grow: 1;}#sk-container-id-1 div.sk-label:hover label.sk-toggleable__label {background-color: #d4ebff;}#sk-container-id-1 div.sk-serial::before {content: \"\";position: absolute;border-left: 1px solid gray;box-sizing: border-box;top: 0;bottom: 0;left: 50%;z-index: 0;}#sk-container-id-1 div.sk-serial {display: flex;flex-direction: column;align-items: center;background-color: white;padding-right: 0.2em;padding-left: 0.2em;position: relative;}#sk-container-id-1 div.sk-item {position: relative;z-index: 1;}#sk-container-id-1 div.sk-parallel {display: flex;align-items: stretch;justify-content: center;background-color: white;position: relative;}#sk-container-id-1 div.sk-item::before, #sk-container-id-1 div.sk-parallel-item::before {content: \"\";position: absolute;border-left: 1px solid gray;box-sizing: border-box;top: 0;bottom: 0;left: 50%;z-index: -1;}#sk-container-id-1 div.sk-parallel-item {display: flex;flex-direction: column;z-index: 1;position: relative;background-color: white;}#sk-container-id-1 div.sk-parallel-item:first-child::after {align-self: flex-end;width: 50%;}#sk-container-id-1 div.sk-parallel-item:last-child::after {align-self: flex-start;width: 50%;}#sk-container-id-1 div.sk-parallel-item:only-child::after {width: 0;}#sk-container-id-1 div.sk-dashed-wrapped {border: 1px dashed gray;margin: 0 0.4em 0.5em 0.4em;box-sizing: border-box;padding-bottom: 0.4em;background-color: white;}#sk-container-id-1 div.sk-label label {font-family: monospace;font-weight: bold;display: inline-block;line-height: 1.2em;}#sk-container-id-1 div.sk-label-container {text-align: center;}#sk-container-id-1 div.sk-container {/* jupyter's `normalize.less` sets `[hidden] { display: none; }` but bootstrap.min.css set `[hidden] { display: none !important; }` so we also need the `!important` here to be able to override the default hidden behavior on the sphinx rendered scikit-learn.org. See: https://github.com/scikit-learn/scikit-learn/issues/21755 */display: inline-block !important;position: relative;}#sk-container-id-1 div.sk-text-repr-fallback {display: none;}</style><div id=\"sk-container-id-1\" class=\"sk-top-container\"><div class=\"sk-text-repr-fallback\"><pre>GridSearchCV(cv=15, estimator=Pipeline(steps=[(&#x27;svc&#x27;, SVC(random_state=0))]),\n",
       "             param_grid={&#x27;svc__C&#x27;: array([1.e-04, 1.e-03, 1.e-02, 1.e-01, 1.e+00, 1.e+01, 1.e+02, 1.e+03,\n",
       "       1.e+04]),\n",
       "                         &#x27;svc__gamma&#x27;: array([0. , 0.1, 0.2, 0.3, 0.4, 0.5, 0.6, 0.7, 0.8, 0.9, 1. ])})</pre><b>In a Jupyter environment, please rerun this cell to show the HTML representation or trust the notebook. <br />On GitHub, the HTML representation is unable to render, please try loading this page with nbviewer.org.</b></div><div class=\"sk-container\" hidden><div class=\"sk-item sk-dashed-wrapped\"><div class=\"sk-label-container\"><div class=\"sk-label sk-toggleable\"><input class=\"sk-toggleable__control sk-hidden--visually\" id=\"sk-estimator-id-1\" type=\"checkbox\" ><label for=\"sk-estimator-id-1\" class=\"sk-toggleable__label sk-toggleable__label-arrow\">GridSearchCV</label><div class=\"sk-toggleable__content\"><pre>GridSearchCV(cv=15, estimator=Pipeline(steps=[(&#x27;svc&#x27;, SVC(random_state=0))]),\n",
       "             param_grid={&#x27;svc__C&#x27;: array([1.e-04, 1.e-03, 1.e-02, 1.e-01, 1.e+00, 1.e+01, 1.e+02, 1.e+03,\n",
       "       1.e+04]),\n",
       "                         &#x27;svc__gamma&#x27;: array([0. , 0.1, 0.2, 0.3, 0.4, 0.5, 0.6, 0.7, 0.8, 0.9, 1. ])})</pre></div></div></div><div class=\"sk-parallel\"><div class=\"sk-parallel-item\"><div class=\"sk-item\"><div class=\"sk-label-container\"><div class=\"sk-label sk-toggleable\"><input class=\"sk-toggleable__control sk-hidden--visually\" id=\"sk-estimator-id-2\" type=\"checkbox\" ><label for=\"sk-estimator-id-2\" class=\"sk-toggleable__label sk-toggleable__label-arrow\">estimator: Pipeline</label><div class=\"sk-toggleable__content\"><pre>Pipeline(steps=[(&#x27;svc&#x27;, SVC(random_state=0))])</pre></div></div></div><div class=\"sk-serial\"><div class=\"sk-item\"><div class=\"sk-serial\"><div class=\"sk-item\"><div class=\"sk-estimator sk-toggleable\"><input class=\"sk-toggleable__control sk-hidden--visually\" id=\"sk-estimator-id-3\" type=\"checkbox\" ><label for=\"sk-estimator-id-3\" class=\"sk-toggleable__label sk-toggleable__label-arrow\">SVC</label><div class=\"sk-toggleable__content\"><pre>SVC(random_state=0)</pre></div></div></div></div></div></div></div></div></div></div></div></div>"
      ],
      "text/plain": [
       "GridSearchCV(cv=15, estimator=Pipeline(steps=[('svc', SVC(random_state=0))]),\n",
       "             param_grid={'svc__C': array([1.e-04, 1.e-03, 1.e-02, 1.e-01, 1.e+00, 1.e+01, 1.e+02, 1.e+03,\n",
       "       1.e+04]),\n",
       "                         'svc__gamma': array([0. , 0.1, 0.2, 0.3, 0.4, 0.5, 0.6, 0.7, 0.8, 0.9, 1. ])})"
      ]
     },
     "execution_count": 72,
     "metadata": {},
     "output_type": "execute_result"
    }
   ],
   "source": [
    "train_size = 0.1\n",
    "best_k_fold = 15\n",
    "X_train, y_train = input_data_dict['X_train_' + str(train_size)], input_data_dict['y_train_' + str(train_size)]\n",
    "search = GridSearchCV(pipe, param_grid, cv=best_k_fold)\n",
    "search.fit(X_train, y_train)"
   ]
  },
  {
   "cell_type": "code",
   "execution_count": 73,
   "id": "5c2c5bb7",
   "metadata": {},
   "outputs": [
    {
     "name": "stdout",
     "output_type": "stream",
     "text": [
      "\n",
      "λ = \u001b[34m10.0\u001b[0m\n",
      "\n",
      "γ = \u001b[34m0.1\u001b[0m\n",
      "\n"
     ]
    }
   ],
   "source": [
    "best_params = search.best_params_\n",
    "best_lambda, best_gamma = best_params['svc__C'], best_params['svc__gamma']\n",
    "print(f'\\n\\u03BB = {colored(best_lambda, \"blue\")}\\n\\n\\u03B3 = {colored(best_gamma, \"blue\")}\\n')"
   ]
  },
  {
   "cell_type": "code",
   "execution_count": 74,
   "id": "d1e43ba9",
   "metadata": {},
   "outputs": [
    {
     "name": "stdout",
     "output_type": "stream",
     "text": [
      "\n",
      "Best Accuracy is: \u001b[34m0.27460317460317457\u001b[0m\n",
      "\n"
     ]
    }
   ],
   "source": [
    "best_score = search.best_score_\n",
    "print(f'\\nBest Accuracy is: {colored(best_score, \"blue\")}\\n')"
   ]
  },
  {
   "cell_type": "markdown",
   "id": "b20a6150",
   "metadata": {},
   "source": [
    "- - <a name=''>${\\text{Test:}}$</a>"
   ]
  },
  {
   "cell_type": "code",
   "execution_count": 75,
   "id": "bb0a7f63",
   "metadata": {},
   "outputs": [
    {
     "data": {
      "text/html": [
       "<style>#sk-container-id-2 {color: black;background-color: white;}#sk-container-id-2 pre{padding: 0;}#sk-container-id-2 div.sk-toggleable {background-color: white;}#sk-container-id-2 label.sk-toggleable__label {cursor: pointer;display: block;width: 100%;margin-bottom: 0;padding: 0.3em;box-sizing: border-box;text-align: center;}#sk-container-id-2 label.sk-toggleable__label-arrow:before {content: \"▸\";float: left;margin-right: 0.25em;color: #696969;}#sk-container-id-2 label.sk-toggleable__label-arrow:hover:before {color: black;}#sk-container-id-2 div.sk-estimator:hover label.sk-toggleable__label-arrow:before {color: black;}#sk-container-id-2 div.sk-toggleable__content {max-height: 0;max-width: 0;overflow: hidden;text-align: left;background-color: #f0f8ff;}#sk-container-id-2 div.sk-toggleable__content pre {margin: 0.2em;color: black;border-radius: 0.25em;background-color: #f0f8ff;}#sk-container-id-2 input.sk-toggleable__control:checked~div.sk-toggleable__content {max-height: 200px;max-width: 100%;overflow: auto;}#sk-container-id-2 input.sk-toggleable__control:checked~label.sk-toggleable__label-arrow:before {content: \"▾\";}#sk-container-id-2 div.sk-estimator input.sk-toggleable__control:checked~label.sk-toggleable__label {background-color: #d4ebff;}#sk-container-id-2 div.sk-label input.sk-toggleable__control:checked~label.sk-toggleable__label {background-color: #d4ebff;}#sk-container-id-2 input.sk-hidden--visually {border: 0;clip: rect(1px 1px 1px 1px);clip: rect(1px, 1px, 1px, 1px);height: 1px;margin: -1px;overflow: hidden;padding: 0;position: absolute;width: 1px;}#sk-container-id-2 div.sk-estimator {font-family: monospace;background-color: #f0f8ff;border: 1px dotted black;border-radius: 0.25em;box-sizing: border-box;margin-bottom: 0.5em;}#sk-container-id-2 div.sk-estimator:hover {background-color: #d4ebff;}#sk-container-id-2 div.sk-parallel-item::after {content: \"\";width: 100%;border-bottom: 1px solid gray;flex-grow: 1;}#sk-container-id-2 div.sk-label:hover label.sk-toggleable__label {background-color: #d4ebff;}#sk-container-id-2 div.sk-serial::before {content: \"\";position: absolute;border-left: 1px solid gray;box-sizing: border-box;top: 0;bottom: 0;left: 50%;z-index: 0;}#sk-container-id-2 div.sk-serial {display: flex;flex-direction: column;align-items: center;background-color: white;padding-right: 0.2em;padding-left: 0.2em;position: relative;}#sk-container-id-2 div.sk-item {position: relative;z-index: 1;}#sk-container-id-2 div.sk-parallel {display: flex;align-items: stretch;justify-content: center;background-color: white;position: relative;}#sk-container-id-2 div.sk-item::before, #sk-container-id-2 div.sk-parallel-item::before {content: \"\";position: absolute;border-left: 1px solid gray;box-sizing: border-box;top: 0;bottom: 0;left: 50%;z-index: -1;}#sk-container-id-2 div.sk-parallel-item {display: flex;flex-direction: column;z-index: 1;position: relative;background-color: white;}#sk-container-id-2 div.sk-parallel-item:first-child::after {align-self: flex-end;width: 50%;}#sk-container-id-2 div.sk-parallel-item:last-child::after {align-self: flex-start;width: 50%;}#sk-container-id-2 div.sk-parallel-item:only-child::after {width: 0;}#sk-container-id-2 div.sk-dashed-wrapped {border: 1px dashed gray;margin: 0 0.4em 0.5em 0.4em;box-sizing: border-box;padding-bottom: 0.4em;background-color: white;}#sk-container-id-2 div.sk-label label {font-family: monospace;font-weight: bold;display: inline-block;line-height: 1.2em;}#sk-container-id-2 div.sk-label-container {text-align: center;}#sk-container-id-2 div.sk-container {/* jupyter's `normalize.less` sets `[hidden] { display: none; }` but bootstrap.min.css set `[hidden] { display: none !important; }` so we also need the `!important` here to be able to override the default hidden behavior on the sphinx rendered scikit-learn.org. See: https://github.com/scikit-learn/scikit-learn/issues/21755 */display: inline-block !important;position: relative;}#sk-container-id-2 div.sk-text-repr-fallback {display: none;}</style><div id=\"sk-container-id-2\" class=\"sk-top-container\"><div class=\"sk-text-repr-fallback\"><pre>SVC(C=10.0, gamma=0.1)</pre><b>In a Jupyter environment, please rerun this cell to show the HTML representation or trust the notebook. <br />On GitHub, the HTML representation is unable to render, please try loading this page with nbviewer.org.</b></div><div class=\"sk-container\" hidden><div class=\"sk-item\"><div class=\"sk-estimator sk-toggleable\"><input class=\"sk-toggleable__control sk-hidden--visually\" id=\"sk-estimator-id-4\" type=\"checkbox\" checked><label for=\"sk-estimator-id-4\" class=\"sk-toggleable__label sk-toggleable__label-arrow\">SVC</label><div class=\"sk-toggleable__content\"><pre>SVC(C=10.0, gamma=0.1)</pre></div></div></div></div></div>"
      ],
      "text/plain": [
       "SVC(C=10.0, gamma=0.1)"
      ]
     },
     "execution_count": 75,
     "metadata": {},
     "output_type": "execute_result"
    }
   ],
   "source": [
    "train_size = 0.1\n",
    "clf = SVC(C=best_lambda, kernel='rbf', gamma=best_gamma)\n",
    "X_train, y_train, X_test, y_test = input_data_dict['X_train_' + str(train_size)], \\\n",
    "input_data_dict['y_train_' + str(train_size)], input_data_dict['X_test_' + str(train_size)], \\\n",
    "input_data_dict['y_test_' + str(train_size)]\n",
    "clf.fit(X_train, y_train)"
   ]
  },
  {
   "cell_type": "code",
   "execution_count": 76,
   "id": "80658496",
   "metadata": {},
   "outputs": [
    {
     "data": {
      "text/html": [
       "<div>\n",
       "<style scoped>\n",
       "    .dataframe tbody tr th:only-of-type {\n",
       "        vertical-align: middle;\n",
       "    }\n",
       "\n",
       "    .dataframe tbody tr th {\n",
       "        vertical-align: top;\n",
       "    }\n",
       "\n",
       "    .dataframe thead th {\n",
       "        text-align: right;\n",
       "    }\n",
       "</style>\n",
       "<table border=\"1\" class=\"dataframe\">\n",
       "  <thead>\n",
       "    <tr style=\"text-align: right;\">\n",
       "      <th></th>\n",
       "      <th>Class</th>\n",
       "      <th>Accuracy</th>\n",
       "    </tr>\n",
       "  </thead>\n",
       "  <tbody>\n",
       "    <tr>\n",
       "      <th>0</th>\n",
       "      <td>1</td>\n",
       "      <td>0.906780</td>\n",
       "    </tr>\n",
       "    <tr>\n",
       "      <th>1</th>\n",
       "      <td>2</td>\n",
       "      <td>0.000000</td>\n",
       "    </tr>\n",
       "    <tr>\n",
       "      <th>2</th>\n",
       "      <td>3</td>\n",
       "      <td>0.008696</td>\n",
       "    </tr>\n",
       "    <tr>\n",
       "      <th>3</th>\n",
       "      <td>4</td>\n",
       "      <td>0.000000</td>\n",
       "    </tr>\n",
       "    <tr>\n",
       "      <th>4</th>\n",
       "      <td>5</td>\n",
       "      <td>0.024390</td>\n",
       "    </tr>\n",
       "    <tr>\n",
       "      <th>5</th>\n",
       "      <td>6</td>\n",
       "      <td>0.475000</td>\n",
       "    </tr>\n",
       "    <tr>\n",
       "      <th>6</th>\n",
       "      <td>7</td>\n",
       "      <td>0.000000</td>\n",
       "    </tr>\n",
       "    <tr>\n",
       "      <th>7</th>\n",
       "      <td>8</td>\n",
       "      <td>1.000000</td>\n",
       "    </tr>\n",
       "    <tr>\n",
       "      <th>8</th>\n",
       "      <td>9</td>\n",
       "      <td>0.647887</td>\n",
       "    </tr>\n",
       "    <tr>\n",
       "      <th>9</th>\n",
       "      <td>10</td>\n",
       "      <td>0.168182</td>\n",
       "    </tr>\n",
       "    <tr>\n",
       "      <th>10</th>\n",
       "      <td>11</td>\n",
       "      <td>0.000000</td>\n",
       "    </tr>\n",
       "    <tr>\n",
       "      <th>11</th>\n",
       "      <td>12</td>\n",
       "      <td>0.000000</td>\n",
       "    </tr>\n",
       "    <tr>\n",
       "      <th>12</th>\n",
       "      <td>13</td>\n",
       "      <td>0.000000</td>\n",
       "    </tr>\n",
       "    <tr>\n",
       "      <th>13</th>\n",
       "      <td>14</td>\n",
       "      <td>0.000000</td>\n",
       "    </tr>\n",
       "  </tbody>\n",
       "</table>\n",
       "</div>"
      ],
      "text/plain": [
       "    Class  Accuracy\n",
       "0       1  0.906780\n",
       "1       2  0.000000\n",
       "2       3  0.008696\n",
       "3       4  0.000000\n",
       "4       5  0.024390\n",
       "5       6  0.475000\n",
       "6       7  0.000000\n",
       "7       8  1.000000\n",
       "8       9  0.647887\n",
       "9      10  0.168182\n",
       "10     11  0.000000\n",
       "11     12  0.000000\n",
       "12     13  0.000000\n",
       "13     14  0.000000"
      ]
     },
     "execution_count": 76,
     "metadata": {},
     "output_type": "execute_result"
    }
   ],
   "source": [
    "y_pred = clf.predict(X_test)\n",
    "ov_acc = accuracy_score(y_test, y_pred)\n",
    "conf_mat = confusion_matrix(y_test, y_pred)\n",
    "kappa = cohen_kappa_score(y_test, y_pred)\n",
    "acc_for_each_class = conf_mat.diagonal()/conf_mat.sum(axis=1)\n",
    "df_result1 = pd.DataFrame({'Class': range(1, 15), 'Accuracy': acc_for_each_class})\n",
    "df_result1"
   ]
  },
  {
   "cell_type": "markdown",
   "id": "0990255f",
   "metadata": {},
   "source": [
    "- <a name=''>${\\bf{\\text{Heatmap for Confusion Matrix}}}$</a>"
   ]
  },
  {
   "cell_type": "code",
   "execution_count": 77,
   "id": "1d5a62fa",
   "metadata": {},
   "outputs": [
    {
     "data": {
      "image/png": "[encoded data removed]",
      "text/plain": [
       "<Figure size 640x480 with 2 Axes>"
      ]
     },
     "metadata": {},
     "output_type": "display_data"
    }
   ],
   "source": [
    "cmap_list = ['Greys', 'Purples', 'Blues', 'Greens', 'Oranges', 'Reds', \\\n",
    "                      'YlOrBr', 'YlOrRd', 'OrRd', 'PuRd', 'RdPu', 'BuPu',\\\n",
    "                      'GnBu', 'PuBu', 'YlGnBu', 'PuBuGn', 'BuGn', 'YlGn']\n",
    "\n",
    "disp = ConfusionMatrixDisplay(confusion_matrix=conf_mat, display_labels=clf.classes_)\n",
    "disp.plot(cmap=cmap_list[14])\n",
    "plt.show()"
   ]
  },
  {
   "cell_type": "code",
   "execution_count": 78,
   "id": "e3c266d3",
   "metadata": {},
   "outputs": [
    {
     "name": "stdout",
     "output_type": "stream",
     "text": [
      "\n",
      "Result of this Pipeline: \u001b[34mGaussian Noisy Input_Data\u001b[0m ---> \u001b[35mStandard Scaler\u001b[0m ---> \u001b[35mSVC(rbf)\u001b[0m\n",
      "\n",
      "Overall Accuracy: \u001b[32m0.24863201094391243\u001b[0m\n",
      "\n",
      "κ = \u001b[32m0.19486490483555208\u001b[0m\n",
      "\n"
     ]
    }
   ],
   "source": [
    "print(f\"\\nResult of this Pipeline: {colored('Gaussian Noisy Input_Data', 'blue')} ---> \\\n",
    "{colored('Standard Scaler', 'magenta')} ---> {colored('SVC(rbf)', 'magenta')}\")\n",
    "print(f'\\nOverall Accuracy: {colored(ov_acc, \"green\")}\\n\\n\\u03BA = {colored(kappa, \"green\")}\\n')"
   ]
  },
  {
   "cell_type": "markdown",
   "id": "a90b9310",
   "metadata": {},
   "source": [
    "- <a name=''>${\\bf{\\text{SVC(poly)}}}$</a>"
   ]
  },
  {
   "cell_type": "markdown",
   "id": "4c647d62",
   "metadata": {},
   "source": [
    "- - <a name=''>${{\\text{Grid Search}}}$</a>"
   ]
  },
  {
   "cell_type": "code",
   "execution_count": 79,
   "id": "9090695e",
   "metadata": {},
   "outputs": [],
   "source": [
    "svc = SVC(kernel='poly', random_state=0)"
   ]
  },
  {
   "cell_type": "code",
   "execution_count": 80,
   "id": "1ca9c192",
   "metadata": {},
   "outputs": [],
   "source": [
    "pipe = Pipeline(steps=[(\"svc\", svc)])"
   ]
  },
  {
   "cell_type": "code",
   "execution_count": 81,
   "id": "03969b38",
   "metadata": {},
   "outputs": [],
   "source": [
    "param_grid = {'svc__C': np.logspace(-4, 4, 9), \\\n",
    "             'svc__gamma': np.linspace(0, 1, 11), 'svc__degree': [2, 3, 4, 5]}"
   ]
  },
  {
   "cell_type": "code",
   "execution_count": 82,
   "id": "63cd2e9c",
   "metadata": {},
   "outputs": [],
   "source": [
    "input_data_dict = data_scaled"
   ]
  },
  {
   "cell_type": "code",
   "execution_count": 83,
   "id": "198dedb2",
   "metadata": {},
   "outputs": [
    {
     "name": "stderr",
     "output_type": "stream",
     "text": [
      "/home/shahin/.local/lib/python3.10/site-packages/sklearn/model_selection/_split.py:684: UserWarning: The least populated class in y has only 5 members, which is less than n_splits=15.\n",
      "  warnings.warn(\n",
      "/home/shahin/.local/lib/python3.10/site-packages/sklearn/model_selection/_validation.py:378: FitFailedWarning: \n",
      "540 fits failed out of a total of 5940.\n",
      "The score on these train-test partitions for these parameters will be set to nan.\n",
      "If these failures are not expected, you can try to debug them by setting error_score='raise'.\n",
      "\n",
      "Below are more details about the failures:\n",
      "--------------------------------------------------------------------------------\n",
      "540 fits failed with the following error:\n",
      "Traceback (most recent call last):\n",
      "  File \"/home/shahin/.local/lib/python3.10/site-packages/sklearn/model_selection/_validation.py\", line 686, in _fit_and_score\n",
      "    estimator.fit(X_train, y_train, **fit_params)\n",
      "  File \"/home/shahin/.local/lib/python3.10/site-packages/sklearn/pipeline.py\", line 382, in fit\n",
      "    self._final_estimator.fit(Xt, y, **fit_params_last_step)\n",
      "  File \"/home/shahin/.local/lib/python3.10/site-packages/sklearn/svm/_base.py\", line 237, in fit\n",
      "    raise ValueError(msg)\n",
      "ValueError: gamma value must be > 0; 0.0 is invalid. Use a positive number or use 'auto' to set gamma to a value of 1 / n_features.\n",
      "\n",
      "  warnings.warn(some_fits_failed_message, FitFailedWarning)\n",
      "/home/shahin/.local/lib/python3.10/site-packages/sklearn/model_selection/_search.py:953: UserWarning: One or more of the test scores are non-finite: [       nan 0.20981241 0.24069264 0.32698413 0.36118326 0.42265512\n",
      " 0.44718615 0.47157287 0.51226551 0.52727273 0.55238095        nan\n",
      " 0.35194805 0.51803752 0.63232323 0.64098124 0.6997114  0.70548341\n",
      " 0.71168831 0.71803752 0.72135642 0.72135642        nan 0.42871573\n",
      " 0.50865801 0.55772006 0.57965368 0.58282828 0.58282828 0.58282828\n",
      " 0.58282828 0.58282828 0.58282828        nan 0.52770563 0.57619048\n",
      " 0.58888889 0.58888889 0.58888889 0.58888889 0.58888889 0.58888889\n",
      " 0.58888889 0.58888889        nan 0.33621934 0.44704185 0.53665224\n",
      " 0.58600289 0.61659452 0.62914863 0.64126984 0.63463203 0.64689755\n",
      " 0.65324675        nan 0.54574315 0.67200577 0.71789322 0.72135642\n",
      " 0.72438672 0.72438672 0.72438672 0.72438672 0.72438672 0.72438672\n",
      "        nan 0.50577201 0.57633478 0.58282828 0.58282828 0.58282828\n",
      " 0.58282828 0.58282828 0.58282828 0.58282828 0.58282828        nan\n",
      " 0.56392496 0.58888889 0.58888889 0.58888889 0.58888889 0.58888889\n",
      " 0.58888889 0.58888889 0.58888889 0.58888889        nan 0.55238095\n",
      " 0.63852814 0.65627706 0.66248196 0.65930736 0.65930736 0.65930736\n",
      " 0.65930736 0.65930736 0.65930736        nan 0.69379509 0.72135642\n",
      " 0.72438672 0.72438672 0.72438672 0.72438672 0.72438672 0.72438672\n",
      " 0.72438672 0.72438672        nan 0.57027417 0.58282828 0.58282828\n",
      " 0.58282828 0.58282828 0.58282828 0.58282828 0.58282828 0.58282828\n",
      " 0.58282828        nan 0.58268398 0.58888889 0.58888889 0.58888889\n",
      " 0.58888889 0.58888889 0.58888889 0.58888889 0.58888889 0.58888889\n",
      "        nan 0.65324675 0.65930736 0.65930736 0.65930736 0.65930736\n",
      " 0.65930736 0.65930736 0.65930736 0.65930736 0.65930736        nan\n",
      " 0.72135642 0.72438672 0.72438672 0.72438672 0.72438672 0.72438672\n",
      " 0.72438672 0.72438672 0.72438672 0.72438672        nan 0.58282828\n",
      " 0.58282828 0.58282828 0.58282828 0.58282828 0.58282828 0.58282828\n",
      " 0.58282828 0.58282828 0.58282828        nan 0.58888889 0.58888889\n",
      " 0.58888889 0.58888889 0.58888889 0.58888889 0.58888889 0.58888889\n",
      " 0.58888889 0.58888889        nan 0.65930736 0.65930736 0.65930736\n",
      " 0.65930736 0.65930736 0.65930736 0.65930736 0.65930736 0.65930736\n",
      " 0.65930736        nan 0.72438672 0.72438672 0.72438672 0.72438672\n",
      " 0.72438672 0.72438672 0.72438672 0.72438672 0.72438672 0.72438672\n",
      "        nan 0.58282828 0.58282828 0.58282828 0.58282828 0.58282828\n",
      " 0.58282828 0.58282828 0.58282828 0.58282828 0.58282828        nan\n",
      " 0.58888889 0.58888889 0.58888889 0.58888889 0.58888889 0.58888889\n",
      " 0.58888889 0.58888889 0.58888889 0.58888889        nan 0.65930736\n",
      " 0.65930736 0.65930736 0.65930736 0.65930736 0.65930736 0.65930736\n",
      " 0.65930736 0.65930736 0.65930736        nan 0.72438672 0.72438672\n",
      " 0.72438672 0.72438672 0.72438672 0.72438672 0.72438672 0.72438672\n",
      " 0.72438672 0.72438672        nan 0.58282828 0.58282828 0.58282828\n",
      " 0.58282828 0.58282828 0.58282828 0.58282828 0.58282828 0.58282828\n",
      " 0.58282828        nan 0.58888889 0.58888889 0.58888889 0.58888889\n",
      " 0.58888889 0.58888889 0.58888889 0.58888889 0.58888889 0.58888889\n",
      "        nan 0.65930736 0.65930736 0.65930736 0.65930736 0.65930736\n",
      " 0.65930736 0.65930736 0.65930736 0.65930736 0.65930736        nan\n",
      " 0.72438672 0.72438672 0.72438672 0.72438672 0.72438672 0.72438672\n",
      " 0.72438672 0.72438672 0.72438672 0.72438672        nan 0.58282828\n",
      " 0.58282828 0.58282828 0.58282828 0.58282828 0.58282828 0.58282828\n",
      " 0.58282828 0.58282828 0.58282828        nan 0.58888889 0.58888889\n",
      " 0.58888889 0.58888889 0.58888889 0.58888889 0.58888889 0.58888889\n",
      " 0.58888889 0.58888889        nan 0.65930736 0.65930736 0.65930736\n",
      " 0.65930736 0.65930736 0.65930736 0.65930736 0.65930736 0.65930736\n",
      " 0.65930736        nan 0.72438672 0.72438672 0.72438672 0.72438672\n",
      " 0.72438672 0.72438672 0.72438672 0.72438672 0.72438672 0.72438672\n",
      "        nan 0.58282828 0.58282828 0.58282828 0.58282828 0.58282828\n",
      " 0.58282828 0.58282828 0.58282828 0.58282828 0.58282828        nan\n",
      " 0.58888889 0.58888889 0.58888889 0.58888889 0.58888889 0.58888889\n",
      " 0.58888889 0.58888889 0.58888889 0.58888889        nan 0.65930736\n",
      " 0.65930736 0.65930736 0.65930736 0.65930736 0.65930736 0.65930736\n",
      " 0.65930736 0.65930736 0.65930736        nan 0.72438672 0.72438672\n",
      " 0.72438672 0.72438672 0.72438672 0.72438672 0.72438672 0.72438672\n",
      " 0.72438672 0.72438672        nan 0.58282828 0.58282828 0.58282828\n",
      " 0.58282828 0.58282828 0.58282828 0.58282828 0.58282828 0.58282828\n",
      " 0.58282828        nan 0.58888889 0.58888889 0.58888889 0.58888889\n",
      " 0.58888889 0.58888889 0.58888889 0.58888889 0.58888889 0.58888889]\n",
      "  warnings.warn(\n"
     ]
    },
    {
     "data": {
      "text/html": [
       "<style>#sk-container-id-3 {color: black;background-color: white;}#sk-container-id-3 pre{padding: 0;}#sk-container-id-3 div.sk-toggleable {background-color: white;}#sk-container-id-3 label.sk-toggleable__label {cursor: pointer;display: block;width: 100%;margin-bottom: 0;padding: 0.3em;box-sizing: border-box;text-align: center;}#sk-container-id-3 label.sk-toggleable__label-arrow:before {content: \"▸\";float: left;margin-right: 0.25em;color: #696969;}#sk-container-id-3 label.sk-toggleable__label-arrow:hover:before {color: black;}#sk-container-id-3 div.sk-estimator:hover label.sk-toggleable__label-arrow:before {color: black;}#sk-container-id-3 div.sk-toggleable__content {max-height: 0;max-width: 0;overflow: hidden;text-align: left;background-color: #f0f8ff;}#sk-container-id-3 div.sk-toggleable__content pre {margin: 0.2em;color: black;border-radius: 0.25em;background-color: #f0f8ff;}#sk-container-id-3 input.sk-toggleable__control:checked~div.sk-toggleable__content {max-height: 200px;max-width: 100%;overflow: auto;}#sk-container-id-3 input.sk-toggleable__control:checked~label.sk-toggleable__label-arrow:before {content: \"▾\";}#sk-container-id-3 div.sk-estimator input.sk-toggleable__control:checked~label.sk-toggleable__label {background-color: #d4ebff;}#sk-container-id-3 div.sk-label input.sk-toggleable__control:checked~label.sk-toggleable__label {background-color: #d4ebff;}#sk-container-id-3 input.sk-hidden--visually {border: 0;clip: rect(1px 1px 1px 1px);clip: rect(1px, 1px, 1px, 1px);height: 1px;margin: -1px;overflow: hidden;padding: 0;position: absolute;width: 1px;}#sk-container-id-3 div.sk-estimator {font-family: monospace;background-color: #f0f8ff;border: 1px dotted black;border-radius: 0.25em;box-sizing: border-box;margin-bottom: 0.5em;}#sk-container-id-3 div.sk-estimator:hover {background-color: #d4ebff;}#sk-container-id-3 div.sk-parallel-item::after {content: \"\";width: 100%;border-bottom: 1px solid gray;flex-grow: 1;}#sk-container-id-3 div.sk-label:hover label.sk-toggleable__label {background-color: #d4ebff;}#sk-container-id-3 div.sk-serial::before {content: \"\";position: absolute;border-left: 1px solid gray;box-sizing: border-box;top: 0;bottom: 0;left: 50%;z-index: 0;}#sk-container-id-3 div.sk-serial {display: flex;flex-direction: column;align-items: center;background-color: white;padding-right: 0.2em;padding-left: 0.2em;position: relative;}#sk-container-id-3 div.sk-item {position: relative;z-index: 1;}#sk-container-id-3 div.sk-parallel {display: flex;align-items: stretch;justify-content: center;background-color: white;position: relative;}#sk-container-id-3 div.sk-item::before, #sk-container-id-3 div.sk-parallel-item::before {content: \"\";position: absolute;border-left: 1px solid gray;box-sizing: border-box;top: 0;bottom: 0;left: 50%;z-index: -1;}#sk-container-id-3 div.sk-parallel-item {display: flex;flex-direction: column;z-index: 1;position: relative;background-color: white;}#sk-container-id-3 div.sk-parallel-item:first-child::after {align-self: flex-end;width: 50%;}#sk-container-id-3 div.sk-parallel-item:last-child::after {align-self: flex-start;width: 50%;}#sk-container-id-3 div.sk-parallel-item:only-child::after {width: 0;}#sk-container-id-3 div.sk-dashed-wrapped {border: 1px dashed gray;margin: 0 0.4em 0.5em 0.4em;box-sizing: border-box;padding-bottom: 0.4em;background-color: white;}#sk-container-id-3 div.sk-label label {font-family: monospace;font-weight: bold;display: inline-block;line-height: 1.2em;}#sk-container-id-3 div.sk-label-container {text-align: center;}#sk-container-id-3 div.sk-container {/* jupyter's `normalize.less` sets `[hidden] { display: none; }` but bootstrap.min.css set `[hidden] { display: none !important; }` so we also need the `!important` here to be able to override the default hidden behavior on the sphinx rendered scikit-learn.org. See: https://github.com/scikit-learn/scikit-learn/issues/21755 */display: inline-block !important;position: relative;}#sk-container-id-3 div.sk-text-repr-fallback {display: none;}</style><div id=\"sk-container-id-3\" class=\"sk-top-container\"><div class=\"sk-text-repr-fallback\"><pre>GridSearchCV(cv=15,\n",
       "             estimator=Pipeline(steps=[(&#x27;svc&#x27;,\n",
       "                                        SVC(kernel=&#x27;poly&#x27;, random_state=0))]),\n",
       "             param_grid={&#x27;svc__C&#x27;: array([1.e-04, 1.e-03, 1.e-02, 1.e-01, 1.e+00, 1.e+01, 1.e+02, 1.e+03,\n",
       "       1.e+04]),\n",
       "                         &#x27;svc__degree&#x27;: [2, 3, 4, 5],\n",
       "                         &#x27;svc__gamma&#x27;: array([0. , 0.1, 0.2, 0.3, 0.4, 0.5, 0.6, 0.7, 0.8, 0.9, 1. ])})</pre><b>In a Jupyter environment, please rerun this cell to show the HTML representation or trust the notebook. <br />On GitHub, the HTML representation is unable to render, please try loading this page with nbviewer.org.</b></div><div class=\"sk-container\" hidden><div class=\"sk-item sk-dashed-wrapped\"><div class=\"sk-label-container\"><div class=\"sk-label sk-toggleable\"><input class=\"sk-toggleable__control sk-hidden--visually\" id=\"sk-estimator-id-5\" type=\"checkbox\" ><label for=\"sk-estimator-id-5\" class=\"sk-toggleable__label sk-toggleable__label-arrow\">GridSearchCV</label><div class=\"sk-toggleable__content\"><pre>GridSearchCV(cv=15,\n",
       "             estimator=Pipeline(steps=[(&#x27;svc&#x27;,\n",
       "                                        SVC(kernel=&#x27;poly&#x27;, random_state=0))]),\n",
       "             param_grid={&#x27;svc__C&#x27;: array([1.e-04, 1.e-03, 1.e-02, 1.e-01, 1.e+00, 1.e+01, 1.e+02, 1.e+03,\n",
       "       1.e+04]),\n",
       "                         &#x27;svc__degree&#x27;: [2, 3, 4, 5],\n",
       "                         &#x27;svc__gamma&#x27;: array([0. , 0.1, 0.2, 0.3, 0.4, 0.5, 0.6, 0.7, 0.8, 0.9, 1. ])})</pre></div></div></div><div class=\"sk-parallel\"><div class=\"sk-parallel-item\"><div class=\"sk-item\"><div class=\"sk-label-container\"><div class=\"sk-label sk-toggleable\"><input class=\"sk-toggleable__control sk-hidden--visually\" id=\"sk-estimator-id-6\" type=\"checkbox\" ><label for=\"sk-estimator-id-6\" class=\"sk-toggleable__label sk-toggleable__label-arrow\">estimator: Pipeline</label><div class=\"sk-toggleable__content\"><pre>Pipeline(steps=[(&#x27;svc&#x27;, SVC(kernel=&#x27;poly&#x27;, random_state=0))])</pre></div></div></div><div class=\"sk-serial\"><div class=\"sk-item\"><div class=\"sk-serial\"><div class=\"sk-item\"><div class=\"sk-estimator sk-toggleable\"><input class=\"sk-toggleable__control sk-hidden--visually\" id=\"sk-estimator-id-7\" type=\"checkbox\" ><label for=\"sk-estimator-id-7\" class=\"sk-toggleable__label sk-toggleable__label-arrow\">SVC</label><div class=\"sk-toggleable__content\"><pre>SVC(kernel=&#x27;poly&#x27;, random_state=0)</pre></div></div></div></div></div></div></div></div></div></div></div></div>"
      ],
      "text/plain": [
       "GridSearchCV(cv=15,\n",
       "             estimator=Pipeline(steps=[('svc',\n",
       "                                        SVC(kernel='poly', random_state=0))]),\n",
       "             param_grid={'svc__C': array([1.e-04, 1.e-03, 1.e-02, 1.e-01, 1.e+00, 1.e+01, 1.e+02, 1.e+03,\n",
       "       1.e+04]),\n",
       "                         'svc__degree': [2, 3, 4, 5],\n",
       "                         'svc__gamma': array([0. , 0.1, 0.2, 0.3, 0.4, 0.5, 0.6, 0.7, 0.8, 0.9, 1. ])})"
      ]
     },
     "execution_count": 83,
     "metadata": {},
     "output_type": "execute_result"
    }
   ],
   "source": [
    "train_size = 0.1\n",
    "best_k_fold = 15\n",
    "X_train, y_train = input_data_dict['X_train_' + str(train_size)], input_data_dict['y_train_' + str(train_size)]\n",
    "search = GridSearchCV(pipe, param_grid, cv=best_k_fold)\n",
    "search.fit(X_train, y_train)"
   ]
  },
  {
   "cell_type": "code",
   "execution_count": 84,
   "id": "a4248813",
   "metadata": {},
   "outputs": [
    {
     "name": "stdout",
     "output_type": "stream",
     "text": [
      "\n",
      "λ = \u001b[34m0.001\u001b[0m\n",
      "\n",
      "γ = \u001b[34m0.5\u001b[0m\n",
      "\n",
      "Degree: \u001b[34m3\u001b[0m\n",
      "\n"
     ]
    }
   ],
   "source": [
    "best_params = search.best_params_\n",
    "best_lambda, best_gamma, best_degree = best_params['svc__C'], best_params['svc__gamma'], \\\n",
    "best_params['svc__degree']\n",
    "print(f'\\n\\u03BB = {colored(best_lambda, \"blue\")}\\n\\n\\u03B3 = \\\n",
    "{colored(best_gamma, \"blue\")}\\n\\nDegree: {colored(best_degree, \"blue\")}\\n')"
   ]
  },
  {
   "cell_type": "code",
   "execution_count": 85,
   "id": "ce616b77",
   "metadata": {},
   "outputs": [
    {
     "name": "stdout",
     "output_type": "stream",
     "text": [
      "\n",
      "Best Accuracy is: \u001b[34m0.7243867243867242\u001b[0m\n",
      "\n"
     ]
    }
   ],
   "source": [
    "best_score = search.best_score_\n",
    "print(f'\\nBest Accuracy is: {colored(best_score, \"blue\")}\\n')"
   ]
  },
  {
   "cell_type": "markdown",
   "id": "b4feb313",
   "metadata": {},
   "source": [
    "- - <a name=''>${\\text{Test:}}$</a>"
   ]
  },
  {
   "cell_type": "code",
   "execution_count": 86,
   "id": "ffcbfe91",
   "metadata": {},
   "outputs": [
    {
     "data": {
      "text/html": [
       "<style>#sk-container-id-4 {color: black;background-color: white;}#sk-container-id-4 pre{padding: 0;}#sk-container-id-4 div.sk-toggleable {background-color: white;}#sk-container-id-4 label.sk-toggleable__label {cursor: pointer;display: block;width: 100%;margin-bottom: 0;padding: 0.3em;box-sizing: border-box;text-align: center;}#sk-container-id-4 label.sk-toggleable__label-arrow:before {content: \"▸\";float: left;margin-right: 0.25em;color: #696969;}#sk-container-id-4 label.sk-toggleable__label-arrow:hover:before {color: black;}#sk-container-id-4 div.sk-estimator:hover label.sk-toggleable__label-arrow:before {color: black;}#sk-container-id-4 div.sk-toggleable__content {max-height: 0;max-width: 0;overflow: hidden;text-align: left;background-color: #f0f8ff;}#sk-container-id-4 div.sk-toggleable__content pre {margin: 0.2em;color: black;border-radius: 0.25em;background-color: #f0f8ff;}#sk-container-id-4 input.sk-toggleable__control:checked~div.sk-toggleable__content {max-height: 200px;max-width: 100%;overflow: auto;}#sk-container-id-4 input.sk-toggleable__control:checked~label.sk-toggleable__label-arrow:before {content: \"▾\";}#sk-container-id-4 div.sk-estimator input.sk-toggleable__control:checked~label.sk-toggleable__label {background-color: #d4ebff;}#sk-container-id-4 div.sk-label input.sk-toggleable__control:checked~label.sk-toggleable__label {background-color: #d4ebff;}#sk-container-id-4 input.sk-hidden--visually {border: 0;clip: rect(1px 1px 1px 1px);clip: rect(1px, 1px, 1px, 1px);height: 1px;margin: -1px;overflow: hidden;padding: 0;position: absolute;width: 1px;}#sk-container-id-4 div.sk-estimator {font-family: monospace;background-color: #f0f8ff;border: 1px dotted black;border-radius: 0.25em;box-sizing: border-box;margin-bottom: 0.5em;}#sk-container-id-4 div.sk-estimator:hover {background-color: #d4ebff;}#sk-container-id-4 div.sk-parallel-item::after {content: \"\";width: 100%;border-bottom: 1px solid gray;flex-grow: 1;}#sk-container-id-4 div.sk-label:hover label.sk-toggleable__label {background-color: #d4ebff;}#sk-container-id-4 div.sk-serial::before {content: \"\";position: absolute;border-left: 1px solid gray;box-sizing: border-box;top: 0;bottom: 0;left: 50%;z-index: 0;}#sk-container-id-4 div.sk-serial {display: flex;flex-direction: column;align-items: center;background-color: white;padding-right: 0.2em;padding-left: 0.2em;position: relative;}#sk-container-id-4 div.sk-item {position: relative;z-index: 1;}#sk-container-id-4 div.sk-parallel {display: flex;align-items: stretch;justify-content: center;background-color: white;position: relative;}#sk-container-id-4 div.sk-item::before, #sk-container-id-4 div.sk-parallel-item::before {content: \"\";position: absolute;border-left: 1px solid gray;box-sizing: border-box;top: 0;bottom: 0;left: 50%;z-index: -1;}#sk-container-id-4 div.sk-parallel-item {display: flex;flex-direction: column;z-index: 1;position: relative;background-color: white;}#sk-container-id-4 div.sk-parallel-item:first-child::after {align-self: flex-end;width: 50%;}#sk-container-id-4 div.sk-parallel-item:last-child::after {align-self: flex-start;width: 50%;}#sk-container-id-4 div.sk-parallel-item:only-child::after {width: 0;}#sk-container-id-4 div.sk-dashed-wrapped {border: 1px dashed gray;margin: 0 0.4em 0.5em 0.4em;box-sizing: border-box;padding-bottom: 0.4em;background-color: white;}#sk-container-id-4 div.sk-label label {font-family: monospace;font-weight: bold;display: inline-block;line-height: 1.2em;}#sk-container-id-4 div.sk-label-container {text-align: center;}#sk-container-id-4 div.sk-container {/* jupyter's `normalize.less` sets `[hidden] { display: none; }` but bootstrap.min.css set `[hidden] { display: none !important; }` so we also need the `!important` here to be able to override the default hidden behavior on the sphinx rendered scikit-learn.org. See: https://github.com/scikit-learn/scikit-learn/issues/21755 */display: inline-block !important;position: relative;}#sk-container-id-4 div.sk-text-repr-fallback {display: none;}</style><div id=\"sk-container-id-4\" class=\"sk-top-container\"><div class=\"sk-text-repr-fallback\"><pre>SVC(C=0.001, gamma=0.5, kernel=&#x27;poly&#x27;)</pre><b>In a Jupyter environment, please rerun this cell to show the HTML representation or trust the notebook. <br />On GitHub, the HTML representation is unable to render, please try loading this page with nbviewer.org.</b></div><div class=\"sk-container\" hidden><div class=\"sk-item\"><div class=\"sk-estimator sk-toggleable\"><input class=\"sk-toggleable__control sk-hidden--visually\" id=\"sk-estimator-id-8\" type=\"checkbox\" checked><label for=\"sk-estimator-id-8\" class=\"sk-toggleable__label sk-toggleable__label-arrow\">SVC</label><div class=\"sk-toggleable__content\"><pre>SVC(C=0.001, gamma=0.5, kernel=&#x27;poly&#x27;)</pre></div></div></div></div></div>"
      ],
      "text/plain": [
       "SVC(C=0.001, gamma=0.5, kernel='poly')"
      ]
     },
     "execution_count": 86,
     "metadata": {},
     "output_type": "execute_result"
    }
   ],
   "source": [
    "train_size = 0.1\n",
    "clf = SVC(C=best_lambda, kernel='poly', gamma=best_gamma, degree=best_degree)\n",
    "X_train, y_train, X_test, y_test = input_data_dict['X_train_' + str(train_size)], \\\n",
    "input_data_dict['y_train_' + str(train_size)], input_data_dict['X_test_' + str(train_size)], \\\n",
    "input_data_dict['y_test_' + str(train_size)]\n",
    "clf.fit(X_train, y_train)"
   ]
  },
  {
   "cell_type": "code",
   "execution_count": 87,
   "id": "98f322c8",
   "metadata": {},
   "outputs": [
    {
     "data": {
      "text/html": [
       "<div>\n",
       "<style scoped>\n",
       "    .dataframe tbody tr th:only-of-type {\n",
       "        vertical-align: middle;\n",
       "    }\n",
       "\n",
       "    .dataframe tbody tr th {\n",
       "        vertical-align: top;\n",
       "    }\n",
       "\n",
       "    .dataframe thead th {\n",
       "        text-align: right;\n",
       "    }\n",
       "</style>\n",
       "<table border=\"1\" class=\"dataframe\">\n",
       "  <thead>\n",
       "    <tr style=\"text-align: right;\">\n",
       "      <th></th>\n",
       "      <th>Class</th>\n",
       "      <th>Accuracy</th>\n",
       "    </tr>\n",
       "  </thead>\n",
       "  <tbody>\n",
       "    <tr>\n",
       "      <th>0</th>\n",
       "      <td>1</td>\n",
       "      <td>1.000000</td>\n",
       "    </tr>\n",
       "    <tr>\n",
       "      <th>1</th>\n",
       "      <td>2</td>\n",
       "      <td>0.802198</td>\n",
       "    </tr>\n",
       "    <tr>\n",
       "      <th>2</th>\n",
       "      <td>3</td>\n",
       "      <td>0.965217</td>\n",
       "    </tr>\n",
       "    <tr>\n",
       "      <th>3</th>\n",
       "      <td>4</td>\n",
       "      <td>0.825641</td>\n",
       "    </tr>\n",
       "    <tr>\n",
       "      <th>4</th>\n",
       "      <td>5</td>\n",
       "      <td>0.536585</td>\n",
       "    </tr>\n",
       "    <tr>\n",
       "      <th>5</th>\n",
       "      <td>6</td>\n",
       "      <td>0.554167</td>\n",
       "    </tr>\n",
       "    <tr>\n",
       "      <th>6</th>\n",
       "      <td>7</td>\n",
       "      <td>0.816239</td>\n",
       "    </tr>\n",
       "    <tr>\n",
       "      <th>7</th>\n",
       "      <td>8</td>\n",
       "      <td>0.817647</td>\n",
       "    </tr>\n",
       "    <tr>\n",
       "      <th>8</th>\n",
       "      <td>9</td>\n",
       "      <td>0.559859</td>\n",
       "    </tr>\n",
       "    <tr>\n",
       "      <th>9</th>\n",
       "      <td>10</td>\n",
       "      <td>0.490909</td>\n",
       "    </tr>\n",
       "    <tr>\n",
       "      <th>10</th>\n",
       "      <td>11</td>\n",
       "      <td>0.772242</td>\n",
       "    </tr>\n",
       "    <tr>\n",
       "      <th>11</th>\n",
       "      <td>12</td>\n",
       "      <td>0.855346</td>\n",
       "    </tr>\n",
       "    <tr>\n",
       "      <th>12</th>\n",
       "      <td>13</td>\n",
       "      <td>0.415323</td>\n",
       "    </tr>\n",
       "    <tr>\n",
       "      <th>13</th>\n",
       "      <td>14</td>\n",
       "      <td>0.955556</td>\n",
       "    </tr>\n",
       "  </tbody>\n",
       "</table>\n",
       "</div>"
      ],
      "text/plain": [
       "    Class  Accuracy\n",
       "0       1  1.000000\n",
       "1       2  0.802198\n",
       "2       3  0.965217\n",
       "3       4  0.825641\n",
       "4       5  0.536585\n",
       "5       6  0.554167\n",
       "6       7  0.816239\n",
       "7       8  0.817647\n",
       "8       9  0.559859\n",
       "9      10  0.490909\n",
       "10     11  0.772242\n",
       "11     12  0.855346\n",
       "12     13  0.415323\n",
       "13     14  0.955556"
      ]
     },
     "execution_count": 87,
     "metadata": {},
     "output_type": "execute_result"
    }
   ],
   "source": [
    "y_pred = clf.predict(X_test)\n",
    "ov_acc = accuracy_score(y_test, y_pred)\n",
    "conf_mat = confusion_matrix(y_test, y_pred)\n",
    "kappa = cohen_kappa_score(y_test, y_pred)\n",
    "acc_for_each_class = conf_mat.diagonal()/conf_mat.sum(axis=1)\n",
    "df_result1 = pd.DataFrame({'Class': range(1, 15), 'Accuracy': acc_for_each_class})\n",
    "df_result1"
   ]
  },
  {
   "cell_type": "markdown",
   "id": "9bde4424",
   "metadata": {},
   "source": [
    "- <a name=''>${\\bf{\\text{Heatmap for Confusion Matrix}}}$</a>"
   ]
  },
  {
   "cell_type": "code",
   "execution_count": 88,
   "id": "f2cbd515",
   "metadata": {},
   "outputs": [
    {
     "data": {
      "image/png": "[encoded data removed]",
      "text/plain": [
       "<Figure size 640x480 with 2 Axes>"
      ]
     },
     "metadata": {},
     "output_type": "display_data"
    }
   ],
   "source": [
    "cmap_list = ['Greys', 'Purples', 'Blues', 'Greens', 'Oranges', 'Reds', \\\n",
    "                      'YlOrBr', 'YlOrRd', 'OrRd', 'PuRd', 'RdPu', 'BuPu',\\\n",
    "                      'GnBu', 'PuBu', 'YlGnBu', 'PuBuGn', 'BuGn', 'YlGn']\n",
    "\n",
    "disp = ConfusionMatrixDisplay(confusion_matrix=conf_mat, display_labels=clf.classes_)\n",
    "disp.plot(cmap=cmap_list[14])\n",
    "plt.show()"
   ]
  },
  {
   "cell_type": "code",
   "execution_count": 89,
   "id": "2e2af82f",
   "metadata": {},
   "outputs": [
    {
     "name": "stdout",
     "output_type": "stream",
     "text": [
      "\n",
      "Result of this Pipeline: \u001b[34mGaussian Noisy Input Data\u001b[0m ---> \u001b[35mStandard Scaler\u001b[0m ---> \u001b[35mSVC(poly)\u001b[0m\n",
      "\n",
      "Overall Accuracy: \u001b[32m0.7168262653898769\u001b[0m\n",
      "\n",
      "κ = \u001b[32m0.6937007465585057\u001b[0m\n",
      "\n"
     ]
    }
   ],
   "source": [
    "print(f\"\\nResult of this Pipeline: {colored('Gaussian Noisy Input Data', 'blue')} ---> \\\n",
    "{colored('Standard Scaler', 'magenta')} ---> {colored('SVC(poly)', 'magenta')}\")\n",
    "print(f'\\nOverall Accuracy: {colored(ov_acc, \"green\")}\\n\\n\\u03BA = {colored(kappa, \"green\")}\\n')"
   ]
  },
  {
   "cell_type": "markdown",
   "id": "1b6bf2c5",
   "metadata": {},
   "source": [
    "- <a name=''>${\\bf{\\text{PCA + SVM}}}$</a>"
   ]
  },
  {
   "cell_type": "code",
   "execution_count": 29,
   "id": "9cee5b2b",
   "metadata": {},
   "outputs": [],
   "source": [
    "pca = PCA(n_components=2)"
   ]
  },
  {
   "cell_type": "code",
   "execution_count": 30,
   "id": "8bcd66db",
   "metadata": {},
   "outputs": [],
   "source": [
    "input_data_dict = data_scaled"
   ]
  },
  {
   "cell_type": "code",
   "execution_count": 31,
   "id": "03cd49e5",
   "metadata": {},
   "outputs": [
    {
     "name": "stdout",
     "output_type": "stream",
     "text": [
      "\n",
      "                       For n_components = \u001b[31m2\u001b[0m\n",
      "\n",
      "\n",
      "\n",
      "Explained Variance for X_train_\u001b[32m0.1\u001b[0m:     \u001b[34m0.796030866207132\u001b[0m\n",
      "\n",
      "\n",
      "Explained Variance for X_test_\u001b[32m0.1\u001b[0m:     \u001b[34m0.7971870234299268\u001b[0m\n",
      "\n"
     ]
    }
   ],
   "source": [
    "train_size_list = [0.1]\n",
    "data_reduced = {}\n",
    "print(f'\\n                       For n_components = {colored(pca.n_components, \"red\")}\\n\\n')\n",
    "for train_size in train_size_list:\n",
    "    data_reduced['X_train_' + str(train_size)] = pca.fit_transform(input_data_dict['X_train_' + str(train_size)])\n",
    "    print(f'\\nExplained Variance for X_train_{colored(train_size, \"green\")}: \\\n",
    "    {colored(np.sum(pca.explained_variance_ratio_), \"blue\")}\\n')\n",
    "    \n",
    "    data_reduced['X_test_' + str(train_size)] = pca.fit_transform(input_data_dict['X_test_' + str(train_size)])\n",
    "    print(f'\\nExplained Variance for X_test_{colored(train_size, \"green\")}: \\\n",
    "    {colored(np.sum(pca.explained_variance_ratio_), \"blue\")}\\n')\n",
    "    \n",
    "    data_reduced['y_train_' + str(train_size)] = input_data_dict['y_train_' + str(train_size)]\n",
    "    data_reduced['y_test_' + str(train_size)] = input_data_dict['y_test_' + str(train_size)]"
   ]
  },
  {
   "cell_type": "code",
   "execution_count": 32,
   "id": "3117cd75",
   "metadata": {},
   "outputs": [
    {
     "name": "stdout",
     "output_type": "stream",
     "text": [
      "\n",
      "\n",
      "Max of \u001b[32mX_train_0.1\u001b[0m:  36.997\n",
      "\n",
      "Min of \u001b[32mX_train_0.1\u001b[0m: -24.020\n",
      "\n",
      "Mean of \u001b[32mX_train_0.1\u001b[0m: -0.000\n",
      "\n",
      "Var of \u001b[32mX_train_0.1\u001b[0m:  57.712\n",
      "\n",
      "\n"
     ]
    }
   ],
   "source": [
    "train_size = 0.1\n",
    "print(f'\\n\\nMax of {colored(\"X_train_\" + str(train_size), \"green\")}: \\\n",
    "{(data_reduced[\"X_train_\" + str(train_size)]).max(): 0.3f}')\n",
    "print(f'\\nMin of {colored(\"X_train_\" + str(train_size), \"green\")}: \\\n",
    "{(data_reduced[\"X_train_\" + str(train_size)]).min(): 0.3f}')\n",
    "print(f'\\nMean of {colored(\"X_train_\" + str(train_size), \"green\")}: \\\n",
    "{(data_reduced[\"X_train_\" + str(train_size)]).mean(): 0.3f}')\n",
    "print(f'\\nVar of {colored(\"X_train_\" + str(train_size), \"green\")}: \\\n",
    "{(data_reduced[\"X_train_\" + str(train_size)]).var(): 0.3f}\\n\\n')"
   ]
  },
  {
   "cell_type": "code",
   "execution_count": 33,
   "id": "20d84bd7",
   "metadata": {},
   "outputs": [],
   "source": [
    "standard_scaler = StandardScaler()"
   ]
  },
  {
   "cell_type": "code",
   "execution_count": 34,
   "id": "95afa2e2",
   "metadata": {},
   "outputs": [],
   "source": [
    "train_size_list = [0.1]\n",
    "data_scaled = {}\n",
    "\n",
    "for train_size in train_size_list:\n",
    "    data_scaled['X_train_' + str(train_size)] = \\\n",
    "    standard_scaler.fit_transform(data_reduced['X_train_' + str(train_size)])\n",
    "    data_scaled['X_test_' + str(train_size)] = \\\n",
    "    standard_scaler.fit_transform(data_reduced['X_test_' + str(train_size)])\n",
    "    data_scaled['y_train_' + str(train_size)] = data_reduced['y_train_' + str(train_size)]\n",
    "    data_scaled['y_test_' + str(train_size)] = data_reduced['y_test_' + str(train_size)]"
   ]
  },
  {
   "cell_type": "code",
   "execution_count": 35,
   "id": "5007a65a",
   "metadata": {},
   "outputs": [
    {
     "name": "stdout",
     "output_type": "stream",
     "text": [
      "\n",
      "\n",
      "Max of \u001b[32mX_train_0.1\u001b[0m:  3.596\n",
      "\n",
      "Min of \u001b[32mX_train_0.1\u001b[0m: -2.335\n",
      "\n",
      "Mean of \u001b[32mX_train_0.1\u001b[0m:  0.000\n",
      "\n",
      "Var of \u001b[32mX_train_0.1\u001b[0m:  1.000\n",
      "\n",
      "\n"
     ]
    }
   ],
   "source": [
    "train_size = 0.1\n",
    "print(f'\\n\\nMax of {colored(\"X_train_\" + str(train_size), \"green\")}: \\\n",
    "{(data_scaled[\"X_train_\" + str(train_size)]).max(): 0.3f}')\n",
    "print(f'\\nMin of {colored(\"X_train_\" + str(train_size), \"green\")}: \\\n",
    "{(data_scaled[\"X_train_\" + str(train_size)]).min(): 0.3f}')\n",
    "print(f'\\nMean of {colored(\"X_train_\" + str(train_size), \"green\")}: \\\n",
    "{(data_scaled[\"X_train_\" + str(train_size)]).mean(): 0.3f}')\n",
    "print(f'\\nVar of {colored(\"X_train_\" + str(train_size), \"green\")}: \\\n",
    "{(data_scaled[\"X_train_\" + str(train_size)]).var(): 0.3f}\\n\\n')"
   ]
  },
  {
   "cell_type": "markdown",
   "id": "50cd719d",
   "metadata": {},
   "source": [
    "- <a name=''>${\\bf{\\text{Plotting}}}$</a>"
   ]
  },
  {
   "cell_type": "code",
   "execution_count": 49,
   "id": "fd26a015",
   "metadata": {},
   "outputs": [
    {
     "data": {
      "image/png": "[encoded data removed]",
      "text/plain": [
       "<Figure size 640x480 with 1 Axes>"
      ]
     },
     "metadata": {},
     "output_type": "display_data"
    }
   ],
   "source": [
    "train_size = 0.1\n",
    "X_train, y = data_scaled['X_train_' + str(train_size)], data_scaled['y_train_' + str(train_size)]\n",
    "X1, X2 = X_train[:, 0], X_train[:, 1]\n",
    "\n",
    "for class_name in range(1, 15):\n",
    "    plt.scatter(X1[y == class_name], X2[y == class_name], label=class_name)\n",
    "    \n",
    "plt.title('Scatter Plot for 2D by using PCA', fontsize=10)\n",
    "plt.legend()\n",
    "plt.show()"
   ]
  },
  {
   "cell_type": "markdown",
   "id": "2b5ba484",
   "metadata": {},
   "source": [
    "- - <a name=''>${\\text{Grid Search}}$</a>"
   ]
  },
  {
   "cell_type": "code",
   "execution_count": 36,
   "id": "e1cad3c5",
   "metadata": {},
   "outputs": [],
   "source": [
    "data_reduced = data_scaled\n",
    "input_data_dict = data_reduced"
   ]
  },
  {
   "cell_type": "code",
   "execution_count": 311,
   "id": "d6ca8370",
   "metadata": {},
   "outputs": [],
   "source": [
    "svc = SVC(random_state=0)"
   ]
  },
  {
   "cell_type": "code",
   "execution_count": 312,
   "id": "adea60a8",
   "metadata": {},
   "outputs": [],
   "source": [
    "pipe = Pipeline(steps=[(\"svc\", svc)])"
   ]
  },
  {
   "cell_type": "code",
   "execution_count": 313,
   "id": "bb3fd2e7",
   "metadata": {},
   "outputs": [],
   "source": [
    "param_grid = {'svc__C': np.logspace(-4, 4, 9), 'svc__kernel': ['linear', 'poly', 'rbf'], \\\n",
    "             'svc__gamma': np.linspace(0, 1, 11), 'svc__degree': [2, 3, 4]}"
   ]
  },
  {
   "cell_type": "code",
   "execution_count": 314,
   "id": "123d3c3b",
   "metadata": {},
   "outputs": [
    {
     "name": "stderr",
     "output_type": "stream",
     "text": [
      "/home/shahin/.local/lib/python3.10/site-packages/sklearn/model_selection/_split.py:684: UserWarning: The least populated class in y has only 5 members, which is less than n_splits=15.\n",
      "  warnings.warn(\n",
      "/home/shahin/.local/lib/python3.10/site-packages/sklearn/model_selection/_validation.py:378: FitFailedWarning: \n",
      "1215 fits failed out of a total of 13365.\n",
      "The score on these train-test partitions for these parameters will be set to nan.\n",
      "If these failures are not expected, you can try to debug them by setting error_score='raise'.\n",
      "\n",
      "Below are more details about the failures:\n",
      "--------------------------------------------------------------------------------\n",
      "1215 fits failed with the following error:\n",
      "Traceback (most recent call last):\n",
      "  File \"/home/shahin/.local/lib/python3.10/site-packages/sklearn/model_selection/_validation.py\", line 686, in _fit_and_score\n",
      "    estimator.fit(X_train, y_train, **fit_params)\n",
      "  File \"/home/shahin/.local/lib/python3.10/site-packages/sklearn/pipeline.py\", line 382, in fit\n",
      "    self._final_estimator.fit(Xt, y, **fit_params_last_step)\n",
      "  File \"/home/shahin/.local/lib/python3.10/site-packages/sklearn/svm/_base.py\", line 237, in fit\n",
      "    raise ValueError(msg)\n",
      "ValueError: gamma value must be > 0; 0.0 is invalid. Use a positive number or use 'auto' to set gamma to a value of 1 / n_features.\n",
      "\n",
      "  warnings.warn(some_fits_failed_message, FitFailedWarning)\n",
      "/home/shahin/.local/lib/python3.10/site-packages/sklearn/model_selection/_search.py:953: UserWarning: One or more of the test scores are non-finite: [       nan        nan        nan 0.12900433 0.12900433 0.12900433\n",
      " 0.12900433 0.12900433 0.12900433 0.12900433 0.12900433 0.12900433\n",
      " 0.12900433 0.12900433 0.12900433 0.12900433 0.12900433 0.12900433\n",
      " 0.12900433 0.12900433 0.12900433 0.12900433 0.12900433 0.12900433\n",
      " 0.12900433 0.12900433 0.12900433 0.12900433 0.12900433 0.12900433\n",
      " 0.12900433 0.12900433 0.12900433        nan        nan        nan\n",
      " 0.12900433 0.12900433 0.12900433 0.12900433 0.12900433 0.12900433\n",
      " 0.12900433 0.12900433 0.12900433 0.12900433 0.13203463 0.12900433\n",
      " 0.12900433 0.13203463 0.12900433 0.12900433 0.13203463 0.12900433\n",
      " 0.12900433 0.13203463 0.12900433 0.12900433 0.13506494 0.12900433\n",
      " 0.12900433 0.13506494 0.12900433 0.12900433 0.13823954 0.12900433\n",
      "        nan        nan        nan 0.12900433 0.12294372 0.12900433\n",
      " 0.12900433 0.12597403 0.12900433 0.12900433 0.12597403 0.12900433\n",
      " 0.12900433 0.12900433 0.12900433 0.12900433 0.12900433 0.12900433\n",
      " 0.12900433 0.13506494 0.12900433 0.12900433 0.20981241 0.12900433\n",
      " 0.12900433 0.21284271 0.12900433 0.12900433 0.23751804 0.12900433\n",
      " 0.12900433 0.24992785 0.12900433        nan        nan        nan\n",
      " 0.12900433 0.12900433 0.12900433 0.12900433 0.12900433 0.12900433\n",
      " 0.12900433 0.12900433 0.12900433 0.12900433 0.12900433 0.12900433\n",
      " 0.12900433 0.13203463 0.12900433 0.12900433 0.13506494 0.12900433\n",
      " 0.12900433 0.13506494 0.12900433 0.12900433 0.13506494 0.12900433\n",
      " 0.12900433 0.13809524 0.12900433 0.12900433 0.2036075  0.12900433\n",
      "        nan        nan        nan 0.12900433 0.12900433 0.12900433\n",
      " 0.12900433 0.13203463 0.12900433 0.12900433 0.13203463 0.12900433\n",
      " 0.12900433 0.13506494 0.12900433 0.12900433 0.21298701 0.12900433\n",
      " 0.12900433 0.21284271 0.12900433 0.12900433 0.24357864 0.12900433\n",
      " 0.12900433 0.25945166 0.12900433 0.12900433 0.28109668 0.12900433\n",
      " 0.12900433 0.31832612 0.12900433        nan        nan        nan\n",
      " 0.12900433 0.12597403 0.12900433 0.12900433 0.12597403 0.12900433\n",
      " 0.12900433 0.12900433 0.12900433 0.12900433 0.20981241 0.12900433\n",
      " 0.12900433 0.23751804 0.12900433 0.12900433 0.26551227 0.12900433\n",
      " 0.12900433 0.29321789 0.12900433 0.12900433 0.31183261 0.12900433\n",
      " 0.12900433 0.34559885 0.12900433 0.12900433 0.41356421 0.12900433\n",
      "        nan        nan        nan 0.32727273 0.12900433 0.12900433\n",
      " 0.32727273 0.13506494 0.12900433 0.32727273 0.16940837 0.12900433\n",
      " 0.32727273 0.20981241 0.12900433 0.32727273 0.24386724 0.12900433\n",
      " 0.32727273 0.25945166 0.12900433 0.32727273 0.28095238 0.12900433\n",
      " 0.32727273 0.31500722 0.12900433 0.32727273 0.33650794 0.12900433\n",
      " 0.32727273 0.37662338 0.12900433        nan        nan        nan\n",
      " 0.32727273 0.13203463 0.12900433 0.32727273 0.13506494 0.12900433\n",
      " 0.32727273 0.23419913 0.12900433 0.32727273 0.27186147 0.12900433\n",
      " 0.32727273 0.34891775 0.12900433 0.32727273 0.43549784 0.12900433\n",
      " 0.32727273 0.54978355 0.12900433 0.32727273 0.57705628 0.12900433\n",
      " 0.32727273 0.598557   0.12900433 0.32727273 0.61111111 0.12900433\n",
      "        nan        nan        nan 0.32727273 0.12597403 0.12900433\n",
      " 0.32727273 0.13506494 0.12900433 0.32727273 0.24372294 0.12900433\n",
      " 0.32727273 0.29321789 0.12900433 0.32727273 0.34242424 0.12900433\n",
      " 0.32727273 0.43766234 0.12900433 0.32727273 0.46897547 0.12900433\n",
      " 0.32727273 0.51818182 0.12900433 0.32727273 0.56103896 0.12900433\n",
      " 0.32727273 0.56378066 0.12900433        nan        nan        nan\n",
      " 0.702886   0.2036075  0.36767677 0.702886   0.26868687 0.42640693\n",
      " 0.702886   0.35800866 0.43506494 0.702886   0.48427128 0.43838384\n",
      " 0.702886   0.56103896 0.42900433 0.702886   0.56681097 0.41991342\n",
      " 0.702886   0.59437229 0.41385281 0.702886   0.61630592 0.39220779\n",
      " 0.702886   0.63477633 0.36406926 0.702886   0.64083694 0.34242424\n",
      "        nan        nan        nan 0.702886   0.13823954 0.36767677\n",
      " 0.702886   0.29033189 0.42640693 0.702886   0.48181818 0.43506494\n",
      " 0.702886   0.595671   0.43838384 0.702886   0.6047619  0.42900433\n",
      " 0.702886   0.65656566 0.41991342 0.702886   0.67821068 0.41385281\n",
      " 0.702886   0.65353535 0.39220779 0.702886   0.67518038 0.36406926\n",
      " 0.702886   0.66565657 0.34242424        nan        nan        nan\n",
      " 0.702886   0.12900433 0.36767677 0.702886   0.27171717 0.42640693\n",
      " 0.702886   0.37936508 0.43506494 0.702886   0.46594517 0.43838384\n",
      " 0.702886   0.56103896 0.42900433 0.702886   0.57907648 0.41991342\n",
      " 0.702886   0.56724387 0.41385281 0.702886   0.55815296 0.39220779\n",
      " 0.702886   0.57676768 0.36406926 0.702886   0.56406926 0.34242424\n",
      "        nan        nan        nan 0.78672439 0.37662338 0.73376623\n",
      " 0.78672439 0.58225108 0.74025974 0.78672439 0.62857143 0.73694084\n",
      " 0.78672439 0.63448773 0.73665224 0.78672439 0.64992785 0.73982684\n",
      " 0.78672439 0.66248196 0.73997114 0.78672439 0.65050505 0.74314574\n",
      " 0.78672439 0.63795094 0.74632035 0.78672439 0.63492063 0.74632035\n",
      " 0.78672439 0.62568543 0.74935065        nan        nan        nan\n",
      " 0.78672439 0.31832612 0.73376623 0.78672439 0.6049062  0.74025974\n",
      " 0.78672439 0.67215007 0.73694084 0.78672439 0.65036075 0.73665224\n",
      " 0.78672439 0.66219336 0.73982684 0.78672439 0.69321789 0.73997114\n",
      " 0.78672439 0.6968254  0.74314574 0.78672439 0.70937951 0.74632035\n",
      " 0.78672439 0.71212121 0.74632035 0.78672439 0.71861472 0.74935065\n",
      "        nan        nan        nan 0.78672439 0.24992785 0.73376623\n",
      " 0.78672439 0.45974026 0.74025974 0.78672439 0.55497835 0.73694084\n",
      " 0.78672439 0.56738817 0.73665224 0.78672439 0.56738817 0.73982684\n",
      " 0.78672439 0.56709957 0.73997114 0.78672439 0.57316017 0.74314574\n",
      " 0.78672439 0.57705628 0.74632035 0.78672439 0.58975469 0.74632035\n",
      " 0.78672439 0.5987013  0.74935065        nan        nan        nan\n",
      " 0.77720058 0.64083694 0.77979798 0.77720058 0.65642136 0.74877345\n",
      " 0.77720058 0.63174603 0.75512266 0.77720058 0.64675325 0.74603175\n",
      " 0.77720058 0.64401154 0.74632035 0.77720058 0.64098124 0.73391053\n",
      " 0.77720058 0.63795094 0.73102453 0.77720058 0.63780664 0.71832612\n",
      " 0.77720058 0.64386724 0.71544012 0.77720058 0.64372294 0.71240981\n",
      "        nan        nan        nan 0.77720058 0.61111111 0.77979798\n",
      " 0.77720058 0.66897547 0.74877345 0.77720058 0.6966811  0.75512266\n",
      " 0.77720058 0.71226551 0.74603175 0.77720058 0.71558442 0.74632035\n",
      " 0.77720058 0.69033189 0.73391053 0.77720058 0.69062049 0.73102453\n",
      " 0.77720058 0.702886   0.71832612 0.77720058 0.71515152 0.71544012\n",
      " 0.77720058 0.70894661 0.71240981        nan        nan        nan\n",
      " 0.77720058 0.41356421 0.77979798 0.77720058 0.57590188 0.74877345\n",
      " 0.77720058 0.58282828 0.75512266 0.77720058 0.57330447 0.74603175\n",
      " 0.77720058 0.58975469 0.74632035 0.77720058 0.6049062  0.73391053\n",
      " 0.77720058 0.58946609 0.73102453 0.77720058 0.6015873  0.71832612\n",
      " 0.77720058 0.59206349 0.71544012 0.77720058 0.6011544  0.71240981\n",
      "        nan        nan        nan 0.75873016 0.62568543 0.76161616\n",
      " 0.75873016 0.64098124 0.76190476 0.75873016 0.65339105 0.74011544\n",
      " 0.75873016 0.65021645 0.73131313 0.75873016 0.64098124 0.74357864\n",
      " 0.75873016 0.64733045 0.72813853 0.75873016 0.64386724 0.72481962\n",
      " 0.75873016 0.64704185 0.71544012 0.75873016 0.65021645 0.71544012\n",
      " 0.75873016 0.65021645 0.71544012        nan        nan        nan\n",
      " 0.75873016 0.66565657 0.76161616 0.75873016 0.71212121 0.76190476\n",
      " 0.75873016 0.68412698 0.74011544 0.75873016 0.70909091 0.73131313\n",
      " 0.75873016 0.6998557  0.74357864 0.75873016 0.68152958 0.72813853\n",
      " 0.75873016 0.68455988 0.72481962 0.75873016 0.6968254  0.71544012\n",
      " 0.75873016 0.6965368  0.71544012 0.75873016 0.6997114  0.71544012\n",
      "        nan        nan        nan 0.75873016 0.56378066 0.76161616\n",
      " 0.75873016 0.57041847 0.76190476 0.75873016 0.58961039 0.74011544\n",
      " 0.75873016 0.58946609 0.73131313 0.75873016 0.59191919 0.74357864\n",
      " 0.75873016 0.604329   0.72813853 0.75873016 0.57907648 0.72481962\n",
      " 0.75873016 0.58528139 0.71544012 0.75873016 0.58542569 0.71544012\n",
      " 0.75873016 0.58513709 0.71544012        nan        nan        nan\n",
      " 0.78051948 0.64372294 0.73997114 0.78051948 0.64718615 0.72164502\n",
      " 0.78051948 0.64718615 0.73391053 0.78051948 0.65036075 0.72481962\n",
      " 0.78051948 0.65324675 0.74025974 0.78051948 0.65007215 0.71875902\n",
      " 0.78051948 0.64386724 0.71544012 0.78051948 0.65324675 0.70606061\n",
      " 0.78051948 0.65007215 0.70923521 0.78051948 0.65007215 0.71226551\n",
      "        nan        nan        nan 0.78051948 0.71861472 0.73997114\n",
      " 0.78051948 0.71515152 0.72164502 0.78051948 0.68773449 0.73391053\n",
      " 0.78051948 0.6998557  0.72481962 0.78051948 0.70591631 0.74025974\n",
      " 0.78051948 0.6965368  0.71875902 0.78051948 0.70606061 0.71544012\n",
      " 0.78051948 0.7030303  0.70606061 0.78051948 0.6998557  0.70923521\n",
      " 0.78051948 0.6968254  0.71226551        nan        nan        nan\n",
      " 0.78051948 0.56406926 0.73997114 0.78051948 0.5987013  0.72164502\n",
      " 0.78051948 0.58888889 0.73391053 0.78051948 0.58210678 0.72481962\n",
      " 0.78051948 0.58542569 0.74025974 0.78051948 0.58513709 0.71875902\n",
      " 0.78051948 0.57922078 0.71544012 0.78051948 0.58528139 0.70606061\n",
      " 0.78051948 0.58845599 0.70923521 0.78051948 0.58528139 0.71226551\n",
      "        nan        nan        nan 0.77734488 0.65021645 0.73376623\n",
      " 0.77734488 0.64704185 0.74935065 0.77734488 0.65007215 0.73391053\n",
      " 0.77734488 0.65007215 0.72193362 0.77734488 0.65021645 0.73419913\n",
      " 0.77734488 0.65310245 0.71572872 0.77734488 0.64704185 0.71240981\n",
      " 0.77734488 0.64704185 0.70923521 0.77734488 0.64704185 0.70923521\n",
      " 0.77734488 0.64401154 0.71226551        nan        nan        nan\n",
      " 0.77734488 0.70894661 0.73376623 0.77734488 0.7027417  0.74935065\n",
      " 0.77734488 0.6997114  0.73391053 0.77734488 0.7030303  0.72193362\n",
      " 0.77734488 0.7        0.73419913 0.77734488 0.7        0.71572872\n",
      " 0.77734488 0.7031746  0.71240981 0.77734488 0.70620491 0.70923521\n",
      " 0.77734488 0.7030303  0.70923521 0.77734488 0.7        0.71226551\n",
      "        nan        nan        nan 0.77734488 0.5987013  0.73376623\n",
      " 0.77734488 0.59480519 0.74935065 0.77734488 0.58845599 0.73391053\n",
      " 0.77734488 0.57922078 0.72193362 0.77734488 0.58845599 0.73419913\n",
      " 0.77734488 0.58845599 0.71572872 0.77734488 0.58845599 0.71240981\n",
      " 0.77734488 0.58860029 0.70923521 0.77734488 0.59466089 0.70923521\n",
      " 0.77734488 0.59466089 0.71226551]\n",
      "  warnings.warn(\n"
     ]
    },
    {
     "data": {
      "text/html": [
       "<style>#sk-container-id-9 {color: black;background-color: white;}#sk-container-id-9 pre{padding: 0;}#sk-container-id-9 div.sk-toggleable {background-color: white;}#sk-container-id-9 label.sk-toggleable__label {cursor: pointer;display: block;width: 100%;margin-bottom: 0;padding: 0.3em;box-sizing: border-box;text-align: center;}#sk-container-id-9 label.sk-toggleable__label-arrow:before {content: \"▸\";float: left;margin-right: 0.25em;color: #696969;}#sk-container-id-9 label.sk-toggleable__label-arrow:hover:before {color: black;}#sk-container-id-9 div.sk-estimator:hover label.sk-toggleable__label-arrow:before {color: black;}#sk-container-id-9 div.sk-toggleable__content {max-height: 0;max-width: 0;overflow: hidden;text-align: left;background-color: #f0f8ff;}#sk-container-id-9 div.sk-toggleable__content pre {margin: 0.2em;color: black;border-radius: 0.25em;background-color: #f0f8ff;}#sk-container-id-9 input.sk-toggleable__control:checked~div.sk-toggleable__content {max-height: 200px;max-width: 100%;overflow: auto;}#sk-container-id-9 input.sk-toggleable__control:checked~label.sk-toggleable__label-arrow:before {content: \"▾\";}#sk-container-id-9 div.sk-estimator input.sk-toggleable__control:checked~label.sk-toggleable__label {background-color: #d4ebff;}#sk-container-id-9 div.sk-label input.sk-toggleable__control:checked~label.sk-toggleable__label {background-color: #d4ebff;}#sk-container-id-9 input.sk-hidden--visually {border: 0;clip: rect(1px 1px 1px 1px);clip: rect(1px, 1px, 1px, 1px);height: 1px;margin: -1px;overflow: hidden;padding: 0;position: absolute;width: 1px;}#sk-container-id-9 div.sk-estimator {font-family: monospace;background-color: #f0f8ff;border: 1px dotted black;border-radius: 0.25em;box-sizing: border-box;margin-bottom: 0.5em;}#sk-container-id-9 div.sk-estimator:hover {background-color: #d4ebff;}#sk-container-id-9 div.sk-parallel-item::after {content: \"\";width: 100%;border-bottom: 1px solid gray;flex-grow: 1;}#sk-container-id-9 div.sk-label:hover label.sk-toggleable__label {background-color: #d4ebff;}#sk-container-id-9 div.sk-serial::before {content: \"\";position: absolute;border-left: 1px solid gray;box-sizing: border-box;top: 0;bottom: 0;left: 50%;z-index: 0;}#sk-container-id-9 div.sk-serial {display: flex;flex-direction: column;align-items: center;background-color: white;padding-right: 0.2em;padding-left: 0.2em;position: relative;}#sk-container-id-9 div.sk-item {position: relative;z-index: 1;}#sk-container-id-9 div.sk-parallel {display: flex;align-items: stretch;justify-content: center;background-color: white;position: relative;}#sk-container-id-9 div.sk-item::before, #sk-container-id-9 div.sk-parallel-item::before {content: \"\";position: absolute;border-left: 1px solid gray;box-sizing: border-box;top: 0;bottom: 0;left: 50%;z-index: -1;}#sk-container-id-9 div.sk-parallel-item {display: flex;flex-direction: column;z-index: 1;position: relative;background-color: white;}#sk-container-id-9 div.sk-parallel-item:first-child::after {align-self: flex-end;width: 50%;}#sk-container-id-9 div.sk-parallel-item:last-child::after {align-self: flex-start;width: 50%;}#sk-container-id-9 div.sk-parallel-item:only-child::after {width: 0;}#sk-container-id-9 div.sk-dashed-wrapped {border: 1px dashed gray;margin: 0 0.4em 0.5em 0.4em;box-sizing: border-box;padding-bottom: 0.4em;background-color: white;}#sk-container-id-9 div.sk-label label {font-family: monospace;font-weight: bold;display: inline-block;line-height: 1.2em;}#sk-container-id-9 div.sk-label-container {text-align: center;}#sk-container-id-9 div.sk-container {/* jupyter's `normalize.less` sets `[hidden] { display: none; }` but bootstrap.min.css set `[hidden] { display: none !important; }` so we also need the `!important` here to be able to override the default hidden behavior on the sphinx rendered scikit-learn.org. See: https://github.com/scikit-learn/scikit-learn/issues/21755 */display: inline-block !important;position: relative;}#sk-container-id-9 div.sk-text-repr-fallback {display: none;}</style><div id=\"sk-container-id-9\" class=\"sk-top-container\"><div class=\"sk-text-repr-fallback\"><pre>GridSearchCV(cv=15, estimator=Pipeline(steps=[(&#x27;svc&#x27;, SVC(random_state=0))]),\n",
       "             param_grid={&#x27;svc__C&#x27;: array([1.e-04, 1.e-03, 1.e-02, 1.e-01, 1.e+00, 1.e+01, 1.e+02, 1.e+03,\n",
       "       1.e+04]),\n",
       "                         &#x27;svc__degree&#x27;: [2, 3, 4],\n",
       "                         &#x27;svc__gamma&#x27;: array([0. , 0.1, 0.2, 0.3, 0.4, 0.5, 0.6, 0.7, 0.8, 0.9, 1. ]),\n",
       "                         &#x27;svc__kernel&#x27;: [&#x27;linear&#x27;, &#x27;poly&#x27;, &#x27;rbf&#x27;]})</pre><b>In a Jupyter environment, please rerun this cell to show the HTML representation or trust the notebook. <br />On GitHub, the HTML representation is unable to render, please try loading this page with nbviewer.org.</b></div><div class=\"sk-container\" hidden><div class=\"sk-item sk-dashed-wrapped\"><div class=\"sk-label-container\"><div class=\"sk-label sk-toggleable\"><input class=\"sk-toggleable__control sk-hidden--visually\" id=\"sk-estimator-id-19\" type=\"checkbox\" ><label for=\"sk-estimator-id-19\" class=\"sk-toggleable__label sk-toggleable__label-arrow\">GridSearchCV</label><div class=\"sk-toggleable__content\"><pre>GridSearchCV(cv=15, estimator=Pipeline(steps=[(&#x27;svc&#x27;, SVC(random_state=0))]),\n",
       "             param_grid={&#x27;svc__C&#x27;: array([1.e-04, 1.e-03, 1.e-02, 1.e-01, 1.e+00, 1.e+01, 1.e+02, 1.e+03,\n",
       "       1.e+04]),\n",
       "                         &#x27;svc__degree&#x27;: [2, 3, 4],\n",
       "                         &#x27;svc__gamma&#x27;: array([0. , 0.1, 0.2, 0.3, 0.4, 0.5, 0.6, 0.7, 0.8, 0.9, 1. ]),\n",
       "                         &#x27;svc__kernel&#x27;: [&#x27;linear&#x27;, &#x27;poly&#x27;, &#x27;rbf&#x27;]})</pre></div></div></div><div class=\"sk-parallel\"><div class=\"sk-parallel-item\"><div class=\"sk-item\"><div class=\"sk-label-container\"><div class=\"sk-label sk-toggleable\"><input class=\"sk-toggleable__control sk-hidden--visually\" id=\"sk-estimator-id-20\" type=\"checkbox\" ><label for=\"sk-estimator-id-20\" class=\"sk-toggleable__label sk-toggleable__label-arrow\">estimator: Pipeline</label><div class=\"sk-toggleable__content\"><pre>Pipeline(steps=[(&#x27;svc&#x27;, SVC(random_state=0))])</pre></div></div></div><div class=\"sk-serial\"><div class=\"sk-item\"><div class=\"sk-serial\"><div class=\"sk-item\"><div class=\"sk-estimator sk-toggleable\"><input class=\"sk-toggleable__control sk-hidden--visually\" id=\"sk-estimator-id-21\" type=\"checkbox\" ><label for=\"sk-estimator-id-21\" class=\"sk-toggleable__label sk-toggleable__label-arrow\">SVC</label><div class=\"sk-toggleable__content\"><pre>SVC(random_state=0)</pre></div></div></div></div></div></div></div></div></div></div></div></div>"
      ],
      "text/plain": [
       "GridSearchCV(cv=15, estimator=Pipeline(steps=[('svc', SVC(random_state=0))]),\n",
       "             param_grid={'svc__C': array([1.e-04, 1.e-03, 1.e-02, 1.e-01, 1.e+00, 1.e+01, 1.e+02, 1.e+03,\n",
       "       1.e+04]),\n",
       "                         'svc__degree': [2, 3, 4],\n",
       "                         'svc__gamma': array([0. , 0.1, 0.2, 0.3, 0.4, 0.5, 0.6, 0.7, 0.8, 0.9, 1. ]),\n",
       "                         'svc__kernel': ['linear', 'poly', 'rbf']})"
      ]
     },
     "execution_count": 314,
     "metadata": {},
     "output_type": "execute_result"
    }
   ],
   "source": [
    "train_size = 0.1\n",
    "best_k_fold = 15\n",
    "X_train, y_train = input_data_dict['X_train_' + str(train_size)], input_data_dict['y_train_' + str(train_size)]\n",
    "search = GridSearchCV(pipe, param_grid, cv=best_k_fold)\n",
    "search.fit(X_train, y_train)"
   ]
  },
  {
   "cell_type": "code",
   "execution_count": 315,
   "id": "b8c3f25b",
   "metadata": {},
   "outputs": [
    {
     "name": "stdout",
     "output_type": "stream",
     "text": [
      "\n",
      "λ = \u001b[34m1.0\u001b[0m\n",
      "\n",
      "γ = \u001b[34m0.1\u001b[0m\n",
      "\n",
      "Kernel = \u001b[34mlinear\u001b[0m\n",
      "\n",
      "Degree = \u001b[34m2\u001b[0m\n",
      "\n"
     ]
    }
   ],
   "source": [
    "best_params = search.best_params_\n",
    "best_lambda, best_gamma, best_kernel, best_degree = best_params['svc__C'], best_params['svc__gamma'], \\\n",
    "best_params['svc__kernel'], best_params['svc__degree']\n",
    "print(f'\\n\\u03BB = {colored(best_lambda, \"blue\")}\\n\\n\\u03B3 = \\\n",
    "{colored(best_gamma, \"blue\")}\\n\\nKernel = {colored(best_kernel, \"blue\")}\\n\\nDegree = \\\n",
    "{colored(best_degree, \"blue\")}\\n')"
   ]
  },
  {
   "cell_type": "code",
   "execution_count": 316,
   "id": "72522381",
   "metadata": {},
   "outputs": [
    {
     "name": "stdout",
     "output_type": "stream",
     "text": [
      "\n",
      "Best Accuracy is: \u001b[32m0.7867243867243867\u001b[0m\n",
      "\n"
     ]
    }
   ],
   "source": [
    "best_score = search.best_score_\n",
    "print(f'\\nBest Accuracy is: {colored(best_score, \"green\")}\\n')"
   ]
  },
  {
   "cell_type": "markdown",
   "id": "d8797ccd",
   "metadata": {},
   "source": [
    "- - <a name=''>${\\text{Test:}}$</a>"
   ]
  },
  {
   "cell_type": "code",
   "execution_count": 317,
   "id": "c32efc76",
   "metadata": {},
   "outputs": [
    {
     "data": {
      "text/html": [
       "<style>#sk-container-id-10 {color: black;background-color: white;}#sk-container-id-10 pre{padding: 0;}#sk-container-id-10 div.sk-toggleable {background-color: white;}#sk-container-id-10 label.sk-toggleable__label {cursor: pointer;display: block;width: 100%;margin-bottom: 0;padding: 0.3em;box-sizing: border-box;text-align: center;}#sk-container-id-10 label.sk-toggleable__label-arrow:before {content: \"▸\";float: left;margin-right: 0.25em;color: #696969;}#sk-container-id-10 label.sk-toggleable__label-arrow:hover:before {color: black;}#sk-container-id-10 div.sk-estimator:hover label.sk-toggleable__label-arrow:before {color: black;}#sk-container-id-10 div.sk-toggleable__content {max-height: 0;max-width: 0;overflow: hidden;text-align: left;background-color: #f0f8ff;}#sk-container-id-10 div.sk-toggleable__content pre {margin: 0.2em;color: black;border-radius: 0.25em;background-color: #f0f8ff;}#sk-container-id-10 input.sk-toggleable__control:checked~div.sk-toggleable__content {max-height: 200px;max-width: 100%;overflow: auto;}#sk-container-id-10 input.sk-toggleable__control:checked~label.sk-toggleable__label-arrow:before {content: \"▾\";}#sk-container-id-10 div.sk-estimator input.sk-toggleable__control:checked~label.sk-toggleable__label {background-color: #d4ebff;}#sk-container-id-10 div.sk-label input.sk-toggleable__control:checked~label.sk-toggleable__label {background-color: #d4ebff;}#sk-container-id-10 input.sk-hidden--visually {border: 0;clip: rect(1px 1px 1px 1px);clip: rect(1px, 1px, 1px, 1px);height: 1px;margin: -1px;overflow: hidden;padding: 0;position: absolute;width: 1px;}#sk-container-id-10 div.sk-estimator {font-family: monospace;background-color: #f0f8ff;border: 1px dotted black;border-radius: 0.25em;box-sizing: border-box;margin-bottom: 0.5em;}#sk-container-id-10 div.sk-estimator:hover {background-color: #d4ebff;}#sk-container-id-10 div.sk-parallel-item::after {content: \"\";width: 100%;border-bottom: 1px solid gray;flex-grow: 1;}#sk-container-id-10 div.sk-label:hover label.sk-toggleable__label {background-color: #d4ebff;}#sk-container-id-10 div.sk-serial::before {content: \"\";position: absolute;border-left: 1px solid gray;box-sizing: border-box;top: 0;bottom: 0;left: 50%;z-index: 0;}#sk-container-id-10 div.sk-serial {display: flex;flex-direction: column;align-items: center;background-color: white;padding-right: 0.2em;padding-left: 0.2em;position: relative;}#sk-container-id-10 div.sk-item {position: relative;z-index: 1;}#sk-container-id-10 div.sk-parallel {display: flex;align-items: stretch;justify-content: center;background-color: white;position: relative;}#sk-container-id-10 div.sk-item::before, #sk-container-id-10 div.sk-parallel-item::before {content: \"\";position: absolute;border-left: 1px solid gray;box-sizing: border-box;top: 0;bottom: 0;left: 50%;z-index: -1;}#sk-container-id-10 div.sk-parallel-item {display: flex;flex-direction: column;z-index: 1;position: relative;background-color: white;}#sk-container-id-10 div.sk-parallel-item:first-child::after {align-self: flex-end;width: 50%;}#sk-container-id-10 div.sk-parallel-item:last-child::after {align-self: flex-start;width: 50%;}#sk-container-id-10 div.sk-parallel-item:only-child::after {width: 0;}#sk-container-id-10 div.sk-dashed-wrapped {border: 1px dashed gray;margin: 0 0.4em 0.5em 0.4em;box-sizing: border-box;padding-bottom: 0.4em;background-color: white;}#sk-container-id-10 div.sk-label label {font-family: monospace;font-weight: bold;display: inline-block;line-height: 1.2em;}#sk-container-id-10 div.sk-label-container {text-align: center;}#sk-container-id-10 div.sk-container {/* jupyter's `normalize.less` sets `[hidden] { display: none; }` but bootstrap.min.css set `[hidden] { display: none !important; }` so we also need the `!important` here to be able to override the default hidden behavior on the sphinx rendered scikit-learn.org. See: https://github.com/scikit-learn/scikit-learn/issues/21755 */display: inline-block !important;position: relative;}#sk-container-id-10 div.sk-text-repr-fallback {display: none;}</style><div id=\"sk-container-id-10\" class=\"sk-top-container\"><div class=\"sk-text-repr-fallback\"><pre>SVC(degree=2, gamma=0.1, kernel=&#x27;linear&#x27;)</pre><b>In a Jupyter environment, please rerun this cell to show the HTML representation or trust the notebook. <br />On GitHub, the HTML representation is unable to render, please try loading this page with nbviewer.org.</b></div><div class=\"sk-container\" hidden><div class=\"sk-item\"><div class=\"sk-estimator sk-toggleable\"><input class=\"sk-toggleable__control sk-hidden--visually\" id=\"sk-estimator-id-22\" type=\"checkbox\" checked><label for=\"sk-estimator-id-22\" class=\"sk-toggleable__label sk-toggleable__label-arrow\">SVC</label><div class=\"sk-toggleable__content\"><pre>SVC(degree=2, gamma=0.1, kernel=&#x27;linear&#x27;)</pre></div></div></div></div></div>"
      ],
      "text/plain": [
       "SVC(degree=2, gamma=0.1, kernel='linear')"
      ]
     },
     "execution_count": 317,
     "metadata": {},
     "output_type": "execute_result"
    }
   ],
   "source": [
    "train_size = 0.1\n",
    "clf = SVC(C=best_lambda, kernel=best_kernel, degree=best_degree, gamma=best_gamma)\n",
    "X_train, y_train, X_test, y_test = input_data_dict['X_train_' + str(train_size)], \\\n",
    "input_data_dict['y_train_' + str(train_size)], input_data_dict['X_test_' + str(train_size)], \\\n",
    "input_data_dict['y_test_' + str(train_size)]\n",
    "clf.fit(X_train, y_train)"
   ]
  },
  {
   "cell_type": "code",
   "execution_count": 318,
   "id": "7e994a91",
   "metadata": {},
   "outputs": [
    {
     "data": {
      "text/html": [
       "<div>\n",
       "<style scoped>\n",
       "    .dataframe tbody tr th:only-of-type {\n",
       "        vertical-align: middle;\n",
       "    }\n",
       "\n",
       "    .dataframe tbody tr th {\n",
       "        vertical-align: top;\n",
       "    }\n",
       "\n",
       "    .dataframe thead th {\n",
       "        text-align: right;\n",
       "    }\n",
       "</style>\n",
       "<table border=\"1\" class=\"dataframe\">\n",
       "  <thead>\n",
       "    <tr style=\"text-align: right;\">\n",
       "      <th></th>\n",
       "      <th>Class</th>\n",
       "      <th>Accuracy</th>\n",
       "    </tr>\n",
       "  </thead>\n",
       "  <tbody>\n",
       "    <tr>\n",
       "      <th>0</th>\n",
       "      <td>1</td>\n",
       "      <td>1.000000</td>\n",
       "    </tr>\n",
       "    <tr>\n",
       "      <th>1</th>\n",
       "      <td>2</td>\n",
       "      <td>0.923077</td>\n",
       "    </tr>\n",
       "    <tr>\n",
       "      <th>2</th>\n",
       "      <td>3</td>\n",
       "      <td>0.665217</td>\n",
       "    </tr>\n",
       "    <tr>\n",
       "      <th>3</th>\n",
       "      <td>4</td>\n",
       "      <td>0.723077</td>\n",
       "    </tr>\n",
       "    <tr>\n",
       "      <th>4</th>\n",
       "      <td>5</td>\n",
       "      <td>0.670732</td>\n",
       "    </tr>\n",
       "    <tr>\n",
       "      <th>5</th>\n",
       "      <td>6</td>\n",
       "      <td>0.733333</td>\n",
       "    </tr>\n",
       "    <tr>\n",
       "      <th>6</th>\n",
       "      <td>7</td>\n",
       "      <td>0.987179</td>\n",
       "    </tr>\n",
       "    <tr>\n",
       "      <th>7</th>\n",
       "      <td>8</td>\n",
       "      <td>0.723529</td>\n",
       "    </tr>\n",
       "    <tr>\n",
       "      <th>8</th>\n",
       "      <td>9</td>\n",
       "      <td>0.563380</td>\n",
       "    </tr>\n",
       "    <tr>\n",
       "      <th>9</th>\n",
       "      <td>10</td>\n",
       "      <td>0.731818</td>\n",
       "    </tr>\n",
       "    <tr>\n",
       "      <th>10</th>\n",
       "      <td>11</td>\n",
       "      <td>0.846975</td>\n",
       "    </tr>\n",
       "    <tr>\n",
       "      <th>11</th>\n",
       "      <td>12</td>\n",
       "      <td>0.886792</td>\n",
       "    </tr>\n",
       "    <tr>\n",
       "      <th>12</th>\n",
       "      <td>13</td>\n",
       "      <td>0.443548</td>\n",
       "    </tr>\n",
       "    <tr>\n",
       "      <th>13</th>\n",
       "      <td>14</td>\n",
       "      <td>0.655556</td>\n",
       "    </tr>\n",
       "  </tbody>\n",
       "</table>\n",
       "</div>"
      ],
      "text/plain": [
       "    Class  Accuracy\n",
       "0       1  1.000000\n",
       "1       2  0.923077\n",
       "2       3  0.665217\n",
       "3       4  0.723077\n",
       "4       5  0.670732\n",
       "5       6  0.733333\n",
       "6       7  0.987179\n",
       "7       8  0.723529\n",
       "8       9  0.563380\n",
       "9      10  0.731818\n",
       "10     11  0.846975\n",
       "11     12  0.886792\n",
       "12     13  0.443548\n",
       "13     14  0.655556"
      ]
     },
     "execution_count": 318,
     "metadata": {},
     "output_type": "execute_result"
    }
   ],
   "source": [
    "y_pred = clf.predict(X_test)\n",
    "ov_acc = accuracy_score(y_test, y_pred)\n",
    "conf_mat = confusion_matrix(y_test, y_pred)\n",
    "kappa = cohen_kappa_score(y_test, y_pred)\n",
    "acc_for_each_class = conf_mat.diagonal()/conf_mat.sum(axis=1)\n",
    "df_result1 = pd.DataFrame({'Class': range(1, 15), 'Accuracy': acc_for_each_class})\n",
    "df_result1"
   ]
  },
  {
   "cell_type": "markdown",
   "id": "c05af030",
   "metadata": {},
   "source": [
    "- <a name=''>${\\bf{\\text{Heatmap for Confusion Matrix}}}$</a>"
   ]
  },
  {
   "cell_type": "code",
   "execution_count": 319,
   "id": "6ae4d4f5",
   "metadata": {},
   "outputs": [
    {
     "data": {
      "image/png": "[encoded data removed]",
      "text/plain": [
       "<Figure size 640x480 with 2 Axes>"
      ]
     },
     "metadata": {},
     "output_type": "display_data"
    }
   ],
   "source": [
    "cmap_list = ['Greys', 'Purples', 'Blues', 'Greens', 'Oranges', 'Reds', \\\n",
    "                      'YlOrBr', 'YlOrRd', 'OrRd', 'PuRd', 'RdPu', 'BuPu',\\\n",
    "                      'GnBu', 'PuBu', 'YlGnBu', 'PuBuGn', 'BuGn', 'YlGn']\n",
    "\n",
    "disp = ConfusionMatrixDisplay(confusion_matrix=conf_mat, display_labels=clf.classes_)\n",
    "disp.plot(cmap=cmap_list[14])\n",
    "plt.show()"
   ]
  },
  {
   "cell_type": "code",
   "execution_count": 320,
   "id": "7071d027",
   "metadata": {},
   "outputs": [
    {
     "name": "stdout",
     "output_type": "stream",
     "text": [
      "\n",
      "Result of this Pipeline: \u001b[34mGaussian Noisy Input_Data\u001b[0m ---> \u001b[35mStandard Scaler\u001b[0m ---> PCA ---> \u001b[35mStandard Scaler\u001b[0m ---> \u001b[35mSVC\u001b[0m\n",
      "\n",
      "Overall Accuracy: \u001b[32m0.7448700410396717\u001b[0m\n",
      "\n",
      "κ = \u001b[32m0.7238312797439801\u001b[0m\n",
      "\n"
     ]
    }
   ],
   "source": [
    "print(f\"\\nResult of this Pipeline: {colored('Gaussian Noisy Input_Data', 'blue')} ---> \\\n",
    "{colored('Standard Scaler', 'magenta')}\\\n",
    " ---> PCA ---> {colored('Standard Scaler', 'magenta')} ---> {colored('SVC', 'magenta')}\")\n",
    "print(f'\\nOverall Accuracy: {colored(ov_acc, \"green\")}\\n\\n\\u03BA = {colored(kappa, \"green\")}\\n')"
   ]
  },
  {
   "cell_type": "code",
   "execution_count": null,
   "id": "3fcaad3d",
   "metadata": {},
   "outputs": [],
   "source": []
  },
  {
   "cell_type": "code",
   "execution_count": null,
   "id": "859a3507",
   "metadata": {},
   "outputs": [],
   "source": []
  },
  {
   "cell_type": "code",
   "execution_count": null,
   "id": "8a82e01e",
   "metadata": {},
   "outputs": [],
   "source": []
  },
  {
   "cell_type": "code",
   "execution_count": null,
   "id": "fdb948c3",
   "metadata": {},
   "outputs": [],
   "source": []
  },
  {
   "cell_type": "code",
   "execution_count": null,
   "id": "f2d5661e",
   "metadata": {},
   "outputs": [],
   "source": []
  }
 ],
 "metadata": {
  "kernelspec": {
   "display_name": "Python 3 (ipykernel)",
   "language": "python",
   "name": "python3"
  },
  "language_info": {
   "codemirror_mode": {
    "name": "ipython",
    "version": 3
   },
   "file_extension": ".py",
   "mimetype": "text/x-python",
   "name": "python",
   "nbconvert_exporter": "python",
   "pygments_lexer": "ipython3",
   "version": "3.10.8"
  },
  "vscode": {
   "interpreter": {
    "hash": "916dbcbb3f70747c44a77c7bcd40155683ae19c65e1c03b4aa3499c5328201f1"
   }
  }
 },
 "nbformat": 4,
 "nbformat_minor": 5
}
