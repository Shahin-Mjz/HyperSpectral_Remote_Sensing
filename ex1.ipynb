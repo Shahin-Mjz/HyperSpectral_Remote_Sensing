{
 "cells": [
  {
   "cell_type": "markdown",
   "id": "bbb2bbf4",
   "metadata": {},
   "source": [
    "## $${\\bf{\\color{blue}{\\text{Ex. 1}}}}$$"
   ]
  },
  {
   "cell_type": "markdown",
   "id": "5a9ac3c7",
   "metadata": {},
   "source": [
    "$\\newline$\n",
    "### <a name='1'>${\\bf{\\text{Table of Contents:}}}$</a>\n",
    "$\\newline$\n",
    "- [${\\bf{\\text{Data Loading}}}$](#2)\n",
    "$\\newline$\n",
    "- [${\\bf{\\text{Data Reshaping}}}$](#3)\n",
    "$\\newline$\n",
    "- [${\\bf{\\text{Showing the Pesudo RGB bands of the Data}}}$](#4)\n",
    "$\\newline$\n",
    "- [${\\bf{\\text{Data Splitting}}}$](#5)\n",
    "$\\newline$\n",
    "- [${\\bf{\\text{Shape of the Splitted Data}}}$](#6)\n",
    "$\\newline$\n",
    "- [${\\bf{\\text{Data Scaling(X)}}}$](#7)\n",
    "$\\newline$\n",
    "- [${\\bf{\\text{K-fold}}}$](#8)\n",
    "$\\newline$\n",
    "- [${\\bf{\\text{PCA}}}$](#9)\n",
    "$\\newline$\n",
    "- [${\\bf{\\text{SVC(Support Vector Classification)}}}$](#10)\n",
    "$\\newline$\n",
    "- [${\\bf{\\text{Hyperparameter tuning}}}$](#11)\n",
    "$\\newline$\n",
    "- [$\\bf{\\text{Test}}$](#12)\n",
    "$\\newline$"
   ]
  },
  {
   "cell_type": "markdown",
   "id": "2441db09",
   "metadata": {},
   "source": [
    "- [ ] **Task 1**"
   ]
  },
  {
   "cell_type": "code",
   "execution_count": 1,
   "id": "5bf1ffe6",
   "metadata": {},
   "outputs": [],
   "source": [
    "import os\n",
    "import numpy as np\n",
    "import pandas as pd\n",
    "import pymatreader as pymat\n",
    "from termcolor import colored\n",
    "import matplotlib.pyplot as plt"
   ]
  },
  {
   "cell_type": "markdown",
   "id": "19b7aa17",
   "metadata": {},
   "source": [
    "- <a name='2'>${\\bf{\\text{Data Loading}}}$</a>"
   ]
  },
  {
   "cell_type": "code",
   "execution_count": 2,
   "id": "c958f4a8",
   "metadata": {},
   "outputs": [],
   "source": [
    "file_name_gt_str = 'Indian_pines_gt.mat'\n",
    "file_name_all_str = 'Indian_pines.mat'\n",
    "file_name_corr_str = 'Indian_pines_corrected.mat'\n",
    "path_str = os.getcwd() + '/'"
   ]
  },
  {
   "cell_type": "code",
   "execution_count": 3,
   "id": "3ef1e012",
   "metadata": {},
   "outputs": [],
   "source": [
    "data_gt_ndarray = pymat.read_mat(path_str + file_name_gt_str)['indian_pines_gt']\n",
    "data_main_ndarray = pymat.read_mat(path_str + file_name_all_str)['indian_pines']\n",
    "data_corr_ndarray = pymat.read_mat(path_str + file_name_corr_str)['indian_pines_corrected']"
   ]
  },
  {
   "cell_type": "code",
   "execution_count": 4,
   "id": "d065e5d0",
   "metadata": {},
   "outputs": [
    {
     "name": "stdout",
     "output_type": "stream",
     "text": [
      "\n",
      "Type of the main data: <class 'numpy.ndarray'>\n",
      "\n",
      "\n",
      "Shape of the main data: (145, 145, 220)\n",
      "\n",
      "\n",
      "Shape of the corrected data: (145, 145, 200)\n",
      "\n",
      "\n",
      "... and its Data type: \u001b[32muint16\u001b[0m\n",
      "\n",
      "\n",
      "Groundtruth(label) data:\n",
      "\n",
      "[[3 3 3 ... 0 0 0]\n",
      " [3 3 3 ... 0 0 0]\n",
      " [3 3 3 ... 0 0 0]\n",
      " ...\n",
      " [0 0 0 ... 0 0 0]\n",
      " [0 0 0 ... 0 0 0]\n",
      " [0 0 0 ... 0 0 0]]\n",
      "\n",
      "... its data type: \u001b[32muint8\u001b[0m\n",
      "\n",
      "and its shape: (145, 145)\n",
      "\n",
      "\n",
      "Classes: [ 0  1  2  3  4  5  6  7  8  9 10 11 12 13 14 15 16]\n",
      "\n"
     ]
    }
   ],
   "source": [
    "print(f'\\nType of the main data: {type(data_main_ndarray)}\\n')\n",
    "print(f'\\nShape of the main data: {data_main_ndarray.shape}\\n')\n",
    "print(f'\\nShape of the corrected data: {data_corr_ndarray.shape}\\n')\n",
    "print(f'\\n... and its Data type: {colored(data_corr_ndarray.dtype, \"green\")}\\n')\n",
    "print(f'\\nGroundtruth(label) data:\\n\\n{data_gt_ndarray}\\n\\n... its data type: \\\n",
    "{colored(data_gt_ndarray.dtype, \"green\")}\\n\\nand its shape: {data_gt_ndarray.shape}\\n')\n",
    "print(f'\\nClasses: {np.unique(data_gt_ndarray)}\\n')"
   ]
  },
  {
   "cell_type": "markdown",
   "id": "abd0fde4",
   "metadata": {},
   "source": [
    "- <a name='3'>${\\bf{\\text{Data Reshaping}}}$</a>"
   ]
  },
  {
   "cell_type": "code",
   "execution_count": 6,
   "id": "333d59ac",
   "metadata": {},
   "outputs": [],
   "source": [
    "data_corr_reshaped_ndarray = data_corr_ndarray.reshape((data_corr_ndarray.shape[0]*data_corr_ndarray.shape[1], \\\n",
    "data_corr_ndarray.shape[2]))\n",
    "data_gt_reshaped_ndarray = data_gt_ndarray.flatten()"
   ]
  },
  {
   "cell_type": "code",
   "execution_count": 7,
   "id": "9e436de2",
   "metadata": {},
   "outputs": [
    {
     "name": "stdout",
     "output_type": "stream",
     "text": [
      "\n",
      "Shape of reshaped corrected data: (21025, 200) = (No. samples, No. features)\n",
      "\n",
      "\n",
      "Shape of reshaped label data: (21025,) = (No.targets,)\n",
      "\n"
     ]
    }
   ],
   "source": [
    "print(f'\\nShape of reshaped corrected data: {data_corr_reshaped_ndarray.shape} = (No. samples, No. features)\\n')\n",
    "print(f'\\nShape of reshaped label data: {data_gt_reshaped_ndarray.shape} = (No.targets,)\\n')"
   ]
  },
  {
   "cell_type": "code",
   "execution_count": 8,
   "id": "3bd0e7ae",
   "metadata": {},
   "outputs": [
    {
     "name": "stdout",
     "output_type": "stream",
     "text": [
      "\n",
      "5 features of first sample of corrected data: [2576 4388 4334 4279 4543]\n",
      "\n",
      "\n",
      "5 features of first sample of reshaped corrected data: [2576 4388 4334 4279 4543]\n",
      "\n"
     ]
    }
   ],
   "source": [
    "print(f'\\n5 features of first sample of corrected data: {data_corr_ndarray[1, 0, 0: 5]}\\n')\n",
    "print(f'\\n5 features of first sample of reshaped corrected data: {data_corr_reshaped_ndarray[145, 0: 5]}\\n')"
   ]
  },
  {
   "cell_type": "markdown",
   "id": "e3f48235",
   "metadata": {},
   "source": [
    "- <a name='4'>${\\bf{\\text{Showing the Pesudo RGB bands of the Data}}}$</a>"
   ]
  },
  {
   "cell_type": "code",
   "execution_count": 9,
   "id": "6f7e0982",
   "metadata": {},
   "outputs": [
    {
     "data": {
      "image/png": "[encoded data removed]",
      "text/plain": [
       "<Figure size 640x480 with 2 Axes>"
      ]
     },
     "metadata": {},
     "output_type": "display_data"
    }
   ],
   "source": [
    "data_plot_ndarray = data_main_ndarray[:, :, [110, 200, 180]].astype(np.uint8)\n",
    "plt.subplot(1, 2, 1), plt.imshow(data_plot_ndarray), plt.title('Pesudo RGB Bands', fontsize=10), plt.axis('off')\n",
    "plt.subplot(1, 2, 2), plt.imshow(data_gt_ndarray), plt.title('Groundtruth', fontsize=10), plt.axis('off')\n",
    "plt.show()"
   ]
  },
  {
   "cell_type": "markdown",
   "id": "b5591d96",
   "metadata": {},
   "source": [
    "- [x] **Task 1**"
   ]
  },
  {
   "cell_type": "markdown",
   "id": "4707e9cb",
   "metadata": {},
   "source": [
    "- [ ] **Task 2**"
   ]
  },
  {
   "cell_type": "code",
   "execution_count": 10,
   "id": "b421effd",
   "metadata": {},
   "outputs": [],
   "source": [
    "from sklearn.svm import SVC\n",
    "from sklearn.decomposition import PCA\n",
    "from sklearn.preprocessing import StandardScaler\n",
    "from sklearn.pipeline import Pipeline, make_pipeline\n",
    "from sklearn.metrics import accuracy_score, confusion_matrix, cohen_kappa_score\n",
    "from sklearn.model_selection import GridSearchCV, cross_val_score, train_test_split"
   ]
  },
  {
   "cell_type": "markdown",
   "id": "6cb90487",
   "metadata": {},
   "source": [
    "- <a name='5'>${\\bf{\\text{Data Splitting}}}$</a>"
   ]
  },
  {
   "cell_type": "code",
   "execution_count": 12,
   "id": "dc42877d",
   "metadata": {},
   "outputs": [],
   "source": [
    "train_size_list = [0.02, 0.05, 0.1]\n",
    "data = {}\n",
    "for train_size_float in train_size_list: data['X_train_' + str(train_size_float)], data['X_test_' + \\\n",
    "    str(train_size_float)], data['y_train_' + str(train_size_float)], data['y_test_' + str(train_size_float)] =\\\n",
    "    train_test_split(data_corr_reshaped_ndarray, data_gt_reshaped_ndarray, train_size=\\\n",
    "                     train_size_float, random_state=0)"
   ]
  },
  {
   "cell_type": "markdown",
   "id": "73827f4f",
   "metadata": {},
   "source": [
    "- <a name='6'>${\\bf{\\text{Shape of the Splitted Data}}}$</a>"
   ]
  },
  {
   "cell_type": "code",
   "execution_count": 11,
   "id": "14b21e76",
   "metadata": {},
   "outputs": [
    {
     "name": "stdout",
     "output_type": "stream",
     "text": [
      "\n",
      "Train size: \u001b[32m0.02\u001b[0m\n",
      "X_train size: (420, 200)\n",
      "X_test size: (20605, 200)\n",
      "y_train size: (420,)\n",
      "y_test size: (20605,)\n",
      "\n",
      "\n",
      "Train size: \u001b[32m0.05\u001b[0m\n",
      "X_train size: (1051, 200)\n",
      "X_test size: (19974, 200)\n",
      "y_train size: (1051,)\n",
      "y_test size: (19974,)\n",
      "\n",
      "\n",
      "Train size: \u001b[32m0.1\u001b[0m\n",
      "X_train size: (2102, 200)\n",
      "X_test size: (18923, 200)\n",
      "y_train size: (2102,)\n",
      "y_test size: (18923,)\n",
      "\n"
     ]
    }
   ],
   "source": [
    "for train_size_float in train_size_list:\n",
    "    print(f'\\nTrain size: {colored(train_size_float, \"green\")}')\n",
    "    print(f'X_train size: {data[\"X_train_\" + str(train_size_float)].shape}')\n",
    "    print(f'X_test size: {data[\"X_test_\" + str(train_size_float)].shape}')\n",
    "    print(f'y_train size: {data[\"y_train_\" + str(train_size_float)].shape}')\n",
    "    print(f'y_test size: {data[\"y_test_\" + str(train_size_float)].shape}\\n')"
   ]
  },
  {
   "cell_type": "markdown",
   "id": "530d970a",
   "metadata": {},
   "source": [
    "- <a name='7'>${\\bf{\\text{Data Scaling(X)}}}$</a>\n",
    "> ${\\bf{\\color{red}{\\text{Note: }}}}{\\bf{\\color{black}{\\text{Name of the New Data: }{\\color{green}{\\text{data_scaled(Dict)}}}}}}$"
   ]
  },
  {
   "cell_type": "code",
   "execution_count": 13,
   "id": "4a5d2b92",
   "metadata": {},
   "outputs": [],
   "source": [
    "train_size_list = [0.02, 0.05, 0.1]\n",
    "data_scaled = {}\n",
    "standard_scaler = StandardScaler()\n",
    "\n",
    "for train_size in train_size_list:\n",
    "    data_scaled['X_train_' + str(train_size)] = standard_scaler.fit_transform(data['X_train_' + str(train_size)])\n",
    "    data_scaled['X_test_' + str(train_size)] = standard_scaler.fit_transform(data['X_test_' + str(train_size)])\n",
    "    data_scaled['y_train_' + str(train_size)] = data['y_train_' + str(train_size)]\n",
    "    data_scaled['y_test_' + str(train_size)] = data['y_test_' + str(train_size)]"
   ]
  },
  {
   "cell_type": "markdown",
   "id": "1b9116a5",
   "metadata": {},
   "source": [
    "- <a name='8'>${\\bf{\\text{K-fold}}}$</a>"
   ]
  },
  {
   "cell_type": "code",
   "execution_count": 69,
   "id": "55266cbd",
   "metadata": {},
   "outputs": [
    {
     "name": "stderr",
     "output_type": "stream",
     "text": [
      "/home/shahin/.local/lib/python3.10/site-packages/sklearn/model_selection/_split.py:684: UserWarning: The least populated class in y has only 1 members, which is less than n_splits=2.\n",
      "  warnings.warn(\n",
      "/home/shahin/.local/lib/python3.10/site-packages/sklearn/model_selection/_split.py:684: UserWarning: The least populated class in y has only 1 members, which is less than n_splits=3.\n",
      "  warnings.warn(\n",
      "/home/shahin/.local/lib/python3.10/site-packages/sklearn/model_selection/_split.py:684: UserWarning: The least populated class in y has only 1 members, which is less than n_splits=4.\n",
      "  warnings.warn(\n",
      "/home/shahin/.local/lib/python3.10/site-packages/sklearn/model_selection/_split.py:684: UserWarning: The least populated class in y has only 1 members, which is less than n_splits=5.\n",
      "  warnings.warn(\n",
      "/home/shahin/.local/lib/python3.10/site-packages/sklearn/model_selection/_split.py:684: UserWarning: The least populated class in y has only 1 members, which is less than n_splits=6.\n",
      "  warnings.warn(\n",
      "/home/shahin/.local/lib/python3.10/site-packages/sklearn/model_selection/_split.py:684: UserWarning: The least populated class in y has only 1 members, which is less than n_splits=7.\n",
      "  warnings.warn(\n",
      "/home/shahin/.local/lib/python3.10/site-packages/sklearn/model_selection/_split.py:684: UserWarning: The least populated class in y has only 1 members, which is less than n_splits=8.\n",
      "  warnings.warn(\n",
      "/home/shahin/.local/lib/python3.10/site-packages/sklearn/model_selection/_split.py:684: UserWarning: The least populated class in y has only 1 members, which is less than n_splits=9.\n",
      "  warnings.warn(\n",
      "/home/shahin/.local/lib/python3.10/site-packages/sklearn/model_selection/_split.py:684: UserWarning: The least populated class in y has only 1 members, which is less than n_splits=10.\n",
      "  warnings.warn(\n",
      "/home/shahin/.local/lib/python3.10/site-packages/sklearn/model_selection/_split.py:684: UserWarning: The least populated class in y has only 1 members, which is less than n_splits=11.\n",
      "  warnings.warn(\n",
      "/home/shahin/.local/lib/python3.10/site-packages/sklearn/model_selection/_split.py:684: UserWarning: The least populated class in y has only 1 members, which is less than n_splits=12.\n",
      "  warnings.warn(\n",
      "/home/shahin/.local/lib/python3.10/site-packages/sklearn/model_selection/_split.py:684: UserWarning: The least populated class in y has only 1 members, which is less than n_splits=13.\n",
      "  warnings.warn(\n",
      "/home/shahin/.local/lib/python3.10/site-packages/sklearn/model_selection/_split.py:684: UserWarning: The least populated class in y has only 1 members, which is less than n_splits=14.\n",
      "  warnings.warn(\n",
      "/home/shahin/.local/lib/python3.10/site-packages/sklearn/model_selection/_split.py:684: UserWarning: The least populated class in y has only 1 members, which is less than n_splits=15.\n",
      "  warnings.warn(\n",
      "/home/shahin/.local/lib/python3.10/site-packages/sklearn/model_selection/_split.py:684: UserWarning: The least populated class in y has only 1 members, which is less than n_splits=2.\n",
      "  warnings.warn(\n",
      "/home/shahin/.local/lib/python3.10/site-packages/sklearn/model_selection/_split.py:684: UserWarning: The least populated class in y has only 1 members, which is less than n_splits=3.\n",
      "  warnings.warn(\n",
      "/home/shahin/.local/lib/python3.10/site-packages/sklearn/model_selection/_split.py:684: UserWarning: The least populated class in y has only 1 members, which is less than n_splits=4.\n",
      "  warnings.warn(\n",
      "/home/shahin/.local/lib/python3.10/site-packages/sklearn/model_selection/_split.py:684: UserWarning: The least populated class in y has only 1 members, which is less than n_splits=5.\n",
      "  warnings.warn(\n",
      "/home/shahin/.local/lib/python3.10/site-packages/sklearn/model_selection/_split.py:684: UserWarning: The least populated class in y has only 1 members, which is less than n_splits=6.\n",
      "  warnings.warn(\n",
      "/home/shahin/.local/lib/python3.10/site-packages/sklearn/model_selection/_split.py:684: UserWarning: The least populated class in y has only 1 members, which is less than n_splits=7.\n",
      "  warnings.warn(\n",
      "/home/shahin/.local/lib/python3.10/site-packages/sklearn/model_selection/_split.py:684: UserWarning: The least populated class in y has only 1 members, which is less than n_splits=8.\n",
      "  warnings.warn(\n",
      "/home/shahin/.local/lib/python3.10/site-packages/sklearn/model_selection/_split.py:684: UserWarning: The least populated class in y has only 1 members, which is less than n_splits=9.\n",
      "  warnings.warn(\n",
      "/home/shahin/.local/lib/python3.10/site-packages/sklearn/model_selection/_split.py:684: UserWarning: The least populated class in y has only 1 members, which is less than n_splits=10.\n",
      "  warnings.warn(\n",
      "/home/shahin/.local/lib/python3.10/site-packages/sklearn/model_selection/_split.py:684: UserWarning: The least populated class in y has only 1 members, which is less than n_splits=11.\n",
      "  warnings.warn(\n",
      "/home/shahin/.local/lib/python3.10/site-packages/sklearn/model_selection/_split.py:684: UserWarning: The least populated class in y has only 1 members, which is less than n_splits=12.\n",
      "  warnings.warn(\n",
      "/home/shahin/.local/lib/python3.10/site-packages/sklearn/model_selection/_split.py:684: UserWarning: The least populated class in y has only 1 members, which is less than n_splits=13.\n",
      "  warnings.warn(\n",
      "/home/shahin/.local/lib/python3.10/site-packages/sklearn/model_selection/_split.py:684: UserWarning: The least populated class in y has only 1 members, which is less than n_splits=14.\n",
      "  warnings.warn(\n",
      "/home/shahin/.local/lib/python3.10/site-packages/sklearn/model_selection/_split.py:684: UserWarning: The least populated class in y has only 1 members, which is less than n_splits=15.\n",
      "  warnings.warn(\n",
      "/home/shahin/.local/lib/python3.10/site-packages/sklearn/model_selection/_split.py:684: UserWarning: The least populated class in y has only 2 members, which is less than n_splits=3.\n",
      "  warnings.warn(\n",
      "/home/shahin/.local/lib/python3.10/site-packages/sklearn/model_selection/_split.py:684: UserWarning: The least populated class in y has only 2 members, which is less than n_splits=4.\n",
      "  warnings.warn(\n",
      "/home/shahin/.local/lib/python3.10/site-packages/sklearn/model_selection/_split.py:684: UserWarning: The least populated class in y has only 2 members, which is less than n_splits=5.\n",
      "  warnings.warn(\n",
      "/home/shahin/.local/lib/python3.10/site-packages/sklearn/model_selection/_split.py:684: UserWarning: The least populated class in y has only 2 members, which is less than n_splits=6.\n",
      "  warnings.warn(\n",
      "/home/shahin/.local/lib/python3.10/site-packages/sklearn/model_selection/_split.py:684: UserWarning: The least populated class in y has only 2 members, which is less than n_splits=7.\n",
      "  warnings.warn(\n",
      "/home/shahin/.local/lib/python3.10/site-packages/sklearn/model_selection/_split.py:684: UserWarning: The least populated class in y has only 2 members, which is less than n_splits=8.\n",
      "  warnings.warn(\n",
      "/home/shahin/.local/lib/python3.10/site-packages/sklearn/model_selection/_split.py:684: UserWarning: The least populated class in y has only 2 members, which is less than n_splits=9.\n",
      "  warnings.warn(\n",
      "/home/shahin/.local/lib/python3.10/site-packages/sklearn/model_selection/_split.py:684: UserWarning: The least populated class in y has only 2 members, which is less than n_splits=10.\n",
      "  warnings.warn(\n",
      "/home/shahin/.local/lib/python3.10/site-packages/sklearn/model_selection/_split.py:684: UserWarning: The least populated class in y has only 2 members, which is less than n_splits=11.\n",
      "  warnings.warn(\n",
      "/home/shahin/.local/lib/python3.10/site-packages/sklearn/model_selection/_split.py:684: UserWarning: The least populated class in y has only 2 members, which is less than n_splits=12.\n",
      "  warnings.warn(\n",
      "/home/shahin/.local/lib/python3.10/site-packages/sklearn/model_selection/_split.py:684: UserWarning: The least populated class in y has only 2 members, which is less than n_splits=13.\n",
      "  warnings.warn(\n",
      "/home/shahin/.local/lib/python3.10/site-packages/sklearn/model_selection/_split.py:684: UserWarning: The least populated class in y has only 2 members, which is less than n_splits=14.\n",
      "  warnings.warn(\n",
      "/home/shahin/.local/lib/python3.10/site-packages/sklearn/model_selection/_split.py:684: UserWarning: The least populated class in y has only 2 members, which is less than n_splits=15.\n",
      "  warnings.warn(\n"
     ]
    }
   ],
   "source": [
    "train_size_tuple = (0.02, 0.05, 0.1)\n",
    "k_fold_tuple = range(2, 16)\n",
    "\n",
    "parameters_for_k_fold_dict = {'train_size': train_size_tuple, 'k_fold': k_fold_tuple}\n",
    "total_length = 1\n",
    "for key_name_str in parameters_for_k_fold_dict.keys():\n",
    "    total_length *= len(parameters_for_k_fold_dict[key_name_str])\n",
    "    \n",
    "    \n",
    "train_size_stored_values = np.zeros(total_length)\n",
    "acc_mean_stored_values = np.zeros(total_length)\n",
    "k_fold_stored_values = np.zeros(total_length)\n",
    "\n",
    "\n",
    "clf_without_pca = SVC()\n",
    "count = 0\n",
    "for train_size in parameters_for_k_fold_dict['train_size']:\n",
    "    X_train, y_train, X_test, y_test = data_scaled['X_train_' + str(train_size)], data_scaled['y_train_' + str(train_size)], \\\n",
    "    data_scaled['X_test_' + str(train_size)], data_scaled['y_test_' + str(train_size)]\n",
    "    clf_without_pca.fit(X_train, y_train)\n",
    "    for k_fold in parameters_for_k_fold_dict['k_fold']:\n",
    "        count += 1\n",
    "        scores = cross_val_score(clf_without_pca, X_train, y_train, cv=k_fold)\n",
    "        acc_mean = scores.mean()\n",
    "        train_size_stored_values[count - 1] = train_size\n",
    "        acc_mean_stored_values[count - 1] = acc_mean\n",
    "        k_fold_stored_values[count - 1] = k_fold\n",
    "        \n",
    "df_for_k_fold = pd.DataFrame({'Train Size': train_size_stored_values, 'K-fold(CV)': k_fold_stored_values,\\\n",
    "'Mean of Accuracy': acc_mean_stored_values})"
   ]
  },
  {
   "cell_type": "code",
   "execution_count": 70,
   "id": "f9146737",
   "metadata": {},
   "outputs": [
    {
     "data": {
      "text/html": [
       "<div>\n",
       "<style scoped>\n",
       "    .dataframe tbody tr th:only-of-type {\n",
       "        vertical-align: middle;\n",
       "    }\n",
       "\n",
       "    .dataframe tbody tr th {\n",
       "        vertical-align: top;\n",
       "    }\n",
       "\n",
       "    .dataframe thead th {\n",
       "        text-align: right;\n",
       "    }\n",
       "</style>\n",
       "<table border=\"1\" class=\"dataframe\">\n",
       "  <thead>\n",
       "    <tr style=\"text-align: right;\">\n",
       "      <th></th>\n",
       "      <th>Train Size</th>\n",
       "      <th>K-fold(CV)</th>\n",
       "      <th>Mean of Accuracy</th>\n",
       "    </tr>\n",
       "  </thead>\n",
       "  <tbody>\n",
       "    <tr>\n",
       "      <th>0</th>\n",
       "      <td>0.02</td>\n",
       "      <td>2.0</td>\n",
       "      <td>0.590476</td>\n",
       "    </tr>\n",
       "    <tr>\n",
       "      <th>1</th>\n",
       "      <td>0.02</td>\n",
       "      <td>3.0</td>\n",
       "      <td>0.604762</td>\n",
       "    </tr>\n",
       "    <tr>\n",
       "      <th>2</th>\n",
       "      <td>0.02</td>\n",
       "      <td>4.0</td>\n",
       "      <td>0.597619</td>\n",
       "    </tr>\n",
       "    <tr>\n",
       "      <th>3</th>\n",
       "      <td>0.02</td>\n",
       "      <td>5.0</td>\n",
       "      <td>0.602381</td>\n",
       "    </tr>\n",
       "    <tr>\n",
       "      <th>4</th>\n",
       "      <td>0.02</td>\n",
       "      <td>6.0</td>\n",
       "      <td>0.604762</td>\n",
       "    </tr>\n",
       "    <tr>\n",
       "      <th>5</th>\n",
       "      <td>0.02</td>\n",
       "      <td>7.0</td>\n",
       "      <td>0.609524</td>\n",
       "    </tr>\n",
       "    <tr>\n",
       "      <th>6</th>\n",
       "      <td>0.02</td>\n",
       "      <td>8.0</td>\n",
       "      <td>0.604726</td>\n",
       "    </tr>\n",
       "    <tr>\n",
       "      <th>7</th>\n",
       "      <td>0.02</td>\n",
       "      <td>9.0</td>\n",
       "      <td>0.604687</td>\n",
       "    </tr>\n",
       "    <tr>\n",
       "      <th>8</th>\n",
       "      <td>0.02</td>\n",
       "      <td>10.0</td>\n",
       "      <td>0.604762</td>\n",
       "    </tr>\n",
       "    <tr>\n",
       "      <th>9</th>\n",
       "      <td>0.02</td>\n",
       "      <td>11.0</td>\n",
       "      <td>0.602319</td>\n",
       "    </tr>\n",
       "    <tr>\n",
       "      <th>10</th>\n",
       "      <td>0.02</td>\n",
       "      <td>12.0</td>\n",
       "      <td>0.602381</td>\n",
       "    </tr>\n",
       "    <tr>\n",
       "      <th>11</th>\n",
       "      <td>0.02</td>\n",
       "      <td>13.0</td>\n",
       "      <td>0.604604</td>\n",
       "    </tr>\n",
       "    <tr>\n",
       "      <th>12</th>\n",
       "      <td>0.02</td>\n",
       "      <td>14.0</td>\n",
       "      <td>0.602381</td>\n",
       "    </tr>\n",
       "    <tr>\n",
       "      <th>13</th>\n",
       "      <td>0.02</td>\n",
       "      <td>15.0</td>\n",
       "      <td>0.604762</td>\n",
       "    </tr>\n",
       "    <tr>\n",
       "      <th>14</th>\n",
       "      <td>0.05</td>\n",
       "      <td>2.0</td>\n",
       "      <td>0.599442</td>\n",
       "    </tr>\n",
       "    <tr>\n",
       "      <th>15</th>\n",
       "      <td>0.05</td>\n",
       "      <td>3.0</td>\n",
       "      <td>0.602304</td>\n",
       "    </tr>\n",
       "    <tr>\n",
       "      <th>16</th>\n",
       "      <td>0.05</td>\n",
       "      <td>4.0</td>\n",
       "      <td>0.604200</td>\n",
       "    </tr>\n",
       "    <tr>\n",
       "      <th>17</th>\n",
       "      <td>0.05</td>\n",
       "      <td>5.0</td>\n",
       "      <td>0.608987</td>\n",
       "    </tr>\n",
       "    <tr>\n",
       "      <th>18</th>\n",
       "      <td>0.05</td>\n",
       "      <td>6.0</td>\n",
       "      <td>0.605184</td>\n",
       "    </tr>\n",
       "    <tr>\n",
       "      <th>19</th>\n",
       "      <td>0.05</td>\n",
       "      <td>7.0</td>\n",
       "      <td>0.610886</td>\n",
       "    </tr>\n",
       "    <tr>\n",
       "      <th>20</th>\n",
       "      <td>0.05</td>\n",
       "      <td>8.0</td>\n",
       "      <td>0.610889</td>\n",
       "    </tr>\n",
       "    <tr>\n",
       "      <th>21</th>\n",
       "      <td>0.05</td>\n",
       "      <td>9.0</td>\n",
       "      <td>0.610857</td>\n",
       "    </tr>\n",
       "    <tr>\n",
       "      <th>22</th>\n",
       "      <td>0.05</td>\n",
       "      <td>10.0</td>\n",
       "      <td>0.611824</td>\n",
       "    </tr>\n",
       "    <tr>\n",
       "      <th>23</th>\n",
       "      <td>0.05</td>\n",
       "      <td>11.0</td>\n",
       "      <td>0.614693</td>\n",
       "    </tr>\n",
       "    <tr>\n",
       "      <th>24</th>\n",
       "      <td>0.05</td>\n",
       "      <td>12.0</td>\n",
       "      <td>0.617544</td>\n",
       "    </tr>\n",
       "    <tr>\n",
       "      <th>25</th>\n",
       "      <td>0.05</td>\n",
       "      <td>13.0</td>\n",
       "      <td>0.614660</td>\n",
       "    </tr>\n",
       "    <tr>\n",
       "      <th>26</th>\n",
       "      <td>0.05</td>\n",
       "      <td>14.0</td>\n",
       "      <td>0.612769</td>\n",
       "    </tr>\n",
       "    <tr>\n",
       "      <th>27</th>\n",
       "      <td>0.05</td>\n",
       "      <td>15.0</td>\n",
       "      <td>0.613736</td>\n",
       "    </tr>\n",
       "    <tr>\n",
       "      <th>28</th>\n",
       "      <td>0.10</td>\n",
       "      <td>2.0</td>\n",
       "      <td>0.627973</td>\n",
       "    </tr>\n",
       "    <tr>\n",
       "      <th>29</th>\n",
       "      <td>0.10</td>\n",
       "      <td>3.0</td>\n",
       "      <td>0.630825</td>\n",
       "    </tr>\n",
       "    <tr>\n",
       "      <th>30</th>\n",
       "      <td>0.10</td>\n",
       "      <td>4.0</td>\n",
       "      <td>0.635104</td>\n",
       "    </tr>\n",
       "    <tr>\n",
       "      <th>31</th>\n",
       "      <td>0.10</td>\n",
       "      <td>5.0</td>\n",
       "      <td>0.634152</td>\n",
       "    </tr>\n",
       "    <tr>\n",
       "      <th>32</th>\n",
       "      <td>0.10</td>\n",
       "      <td>6.0</td>\n",
       "      <td>0.635111</td>\n",
       "    </tr>\n",
       "    <tr>\n",
       "      <th>33</th>\n",
       "      <td>0.10</td>\n",
       "      <td>7.0</td>\n",
       "      <td>0.634629</td>\n",
       "    </tr>\n",
       "    <tr>\n",
       "      <th>34</th>\n",
       "      <td>0.10</td>\n",
       "      <td>8.0</td>\n",
       "      <td>0.635122</td>\n",
       "    </tr>\n",
       "    <tr>\n",
       "      <th>35</th>\n",
       "      <td>0.10</td>\n",
       "      <td>9.0</td>\n",
       "      <td>0.634156</td>\n",
       "    </tr>\n",
       "    <tr>\n",
       "      <th>36</th>\n",
       "      <td>0.10</td>\n",
       "      <td>10.0</td>\n",
       "      <td>0.636046</td>\n",
       "    </tr>\n",
       "    <tr>\n",
       "      <th>37</th>\n",
       "      <td>0.10</td>\n",
       "      <td>11.0</td>\n",
       "      <td>0.635583</td>\n",
       "    </tr>\n",
       "    <tr>\n",
       "      <th>38</th>\n",
       "      <td>0.10</td>\n",
       "      <td>12.0</td>\n",
       "      <td>0.635571</td>\n",
       "    </tr>\n",
       "    <tr>\n",
       "      <th>39</th>\n",
       "      <td>0.10</td>\n",
       "      <td>13.0</td>\n",
       "      <td>0.637015</td>\n",
       "    </tr>\n",
       "    <tr>\n",
       "      <th>40</th>\n",
       "      <td>0.10</td>\n",
       "      <td>14.0</td>\n",
       "      <td>0.634620</td>\n",
       "    </tr>\n",
       "    <tr>\n",
       "      <th>41</th>\n",
       "      <td>0.10</td>\n",
       "      <td>15.0</td>\n",
       "      <td>0.638899</td>\n",
       "    </tr>\n",
       "  </tbody>\n",
       "</table>\n",
       "</div>"
      ],
      "text/plain": [
       "    Train Size  K-fold(CV)  Mean of Accuracy\n",
       "0         0.02         2.0          0.590476\n",
       "1         0.02         3.0          0.604762\n",
       "2         0.02         4.0          0.597619\n",
       "3         0.02         5.0          0.602381\n",
       "4         0.02         6.0          0.604762\n",
       "5         0.02         7.0          0.609524\n",
       "6         0.02         8.0          0.604726\n",
       "7         0.02         9.0          0.604687\n",
       "8         0.02        10.0          0.604762\n",
       "9         0.02        11.0          0.602319\n",
       "10        0.02        12.0          0.602381\n",
       "11        0.02        13.0          0.604604\n",
       "12        0.02        14.0          0.602381\n",
       "13        0.02        15.0          0.604762\n",
       "14        0.05         2.0          0.599442\n",
       "15        0.05         3.0          0.602304\n",
       "16        0.05         4.0          0.604200\n",
       "17        0.05         5.0          0.608987\n",
       "18        0.05         6.0          0.605184\n",
       "19        0.05         7.0          0.610886\n",
       "20        0.05         8.0          0.610889\n",
       "21        0.05         9.0          0.610857\n",
       "22        0.05        10.0          0.611824\n",
       "23        0.05        11.0          0.614693\n",
       "24        0.05        12.0          0.617544\n",
       "25        0.05        13.0          0.614660\n",
       "26        0.05        14.0          0.612769\n",
       "27        0.05        15.0          0.613736\n",
       "28        0.10         2.0          0.627973\n",
       "29        0.10         3.0          0.630825\n",
       "30        0.10         4.0          0.635104\n",
       "31        0.10         5.0          0.634152\n",
       "32        0.10         6.0          0.635111\n",
       "33        0.10         7.0          0.634629\n",
       "34        0.10         8.0          0.635122\n",
       "35        0.10         9.0          0.634156\n",
       "36        0.10        10.0          0.636046\n",
       "37        0.10        11.0          0.635583\n",
       "38        0.10        12.0          0.635571\n",
       "39        0.10        13.0          0.637015\n",
       "40        0.10        14.0          0.634620\n",
       "41        0.10        15.0          0.638899"
      ]
     },
     "execution_count": 70,
     "metadata": {},
     "output_type": "execute_result"
    }
   ],
   "source": [
    "df_for_k_fold"
   ]
  },
  {
   "cell_type": "code",
   "execution_count": 71,
   "id": "176735c1",
   "metadata": {},
   "outputs": [
    {
     "data": {
      "text/html": [
       "<div>\n",
       "<style scoped>\n",
       "    .dataframe tbody tr th:only-of-type {\n",
       "        vertical-align: middle;\n",
       "    }\n",
       "\n",
       "    .dataframe tbody tr th {\n",
       "        vertical-align: top;\n",
       "    }\n",
       "\n",
       "    .dataframe thead th {\n",
       "        text-align: right;\n",
       "    }\n",
       "</style>\n",
       "<table border=\"1\" class=\"dataframe\">\n",
       "  <thead>\n",
       "    <tr style=\"text-align: right;\">\n",
       "      <th></th>\n",
       "      <th>Train Size</th>\n",
       "      <th>K-fold(CV)</th>\n",
       "      <th>Mean of Accuracy</th>\n",
       "    </tr>\n",
       "  </thead>\n",
       "  <tbody>\n",
       "    <tr>\n",
       "      <th>0</th>\n",
       "      <td>0.02</td>\n",
       "      <td>2.0</td>\n",
       "      <td>0.590476</td>\n",
       "    </tr>\n",
       "    <tr>\n",
       "      <th>1</th>\n",
       "      <td>0.02</td>\n",
       "      <td>3.0</td>\n",
       "      <td>0.604762</td>\n",
       "    </tr>\n",
       "    <tr>\n",
       "      <th>2</th>\n",
       "      <td>0.02</td>\n",
       "      <td>4.0</td>\n",
       "      <td>0.597619</td>\n",
       "    </tr>\n",
       "    <tr>\n",
       "      <th>3</th>\n",
       "      <td>0.02</td>\n",
       "      <td>5.0</td>\n",
       "      <td>0.602381</td>\n",
       "    </tr>\n",
       "    <tr>\n",
       "      <th>4</th>\n",
       "      <td>0.02</td>\n",
       "      <td>6.0</td>\n",
       "      <td>0.604762</td>\n",
       "    </tr>\n",
       "    <tr>\n",
       "      <th>5</th>\n",
       "      <td>0.02</td>\n",
       "      <td>7.0</td>\n",
       "      <td>0.609524</td>\n",
       "    </tr>\n",
       "    <tr>\n",
       "      <th>6</th>\n",
       "      <td>0.02</td>\n",
       "      <td>8.0</td>\n",
       "      <td>0.604726</td>\n",
       "    </tr>\n",
       "    <tr>\n",
       "      <th>7</th>\n",
       "      <td>0.02</td>\n",
       "      <td>9.0</td>\n",
       "      <td>0.604687</td>\n",
       "    </tr>\n",
       "    <tr>\n",
       "      <th>8</th>\n",
       "      <td>0.02</td>\n",
       "      <td>10.0</td>\n",
       "      <td>0.604762</td>\n",
       "    </tr>\n",
       "    <tr>\n",
       "      <th>9</th>\n",
       "      <td>0.02</td>\n",
       "      <td>11.0</td>\n",
       "      <td>0.602319</td>\n",
       "    </tr>\n",
       "    <tr>\n",
       "      <th>10</th>\n",
       "      <td>0.02</td>\n",
       "      <td>12.0</td>\n",
       "      <td>0.602381</td>\n",
       "    </tr>\n",
       "    <tr>\n",
       "      <th>11</th>\n",
       "      <td>0.02</td>\n",
       "      <td>13.0</td>\n",
       "      <td>0.604604</td>\n",
       "    </tr>\n",
       "    <tr>\n",
       "      <th>12</th>\n",
       "      <td>0.02</td>\n",
       "      <td>14.0</td>\n",
       "      <td>0.602381</td>\n",
       "    </tr>\n",
       "    <tr>\n",
       "      <th>13</th>\n",
       "      <td>0.02</td>\n",
       "      <td>15.0</td>\n",
       "      <td>0.604762</td>\n",
       "    </tr>\n",
       "  </tbody>\n",
       "</table>\n",
       "</div>"
      ],
      "text/plain": [
       "    Train Size  K-fold(CV)  Mean of Accuracy\n",
       "0         0.02         2.0          0.590476\n",
       "1         0.02         3.0          0.604762\n",
       "2         0.02         4.0          0.597619\n",
       "3         0.02         5.0          0.602381\n",
       "4         0.02         6.0          0.604762\n",
       "5         0.02         7.0          0.609524\n",
       "6         0.02         8.0          0.604726\n",
       "7         0.02         9.0          0.604687\n",
       "8         0.02        10.0          0.604762\n",
       "9         0.02        11.0          0.602319\n",
       "10        0.02        12.0          0.602381\n",
       "11        0.02        13.0          0.604604\n",
       "12        0.02        14.0          0.602381\n",
       "13        0.02        15.0          0.604762"
      ]
     },
     "execution_count": 71,
     "metadata": {},
     "output_type": "execute_result"
    }
   ],
   "source": [
    "df1 = df_for_k_fold[df_for_k_fold['Train Size'] == 0.02]\n",
    "df1"
   ]
  },
  {
   "cell_type": "code",
   "execution_count": 77,
   "id": "78cd8cb6",
   "metadata": {},
   "outputs": [
    {
     "data": {
      "text/html": [
       "<div>\n",
       "<style scoped>\n",
       "    .dataframe tbody tr th:only-of-type {\n",
       "        vertical-align: middle;\n",
       "    }\n",
       "\n",
       "    .dataframe tbody tr th {\n",
       "        vertical-align: top;\n",
       "    }\n",
       "\n",
       "    .dataframe thead th {\n",
       "        text-align: right;\n",
       "    }\n",
       "</style>\n",
       "<table border=\"1\" class=\"dataframe\">\n",
       "  <thead>\n",
       "    <tr style=\"text-align: right;\">\n",
       "      <th></th>\n",
       "      <th>Train Size</th>\n",
       "      <th>K-fold(CV)</th>\n",
       "      <th>Mean of Accuracy</th>\n",
       "    </tr>\n",
       "  </thead>\n",
       "  <tbody>\n",
       "    <tr>\n",
       "      <th>5</th>\n",
       "      <td>0.02</td>\n",
       "      <td>7.0</td>\n",
       "      <td>0.609524</td>\n",
       "    </tr>\n",
       "  </tbody>\n",
       "</table>\n",
       "</div>"
      ],
      "text/plain": [
       "   Train Size  K-fold(CV)  Mean of Accuracy\n",
       "5        0.02         7.0          0.609524"
      ]
     },
     "execution_count": 77,
     "metadata": {},
     "output_type": "execute_result"
    }
   ],
   "source": [
    "df1_result = df1[df1['Mean of Accuracy'] == (df1['Mean of Accuracy']).max()]\n",
    "df1_result"
   ]
  },
  {
   "cell_type": "code",
   "execution_count": 96,
   "id": "b446d4f3",
   "metadata": {},
   "outputs": [
    {
     "name": "stdout",
     "output_type": "stream",
     "text": [
      "\n",
      "The Best K-fold for Train_Size = \u001b[32m0.02\u001b[0m: \u001b[34m7.0\u001b[0m\n",
      "\n"
     ]
    }
   ],
   "source": [
    "print(f'\\nThe Best K-fold for Train_Size = {colored(df1_result[\"Train Size\"][5], \"green\")}: \\\n",
    "{colored(df1_result[\"K-fold(CV)\"][5], \"blue\")}\\n')"
   ]
  },
  {
   "cell_type": "code",
   "execution_count": 85,
   "id": "c6beaddd",
   "metadata": {},
   "outputs": [
    {
     "data": {
      "text/html": [
       "<div>\n",
       "<style scoped>\n",
       "    .dataframe tbody tr th:only-of-type {\n",
       "        vertical-align: middle;\n",
       "    }\n",
       "\n",
       "    .dataframe tbody tr th {\n",
       "        vertical-align: top;\n",
       "    }\n",
       "\n",
       "    .dataframe thead th {\n",
       "        text-align: right;\n",
       "    }\n",
       "</style>\n",
       "<table border=\"1\" class=\"dataframe\">\n",
       "  <thead>\n",
       "    <tr style=\"text-align: right;\">\n",
       "      <th></th>\n",
       "      <th>Train Size</th>\n",
       "      <th>K-fold(CV)</th>\n",
       "      <th>Mean of Accuracy</th>\n",
       "    </tr>\n",
       "  </thead>\n",
       "  <tbody>\n",
       "    <tr>\n",
       "      <th>14</th>\n",
       "      <td>0.05</td>\n",
       "      <td>2.0</td>\n",
       "      <td>0.599442</td>\n",
       "    </tr>\n",
       "    <tr>\n",
       "      <th>15</th>\n",
       "      <td>0.05</td>\n",
       "      <td>3.0</td>\n",
       "      <td>0.602304</td>\n",
       "    </tr>\n",
       "    <tr>\n",
       "      <th>16</th>\n",
       "      <td>0.05</td>\n",
       "      <td>4.0</td>\n",
       "      <td>0.604200</td>\n",
       "    </tr>\n",
       "    <tr>\n",
       "      <th>17</th>\n",
       "      <td>0.05</td>\n",
       "      <td>5.0</td>\n",
       "      <td>0.608987</td>\n",
       "    </tr>\n",
       "    <tr>\n",
       "      <th>18</th>\n",
       "      <td>0.05</td>\n",
       "      <td>6.0</td>\n",
       "      <td>0.605184</td>\n",
       "    </tr>\n",
       "    <tr>\n",
       "      <th>19</th>\n",
       "      <td>0.05</td>\n",
       "      <td>7.0</td>\n",
       "      <td>0.610886</td>\n",
       "    </tr>\n",
       "    <tr>\n",
       "      <th>20</th>\n",
       "      <td>0.05</td>\n",
       "      <td>8.0</td>\n",
       "      <td>0.610889</td>\n",
       "    </tr>\n",
       "    <tr>\n",
       "      <th>21</th>\n",
       "      <td>0.05</td>\n",
       "      <td>9.0</td>\n",
       "      <td>0.610857</td>\n",
       "    </tr>\n",
       "    <tr>\n",
       "      <th>22</th>\n",
       "      <td>0.05</td>\n",
       "      <td>10.0</td>\n",
       "      <td>0.611824</td>\n",
       "    </tr>\n",
       "    <tr>\n",
       "      <th>23</th>\n",
       "      <td>0.05</td>\n",
       "      <td>11.0</td>\n",
       "      <td>0.614693</td>\n",
       "    </tr>\n",
       "    <tr>\n",
       "      <th>24</th>\n",
       "      <td>0.05</td>\n",
       "      <td>12.0</td>\n",
       "      <td>0.617544</td>\n",
       "    </tr>\n",
       "    <tr>\n",
       "      <th>25</th>\n",
       "      <td>0.05</td>\n",
       "      <td>13.0</td>\n",
       "      <td>0.614660</td>\n",
       "    </tr>\n",
       "    <tr>\n",
       "      <th>26</th>\n",
       "      <td>0.05</td>\n",
       "      <td>14.0</td>\n",
       "      <td>0.612769</td>\n",
       "    </tr>\n",
       "    <tr>\n",
       "      <th>27</th>\n",
       "      <td>0.05</td>\n",
       "      <td>15.0</td>\n",
       "      <td>0.613736</td>\n",
       "    </tr>\n",
       "  </tbody>\n",
       "</table>\n",
       "</div>"
      ],
      "text/plain": [
       "    Train Size  K-fold(CV)  Mean of Accuracy\n",
       "14        0.05         2.0          0.599442\n",
       "15        0.05         3.0          0.602304\n",
       "16        0.05         4.0          0.604200\n",
       "17        0.05         5.0          0.608987\n",
       "18        0.05         6.0          0.605184\n",
       "19        0.05         7.0          0.610886\n",
       "20        0.05         8.0          0.610889\n",
       "21        0.05         9.0          0.610857\n",
       "22        0.05        10.0          0.611824\n",
       "23        0.05        11.0          0.614693\n",
       "24        0.05        12.0          0.617544\n",
       "25        0.05        13.0          0.614660\n",
       "26        0.05        14.0          0.612769\n",
       "27        0.05        15.0          0.613736"
      ]
     },
     "execution_count": 85,
     "metadata": {},
     "output_type": "execute_result"
    }
   ],
   "source": [
    "df2 = df_for_k_fold[df_for_k_fold['Train Size'] == 0.05]\n",
    "df2"
   ]
  },
  {
   "cell_type": "code",
   "execution_count": 86,
   "id": "25b500f6",
   "metadata": {},
   "outputs": [
    {
     "data": {
      "text/html": [
       "<div>\n",
       "<style scoped>\n",
       "    .dataframe tbody tr th:only-of-type {\n",
       "        vertical-align: middle;\n",
       "    }\n",
       "\n",
       "    .dataframe tbody tr th {\n",
       "        vertical-align: top;\n",
       "    }\n",
       "\n",
       "    .dataframe thead th {\n",
       "        text-align: right;\n",
       "    }\n",
       "</style>\n",
       "<table border=\"1\" class=\"dataframe\">\n",
       "  <thead>\n",
       "    <tr style=\"text-align: right;\">\n",
       "      <th></th>\n",
       "      <th>Train Size</th>\n",
       "      <th>K-fold(CV)</th>\n",
       "      <th>Mean of Accuracy</th>\n",
       "    </tr>\n",
       "  </thead>\n",
       "  <tbody>\n",
       "    <tr>\n",
       "      <th>24</th>\n",
       "      <td>0.05</td>\n",
       "      <td>12.0</td>\n",
       "      <td>0.617544</td>\n",
       "    </tr>\n",
       "  </tbody>\n",
       "</table>\n",
       "</div>"
      ],
      "text/plain": [
       "    Train Size  K-fold(CV)  Mean of Accuracy\n",
       "24        0.05        12.0          0.617544"
      ]
     },
     "execution_count": 86,
     "metadata": {},
     "output_type": "execute_result"
    }
   ],
   "source": [
    "df2_result = df2[df2['Mean of Accuracy'] == (df2['Mean of Accuracy']).max()]\n",
    "df2_result"
   ]
  },
  {
   "cell_type": "code",
   "execution_count": 95,
   "id": "0bcf5227",
   "metadata": {},
   "outputs": [
    {
     "name": "stdout",
     "output_type": "stream",
     "text": [
      "\n",
      "The Best K-fold for Train_Size = \u001b[32m0.05\u001b[0m: \u001b[34m12.0\u001b[0m\n",
      "\n"
     ]
    }
   ],
   "source": [
    "print(f'\\nThe Best K-fold for Train_Size = {colored(df2_result[\"Train Size\"][24], \"green\")}: \\\n",
    "{colored(df2_result[\"K-fold(CV)\"][24], \"blue\")}\\n')"
   ]
  },
  {
   "cell_type": "code",
   "execution_count": 88,
   "id": "2bdc92c3",
   "metadata": {},
   "outputs": [
    {
     "data": {
      "text/html": [
       "<div>\n",
       "<style scoped>\n",
       "    .dataframe tbody tr th:only-of-type {\n",
       "        vertical-align: middle;\n",
       "    }\n",
       "\n",
       "    .dataframe tbody tr th {\n",
       "        vertical-align: top;\n",
       "    }\n",
       "\n",
       "    .dataframe thead th {\n",
       "        text-align: right;\n",
       "    }\n",
       "</style>\n",
       "<table border=\"1\" class=\"dataframe\">\n",
       "  <thead>\n",
       "    <tr style=\"text-align: right;\">\n",
       "      <th></th>\n",
       "      <th>Train Size</th>\n",
       "      <th>K-fold(CV)</th>\n",
       "      <th>Mean of Accuracy</th>\n",
       "    </tr>\n",
       "  </thead>\n",
       "  <tbody>\n",
       "    <tr>\n",
       "      <th>28</th>\n",
       "      <td>0.1</td>\n",
       "      <td>2.0</td>\n",
       "      <td>0.627973</td>\n",
       "    </tr>\n",
       "    <tr>\n",
       "      <th>29</th>\n",
       "      <td>0.1</td>\n",
       "      <td>3.0</td>\n",
       "      <td>0.630825</td>\n",
       "    </tr>\n",
       "    <tr>\n",
       "      <th>30</th>\n",
       "      <td>0.1</td>\n",
       "      <td>4.0</td>\n",
       "      <td>0.635104</td>\n",
       "    </tr>\n",
       "    <tr>\n",
       "      <th>31</th>\n",
       "      <td>0.1</td>\n",
       "      <td>5.0</td>\n",
       "      <td>0.634152</td>\n",
       "    </tr>\n",
       "    <tr>\n",
       "      <th>32</th>\n",
       "      <td>0.1</td>\n",
       "      <td>6.0</td>\n",
       "      <td>0.635111</td>\n",
       "    </tr>\n",
       "    <tr>\n",
       "      <th>33</th>\n",
       "      <td>0.1</td>\n",
       "      <td>7.0</td>\n",
       "      <td>0.634629</td>\n",
       "    </tr>\n",
       "    <tr>\n",
       "      <th>34</th>\n",
       "      <td>0.1</td>\n",
       "      <td>8.0</td>\n",
       "      <td>0.635122</td>\n",
       "    </tr>\n",
       "    <tr>\n",
       "      <th>35</th>\n",
       "      <td>0.1</td>\n",
       "      <td>9.0</td>\n",
       "      <td>0.634156</td>\n",
       "    </tr>\n",
       "    <tr>\n",
       "      <th>36</th>\n",
       "      <td>0.1</td>\n",
       "      <td>10.0</td>\n",
       "      <td>0.636046</td>\n",
       "    </tr>\n",
       "    <tr>\n",
       "      <th>37</th>\n",
       "      <td>0.1</td>\n",
       "      <td>11.0</td>\n",
       "      <td>0.635583</td>\n",
       "    </tr>\n",
       "    <tr>\n",
       "      <th>38</th>\n",
       "      <td>0.1</td>\n",
       "      <td>12.0</td>\n",
       "      <td>0.635571</td>\n",
       "    </tr>\n",
       "    <tr>\n",
       "      <th>39</th>\n",
       "      <td>0.1</td>\n",
       "      <td>13.0</td>\n",
       "      <td>0.637015</td>\n",
       "    </tr>\n",
       "    <tr>\n",
       "      <th>40</th>\n",
       "      <td>0.1</td>\n",
       "      <td>14.0</td>\n",
       "      <td>0.634620</td>\n",
       "    </tr>\n",
       "    <tr>\n",
       "      <th>41</th>\n",
       "      <td>0.1</td>\n",
       "      <td>15.0</td>\n",
       "      <td>0.638899</td>\n",
       "    </tr>\n",
       "  </tbody>\n",
       "</table>\n",
       "</div>"
      ],
      "text/plain": [
       "    Train Size  K-fold(CV)  Mean of Accuracy\n",
       "28         0.1         2.0          0.627973\n",
       "29         0.1         3.0          0.630825\n",
       "30         0.1         4.0          0.635104\n",
       "31         0.1         5.0          0.634152\n",
       "32         0.1         6.0          0.635111\n",
       "33         0.1         7.0          0.634629\n",
       "34         0.1         8.0          0.635122\n",
       "35         0.1         9.0          0.634156\n",
       "36         0.1        10.0          0.636046\n",
       "37         0.1        11.0          0.635583\n",
       "38         0.1        12.0          0.635571\n",
       "39         0.1        13.0          0.637015\n",
       "40         0.1        14.0          0.634620\n",
       "41         0.1        15.0          0.638899"
      ]
     },
     "execution_count": 88,
     "metadata": {},
     "output_type": "execute_result"
    }
   ],
   "source": [
    "df3 = df_for_k_fold[df_for_k_fold['Train Size'] == 0.1]\n",
    "df3"
   ]
  },
  {
   "cell_type": "code",
   "execution_count": 89,
   "id": "876d4f5a",
   "metadata": {},
   "outputs": [
    {
     "data": {
      "text/html": [
       "<div>\n",
       "<style scoped>\n",
       "    .dataframe tbody tr th:only-of-type {\n",
       "        vertical-align: middle;\n",
       "    }\n",
       "\n",
       "    .dataframe tbody tr th {\n",
       "        vertical-align: top;\n",
       "    }\n",
       "\n",
       "    .dataframe thead th {\n",
       "        text-align: right;\n",
       "    }\n",
       "</style>\n",
       "<table border=\"1\" class=\"dataframe\">\n",
       "  <thead>\n",
       "    <tr style=\"text-align: right;\">\n",
       "      <th></th>\n",
       "      <th>Train Size</th>\n",
       "      <th>K-fold(CV)</th>\n",
       "      <th>Mean of Accuracy</th>\n",
       "    </tr>\n",
       "  </thead>\n",
       "  <tbody>\n",
       "    <tr>\n",
       "      <th>41</th>\n",
       "      <td>0.1</td>\n",
       "      <td>15.0</td>\n",
       "      <td>0.638899</td>\n",
       "    </tr>\n",
       "  </tbody>\n",
       "</table>\n",
       "</div>"
      ],
      "text/plain": [
       "    Train Size  K-fold(CV)  Mean of Accuracy\n",
       "41         0.1        15.0          0.638899"
      ]
     },
     "execution_count": 89,
     "metadata": {},
     "output_type": "execute_result"
    }
   ],
   "source": [
    "df3_result = df3[df3['Mean of Accuracy'] == (df3['Mean of Accuracy']).max()]\n",
    "df3_result"
   ]
  },
  {
   "cell_type": "code",
   "execution_count": 93,
   "id": "acc68dc5",
   "metadata": {},
   "outputs": [
    {
     "name": "stdout",
     "output_type": "stream",
     "text": [
      "\n",
      "The Best K-fold for Train_Size = \u001b[32m0.1\u001b[0m: \u001b[34m15.0\u001b[0m\n",
      "\n"
     ]
    }
   ],
   "source": [
    "print(f'\\nThe Best K-fold for Train_Size = {colored(df3_result[\"Train Size\"][41], \"green\")}: \\\n",
    "{colored(df3_result[\"K-fold(CV)\"][41], \"blue\")}\\n')"
   ]
  },
  {
   "cell_type": "markdown",
   "id": "68305e09",
   "metadata": {},
   "source": [
    "- [x] **Task 2**"
   ]
  },
  {
   "cell_type": "markdown",
   "id": "8bcb1600",
   "metadata": {},
   "source": [
    "- [ ] **Task 3**"
   ]
  },
  {
   "cell_type": "markdown",
   "id": "a08a0b1f",
   "metadata": {},
   "source": [
    "- <a name='9'>${\\bf{\\text{PCA}}}$</a>"
   ]
  },
  {
   "cell_type": "code",
   "execution_count": 14,
   "id": "1406fbe3",
   "metadata": {},
   "outputs": [],
   "source": [
    "pca = PCA(n_components=40)"
   ]
  },
  {
   "cell_type": "code",
   "execution_count": 15,
   "id": "506cdde2",
   "metadata": {},
   "outputs": [
    {
     "name": "stdout",
     "output_type": "stream",
     "text": [
      "\n",
      "                       For n_components = \u001b[31m40\u001b[0m\n",
      "\n",
      "\n",
      "\n",
      "Explained Variance for X_train_\u001b[32m0.02\u001b[0m:     \u001b[34m0.9920518405295271\u001b[0m\n",
      "\n",
      "\n",
      "Explained Variance for X_test_\u001b[32m0.02\u001b[0m:     \u001b[34m0.9900401939391494\u001b[0m\n",
      "\n",
      "\n",
      "Explained Variance for X_train_\u001b[32m0.05\u001b[0m:     \u001b[34m0.9909160980765117\u001b[0m\n",
      "\n",
      "\n",
      "Explained Variance for X_test_\u001b[32m0.05\u001b[0m:     \u001b[34m0.9900392822594092\u001b[0m\n",
      "\n",
      "\n",
      "Explained Variance for X_train_\u001b[32m0.1\u001b[0m:     \u001b[34m0.9903170278719046\u001b[0m\n",
      "\n",
      "\n",
      "Explained Variance for X_test_\u001b[32m0.1\u001b[0m:     \u001b[34m0.9900456867197865\u001b[0m\n",
      "\n"
     ]
    }
   ],
   "source": [
    "train_size_list = [0.02, 0.05, 0.1]\n",
    "data_reduced = {}\n",
    "print(f'\\n                       For n_components = {colored(40, \"red\")}\\n\\n')\n",
    "for train_size in train_size_list:\n",
    "    data_reduced['X_train_' + str(train_size)] = pca.fit_transform(data_scaled['X_train_' + str(train_size)])\n",
    "    print(f'\\nExplained Variance for X_train_{colored(train_size, \"green\")}: \\\n",
    "    {colored(np.sum(pca.explained_variance_ratio_), \"blue\")}\\n')\n",
    "    \n",
    "    data_reduced['X_test_' + str(train_size)] = pca.fit_transform(data_scaled['X_test_' + str(train_size)])\n",
    "    print(f'\\nExplained Variance for X_test_{colored(train_size, \"green\")}: \\\n",
    "    {colored(np.sum(pca.explained_variance_ratio_), \"blue\")}\\n')\n",
    "    \n",
    "    data_reduced['y_train_' + str(train_size)] = data['y_train_' + str(train_size)]\n",
    "    data_reduced['y_test_' + str(train_size)] = data['y_test_' + str(train_size)]"
   ]
  },
  {
   "cell_type": "code",
   "execution_count": 16,
   "id": "3659ed3a",
   "metadata": {},
   "outputs": [
    {
     "name": "stdout",
     "output_type": "stream",
     "text": [
      "\n",
      "No. features after applying the PCA: \u001b[32m40\u001b[0m\n",
      "\n"
     ]
    }
   ],
   "source": [
    "final_preprocessed_data = data_reduced\n",
    "print(f'\\nNo. features after applying the PCA: \\\n",
    "{colored((final_preprocessed_data[\"X_train_0.02\"]).shape[1], \"green\")}\\n')"
   ]
  },
  {
   "cell_type": "markdown",
   "id": "e9329b6a",
   "metadata": {},
   "source": [
    "- [x] **Task 4**"
   ]
  },
  {
   "cell_type": "markdown",
   "id": "32a340d7",
   "metadata": {},
   "source": [
    "- [ ] **Task 5**"
   ]
  },
  {
   "cell_type": "markdown",
   "id": "2b2b838c",
   "metadata": {},
   "source": [
    "- <a name='10'>${\\bf{\\text{SVC(Support Vector Classification)}}}$</a>"
   ]
  },
  {
   "cell_type": "markdown",
   "id": "8619f7bd",
   "metadata": {},
   "source": [
    "- - <a name='11'>${\\bf{\\text{Hyperparameter tuning}}}$</a>"
   ]
  },
  {
   "cell_type": "code",
   "execution_count": 17,
   "id": "49154b00",
   "metadata": {},
   "outputs": [],
   "source": [
    "input_data_dict = final_preprocessed_data\n",
    "k_fold_dict = {0.02: 7, 0.05: 12, 0.1: 15}"
   ]
  },
  {
   "cell_type": "code",
   "execution_count": 18,
   "id": "d690b530",
   "metadata": {},
   "outputs": [],
   "source": [
    "svc = SVC(random_state=0)"
   ]
  },
  {
   "cell_type": "code",
   "execution_count": 19,
   "id": "a8911972",
   "metadata": {},
   "outputs": [],
   "source": [
    "pipe = Pipeline(steps=[(\"svc\", svc)])"
   ]
  },
  {
   "cell_type": "code",
   "execution_count": 64,
   "id": "195cc828",
   "metadata": {},
   "outputs": [],
   "source": [
    "param_grid = {'svc__C': np.logspace(-8, -5, 4), 'svc__kernel': ['linear', 'poly', 'rbf'], \\\n",
    "             'svc__gamma': np.linspace(0.7, 0.9, 5), 'svc__degree': [2, 3, 4]}"
   ]
  },
  {
   "cell_type": "code",
   "execution_count": 65,
   "id": "3127d172",
   "metadata": {},
   "outputs": [
    {
     "name": "stderr",
     "output_type": "stream",
     "text": [
      "/home/shahin/.local/lib/python3.10/site-packages/sklearn/model_selection/_split.py:684: UserWarning: The least populated class in y has only 1 members, which is less than n_splits=7.\n",
      "  warnings.warn(\n"
     ]
    },
    {
     "data": {
      "text/html": [
       "<style>#sk-container-id-11 {color: black;background-color: white;}#sk-container-id-11 pre{padding: 0;}#sk-container-id-11 div.sk-toggleable {background-color: white;}#sk-container-id-11 label.sk-toggleable__label {cursor: pointer;display: block;width: 100%;margin-bottom: 0;padding: 0.3em;box-sizing: border-box;text-align: center;}#sk-container-id-11 label.sk-toggleable__label-arrow:before {content: \"▸\";float: left;margin-right: 0.25em;color: #696969;}#sk-container-id-11 label.sk-toggleable__label-arrow:hover:before {color: black;}#sk-container-id-11 div.sk-estimator:hover label.sk-toggleable__label-arrow:before {color: black;}#sk-container-id-11 div.sk-toggleable__content {max-height: 0;max-width: 0;overflow: hidden;text-align: left;background-color: #f0f8ff;}#sk-container-id-11 div.sk-toggleable__content pre {margin: 0.2em;color: black;border-radius: 0.25em;background-color: #f0f8ff;}#sk-container-id-11 input.sk-toggleable__control:checked~div.sk-toggleable__content {max-height: 200px;max-width: 100%;overflow: auto;}#sk-container-id-11 input.sk-toggleable__control:checked~label.sk-toggleable__label-arrow:before {content: \"▾\";}#sk-container-id-11 div.sk-estimator input.sk-toggleable__control:checked~label.sk-toggleable__label {background-color: #d4ebff;}#sk-container-id-11 div.sk-label input.sk-toggleable__control:checked~label.sk-toggleable__label {background-color: #d4ebff;}#sk-container-id-11 input.sk-hidden--visually {border: 0;clip: rect(1px 1px 1px 1px);clip: rect(1px, 1px, 1px, 1px);height: 1px;margin: -1px;overflow: hidden;padding: 0;position: absolute;width: 1px;}#sk-container-id-11 div.sk-estimator {font-family: monospace;background-color: #f0f8ff;border: 1px dotted black;border-radius: 0.25em;box-sizing: border-box;margin-bottom: 0.5em;}#sk-container-id-11 div.sk-estimator:hover {background-color: #d4ebff;}#sk-container-id-11 div.sk-parallel-item::after {content: \"\";width: 100%;border-bottom: 1px solid gray;flex-grow: 1;}#sk-container-id-11 div.sk-label:hover label.sk-toggleable__label {background-color: #d4ebff;}#sk-container-id-11 div.sk-serial::before {content: \"\";position: absolute;border-left: 1px solid gray;box-sizing: border-box;top: 0;bottom: 0;left: 50%;z-index: 0;}#sk-container-id-11 div.sk-serial {display: flex;flex-direction: column;align-items: center;background-color: white;padding-right: 0.2em;padding-left: 0.2em;position: relative;}#sk-container-id-11 div.sk-item {position: relative;z-index: 1;}#sk-container-id-11 div.sk-parallel {display: flex;align-items: stretch;justify-content: center;background-color: white;position: relative;}#sk-container-id-11 div.sk-item::before, #sk-container-id-11 div.sk-parallel-item::before {content: \"\";position: absolute;border-left: 1px solid gray;box-sizing: border-box;top: 0;bottom: 0;left: 50%;z-index: -1;}#sk-container-id-11 div.sk-parallel-item {display: flex;flex-direction: column;z-index: 1;position: relative;background-color: white;}#sk-container-id-11 div.sk-parallel-item:first-child::after {align-self: flex-end;width: 50%;}#sk-container-id-11 div.sk-parallel-item:last-child::after {align-self: flex-start;width: 50%;}#sk-container-id-11 div.sk-parallel-item:only-child::after {width: 0;}#sk-container-id-11 div.sk-dashed-wrapped {border: 1px dashed gray;margin: 0 0.4em 0.5em 0.4em;box-sizing: border-box;padding-bottom: 0.4em;background-color: white;}#sk-container-id-11 div.sk-label label {font-family: monospace;font-weight: bold;display: inline-block;line-height: 1.2em;}#sk-container-id-11 div.sk-label-container {text-align: center;}#sk-container-id-11 div.sk-container {/* jupyter's `normalize.less` sets `[hidden] { display: none; }` but bootstrap.min.css set `[hidden] { display: none !important; }` so we also need the `!important` here to be able to override the default hidden behavior on the sphinx rendered scikit-learn.org. See: https://github.com/scikit-learn/scikit-learn/issues/21755 */display: inline-block !important;position: relative;}#sk-container-id-11 div.sk-text-repr-fallback {display: none;}</style><div id=\"sk-container-id-11\" class=\"sk-top-container\"><div class=\"sk-text-repr-fallback\"><pre>GridSearchCV(cv=7, estimator=Pipeline(steps=[(&#x27;svc&#x27;, SVC(random_state=0))]),\n",
       "             param_grid={&#x27;svc__C&#x27;: array([1.e-08, 1.e-07, 1.e-06, 1.e-05]),\n",
       "                         &#x27;svc__degree&#x27;: [2, 3, 4],\n",
       "                         &#x27;svc__gamma&#x27;: array([0.7 , 0.75, 0.8 , 0.85, 0.9 ]),\n",
       "                         &#x27;svc__kernel&#x27;: [&#x27;linear&#x27;, &#x27;poly&#x27;, &#x27;rbf&#x27;]})</pre><b>In a Jupyter environment, please rerun this cell to show the HTML representation or trust the notebook. <br />On GitHub, the HTML representation is unable to render, please try loading this page with nbviewer.org.</b></div><div class=\"sk-container\" hidden><div class=\"sk-item sk-dashed-wrapped\"><div class=\"sk-label-container\"><div class=\"sk-label sk-toggleable\"><input class=\"sk-toggleable__control sk-hidden--visually\" id=\"sk-estimator-id-31\" type=\"checkbox\" ><label for=\"sk-estimator-id-31\" class=\"sk-toggleable__label sk-toggleable__label-arrow\">GridSearchCV</label><div class=\"sk-toggleable__content\"><pre>GridSearchCV(cv=7, estimator=Pipeline(steps=[(&#x27;svc&#x27;, SVC(random_state=0))]),\n",
       "             param_grid={&#x27;svc__C&#x27;: array([1.e-08, 1.e-07, 1.e-06, 1.e-05]),\n",
       "                         &#x27;svc__degree&#x27;: [2, 3, 4],\n",
       "                         &#x27;svc__gamma&#x27;: array([0.7 , 0.75, 0.8 , 0.85, 0.9 ]),\n",
       "                         &#x27;svc__kernel&#x27;: [&#x27;linear&#x27;, &#x27;poly&#x27;, &#x27;rbf&#x27;]})</pre></div></div></div><div class=\"sk-parallel\"><div class=\"sk-parallel-item\"><div class=\"sk-item\"><div class=\"sk-label-container\"><div class=\"sk-label sk-toggleable\"><input class=\"sk-toggleable__control sk-hidden--visually\" id=\"sk-estimator-id-32\" type=\"checkbox\" ><label for=\"sk-estimator-id-32\" class=\"sk-toggleable__label sk-toggleable__label-arrow\">estimator: Pipeline</label><div class=\"sk-toggleable__content\"><pre>Pipeline(steps=[(&#x27;svc&#x27;, SVC(random_state=0))])</pre></div></div></div><div class=\"sk-serial\"><div class=\"sk-item\"><div class=\"sk-serial\"><div class=\"sk-item\"><div class=\"sk-estimator sk-toggleable\"><input class=\"sk-toggleable__control sk-hidden--visually\" id=\"sk-estimator-id-33\" type=\"checkbox\" ><label for=\"sk-estimator-id-33\" class=\"sk-toggleable__label sk-toggleable__label-arrow\">SVC</label><div class=\"sk-toggleable__content\"><pre>SVC(random_state=0)</pre></div></div></div></div></div></div></div></div></div></div></div></div>"
      ],
      "text/plain": [
       "GridSearchCV(cv=7, estimator=Pipeline(steps=[('svc', SVC(random_state=0))]),\n",
       "             param_grid={'svc__C': array([1.e-08, 1.e-07, 1.e-06, 1.e-05]),\n",
       "                         'svc__degree': [2, 3, 4],\n",
       "                         'svc__gamma': array([0.7 , 0.75, 0.8 , 0.85, 0.9 ]),\n",
       "                         'svc__kernel': ['linear', 'poly', 'rbf']})"
      ]
     },
     "execution_count": 65,
     "metadata": {},
     "output_type": "execute_result"
    }
   ],
   "source": [
    "test_size = 0.02\n",
    "X_train, y_train = input_data_dict['X_train_' + str(test_size)], input_data_dict['y_train_' + str(test_size)]\n",
    "search = GridSearchCV(pipe, param_grid, cv=k_fold_dict[test_size])\n",
    "search.fit(X_train, y_train)"
   ]
  },
  {
   "cell_type": "code",
   "execution_count": 66,
   "id": "89acbefe",
   "metadata": {},
   "outputs": [
    {
     "name": "stdout",
     "output_type": "stream",
     "text": [
      "\n",
      "λ = 1e-06\n",
      "\n",
      "kernel = poly\n",
      "\n",
      "Degree = 3\n",
      "\n",
      "γ = 0.8\n",
      "\n"
     ]
    }
   ],
   "source": [
    "best_params = search.best_params_\n",
    "print(f\"\\n\\u03BB = {best_params['svc__C']}\\n\\nkernel = {best_params['svc__kernel']}\\n\\nDegree = \\\n",
    "{best_params['svc__degree']}\\n\\n\\u03B3 = {best_params['svc__gamma']}\\n\")"
   ]
  },
  {
   "cell_type": "code",
   "execution_count": 67,
   "id": "224ceba4",
   "metadata": {},
   "outputs": [
    {
     "name": "stdout",
     "output_type": "stream",
     "text": [
      "\n",
      "Best Accuracy is: 0.6476190476190476\n",
      "\n"
     ]
    }
   ],
   "source": [
    "best_score = search.best_score_\n",
    "print(f'\\nBest Accuracy is: {best_score}\\n')"
   ]
  },
  {
   "cell_type": "markdown",
   "id": "e26ca658",
   "metadata": {},
   "source": [
    "- <a name='12'>${\\bf{\\text{Test}}}$</a>"
   ]
  },
  {
   "cell_type": "code",
   "execution_count": 72,
   "id": "dce31a47",
   "metadata": {},
   "outputs": [
    {
     "data": {
      "text/html": [
       "<style>#sk-container-id-13 {color: black;background-color: white;}#sk-container-id-13 pre{padding: 0;}#sk-container-id-13 div.sk-toggleable {background-color: white;}#sk-container-id-13 label.sk-toggleable__label {cursor: pointer;display: block;width: 100%;margin-bottom: 0;padding: 0.3em;box-sizing: border-box;text-align: center;}#sk-container-id-13 label.sk-toggleable__label-arrow:before {content: \"▸\";float: left;margin-right: 0.25em;color: #696969;}#sk-container-id-13 label.sk-toggleable__label-arrow:hover:before {color: black;}#sk-container-id-13 div.sk-estimator:hover label.sk-toggleable__label-arrow:before {color: black;}#sk-container-id-13 div.sk-toggleable__content {max-height: 0;max-width: 0;overflow: hidden;text-align: left;background-color: #f0f8ff;}#sk-container-id-13 div.sk-toggleable__content pre {margin: 0.2em;color: black;border-radius: 0.25em;background-color: #f0f8ff;}#sk-container-id-13 input.sk-toggleable__control:checked~div.sk-toggleable__content {max-height: 200px;max-width: 100%;overflow: auto;}#sk-container-id-13 input.sk-toggleable__control:checked~label.sk-toggleable__label-arrow:before {content: \"▾\";}#sk-container-id-13 div.sk-estimator input.sk-toggleable__control:checked~label.sk-toggleable__label {background-color: #d4ebff;}#sk-container-id-13 div.sk-label input.sk-toggleable__control:checked~label.sk-toggleable__label {background-color: #d4ebff;}#sk-container-id-13 input.sk-hidden--visually {border: 0;clip: rect(1px 1px 1px 1px);clip: rect(1px, 1px, 1px, 1px);height: 1px;margin: -1px;overflow: hidden;padding: 0;position: absolute;width: 1px;}#sk-container-id-13 div.sk-estimator {font-family: monospace;background-color: #f0f8ff;border: 1px dotted black;border-radius: 0.25em;box-sizing: border-box;margin-bottom: 0.5em;}#sk-container-id-13 div.sk-estimator:hover {background-color: #d4ebff;}#sk-container-id-13 div.sk-parallel-item::after {content: \"\";width: 100%;border-bottom: 1px solid gray;flex-grow: 1;}#sk-container-id-13 div.sk-label:hover label.sk-toggleable__label {background-color: #d4ebff;}#sk-container-id-13 div.sk-serial::before {content: \"\";position: absolute;border-left: 1px solid gray;box-sizing: border-box;top: 0;bottom: 0;left: 50%;z-index: 0;}#sk-container-id-13 div.sk-serial {display: flex;flex-direction: column;align-items: center;background-color: white;padding-right: 0.2em;padding-left: 0.2em;position: relative;}#sk-container-id-13 div.sk-item {position: relative;z-index: 1;}#sk-container-id-13 div.sk-parallel {display: flex;align-items: stretch;justify-content: center;background-color: white;position: relative;}#sk-container-id-13 div.sk-item::before, #sk-container-id-13 div.sk-parallel-item::before {content: \"\";position: absolute;border-left: 1px solid gray;box-sizing: border-box;top: 0;bottom: 0;left: 50%;z-index: -1;}#sk-container-id-13 div.sk-parallel-item {display: flex;flex-direction: column;z-index: 1;position: relative;background-color: white;}#sk-container-id-13 div.sk-parallel-item:first-child::after {align-self: flex-end;width: 50%;}#sk-container-id-13 div.sk-parallel-item:last-child::after {align-self: flex-start;width: 50%;}#sk-container-id-13 div.sk-parallel-item:only-child::after {width: 0;}#sk-container-id-13 div.sk-dashed-wrapped {border: 1px dashed gray;margin: 0 0.4em 0.5em 0.4em;box-sizing: border-box;padding-bottom: 0.4em;background-color: white;}#sk-container-id-13 div.sk-label label {font-family: monospace;font-weight: bold;display: inline-block;line-height: 1.2em;}#sk-container-id-13 div.sk-label-container {text-align: center;}#sk-container-id-13 div.sk-container {/* jupyter's `normalize.less` sets `[hidden] { display: none; }` but bootstrap.min.css set `[hidden] { display: none !important; }` so we also need the `!important` here to be able to override the default hidden behavior on the sphinx rendered scikit-learn.org. See: https://github.com/scikit-learn/scikit-learn/issues/21755 */display: inline-block !important;position: relative;}#sk-container-id-13 div.sk-text-repr-fallback {display: none;}</style><div id=\"sk-container-id-13\" class=\"sk-top-container\"><div class=\"sk-text-repr-fallback\"><pre>SVC(C=1e-06, gamma=0.8, kernel=&#x27;poly&#x27;)</pre><b>In a Jupyter environment, please rerun this cell to show the HTML representation or trust the notebook. <br />On GitHub, the HTML representation is unable to render, please try loading this page with nbviewer.org.</b></div><div class=\"sk-container\" hidden><div class=\"sk-item\"><div class=\"sk-estimator sk-toggleable\"><input class=\"sk-toggleable__control sk-hidden--visually\" id=\"sk-estimator-id-35\" type=\"checkbox\" checked><label for=\"sk-estimator-id-35\" class=\"sk-toggleable__label sk-toggleable__label-arrow\">SVC</label><div class=\"sk-toggleable__content\"><pre>SVC(C=1e-06, gamma=0.8, kernel=&#x27;poly&#x27;)</pre></div></div></div></div></div>"
      ],
      "text/plain": [
       "SVC(C=1e-06, gamma=0.8, kernel='poly')"
      ]
     },
     "execution_count": 72,
     "metadata": {},
     "output_type": "execute_result"
    }
   ],
   "source": [
    "train_size = 0.02\n",
    "clf = SVC(C=1e-6, kernel='poly', degree=3, gamma=0.8)\n",
    "X_train, y_train, X_test, y_test = input_data_dict['X_train_' + str(train_size)], \\\n",
    "input_data_dict['y_train_' + str(train_size)], input_data_dict['X_test_' + str(train_size)], \\\n",
    "input_data_dict['y_test_' + str(train_size)]\n",
    "clf.fit(X_train, y_train)"
   ]
  },
  {
   "cell_type": "markdown",
   "id": "aae4d7cc",
   "metadata": {},
   "source": [
    "y_pred = clf.predict(X_test)\n",
    "ov_acc = accuracy_score(y_test, y_pred)\n",
    "conf_mat = confusion_matrix(y_test, y_pred)\n",
    "kappa = cohen_kappa_score(y_test, y_pred)\n",
    "acc_for_each_class = conf_mat.diagonal()/conf_mat.sum(axis=1)\n",
    "df_result1 = pd.DataFrame({'Class': range(1, 18), 'Accuracy': acc_for_each_class})\n",
    "df_result1"
   ]
  },
  {
   "cell_type": "code",
   "execution_count": 101,
   "id": "5ad7f66f",
   "metadata": {},
   "outputs": [
    {
     "name": "stdout",
     "output_type": "stream",
     "text": [
      "\n",
      "Result of this Pipeline: \u001b[34mInput_Data\u001b[0m ---> \u001b[35mStandard Scaler\u001b[0m ---> \u001b[35mPCA\u001b[0m ---> \u001b[35mSVC\u001b[0m\n",
      "\n",
      "Overall Accuracy: \u001b[32m0.5825770444066974\u001b[0m\n",
      "\n",
      "κ = \u001b[32m0.2875213564365441\u001b[0m\n",
      "\n"
     ]
    }
   ],
   "source": [
    "print(f\"\\nResult of this Pipeline: {colored('Input_Data', 'blue')} ---> {colored('Standard Scaler', 'magenta')}\\\n",
    " ---> {colored('PCA', 'magenta')} ---> {colored('SVC', 'magenta')}\")\n",
    "print(f'\\nOverall Accuracy: {colored(ov_acc, \"green\")}\\n\\n\\u03BA = {colored(kappa, \"green\")}\\n')"
   ]
  },
  {
   "cell_type": "markdown",
   "id": "7a260200",
   "metadata": {},
   "source": [
    "- [x] **Task 5**"
   ]
  },
  {
   "cell_type": "markdown",
   "id": "186f10b6",
   "metadata": {},
   "source": [
    "- <a name='11'>${\\bf{\\text{Conclusion:}}}$</a>\n",
    "$\\newline$\n",
    "$\\newline$\n",
    "- - ${{\\text{Cross-validation(CV) Accuracy = 64}\\%}}$\n",
    "$\\newline$\n",
    "- - ${\\text{Test Accuracy = 58}\\%}$\n",
    "$\\newline$\n",
    "[//]:#\n",
    "${\\rightarrow}{\\color{red}{\\bf{\\text{ Overfitting}}}}$\n",
    "$\\newline$"
   ]
  }
 ],
 "metadata": {
  "kernelspec": {
   "display_name": "Python 3 (ipykernel)",
   "language": "python",
   "name": "python3"
  },
  "language_info": {
   "codemirror_mode": {
    "name": "ipython",
    "version": 3
   },
   "file_extension": ".py",
   "mimetype": "text/x-python",
   "name": "python",
   "nbconvert_exporter": "python",
   "pygments_lexer": "ipython3",
   "version": "3.10.8"
  }
 },
 "nbformat": 4,
 "nbformat_minor": 5
}
